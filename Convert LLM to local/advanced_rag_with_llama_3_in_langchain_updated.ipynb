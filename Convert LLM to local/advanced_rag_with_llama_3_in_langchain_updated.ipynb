{
 "cells": [
  {
   "cell_type": "code",
   "execution_count": null,
   "metadata": {
    "colab": {
     "base_uri": "https://localhost:8080/"
    },
    "id": "3-wvIiFhkBYR",
    "outputId": "9e8f23ed-64d7-465d-c61a-31d436c03503"
   },
   "outputs": [
    {
     "name": "stdout",
     "output_type": "stream",
     "text": [
      "\u001b[31mERROR: pip's dependency resolver does not currently take into account all the packages that are installed. This behaviour is the source of the following dependency conflicts.\n",
      "cudf-cu12 24.4.1 requires protobuf<5,>=3.20, but you have protobuf 5.26.1 which is incompatible.\n",
      "google-ai-generativelanguage 0.6.2 requires protobuf!=3.20.0,!=3.20.1,!=4.21.0,!=4.21.1,!=4.21.2,!=4.21.3,!=4.21.4,!=4.21.5,<5.0.0dev,>=3.19.5, but you have protobuf 5.26.1 which is incompatible.\n",
      "google-api-core 2.11.1 requires protobuf!=3.20.0,!=3.20.1,!=4.21.0,!=4.21.1,!=4.21.2,!=4.21.3,!=4.21.4,!=4.21.5,<5.0.0.dev0,>=3.19.5, but you have protobuf 5.26.1 which is incompatible.\n",
      "google-cloud-aiplatform 1.48.0 requires protobuf!=3.20.0,!=3.20.1,!=4.21.0,!=4.21.1,!=4.21.2,!=4.21.3,!=4.21.4,!=4.21.5,<5.0.0dev,>=3.19.5, but you have protobuf 5.26.1 which is incompatible.\n",
      "google-cloud-bigquery-connection 1.12.1 requires protobuf!=3.20.0,!=3.20.1,!=4.21.0,!=4.21.1,!=4.21.2,!=4.21.3,!=4.21.4,!=4.21.5,<5.0.0dev,>=3.19.5, but you have protobuf 5.26.1 which is incompatible.\n",
      "google-cloud-bigquery-storage 2.24.0 requires protobuf!=3.20.0,!=3.20.1,!=4.21.0,!=4.21.1,!=4.21.2,!=4.21.3,!=4.21.4,!=4.21.5,<5.0.0dev,>=3.19.5, but you have protobuf 5.26.1 which is incompatible.\n",
      "google-cloud-datastore 2.15.2 requires protobuf!=3.20.0,!=3.20.1,!=4.21.0,!=4.21.1,!=4.21.2,!=4.21.3,!=4.21.4,!=4.21.5,<5.0.0dev,>=3.19.5, but you have protobuf 5.26.1 which is incompatible.\n",
      "google-cloud-firestore 2.11.1 requires protobuf!=3.20.0,!=3.20.1,!=4.21.0,!=4.21.1,!=4.21.2,!=4.21.3,!=4.21.4,!=4.21.5,<5.0.0dev,>=3.19.5, but you have protobuf 5.26.1 which is incompatible.\n",
      "google-cloud-functions 1.13.3 requires protobuf!=3.20.0,!=3.20.1,!=4.21.0,!=4.21.1,!=4.21.2,!=4.21.3,!=4.21.4,!=4.21.5,<5.0.0dev,>=3.19.5, but you have protobuf 5.26.1 which is incompatible.\n",
      "google-cloud-iam 2.15.0 requires protobuf!=3.20.0,!=3.20.1,!=4.21.0,!=4.21.1,!=4.21.2,!=4.21.3,!=4.21.4,!=4.21.5,<5.0.0dev,>=3.19.5, but you have protobuf 5.26.1 which is incompatible.\n",
      "google-cloud-language 2.13.3 requires protobuf!=3.20.0,!=3.20.1,!=4.21.0,!=4.21.1,!=4.21.2,!=4.21.3,!=4.21.4,!=4.21.5,<5.0.0dev,>=3.19.5, but you have protobuf 5.26.1 which is incompatible.\n",
      "google-cloud-resource-manager 1.12.3 requires protobuf!=3.20.0,!=3.20.1,!=4.21.0,!=4.21.1,!=4.21.2,!=4.21.3,!=4.21.4,!=4.21.5,<5.0.0dev,>=3.19.5, but you have protobuf 5.26.1 which is incompatible.\n",
      "google-cloud-translate 3.11.3 requires protobuf!=3.20.0,!=3.20.1,!=4.21.0,!=4.21.1,!=4.21.2,!=4.21.3,!=4.21.4,!=4.21.5,<5.0.0dev,>=3.19.5, but you have protobuf 5.26.1 which is incompatible.\n",
      "googleapis-common-protos 1.63.0 requires protobuf!=3.20.0,!=3.20.1,!=4.21.1,!=4.21.2,!=4.21.3,!=4.21.4,!=4.21.5,<5.0.0.dev0,>=3.19.5, but you have protobuf 5.26.1 which is incompatible.\n",
      "grpc-google-iam-v1 0.13.0 requires protobuf!=3.20.0,!=3.20.1,!=4.21.1,!=4.21.2,!=4.21.3,!=4.21.4,!=4.21.5,<5.0.0dev,>=3.19.5, but you have protobuf 5.26.1 which is incompatible.\n",
      "proto-plus 1.23.0 requires protobuf<5.0.0dev,>=3.19.0, but you have protobuf 5.26.1 which is incompatible.\n",
      "tensorflow 2.15.0 requires protobuf!=4.21.0,!=4.21.1,!=4.21.2,!=4.21.3,!=4.21.4,!=4.21.5,<5.0.0dev,>=3.20.3, but you have protobuf 5.26.1 which is incompatible.\n",
      "tensorflow-metadata 1.15.0 requires protobuf<4.21,>=3.20.3; python_version < \"3.11\", but you have protobuf 5.26.1 which is incompatible.\u001b[0m\u001b[31m\n",
      "\u001b[0m  Preparing metadata (setup.py) ... \u001b[?25l\u001b[?25hdone\n",
      "  Building wheel for langdetect (setup.py) ... \u001b[?25l\u001b[?25hdone\n",
      "\u001b[31mERROR: pip's dependency resolver does not currently take into account all the packages that are installed. This behaviour is the source of the following dependency conflicts.\n",
      "transformers 4.40.1 requires tokenizers<0.20,>=0.19, but you have tokenizers 0.15.2 which is incompatible.\u001b[0m\u001b[31m\n",
      "\u001b[0m  Installing build dependencies ... \u001b[?25l\u001b[?25hdone\n",
      "  Getting requirements to build wheel ... \u001b[?25l\u001b[?25hdone\n",
      "  Installing backend dependencies ... \u001b[?25l\u001b[?25hdone\n",
      "  Preparing metadata (pyproject.toml) ... \u001b[?25l\u001b[?25hdone\n",
      "  Building wheel for llama-cpp-python (pyproject.toml) ... \u001b[?25l\u001b[?25hdone\n"
     ]
    }
   ],
   "source": [
    "# !pip -qqq install pip --progress-bar off\n",
    "# !pip -qqq install langchain==0.1.17 --progress-bar off\n",
    "# !pip -qqq install llama-parse==0.1.3 --progress-bar off\n",
    "# !pip -qqq install qdrant-client==1.9.1  --progress-bar off\n",
    "# !pip -qqq install \"unstructured[md]\"==0.13.6 --progress-bar off\n",
    "# !pip -qqq install fastembed==0.2.7 --progress-bar off\n",
    "# !pip -qqq install flashrank==0.2.4 --progress-bar off"
   ]
  },
  {
   "cell_type": "code",
   "execution_count": 10,
   "metadata": {
    "id": "WH_J7_kol_ay"
   },
   "outputs": [],
   "source": [
    "import os\n",
    "import textwrap\n",
    "from pathlib import Path\n",
    "\n",
    "# from google.colab import userdata\n",
    "from IPython.display import Markdown\n",
    "from langchain.chains import RetrievalQA\n",
    "from langchain.prompts import PromptTemplate\n",
    "from langchain.retrievers import ContextualCompressionRetriever\n",
    "from langchain.retrievers.document_compressors import FlashrankRerank\n",
    "from langchain.text_splitter import RecursiveCharacterTextSplitter\n",
    "from langchain.vectorstores import Qdrant\n",
    "from langchain_community.document_loaders import UnstructuredMarkdownLoader\n",
    "from langchain_community.embeddings.fastembed import FastEmbedEmbeddings\n",
    "from langchain_core.prompts import ChatPromptTemplate\n",
    "from langchain_community.llms import Ollama\n",
    "\n",
    "\n",
    "\n",
    "def print_response(response):\n",
    "    response_txt = response[\"result\"]\n",
    "    for chunk in response_txt.split(\"\\n\"):\n",
    "        if not chunk:\n",
    "            print()\n",
    "            continue\n",
    "        print(\"\\n\".join(textwrap.wrap(chunk, 100, break_long_words=False)))"
   ]
  },
  {
   "cell_type": "code",
   "execution_count": 2,
   "metadata": {
    "colab": {
     "base_uri": "https://localhost:8080/"
    },
    "id": "59M0lL4vjkGW",
    "outputId": "ae83f61d-b7bc-4bf2-b84a-d7573e069731"
   },
   "outputs": [
    {
     "name": "stdout",
     "output_type": "stream",
     "text": [
      "mkdir: cannot create directory ‘data’: File exists\n",
      "Traceback (most recent call last):\n",
      "  File \"/home/harshb/miniconda3/bin/gdown\", line 8, in <module>\n",
      "    sys.exit(main())\n",
      "  File \"/home/harshb/miniconda3/lib/python3.10/site-packages/gdown/cli.py\", line 156, in main\n",
      "    filename = download(\n",
      "  File \"/home/harshb/miniconda3/lib/python3.10/site-packages/gdown/download.py\", line 259, in download\n",
      "    filename_from_url = m.groups()[0]\n",
      "AttributeError: 'NoneType' object has no attribute 'groups'\n"
     ]
    }
   ],
   "source": [
    "!mkdir data\n",
    "!gdown 1ee-BhQiH-S9a2IkHiFbJz9eX_SfcZ5m9 -O \"data/meta-earnings.pdf\""
   ]
  },
  {
   "cell_type": "markdown",
   "metadata": {
    "id": "z6kHJJRDvawJ"
   },
   "source": [
    "## Document Parsing"
   ]
  },
  {
   "cell_type": "code",
   "execution_count": null,
   "metadata": {},
   "outputs": [],
   "source": [
    "!pip install PyMuPDF markdownify"
   ]
  },
  {
   "cell_type": "code",
   "execution_count": 1,
   "metadata": {},
   "outputs": [],
   "source": [
    "import fitz  # PyMuPDF\n",
    "from markdownify import markdownify as md"
   ]
  },
  {
   "cell_type": "code",
   "execution_count": 11,
   "metadata": {},
   "outputs": [],
   "source": [
    "def pdf_to_markdown(pdf_path):\n",
    "    # Open the PDF file\n",
    "    pdf_document = fitz.open(pdf_path)\n",
    "\n",
    "    # Initialize an empty string for storing the content\n",
    "    pdf_text = \"\"\n",
    "\n",
    "    # Iterate through each page\n",
    "    for page_num in range(pdf_document.page_count):\n",
    "        page = pdf_document.load_page(page_num)\n",
    "        pdf_text += page.get_text(\"text\")\n",
    "\n",
    "    # Convert the text to markdown\n",
    "    markdown_text = md(pdf_text)\n",
    "\n",
    "    return markdown_text"
   ]
  },
  {
   "cell_type": "code",
   "execution_count": 12,
   "metadata": {
    "id": "tTm_9yk_nMD8"
   },
   "outputs": [],
   "source": [
    "# parsed_doc = llama_parse_documents[0]\n",
    "parsed_doc = pdf_to_markdown(\"data/meta-earnings.pdf\")"
   ]
  },
  {
   "cell_type": "code",
   "execution_count": 14,
   "metadata": {
    "colab": {
     "base_uri": "https://localhost:8080/",
     "height": 1000
    },
    "id": "6acdg4sq736P",
    "outputId": "e0cad626-ab47-45bd-d90b-7499abe491a0"
   },
   "outputs": [
    {
     "data": {
      "text/markdown": [
       "Meta Reports First Quarter 2024 Results\n",
       "MENLO PARK, Calif. – April 24, 2024 – Meta Platforms, Inc. (Nasdaq: META) today reported financial results for the quarter \n",
       "ended March 31, 2024\\.\n",
       "\"It's been a good start to the year,\" said Mark Zuckerberg, Meta founder and CEO. \"The new version of Meta AI with Llama 3 is \n",
       "another step towards building the world's leading AI. We're seeing healthy growth across our apps and we continue making \n",
       "steady progress building the metaverse as well.\"\n",
       "First Quarter 2024 Financial Highlights\n",
       "Three Months Ended March 31,\n",
       "% Change\n",
       "In millions, except percentages and per share amounts\n",
       "2024\n",
       "2023\n",
       "Revenue\n",
       "$ \n",
       "36,455 \n",
       "$ \n",
       "28,645 \n",
       " \n",
       "27 %\n",
       "Costs and expenses\n",
       " \n",
       "22,637 \n",
       " \n",
       "21,418 \n",
       " \n",
       "6 %\n",
       "Income from operations\n",
       "$ \n",
       "13,818 \n",
       "$ \n",
       "7,227 \n",
       " \n",
       "91 %\n",
       "Operating margin\n",
       " \n",
       "38 %\n",
       " \n",
       "25 %\n",
       "Provision for income taxes\n",
       "$ \n",
       "1,814 \n",
       "$ \n",
       "1,598 \n",
       " \n",
       "14 %\n",
       "Effective tax rate\n",
       " \n",
       "13 %\n",
       " \n",
       "22 %\n",
       "Net income\n",
       "$ \n",
       "12,369 \n",
       "$ \n",
       "5,709 \n",
       " \n",
       "117 %\n",
       "Diluted earnings per share (EPS)\n",
       "$ \n",
       "4\\.71 \n",
       "$ \n",
       "2\\.20 \n",
       " \n",
       "114 %\n",
       "First Quarter 2024 Operational and Other Financial Highlights\n",
       "•\n",
       "Family daily active people (DAP) – DAP was 3\\.24 billion on average for March 2024, an increase of 7% year\\-over\\-\n",
       "year.\n",
       "•\n",
       "Ad impressions – Ad impressions delivered across our Family of Apps increased by 20% year\\-over\\-year. \n",
       "•\n",
       "Average price per ad – Average price per ad increased by 6% year\\-over\\-year.\n",
       "•\n",
       "Revenue – Total revenue and revenue on a constant currency basis were $36\\.46 billion and $36\\.35 billion, respectively, \n",
       "both of which increased by 27% year\\-over\\-year.\n",
       "•\n",
       "Costs and expenses – Total costs and expenses were $22\\.64 billion, an increase of 6% year\\-over\\-year. \n",
       "•\n",
       "Capital expenditures – Capital expenditures, including principal payments on finance leases, were $6\\.72 billion. \n",
       "•\n",
       "Capital return program – Share repurchases were $14\\.64 billion of our Class A common stock and dividends \n",
       "payments were $1\\.27 billion.\n",
       "•\n",
       "Cash, cash equivalents, and marketable securities – Cash, cash equivalents, and marketable securities were \n",
       "$58\\.12 billion as of March 31, 2024\\. Free cash flow was $12\\.53 billion.\n",
       "•\n",
       "Headcount – Headcount was 69,329 as of March 31, 2024, a decrease of 10% year\\-over\\-year. \n",
       "1\n",
       "CFO Outlook Commentary\n",
       "We expect second quarter 2024 total revenue to be in the range of $36\\.5\\-39 billion. Our guidance assumes foreign currency is a \n",
       "1% headwind to year\\-over\\-year total revenue growth, based on current exchange rates.\n",
       "We expect full\\-year 2024 total expenses to be in the range of $96\\-99 billion, updated from our prior outlook of $94\\-99 billion \n",
       "due to higher infrastructure and legal costs. For Reality Labs, we continue to expect operating losses to increase meaningfully \n",
       "year\\-over\\-year due to our ongoing product development efforts and our investments to further scale our ecosystem. \n",
       "We anticipate our full\\-year 2024 capital expenditures will be in the range of $35\\-40 billion, increased from our prior range of \n",
       "$30\\-37 billion as we continue to accelerate our infrastructure investments to support our artificial intelligence (AI) roadmap. \n",
       "While we are not providing guidance for years beyond 2024, we expect capital expenditures will continue to increase next year \n",
       "as we invest aggressively to support our ambitious AI research and product development efforts.\n",
       "Absent any changes to our tax landscape, we expect our full\\-year 2024 tax rate to be in the mid\\-teens.\n",
       "In addition, we continue to monitor an active regulatory landscape, including the increasing legal and regulatory headwinds in \n",
       "the EU and the U.S. that could significantly impact our business and our financial results.\n",
       "Q1 was a good start to the year. We're seeing strong momentum within our Family of Apps and are making important progress \n",
       "on our longer\\-term AI and Reality Labs initiatives that have the potential to transform the way people interact with our services \n",
       "over the coming years.\n",
       "2\n",
       "Webcast and Conference Call Information\n",
       "Meta will host a conference call to discuss the results at 2:00 p.m. PT / 5:00 p.m. ET today. The live webcast of Meta's earnings \n",
       "conference call can be accessed at investor.fb.com, "
      ],
      "text/plain": [
       "<IPython.core.display.Markdown object>"
      ]
     },
     "execution_count": 14,
     "metadata": {},
     "output_type": "execute_result"
    }
   ],
   "source": [
    "Markdown(parsed_doc[:4096])"
   ]
  },
  {
   "cell_type": "code",
   "execution_count": 16,
   "metadata": {
    "id": "EUnDQkfwyPv3"
   },
   "outputs": [],
   "source": [
    "document_path = Path(\"data/parsed_document.md\")\n",
    "with document_path.open(\"a\") as f:\n",
    "    f.write(parsed_doc)"
   ]
  },
  {
   "cell_type": "markdown",
   "metadata": {
    "id": "yF5y2-L0vfLM"
   },
   "source": [
    "## Vector Embeddings"
   ]
  },
  {
   "cell_type": "code",
   "execution_count": 17,
   "metadata": {
    "colab": {
     "base_uri": "https://localhost:8080/"
    },
    "id": "R9Hl1Uly3LtB",
    "outputId": "f980129e-efdd-4884-d24b-70c972a071c6"
   },
   "outputs": [],
   "source": [
    "loader = UnstructuredMarkdownLoader(document_path)\n",
    "loaded_documents = loader.load()"
   ]
  },
  {
   "cell_type": "code",
   "execution_count": 18,
   "metadata": {
    "colab": {
     "base_uri": "https://localhost:8080/"
    },
    "id": "_ZrQ4sKg4hxF",
    "outputId": "945bce8c-13aa-49de-e608-7958e984e445"
   },
   "outputs": [
    {
     "data": {
      "text/plain": [
       "26"
      ]
     },
     "execution_count": 18,
     "metadata": {},
     "output_type": "execute_result"
    }
   ],
   "source": [
    "text_splitter = RecursiveCharacterTextSplitter(chunk_size=2048, chunk_overlap=128)\n",
    "docs = text_splitter.split_documents(loaded_documents)\n",
    "len(docs)"
   ]
  },
  {
   "cell_type": "code",
   "execution_count": 19,
   "metadata": {
    "colab": {
     "base_uri": "https://localhost:8080/"
    },
    "id": "RdBs9l3a4jCv",
    "outputId": "dbcb9c00-e24b-44ba-ba94-e4b1aa292f95"
   },
   "outputs": [
    {
     "name": "stdout",
     "output_type": "stream",
     "text": [
      "Meta First Quarter 2024 Results\n",
      "\n",
      "Meta Reports First Quarter 2024 Results\n",
      "\n",
      "MENLO PARK, Calif. – April 24, 2024 – Meta Platforms, Inc. (Nasdaq: META) today reported financial results for the quarter ended March 31, 2024.\n",
      "\n",
      "\"It's been a good start to the year,\" said Mark Zuckerberg, Meta founder and CEO. \"The new version of Meta AI with Llama 3 is another step towards building the world's leading AI. We're seeing healthy growth across our apps and we continue making steady progress building the metaverse as well.\"\n",
      "\n",
      "First Quarter 2024 Financial Highlights\n",
      "\n",
      "Three Months Ended March 31, 2024 \n",
      " Three Months Ended March 31, 2023 \n",
      " % Change \n",
      " \n",
      " Revenue \n",
      " $36,455 million \n",
      " $28,645 million \n",
      " 27% \n",
      " \n",
      " Costs and expenses \n",
      " $22,637 million \n",
      " $21,418 million \n",
      " 6% \n",
      " \n",
      " Income from operations \n",
      " $13,818 million \n",
      " $7,227 million \n",
      " 91% \n",
      " \n",
      " Operating margin \n",
      " 38% \n",
      " 25% \n",
      " \n",
      " \n",
      " Provision for income taxes \n",
      " $1,814 million \n",
      " $1,598 million \n",
      " 14% \n",
      " \n",
      " Effective tax rate \n",
      " 13% \n",
      " 22% \n",
      " \n",
      " \n",
      " Net income \n",
      " $12,369 million \n",
      " $5,709 million \n",
      " 117% \n",
      " \n",
      " Diluted earnings per share (EPS) \n",
      " $4.71 \n",
      " $2.20 \n",
      " 114%\n",
      "\n",
      "First Quarter 2024 Operational and Other Financial Highlights\n",
      "\n",
      "Family daily active people (DAP) – DAP was 3.24 billion on average for March 2024, an increase of 7% year-over-year.\n",
      "\n",
      "Ad impressions – Ad impressions delivered across our Family of Apps increased by 20% year-over-year.\n",
      "\n",
      "Average price per ad – Average price per ad increased by 6% year-over-year.\n",
      "\n",
      "Revenue – Total revenue and revenue on a constant currency basis were $36.46 billion and $36.35 billion, respectively, both of which increased by 27% year-over-year.\n",
      "\n",
      "Costs and expenses – Total costs and expenses were $22.64 billion, an increase of 6% year-over-year.\n",
      "\n",
      "Capital expenditures – Capital expenditures, including principal payments on finance leases, were $6.72 billion.\n",
      "\n",
      "Capital return program – Share repurchases were $14.64 billion of our Class A common stock and dividends payments were $1.27 billion.\n"
     ]
    }
   ],
   "source": [
    "print(docs[0].page_content)"
   ]
  },
  {
   "cell_type": "code",
   "execution_count": 10,
   "metadata": {
    "colab": {
     "base_uri": "https://localhost:8080/",
     "height": 209,
     "referenced_widgets": [
      "326b5526433d4902bd3d31ccd1b9c087",
      "057a4ed7f2da410988806acb4404fbc0",
      "a9a7df757ae54f5492c12aacdc49e715",
      "1d2e201ae4bf48609eb8f5e9af839468",
      "d7f2c0ef555f4a56bd50c812e6051e32",
      "42c6d28bbe7b46998818804054f75b38",
      "cdac95aab5a745cea004a4bc152a08b0",
      "762a1751bfa64291aa34636b3443d2e7",
      "66009c1ca2e5467582bf46da04b9c397",
      "7d41af47fcf341a681c1e24fcf984111",
      "300db5e38e0940af8cbdf9fcd868da74",
      "5403d252723849aabcbf9d66e9d5f75d",
      "f78c8dfb0b644104ad836638552499a1",
      "4a85338d03d44a9f8b95102274eb9a11",
      "89310cc9df9e4e918455662ba3baf71e",
      "dec4da4eec5e46e7b0ef4351403e9700",
      "ba8775e7832d4cf89e1a3ba1e9e352a7",
      "df5521089beb4e46a40a2ab19d4f7391",
      "952bc4fd749f4768ab1b23e9c5a94c6e",
      "00cffb0e4cf24ffb890a307e57afdd85",
      "bff286ecc8434596a52b74bd0d71cddc",
      "733c45e6efa144d5b01558e24d3646b7",
      "3994cadcf2494d3d95fb6417e21d0380",
      "2d33d2a0f13d45f580c85b5e5fa664da",
      "43407fc260194c718d2cf686bdbf1494",
      "36cd36a4339940768716c3b3f352aeb8",
      "3f67ba8b6eff453e87b8536d696eb3ae",
      "b7d40162de7d4b0c869b0f65a1fd45ce",
      "fb9403f913034c98ac468dbfb77d27a6",
      "15ea0e8ed9764d968e54096f971a567a",
      "feba3c7e8f8547bc982372c2e4dc116a",
      "42896a2b6e06450390b5e05e7789a6ca",
      "19788c55a5e64795a6927cf9d4b6f4ac",
      "5208f439666a479aa5dda68c1c2374ca",
      "fbe34b7fe413413a83fed0c70d5ae261",
      "43cc70af330a43948e92d8973381d00e",
      "568fe50cb9974195b9a74e2a748f85e1",
      "b1ca5ca48caf48d7b74604c3397db1fc",
      "741312b1ca424c0c8ac84747db6d7e2d",
      "f915b015df634a1eb665266a1fdf99d7",
      "93a939cce2b646e68e8e9e23b7090052",
      "a0a9590fd48341fe9abe54acb6d0f0b3",
      "236b133c1e26455d9cabb0faf3d16a85",
      "16ebf2335b194aa0adaab7432d2caa89",
      "6b140bab80eb43d39e6f44d886bffd83",
      "77d9f31089994b2e855a2b9e17fce3ae",
      "54c5e8fe845f48d592af8ccb933cf636",
      "56377b1831af409f806260753da88997",
      "197bb8499a894947ba515f2e33a082ec",
      "b1a3806658d7415c9c854f10ca6c6106",
      "e84c938c3c93479ea7dbb5c0e62e2ddc",
      "1516e853177a447d8071bd6e6a4fb62f",
      "28827cbbd66f4817b56b74b2db313708",
      "d8237c47189942439c15435478885701",
      "142c7570473642e4a7eac37291f76003",
      "755acb2571f549ce8e23847ac7fd1e2e",
      "f129cffe41014170a28a918acb65f7bf",
      "9d5c45a0a7504aae9e701386364c3d2d",
      "5d0caac313b94e1489edd233fbb2754a",
      "bc42ae1b7c8542a0b546ddda51a5b6d5",
      "bc8aa6f790ef48fcbcad2ef9d1544db4",
      "9b12eb438ecb44a796544870d647e22b",
      "60bfdc366ca64618b36a0f49ba6dc0d8",
      "48a120680f1d4eca99fa3ba847c8ae06",
      "4a7ca1cf8a554d9fa550b60eed1ffac2",
      "24dff829c98a417a9a359de35faf06b7"
     ]
    },
    "id": "8cUnzAwi-iNE",
    "outputId": "fefdbf30-29dd-46f0-bffc-f8b8ef2c902f"
   },
   "outputs": [
    {
     "data": {
      "application/vnd.jupyter.widget-view+json": {
       "model_id": "678e93bde91c47deb0c6083ef7282c36",
       "version_major": 2,
       "version_minor": 0
      },
      "text/plain": [
       "Fetching 5 files:   0%|          | 0/5 [00:00<?, ?it/s]"
      ]
     },
     "metadata": {},
     "output_type": "display_data"
    }
   ],
   "source": [
    "embeddings = FastEmbedEmbeddings(model_name=\"BAAI/bge-base-en-v1.5\")"
   ]
  },
  {
   "cell_type": "code",
   "execution_count": 11,
   "metadata": {
    "id": "fSh39w9H9fPU"
   },
   "outputs": [],
   "source": [
    "qdrant = Qdrant.from_documents(\n",
    "    docs,\n",
    "    embeddings,\n",
    "    # location=\":memory:\",\n",
    "    path=\"./db\",\n",
    "    collection_name=\"document_embeddings\",\n",
    ")"
   ]
  },
  {
   "cell_type": "code",
   "execution_count": 12,
   "metadata": {
    "colab": {
     "base_uri": "https://localhost:8080/"
    },
    "id": "zBBp64Dy_5hw",
    "outputId": "914e0ae3-5601-4ab2-dd74-dd751ecb52e9"
   },
   "outputs": [
    {
     "name": "stdout",
     "output_type": "stream",
     "text": [
      "CPU times: user 966 ms, sys: 7.28 ms, total: 973 ms\n",
      "Wall time: 567 ms\n"
     ]
    }
   ],
   "source": [
    "%%time\n",
    "query = \"What is the most important innovation from Meta?\"\n",
    "similar_docs = qdrant.similarity_search_with_score(query)"
   ]
  },
  {
   "cell_type": "code",
   "execution_count": 13,
   "metadata": {
    "colab": {
     "base_uri": "https://localhost:8080/"
    },
    "id": "R0vjJsDapHD4",
    "outputId": "55191051-86a5-493a-ffac-0e44544e7f02"
   },
   "outputs": [
    {
     "name": "stdout",
     "output_type": "stream",
     "text": [
      "text: About Meta\n",
      "\n",
      "Meta builds technologies that help people connect, find communities, and grow businesses. When Facebook launched in 2004, it changed the way people connect. Apps like Messenger, Instagram, and WhatsApp further empowered billions around the worl\n",
      "\n",
      "score: 0.6271389050410733\n",
      "--------------------------------------------------------------------------------\n",
      "\n",
      "text: Meta First Quarter 2024 Results\n",
      "\n",
      "Meta Reports First Quarter 2024 Results\n",
      "\n",
      "MENLO PARK, Calif. – April 24, 2024 – Meta Platforms, Inc. (Nasdaq: META) today reported financial results for the quarter ended March 31, 2024.\n",
      "\n",
      "\"It's been a good start to the year,\n",
      "\n",
      "score: 0.6101042835235578\n",
      "--------------------------------------------------------------------------------\n",
      "\n",
      "text: Meta First Quarter 2024 Results\n",
      "\n",
      "Meta Reports First Quarter 2024 Results\n",
      "\n",
      "MENLO PARK, Calif. – April 24, 2024 – Meta Platforms, Inc. (Nasdaq: META) today reported financial results for the quarter ended March 31, 2024.\n",
      "\n",
      "\"It's been a good start to the year,\n",
      "\n",
      "score: 0.6101042835235578\n",
      "--------------------------------------------------------------------------------\n",
      "\n",
      "text: We anticipate our full-year 2024 capital expenditures will be in the range of $35-40 billion, increased from our prior range of $30-37 billion as we continue to accelerate our infrastructure investments to support our artificial intelligence (AI) roadmap. \n",
      "\n",
      "score: 0.5818370498600394\n",
      "--------------------------------------------------------------------------------\n",
      "\n"
     ]
    }
   ],
   "source": [
    "for doc, score in similar_docs:\n",
    "    print(f\"text: {doc.page_content[:256]}\\n\")\n",
    "    print(f\"score: {score}\")\n",
    "    print(\"-\" * 80)\n",
    "    print()"
   ]
  },
  {
   "cell_type": "code",
   "execution_count": 14,
   "metadata": {
    "colab": {
     "base_uri": "https://localhost:8080/"
    },
    "id": "pcYQO28-_pE6",
    "outputId": "610cb724-3320-462d-db34-be7179b8b4e6"
   },
   "outputs": [
    {
     "name": "stdout",
     "output_type": "stream",
     "text": [
      "CPU times: user 933 ms, sys: 0 ns, total: 933 ms\n",
      "Wall time: 568 ms\n"
     ]
    }
   ],
   "source": [
    "%%time\n",
    "retriever = qdrant.as_retriever(search_kwargs={\"k\": 5})\n",
    "retrieved_docs = retriever.invoke(query)"
   ]
  },
  {
   "cell_type": "code",
   "execution_count": 15,
   "metadata": {
    "colab": {
     "base_uri": "https://localhost:8080/"
    },
    "id": "heWeRvZmSfuf",
    "outputId": "33d93d7a-d316-4f1a-e957-7016f1a3c3fe"
   },
   "outputs": [
    {
     "name": "stdout",
     "output_type": "stream",
     "text": [
      "id: f8d12cb72ba84bb6ab52fdde4514e345\n",
      "\n",
      "text: About Meta\n",
      "\n",
      "Meta builds technologies that help people connect, find communities, and grow businesses. When Facebook launched in 2004, it changed the way people connect. Apps like Messenger, Instagram, and WhatsApp further empowered billions around the worl\n",
      "\n",
      "--------------------------------------------------------------------------------\n",
      "\n",
      "id: bebbbeffc58f4987bd8aa3f89ee9bece\n",
      "\n",
      "text: Meta First Quarter 2024 Results\n",
      "\n",
      "Meta Reports First Quarter 2024 Results\n",
      "\n",
      "MENLO PARK, Calif. – April 24, 2024 – Meta Platforms, Inc. (Nasdaq: META) today reported financial results for the quarter ended March 31, 2024.\n",
      "\n",
      "\"It's been a good start to the year,\n",
      "\n",
      "--------------------------------------------------------------------------------\n",
      "\n",
      "id: 2dfa988df69949d8a2196d8ce991f952\n",
      "\n",
      "text: Meta First Quarter 2024 Results\n",
      "\n",
      "Meta Reports First Quarter 2024 Results\n",
      "\n",
      "MENLO PARK, Calif. – April 24, 2024 – Meta Platforms, Inc. (Nasdaq: META) today reported financial results for the quarter ended March 31, 2024.\n",
      "\n",
      "\"It's been a good start to the year,\n",
      "\n",
      "--------------------------------------------------------------------------------\n",
      "\n",
      "id: 32e07a8b023d4e569a9c728141fbe8f7\n",
      "\n",
      "text: We anticipate our full-year 2024 capital expenditures will be in the range of $35-40 billion, increased from our prior range of $30-37 billion as we continue to accelerate our infrastructure investments to support our artificial intelligence (AI) roadmap. \n",
      "\n",
      "--------------------------------------------------------------------------------\n",
      "\n",
      "id: d165d9faff754dd1b2b089a4d7af1588\n",
      "\n",
      "text: Meta First Quarter 2024 Results\n",
      "\n",
      "Webcast and Conference Call Information\n",
      "\n",
      "Meta will host a conference call to discuss the results at 2:00 p.m. PT / 5:00 p.m. ET today. The live webcast of Meta's earnings conference call can be accessed at investor.fb.com, \n",
      "\n",
      "--------------------------------------------------------------------------------\n",
      "\n"
     ]
    }
   ],
   "source": [
    "for doc in retrieved_docs:\n",
    "    print(f\"id: {doc.metadata['_id']}\\n\")\n",
    "    print(f\"text: {doc.page_content[:256]}\\n\")\n",
    "    print(\"-\" * 80)\n",
    "    print()"
   ]
  },
  {
   "cell_type": "markdown",
   "metadata": {
    "id": "SS5zSz0lvnu3"
   },
   "source": [
    "## Reranking"
   ]
  },
  {
   "cell_type": "code",
   "execution_count": 1,
   "metadata": {
    "colab": {
     "base_uri": "https://localhost:8080/"
    },
    "id": "83P_6ysFzSxC",
    "outputId": "f50b197a-7d64-4bfd-ffc2-cbbf0576d86e"
   },
   "outputs": [],
   "source": [
    "from langchain.retrievers import ContextualCompressionRetriever\n",
    "from langchain.retrievers.document_compressors import FlashrankRerank\n",
    "\n",
    "# Ensure flashrank is installed\n",
    "try:\n",
    "    from flashrank import Ranker, RerankRequest\n",
    "except ImportError:\n",
    "    raise ImportError(\n",
    "        \"Could not import flashrank python package. \"\n",
    "        \"Please install it with `pip install flashrank`.\"\n",
    "    )\n",
    "\n",
    "# Call update_forward_refs to resolve forward references\n",
    "FlashrankRerank.update_forward_refs()\n",
    "\n",
    "compressor = FlashrankRerank()"
   ]
  },
  {
   "cell_type": "code",
   "execution_count": 16,
   "metadata": {},
   "outputs": [],
   "source": [
    "compression_retriever = ContextualCompressionRetriever(\n",
    "    base_compressor=compressor, base_retriever=retriever\n",
    ")"
   ]
  },
  {
   "cell_type": "code",
   "execution_count": 17,
   "metadata": {
    "colab": {
     "base_uri": "https://localhost:8080/"
    },
    "id": "NUVfVgihLgVD",
    "outputId": "66907d76-cb24-4d68-e608-b4cbc7eaf356"
   },
   "outputs": [
    {
     "name": "stdout",
     "output_type": "stream",
     "text": [
      "Running pairwise ranking..\n",
      "CPU times: user 31.7 s, sys: 324 ms, total: 32 s\n",
      "Wall time: 5.55 s\n"
     ]
    },
    {
     "data": {
      "text/plain": [
       "3"
      ]
     },
     "execution_count": 17,
     "metadata": {},
     "output_type": "execute_result"
    }
   ],
   "source": [
    "%%time\n",
    "reranked_docs = compression_retriever.invoke(query)\n",
    "len(reranked_docs)"
   ]
  },
  {
   "cell_type": "code",
   "execution_count": 18,
   "metadata": {
    "colab": {
     "base_uri": "https://localhost:8080/"
    },
    "id": "JqHWLMdqPhMT",
    "outputId": "47d088dd-7b00-4e79-8733-574aa7a5a708"
   },
   "outputs": [
    {
     "name": "stdout",
     "output_type": "stream",
     "text": [
      "id: bebbbeffc58f4987bd8aa3f89ee9bece\n",
      "\n",
      "text: Meta First Quarter 2024 Results\n",
      "\n",
      "Meta Reports First Quarter 2024 Results\n",
      "\n",
      "MENLO PARK, Calif. – April 24, 2024 – Meta Platforms, Inc. (Nasdaq: META) today reported financial results for the quarter ended March 31, 2024.\n",
      "\n",
      "\"It's been a good start to the year,\n",
      "\n",
      "score: [0.034220486879348755, 0.9561359882354736]\n",
      "--------------------------------------------------------------------------------\n",
      "\n",
      "id: 2dfa988df69949d8a2196d8ce991f952\n",
      "\n",
      "text: Meta First Quarter 2024 Results\n",
      "\n",
      "Meta Reports First Quarter 2024 Results\n",
      "\n",
      "MENLO PARK, Calif. – April 24, 2024 – Meta Platforms, Inc. (Nasdaq: META) today reported financial results for the quarter ended March 31, 2024.\n",
      "\n",
      "\"It's been a good start to the year,\n",
      "\n",
      "score: [0.034220486879348755, 0.9561359882354736]\n",
      "--------------------------------------------------------------------------------\n",
      "\n",
      "id: 32e07a8b023d4e569a9c728141fbe8f7\n",
      "\n",
      "text: We anticipate our full-year 2024 capital expenditures will be in the range of $35-40 billion, increased from our prior range of $30-37 billion as we continue to accelerate our infrastructure investments to support our artificial intelligence (AI) roadmap. \n",
      "\n",
      "score: [0.031449589878320694, 0.955557644367218]\n",
      "--------------------------------------------------------------------------------\n",
      "\n"
     ]
    }
   ],
   "source": [
    "for doc in reranked_docs:\n",
    "    print(f\"id: {doc.metadata['_id']}\\n\")\n",
    "    print(f\"text: {doc.page_content[:256]}\\n\")\n",
    "    print(f\"score: {doc.metadata['relevance_score']}\")\n",
    "    print(\"-\" * 80)\n",
    "    print()"
   ]
  },
  {
   "cell_type": "markdown",
   "metadata": {
    "id": "3ra-bCZzvrFy"
   },
   "source": [
    "## Q&A Over Document"
   ]
  },
  {
   "cell_type": "code",
   "execution_count": 20,
   "metadata": {
    "id": "tjOym5svzy2j"
   },
   "outputs": [],
   "source": [
    "llm = Ollama(temperature=0, model=\"llama3\")"
   ]
  },
  {
   "cell_type": "code",
   "execution_count": 21,
   "metadata": {
    "id": "4iqfuyMaBe6j"
   },
   "outputs": [],
   "source": [
    "prompt_template = \"\"\"\n",
    "Use the following pieces of information to answer the user's question.\n",
    "If you don't know the answer, just say that you don't know, don't try to make up an answer.\n",
    "\n",
    "Context: {context}\n",
    "Question: {question}\n",
    "\n",
    "Answer the question and provide additional helpful information,\n",
    "based on the pieces of information, if applicable. Be succinct.\n",
    "\n",
    "Responses should be properly formatted to be easily read.\n",
    "\"\"\"\n",
    "\n",
    "prompt = PromptTemplate(\n",
    "    template=prompt_template, input_variables=[\"context\", \"question\"]\n",
    ")"
   ]
  },
  {
   "cell_type": "code",
   "execution_count": 22,
   "metadata": {
    "id": "sz2aMwNWBxvg"
   },
   "outputs": [],
   "source": [
    "qa = RetrievalQA.from_chain_type(\n",
    "    llm=llm,\n",
    "    chain_type=\"stuff\",\n",
    "    retriever=compression_retriever,\n",
    "    return_source_documents=True,\n",
    "    chain_type_kwargs={\"prompt\": prompt, \"verbose\": True},\n",
    ")"
   ]
  },
  {
   "cell_type": "code",
   "execution_count": 23,
   "metadata": {
    "colab": {
     "base_uri": "https://localhost:8080/"
    },
    "id": "J8lBIegHT0Y6",
    "outputId": "7980c9fe-5412-4560-8758-1c69cbf3bf41"
   },
   "outputs": [
    {
     "name": "stdout",
     "output_type": "stream",
     "text": [
      "Running pairwise ranking..\n",
      "\n",
      "\n",
      "\u001b[1m> Entering new StuffDocumentsChain chain...\u001b[0m\n",
      "\n",
      "\n",
      "\u001b[1m> Entering new LLMChain chain...\u001b[0m\n",
      "Prompt after formatting:\n",
      "\u001b[32;1m\u001b[1;3m\n",
      "Use the following pieces of information to answer the user's question.\n",
      "If you don't know the answer, just say that you don't know, don't try to make up an answer.\n",
      "\n",
      "Context: We anticipate our full-year 2024 capital expenditures will be in the range of $35-40 billion, increased from our prior range of $30-37 billion as we continue to accelerate our infrastructure investments to support our artificial intelligence (AI) roadmap. While we are not providing guidance for years beyond 2024, we expect capital expenditures will continue to increase next year as we invest aggressively to support our ambitious AI research and product development efforts.\n",
      "\n",
      "Absent any changes to our tax landscape, we expect our full-year 2024 tax rate to be in the mid-teens.\n",
      "\n",
      "In addition, we continue to monitor an active regulatory landscape, including the increasing legal and regulatory headwinds in the EU and the U.S. that could significantly impact our business and our financial results.\n",
      "\n",
      "Q1 was a good start to the year. We're seeing strong momentum within our Family of Apps and are making important progress on our longer-term AI and Reality Labs initiatives that have the potential to transform the way people interact with our services over the coming years.\n",
      "\n",
      "Meta First Quarter 2024 Results\n",
      "\n",
      "Webcast and Conference Call Information\n",
      "\n",
      "Meta will host a conference call to discuss the results at 2:00 p.m. PT / 5:00 p.m. ET today. The live webcast of Meta's earnings conference call can be accessed at investor.fb.com, along with the earnings press release, financial tables, and slide presentation. Meta uses the investor.fb.com and about.fb.com/news/ websites as well as Mark Zuckerberg's Facebook Page (facebook.com/zuck), Instagram account (instagram.com/zuck) and Threads profile (threads.net/zuck) as means of disclosing material non-public information and for complying with its disclosure obligations under Regulation FD.\n",
      "\n",
      "Following the call, a replay will be available at the same website. Transcripts of conference calls with publishing equity research analysts held today will also be posted to the investor.fb.com website.\n",
      "\n",
      "About Meta\n",
      "\n",
      "Meta First Quarter 2024 Results\n",
      "\n",
      "Meta Reports First Quarter 2024 Results\n",
      "\n",
      "MENLO PARK, Calif. – April 24, 2024 – Meta Platforms, Inc. (Nasdaq: META) today reported financial results for the quarter ended March 31, 2024.\n",
      "\n",
      "\"It's been a good start to the year,\" said Mark Zuckerberg, Meta founder and CEO. \"The new version of Meta AI with Llama 3 is another step towards building the world's leading AI. We're seeing healthy growth across our apps and we continue making steady progress building the metaverse as well.\"\n",
      "\n",
      "First Quarter 2024 Financial Highlights\n",
      "\n",
      "Three Months Ended March 31, 2024 \n",
      " Three Months Ended March 31, 2023 \n",
      " % Change \n",
      " \n",
      " Revenue \n",
      " $36,455 million \n",
      " $28,645 million \n",
      " 27% \n",
      " \n",
      " Costs and expenses \n",
      " $22,637 million \n",
      " $21,418 million \n",
      " 6% \n",
      " \n",
      " Income from operations \n",
      " $13,818 million \n",
      " $7,227 million \n",
      " 91% \n",
      " \n",
      " Operating margin \n",
      " 38% \n",
      " 25% \n",
      " \n",
      " \n",
      " Provision for income taxes \n",
      " $1,814 million \n",
      " $1,598 million \n",
      " 14% \n",
      " \n",
      " Effective tax rate \n",
      " 13% \n",
      " 22% \n",
      " \n",
      " \n",
      " Net income \n",
      " $12,369 million \n",
      " $5,709 million \n",
      " 117% \n",
      " \n",
      " Diluted earnings per share (EPS) \n",
      " $4.71 \n",
      " $2.20 \n",
      " 114%\n",
      "\n",
      "First Quarter 2024 Operational and Other Financial Highlights\n",
      "\n",
      "Family daily active people (DAP) – DAP was 3.24 billion on average for March 2024, an increase of 7% year-over-year.\n",
      "\n",
      "Ad impressions – Ad impressions delivered across our Family of Apps increased by 20% year-over-year.\n",
      "\n",
      "Average price per ad – Average price per ad increased by 6% year-over-year.\n",
      "\n",
      "Revenue – Total revenue and revenue on a constant currency basis were $36.46 billion and $36.35 billion, respectively, both of which increased by 27% year-over-year.\n",
      "\n",
      "Costs and expenses – Total costs and expenses were $22.64 billion, an increase of 6% year-over-year.\n",
      "\n",
      "Capital expenditures – Capital expenditures, including principal payments on finance leases, were $6.72 billion.\n",
      "\n",
      "Capital return program – Share repurchases were $14.64 billion of our Class A common stock and dividends payments were $1.27 billion.\n",
      "\n",
      "Meta First Quarter 2024 Results\n",
      "\n",
      "Meta Reports First Quarter 2024 Results\n",
      "\n",
      "MENLO PARK, Calif. – April 24, 2024 – Meta Platforms, Inc. (Nasdaq: META) today reported financial results for the quarter ended March 31, 2024.\n",
      "\n",
      "\"It's been a good start to the year,\" said Mark Zuckerberg, Meta founder and CEO. \"The new version of Meta AI with Llama 3 is another step towards building the world's leading AI. We're seeing healthy growth across our apps and we continue making steady progress building the metaverse as well.\"\n",
      "\n",
      "First Quarter 2024 Financial Highlights\n",
      "\n",
      "Three Months Ended March 31, 2024 \n",
      " Three Months Ended March 31, 2023 \n",
      " % Change \n",
      " \n",
      " Revenue \n",
      " $36,455 million \n",
      " $28,645 million \n",
      " 27% \n",
      " \n",
      " Costs and expenses \n",
      " $22,637 million \n",
      " $21,418 million \n",
      " 6% \n",
      " \n",
      " Income from operations \n",
      " $13,818 million \n",
      " $7,227 million \n",
      " 91% \n",
      " \n",
      " Operating margin \n",
      " 38% \n",
      " 25% \n",
      " \n",
      " \n",
      " Provision for income taxes \n",
      " $1,814 million \n",
      " $1,598 million \n",
      " 14% \n",
      " \n",
      " Effective tax rate \n",
      " 13% \n",
      " 22% \n",
      " \n",
      " \n",
      " Net income \n",
      " $12,369 million \n",
      " $5,709 million \n",
      " 117% \n",
      " \n",
      " Diluted earnings per share (EPS) \n",
      " $4.71 \n",
      " $2.20 \n",
      " 114%\n",
      "\n",
      "First Quarter 2024 Operational and Other Financial Highlights\n",
      "\n",
      "Family daily active people (DAP) – DAP was 3.24 billion on average for March 2024, an increase of 7% year-over-year.\n",
      "\n",
      "Ad impressions – Ad impressions delivered across our Family of Apps increased by 20% year-over-year.\n",
      "\n",
      "Average price per ad – Average price per ad increased by 6% year-over-year.\n",
      "\n",
      "Revenue – Total revenue and revenue on a constant currency basis were $36.46 billion and $36.35 billion, respectively, both of which increased by 27% year-over-year.\n",
      "\n",
      "Costs and expenses – Total costs and expenses were $22.64 billion, an increase of 6% year-over-year.\n",
      "\n",
      "Capital expenditures – Capital expenditures, including principal payments on finance leases, were $6.72 billion.\n",
      "\n",
      "Capital return program – Share repurchases were $14.64 billion of our Class A common stock and dividends payments were $1.27 billion.\n",
      "Question: What is the most significant innovation from Meta?\n",
      "\n",
      "Answer the question and provide additional helpful information,\n",
      "based on the pieces of information, if applicable. Be succinct.\n",
      "\n",
      "Responses should be properly formatted to be easily read.\n",
      "\u001b[0m\n",
      "\n",
      "\u001b[1m> Finished chain.\u001b[0m\n",
      "\n",
      "\u001b[1m> Finished chain.\u001b[0m\n",
      "CPU times: user 33.1 s, sys: 111 ms, total: 33.2 s\n",
      "Wall time: 1min 49s\n"
     ]
    }
   ],
   "source": [
    "%%time\n",
    "response = qa.invoke(\"What is the most significant innovation from Meta?\")"
   ]
  },
  {
   "cell_type": "code",
   "execution_count": 24,
   "metadata": {
    "colab": {
     "base_uri": "https://localhost:8080/"
    },
    "id": "o_PpnlgxY5xz",
    "outputId": "d954027f-e638-4917-9bf8-2119f0f58b7c"
   },
   "outputs": [
    {
     "name": "stdout",
     "output_type": "stream",
     "text": [
      "The most significant innovation from Meta mentioned in the text is the new version of Meta AI with\n",
      "Llama 3, which is a step towards building the world's leading AI.\n",
      "\n",
      "Additional helpful information:\n",
      "\n",
      "* The company is investing aggressively in its artificial intelligence (AI) roadmap and expects\n",
      "capital expenditures to continue increasing next year.\n",
      "* The company is also making progress on its longer-term AI and Reality Labs initiatives that have\n",
      "the potential to transform the way people interact with their services over the coming years.\n"
     ]
    }
   ],
   "source": [
    "print_response(response)"
   ]
  },
  {
   "cell_type": "code",
   "execution_count": 25,
   "metadata": {
    "id": "lJfS5OIYavyV"
   },
   "outputs": [],
   "source": [
    "qa = RetrievalQA.from_chain_type(\n",
    "    llm=llm,\n",
    "    chain_type=\"stuff\",\n",
    "    retriever=compression_retriever,\n",
    "    return_source_documents=True,\n",
    "    chain_type_kwargs={\"prompt\": prompt, \"verbose\": False},\n",
    ")"
   ]
  },
  {
   "cell_type": "code",
   "execution_count": 26,
   "metadata": {
    "colab": {
     "base_uri": "https://localhost:8080/"
    },
    "id": "IObqfsaHYjGm",
    "outputId": "65cb4aa2-9bd9-45c7-f086-88e7e7024113"
   },
   "outputs": [
    {
     "name": "stdout",
     "output_type": "stream",
     "text": [
      "Running pairwise ranking..\n",
      "CPU times: user 33 s, sys: 44.5 ms, total: 33.1 s\n",
      "Wall time: 2min\n"
     ]
    }
   ],
   "source": [
    "%%time\n",
    "response = qa.invoke(\"What is the revenue for 2024 and % change?\")"
   ]
  },
  {
   "cell_type": "code",
   "execution_count": 27,
   "metadata": {
    "colab": {
     "base_uri": "https://localhost:8080/",
     "height": 175
    },
    "id": "JevCXm-sbEMo",
    "outputId": "f0de1748-d023-48bf-c087-36287a69867d"
   },
   "outputs": [
    {
     "data": {
      "text/markdown": [
       "According to the provided information, the GAAP revenue for Q1 2024 is $36,455.\n",
       "\n",
       "The year-over-year change in GAAP revenue is 27%.\n",
       "\n",
       "Here's a breakdown of the revenue:\n",
       "\n",
       "* GAAP revenue: $36,455 (Q1 2024)\n",
       "* Foreign exchange effect on 2024 revenue using 2023 rates: ($106) (offsets the actual revenue)\n",
       "* Revenue excluding foreign exchange effect: $36,349\n",
       "* GAAP advertising revenue: $35,635 (Q1 2024)\n",
       "* Advertising revenue excluding foreign exchange effect: $35,530\n",
       "\n",
       "Note that these figures are based on the provided information and may not reflect the full-year 2024 revenue guidance of $36.5-39 billion mentioned in the CFO Outlook Commentary."
      ],
      "text/plain": [
       "<IPython.core.display.Markdown object>"
      ]
     },
     "execution_count": 27,
     "metadata": {},
     "output_type": "execute_result"
    }
   ],
   "source": [
    "Markdown(response[\"result\"])"
   ]
  },
  {
   "cell_type": "code",
   "execution_count": null,
   "metadata": {
    "colab": {
     "base_uri": "https://localhost:8080/"
    },
    "id": "R6cr0QR6C7_L",
    "outputId": "6a80a3be-334e-4256-feeb-db5e6bdd5278"
   },
   "outputs": [
    {
     "name": "stdout",
     "output_type": "stream",
     "text": [
      "Running pairwise ranking..\n",
      "CPU times: user 2.53 s, sys: 6.54 ms, total: 2.53 s\n",
      "Wall time: 7.32 s\n"
     ]
    }
   ],
   "source": [
    "%%time\n",
    "response = qa.invoke(\"What is the revenue for 2023?\")"
   ]
  },
  {
   "cell_type": "code",
   "execution_count": null,
   "metadata": {
    "colab": {
     "base_uri": "https://localhost:8080/"
    },
    "id": "NxwcVvEYb6Fi",
    "outputId": "98f292f1-0b73-47b7-8855-24a48af33d76"
   },
   "outputs": [
    {
     "name": "stdout",
     "output_type": "stream",
     "text": [
      "The revenue for 2023 is $28,645.\n",
      "\n",
      "Additional information: This is a 27% increase from the previous year, and the revenue excluding\n",
      "foreign exchange effect is also $28,645.\n"
     ]
    }
   ],
   "source": [
    "print_response(response)"
   ]
  },
  {
   "cell_type": "code",
   "execution_count": null,
   "metadata": {
    "colab": {
     "base_uri": "https://localhost:8080/"
    },
    "id": "enShZsgADnZt",
    "outputId": "49827d54-220f-48e4-cfb8-d987ccec60a0"
   },
   "outputs": [
    {
     "name": "stdout",
     "output_type": "stream",
     "text": [
      "Running pairwise ranking..\n",
      "CPU times: user 2.68 s, sys: 9.44 ms, total: 2.69 s\n",
      "Wall time: 7.01 s\n"
     ]
    }
   ],
   "source": [
    "%%time\n",
    "response = qa.invoke(\n",
    "    \"How much is the revenue minus the costs and expenses for 2024? Calculate the answer\"\n",
    ")"
   ]
  },
  {
   "cell_type": "code",
   "execution_count": null,
   "metadata": {
    "colab": {
     "base_uri": "https://localhost:8080/"
    },
    "id": "CtEBlRP0dVaM",
    "outputId": "609bee57-aa36-45c8-f976-ae94980fff15"
   },
   "outputs": [
    {
     "name": "stdout",
     "output_type": "stream",
     "text": [
      "Based on the provided information, the revenue for Q1 2024 is $36,455 million, and the costs and\n",
      "expenses are $22,637 million. To calculate the revenue minus the costs and expenses, we can subtract\n",
      "the costs and expenses from the revenue:\n",
      "\n",
      "$36,455 million (revenue) - $22,637 million (costs and expenses) = $13,818 million\n",
      "\n",
      "So, the revenue minus the costs and expenses for Q1 2024 is $13,818 million.\n",
      "\n",
      "Additional helpful information:\n",
      "\n",
      "* This amount, $13,818 million, is also referred to as the income from operations.\n",
      "* The operating margin is 38%, which is calculated by dividing the income from operations by the\n",
      "revenue and multiplying by 100.\n"
     ]
    }
   ],
   "source": [
    "print_response(response)"
   ]
  },
  {
   "cell_type": "code",
   "execution_count": null,
   "metadata": {
    "colab": {
     "base_uri": "https://localhost:8080/"
    },
    "id": "842BweJKD0J3",
    "outputId": "67c43f5b-0c7d-4274-a28d-98b6e79a8a48"
   },
   "outputs": [
    {
     "name": "stdout",
     "output_type": "stream",
     "text": [
      "Running pairwise ranking..\n",
      "CPU times: user 2.29 s, sys: 9.6 ms, total: 2.3 s\n",
      "Wall time: 9 s\n"
     ]
    }
   ],
   "source": [
    "%%time\n",
    "response = qa.invoke(\n",
    "    \"How much is the revenue minus the costs and expenses for 2023? Calculate the answer\"\n",
    ")"
   ]
  },
  {
   "cell_type": "code",
   "execution_count": null,
   "metadata": {
    "colab": {
     "base_uri": "https://localhost:8080/"
    },
    "id": "v0Oug1q5n7eW",
    "outputId": "69411a01-5277-4aa5-ba30-4cd030082b6d"
   },
   "outputs": [
    {
     "name": "stdout",
     "output_type": "stream",
     "text": [
      "Based on the provided information, we can calculate the revenue minus costs and expenses for 2023 as\n",
      "follows:\n",
      "\n",
      "Revenue (2023): $28,645\n",
      "Income from operations (2023): $7,227\n",
      "\n",
      "To find the costs and expenses, we can subtract the income from operations from the revenue:\n",
      "\n",
      "Costs and expenses (2023) = Revenue - Income from operations\n",
      "= $28,645 - $7,227\n",
      "= $21,418\n",
      "\n",
      "So, the revenue minus costs and expenses for 2023 is $7,227.\n",
      "\n",
      "Additional helpful information:\n",
      "\n",
      "* The company's revenue has increased by 27% year-over-year, from $28,645 in 2023 to $36,455 in\n",
      "2024.\n",
      "* The company's income from operations has also increased, from $7,227 in 2023 to $13,818 in 2024.\n"
     ]
    }
   ],
   "source": [
    "print_response(response)"
   ]
  },
  {
   "cell_type": "code",
   "execution_count": null,
   "metadata": {
    "colab": {
     "base_uri": "https://localhost:8080/"
    },
    "id": "D9zNlVvWm9oQ",
    "outputId": "a9d82c59-3212-4504-b7f9-e40cc67a797b"
   },
   "outputs": [
    {
     "name": "stdout",
     "output_type": "stream",
     "text": [
      "Running pairwise ranking..\n",
      "CPU times: user 2.59 s, sys: 9.42 ms, total: 2.6 s\n",
      "Wall time: 6.58 s\n"
     ]
    }
   ],
   "source": [
    "%%time\n",
    "response = qa.invoke(\"What is the expected revenue for the second quarter of 2024?\")"
   ]
  },
  {
   "cell_type": "code",
   "execution_count": null,
   "metadata": {
    "colab": {
     "base_uri": "https://localhost:8080/",
     "height": 70
    },
    "id": "wimlevzZm-w3",
    "outputId": "4958bdd5-24aa-4947-883f-2343ee9b1ea4"
   },
   "outputs": [
    {
     "data": {
      "text/markdown": [
       "**Answer:** The expected revenue for the second quarter of 2024 is in the range of $36.5-39 billion.\n",
       "\n",
       "**Additional information:** This guidance assumes a 1% headwind to year-over-year total revenue growth due to foreign currency exchange rates."
      ],
      "text/plain": [
       "<IPython.core.display.Markdown object>"
      ]
     },
     "execution_count": 38,
     "metadata": {},
     "output_type": "execute_result"
    }
   ],
   "source": [
    "Markdown(response[\"result\"])"
   ]
  },
  {
   "cell_type": "code",
   "execution_count": null,
   "metadata": {
    "colab": {
     "base_uri": "https://localhost:8080/"
    },
    "id": "YoToCv3znIVB",
    "outputId": "9dc6bf5b-e718-4caa-efaf-318ac0c5db5f"
   },
   "outputs": [
    {
     "name": "stdout",
     "output_type": "stream",
     "text": [
      "Running pairwise ranking..\n",
      "CPU times: user 3.44 s, sys: 12.9 ms, total: 3.45 s\n",
      "Wall time: 8.28 s\n"
     ]
    }
   ],
   "source": [
    "%%time\n",
    "response = qa.invoke(\"What is the overall outlook of Q1 2024?\")"
   ]
  },
  {
   "cell_type": "code",
   "execution_count": null,
   "metadata": {
    "colab": {
     "base_uri": "https://localhost:8080/"
    },
    "id": "EFtaBY3Vn09U",
    "outputId": "ffbfcacb-3e8a-40d0-8bf4-0e9f0897c85d"
   },
   "outputs": [
    {
     "name": "stdout",
     "output_type": "stream",
     "text": [
      "**Overall Outlook of Q1 2024:**\n",
      "\n",
      "The overall outlook of Q1 2024 is positive. According to Mark Zuckerberg, \"It's been a good start to\n",
      "the year.\" The company has reported strong financial results, with revenue increasing by 27% year-\n",
      "over-year to $36.46 billion. Net income has also increased by 117% year-over-year to $12.37 billion.\n",
      "\n",
      "**Additional Highlights:**\n",
      "\n",
      "* Family daily active people (DAP) increased by 7% year-over-year to 3.24 billion.\n",
      "* Ad impressions increased by 20% year-over-year.\n",
      "* Average price per ad increased by 6% year-over-year.\n",
      "* Capital expenditures were $6.72 billion, and free cash flow was $12.53 billion.\n",
      "* The company has also reported a strong capital return program, with share repurchases of $14.64\n",
      "billion and dividend payments of $1.27 billion.\n"
     ]
    }
   ],
   "source": [
    "print_response(response)"
   ]
  },
  {
   "cell_type": "markdown",
   "metadata": {
    "id": "b9KgJCdYqbI_"
   },
   "source": [
    "## References\n",
    "\n",
    "- [Meta Reports First Quarter 2024 Results](https://s21.q4cdn.com/399680738/files/doc_financials/2024/q1/Meta-03-31-2024-Exhibit-99-1_FINAL.pdf)"
   ]
  }
 ],
 "metadata": {
  "colab": {
   "provenance": []
  },
  "kernelspec": {
   "display_name": "gpu",
   "language": "python",
   "name": "python3"
  },
  "language_info": {
   "codemirror_mode": {
    "name": "ipython",
    "version": 3
   },
   "file_extension": ".py",
   "mimetype": "text/x-python",
   "name": "python",
   "nbconvert_exporter": "python",
   "pygments_lexer": "ipython3",
   "version": "3.12.3"
  },
  "widgets": {
   "application/vnd.jupyter.widget-state+json": {
    "00cffb0e4cf24ffb890a307e57afdd85": {
     "model_module": "@jupyter-widgets/controls",
     "model_module_version": "1.5.0",
     "model_name": "ProgressStyleModel",
     "state": {
      "_model_module": "@jupyter-widgets/controls",
      "_model_module_version": "1.5.0",
      "_model_name": "ProgressStyleModel",
      "_view_count": null,
      "_view_module": "@jupyter-widgets/base",
      "_view_module_version": "1.2.0",
      "_view_name": "StyleView",
      "bar_color": null,
      "description_width": ""
     }
    },
    "057a4ed7f2da410988806acb4404fbc0": {
     "model_module": "@jupyter-widgets/controls",
     "model_module_version": "1.5.0",
     "model_name": "HTMLModel",
     "state": {
      "_dom_classes": [],
      "_model_module": "@jupyter-widgets/controls",
      "_model_module_version": "1.5.0",
      "_model_name": "HTMLModel",
      "_view_count": null,
      "_view_module": "@jupyter-widgets/controls",
      "_view_module_version": "1.5.0",
      "_view_name": "HTMLView",
      "description": "",
      "description_tooltip": null,
      "layout": "IPY_MODEL_42c6d28bbe7b46998818804054f75b38",
      "placeholder": "​",
      "style": "IPY_MODEL_cdac95aab5a745cea004a4bc152a08b0",
      "value": "Fetching 5 files: 100%"
     }
    },
    "142c7570473642e4a7eac37291f76003": {
     "model_module": "@jupyter-widgets/controls",
     "model_module_version": "1.5.0",
     "model_name": "DescriptionStyleModel",
     "state": {
      "_model_module": "@jupyter-widgets/controls",
      "_model_module_version": "1.5.0",
      "_model_name": "DescriptionStyleModel",
      "_view_count": null,
      "_view_module": "@jupyter-widgets/base",
      "_view_module_version": "1.2.0",
      "_view_name": "StyleView",
      "description_width": ""
     }
    },
    "1516e853177a447d8071bd6e6a4fb62f": {
     "model_module": "@jupyter-widgets/base",
     "model_module_version": "1.2.0",
     "model_name": "LayoutModel",
     "state": {
      "_model_module": "@jupyter-widgets/base",
      "_model_module_version": "1.2.0",
      "_model_name": "LayoutModel",
      "_view_count": null,
      "_view_module": "@jupyter-widgets/base",
      "_view_module_version": "1.2.0",
      "_view_name": "LayoutView",
      "align_content": null,
      "align_items": null,
      "align_self": null,
      "border": null,
      "bottom": null,
      "display": null,
      "flex": null,
      "flex_flow": null,
      "grid_area": null,
      "grid_auto_columns": null,
      "grid_auto_flow": null,
      "grid_auto_rows": null,
      "grid_column": null,
      "grid_gap": null,
      "grid_row": null,
      "grid_template_areas": null,
      "grid_template_columns": null,
      "grid_template_rows": null,
      "height": null,
      "justify_content": null,
      "justify_items": null,
      "left": null,
      "margin": null,
      "max_height": null,
      "max_width": null,
      "min_height": null,
      "min_width": null,
      "object_fit": null,
      "object_position": null,
      "order": null,
      "overflow": null,
      "overflow_x": null,
      "overflow_y": null,
      "padding": null,
      "right": null,
      "top": null,
      "visibility": null,
      "width": null
     }
    },
    "15ea0e8ed9764d968e54096f971a567a": {
     "model_module": "@jupyter-widgets/base",
     "model_module_version": "1.2.0",
     "model_name": "LayoutModel",
     "state": {
      "_model_module": "@jupyter-widgets/base",
      "_model_module_version": "1.2.0",
      "_model_name": "LayoutModel",
      "_view_count": null,
      "_view_module": "@jupyter-widgets/base",
      "_view_module_version": "1.2.0",
      "_view_name": "LayoutView",
      "align_content": null,
      "align_items": null,
      "align_self": null,
      "border": null,
      "bottom": null,
      "display": null,
      "flex": null,
      "flex_flow": null,
      "grid_area": null,
      "grid_auto_columns": null,
      "grid_auto_flow": null,
      "grid_auto_rows": null,
      "grid_column": null,
      "grid_gap": null,
      "grid_row": null,
      "grid_template_areas": null,
      "grid_template_columns": null,
      "grid_template_rows": null,
      "height": null,
      "justify_content": null,
      "justify_items": null,
      "left": null,
      "margin": null,
      "max_height": null,
      "max_width": null,
      "min_height": null,
      "min_width": null,
      "object_fit": null,
      "object_position": null,
      "order": null,
      "overflow": null,
      "overflow_x": null,
      "overflow_y": null,
      "padding": null,
      "right": null,
      "top": null,
      "visibility": null,
      "width": null
     }
    },
    "16ebf2335b194aa0adaab7432d2caa89": {
     "model_module": "@jupyter-widgets/controls",
     "model_module_version": "1.5.0",
     "model_name": "DescriptionStyleModel",
     "state": {
      "_model_module": "@jupyter-widgets/controls",
      "_model_module_version": "1.5.0",
      "_model_name": "DescriptionStyleModel",
      "_view_count": null,
      "_view_module": "@jupyter-widgets/base",
      "_view_module_version": "1.2.0",
      "_view_name": "StyleView",
      "description_width": ""
     }
    },
    "19788c55a5e64795a6927cf9d4b6f4ac": {
     "model_module": "@jupyter-widgets/controls",
     "model_module_version": "1.5.0",
     "model_name": "DescriptionStyleModel",
     "state": {
      "_model_module": "@jupyter-widgets/controls",
      "_model_module_version": "1.5.0",
      "_model_name": "DescriptionStyleModel",
      "_view_count": null,
      "_view_module": "@jupyter-widgets/base",
      "_view_module_version": "1.2.0",
      "_view_name": "StyleView",
      "description_width": ""
     }
    },
    "197bb8499a894947ba515f2e33a082ec": {
     "model_module": "@jupyter-widgets/base",
     "model_module_version": "1.2.0",
     "model_name": "LayoutModel",
     "state": {
      "_model_module": "@jupyter-widgets/base",
      "_model_module_version": "1.2.0",
      "_model_name": "LayoutModel",
      "_view_count": null,
      "_view_module": "@jupyter-widgets/base",
      "_view_module_version": "1.2.0",
      "_view_name": "LayoutView",
      "align_content": null,
      "align_items": null,
      "align_self": null,
      "border": null,
      "bottom": null,
      "display": null,
      "flex": null,
      "flex_flow": null,
      "grid_area": null,
      "grid_auto_columns": null,
      "grid_auto_flow": null,
      "grid_auto_rows": null,
      "grid_column": null,
      "grid_gap": null,
      "grid_row": null,
      "grid_template_areas": null,
      "grid_template_columns": null,
      "grid_template_rows": null,
      "height": null,
      "justify_content": null,
      "justify_items": null,
      "left": null,
      "margin": null,
      "max_height": null,
      "max_width": null,
      "min_height": null,
      "min_width": null,
      "object_fit": null,
      "object_position": null,
      "order": null,
      "overflow": null,
      "overflow_x": null,
      "overflow_y": null,
      "padding": null,
      "right": null,
      "top": null,
      "visibility": null,
      "width": null
     }
    },
    "1d2e201ae4bf48609eb8f5e9af839468": {
     "model_module": "@jupyter-widgets/controls",
     "model_module_version": "1.5.0",
     "model_name": "HTMLModel",
     "state": {
      "_dom_classes": [],
      "_model_module": "@jupyter-widgets/controls",
      "_model_module_version": "1.5.0",
      "_model_name": "HTMLModel",
      "_view_count": null,
      "_view_module": "@jupyter-widgets/controls",
      "_view_module_version": "1.5.0",
      "_view_name": "HTMLView",
      "description": "",
      "description_tooltip": null,
      "layout": "IPY_MODEL_7d41af47fcf341a681c1e24fcf984111",
      "placeholder": "​",
      "style": "IPY_MODEL_300db5e38e0940af8cbdf9fcd868da74",
      "value": " 5/5 [00:09&lt;00:00,  5.40s/it]"
     }
    },
    "236b133c1e26455d9cabb0faf3d16a85": {
     "model_module": "@jupyter-widgets/base",
     "model_module_version": "1.2.0",
     "model_name": "LayoutModel",
     "state": {
      "_model_module": "@jupyter-widgets/base",
      "_model_module_version": "1.2.0",
      "_model_name": "LayoutModel",
      "_view_count": null,
      "_view_module": "@jupyter-widgets/base",
      "_view_module_version": "1.2.0",
      "_view_name": "LayoutView",
      "align_content": null,
      "align_items": null,
      "align_self": null,
      "border": null,
      "bottom": null,
      "display": null,
      "flex": null,
      "flex_flow": null,
      "grid_area": null,
      "grid_auto_columns": null,
      "grid_auto_flow": null,
      "grid_auto_rows": null,
      "grid_column": null,
      "grid_gap": null,
      "grid_row": null,
      "grid_template_areas": null,
      "grid_template_columns": null,
      "grid_template_rows": null,
      "height": null,
      "justify_content": null,
      "justify_items": null,
      "left": null,
      "margin": null,
      "max_height": null,
      "max_width": null,
      "min_height": null,
      "min_width": null,
      "object_fit": null,
      "object_position": null,
      "order": null,
      "overflow": null,
      "overflow_x": null,
      "overflow_y": null,
      "padding": null,
      "right": null,
      "top": null,
      "visibility": null,
      "width": null
     }
    },
    "24dff829c98a417a9a359de35faf06b7": {
     "model_module": "@jupyter-widgets/controls",
     "model_module_version": "1.5.0",
     "model_name": "DescriptionStyleModel",
     "state": {
      "_model_module": "@jupyter-widgets/controls",
      "_model_module_version": "1.5.0",
      "_model_name": "DescriptionStyleModel",
      "_view_count": null,
      "_view_module": "@jupyter-widgets/base",
      "_view_module_version": "1.2.0",
      "_view_name": "StyleView",
      "description_width": ""
     }
    },
    "28827cbbd66f4817b56b74b2db313708": {
     "model_module": "@jupyter-widgets/controls",
     "model_module_version": "1.5.0",
     "model_name": "ProgressStyleModel",
     "state": {
      "_model_module": "@jupyter-widgets/controls",
      "_model_module_version": "1.5.0",
      "_model_name": "ProgressStyleModel",
      "_view_count": null,
      "_view_module": "@jupyter-widgets/base",
      "_view_module_version": "1.2.0",
      "_view_name": "StyleView",
      "bar_color": null,
      "description_width": ""
     }
    },
    "2d33d2a0f13d45f580c85b5e5fa664da": {
     "model_module": "@jupyter-widgets/controls",
     "model_module_version": "1.5.0",
     "model_name": "HTMLModel",
     "state": {
      "_dom_classes": [],
      "_model_module": "@jupyter-widgets/controls",
      "_model_module_version": "1.5.0",
      "_model_name": "HTMLModel",
      "_view_count": null,
      "_view_module": "@jupyter-widgets/controls",
      "_view_module_version": "1.5.0",
      "_view_name": "HTMLView",
      "description": "",
      "description_tooltip": null,
      "layout": "IPY_MODEL_b7d40162de7d4b0c869b0f65a1fd45ce",
      "placeholder": "​",
      "style": "IPY_MODEL_fb9403f913034c98ac468dbfb77d27a6",
      "value": "special_tokens_map.json: 100%"
     }
    },
    "300db5e38e0940af8cbdf9fcd868da74": {
     "model_module": "@jupyter-widgets/controls",
     "model_module_version": "1.5.0",
     "model_name": "DescriptionStyleModel",
     "state": {
      "_model_module": "@jupyter-widgets/controls",
      "_model_module_version": "1.5.0",
      "_model_name": "DescriptionStyleModel",
      "_view_count": null,
      "_view_module": "@jupyter-widgets/base",
      "_view_module_version": "1.2.0",
      "_view_name": "StyleView",
      "description_width": ""
     }
    },
    "326b5526433d4902bd3d31ccd1b9c087": {
     "model_module": "@jupyter-widgets/controls",
     "model_module_version": "1.5.0",
     "model_name": "HBoxModel",
     "state": {
      "_dom_classes": [],
      "_model_module": "@jupyter-widgets/controls",
      "_model_module_version": "1.5.0",
      "_model_name": "HBoxModel",
      "_view_count": null,
      "_view_module": "@jupyter-widgets/controls",
      "_view_module_version": "1.5.0",
      "_view_name": "HBoxView",
      "box_style": "",
      "children": [
       "IPY_MODEL_057a4ed7f2da410988806acb4404fbc0",
       "IPY_MODEL_a9a7df757ae54f5492c12aacdc49e715",
       "IPY_MODEL_1d2e201ae4bf48609eb8f5e9af839468"
      ],
      "layout": "IPY_MODEL_d7f2c0ef555f4a56bd50c812e6051e32"
     }
    },
    "36cd36a4339940768716c3b3f352aeb8": {
     "model_module": "@jupyter-widgets/controls",
     "model_module_version": "1.5.0",
     "model_name": "HTMLModel",
     "state": {
      "_dom_classes": [],
      "_model_module": "@jupyter-widgets/controls",
      "_model_module_version": "1.5.0",
      "_model_name": "HTMLModel",
      "_view_count": null,
      "_view_module": "@jupyter-widgets/controls",
      "_view_module_version": "1.5.0",
      "_view_name": "HTMLView",
      "description": "",
      "description_tooltip": null,
      "layout": "IPY_MODEL_42896a2b6e06450390b5e05e7789a6ca",
      "placeholder": "​",
      "style": "IPY_MODEL_19788c55a5e64795a6927cf9d4b6f4ac",
      "value": " 695/695 [00:00&lt;00:00, 38.2kB/s]"
     }
    },
    "3994cadcf2494d3d95fb6417e21d0380": {
     "model_module": "@jupyter-widgets/controls",
     "model_module_version": "1.5.0",
     "model_name": "HBoxModel",
     "state": {
      "_dom_classes": [],
      "_model_module": "@jupyter-widgets/controls",
      "_model_module_version": "1.5.0",
      "_model_name": "HBoxModel",
      "_view_count": null,
      "_view_module": "@jupyter-widgets/controls",
      "_view_module_version": "1.5.0",
      "_view_name": "HBoxView",
      "box_style": "",
      "children": [
       "IPY_MODEL_2d33d2a0f13d45f580c85b5e5fa664da",
       "IPY_MODEL_43407fc260194c718d2cf686bdbf1494",
       "IPY_MODEL_36cd36a4339940768716c3b3f352aeb8"
      ],
      "layout": "IPY_MODEL_3f67ba8b6eff453e87b8536d696eb3ae"
     }
    },
    "3f67ba8b6eff453e87b8536d696eb3ae": {
     "model_module": "@jupyter-widgets/base",
     "model_module_version": "1.2.0",
     "model_name": "LayoutModel",
     "state": {
      "_model_module": "@jupyter-widgets/base",
      "_model_module_version": "1.2.0",
      "_model_name": "LayoutModel",
      "_view_count": null,
      "_view_module": "@jupyter-widgets/base",
      "_view_module_version": "1.2.0",
      "_view_name": "LayoutView",
      "align_content": null,
      "align_items": null,
      "align_self": null,
      "border": null,
      "bottom": null,
      "display": null,
      "flex": null,
      "flex_flow": null,
      "grid_area": null,
      "grid_auto_columns": null,
      "grid_auto_flow": null,
      "grid_auto_rows": null,
      "grid_column": null,
      "grid_gap": null,
      "grid_row": null,
      "grid_template_areas": null,
      "grid_template_columns": null,
      "grid_template_rows": null,
      "height": null,
      "justify_content": null,
      "justify_items": null,
      "left": null,
      "margin": null,
      "max_height": null,
      "max_width": null,
      "min_height": null,
      "min_width": null,
      "object_fit": null,
      "object_position": null,
      "order": null,
      "overflow": null,
      "overflow_x": null,
      "overflow_y": null,
      "padding": null,
      "right": null,
      "top": null,
      "visibility": null,
      "width": null
     }
    },
    "42896a2b6e06450390b5e05e7789a6ca": {
     "model_module": "@jupyter-widgets/base",
     "model_module_version": "1.2.0",
     "model_name": "LayoutModel",
     "state": {
      "_model_module": "@jupyter-widgets/base",
      "_model_module_version": "1.2.0",
      "_model_name": "LayoutModel",
      "_view_count": null,
      "_view_module": "@jupyter-widgets/base",
      "_view_module_version": "1.2.0",
      "_view_name": "LayoutView",
      "align_content": null,
      "align_items": null,
      "align_self": null,
      "border": null,
      "bottom": null,
      "display": null,
      "flex": null,
      "flex_flow": null,
      "grid_area": null,
      "grid_auto_columns": null,
      "grid_auto_flow": null,
      "grid_auto_rows": null,
      "grid_column": null,
      "grid_gap": null,
      "grid_row": null,
      "grid_template_areas": null,
      "grid_template_columns": null,
      "grid_template_rows": null,
      "height": null,
      "justify_content": null,
      "justify_items": null,
      "left": null,
      "margin": null,
      "max_height": null,
      "max_width": null,
      "min_height": null,
      "min_width": null,
      "object_fit": null,
      "object_position": null,
      "order": null,
      "overflow": null,
      "overflow_x": null,
      "overflow_y": null,
      "padding": null,
      "right": null,
      "top": null,
      "visibility": null,
      "width": null
     }
    },
    "42c6d28bbe7b46998818804054f75b38": {
     "model_module": "@jupyter-widgets/base",
     "model_module_version": "1.2.0",
     "model_name": "LayoutModel",
     "state": {
      "_model_module": "@jupyter-widgets/base",
      "_model_module_version": "1.2.0",
      "_model_name": "LayoutModel",
      "_view_count": null,
      "_view_module": "@jupyter-widgets/base",
      "_view_module_version": "1.2.0",
      "_view_name": "LayoutView",
      "align_content": null,
      "align_items": null,
      "align_self": null,
      "border": null,
      "bottom": null,
      "display": null,
      "flex": null,
      "flex_flow": null,
      "grid_area": null,
      "grid_auto_columns": null,
      "grid_auto_flow": null,
      "grid_auto_rows": null,
      "grid_column": null,
      "grid_gap": null,
      "grid_row": null,
      "grid_template_areas": null,
      "grid_template_columns": null,
      "grid_template_rows": null,
      "height": null,
      "justify_content": null,
      "justify_items": null,
      "left": null,
      "margin": null,
      "max_height": null,
      "max_width": null,
      "min_height": null,
      "min_width": null,
      "object_fit": null,
      "object_position": null,
      "order": null,
      "overflow": null,
      "overflow_x": null,
      "overflow_y": null,
      "padding": null,
      "right": null,
      "top": null,
      "visibility": null,
      "width": null
     }
    },
    "43407fc260194c718d2cf686bdbf1494": {
     "model_module": "@jupyter-widgets/controls",
     "model_module_version": "1.5.0",
     "model_name": "FloatProgressModel",
     "state": {
      "_dom_classes": [],
      "_model_module": "@jupyter-widgets/controls",
      "_model_module_version": "1.5.0",
      "_model_name": "FloatProgressModel",
      "_view_count": null,
      "_view_module": "@jupyter-widgets/controls",
      "_view_module_version": "1.5.0",
      "_view_name": "ProgressView",
      "bar_style": "success",
      "description": "",
      "description_tooltip": null,
      "layout": "IPY_MODEL_15ea0e8ed9764d968e54096f971a567a",
      "max": 695,
      "min": 0,
      "orientation": "horizontal",
      "style": "IPY_MODEL_feba3c7e8f8547bc982372c2e4dc116a",
      "value": 695
     }
    },
    "43cc70af330a43948e92d8973381d00e": {
     "model_module": "@jupyter-widgets/controls",
     "model_module_version": "1.5.0",
     "model_name": "FloatProgressModel",
     "state": {
      "_dom_classes": [],
      "_model_module": "@jupyter-widgets/controls",
      "_model_module_version": "1.5.0",
      "_model_name": "FloatProgressModel",
      "_view_count": null,
      "_view_module": "@jupyter-widgets/controls",
      "_view_module_version": "1.5.0",
      "_view_name": "ProgressView",
      "bar_style": "success",
      "description": "",
      "description_tooltip": null,
      "layout": "IPY_MODEL_93a939cce2b646e68e8e9e23b7090052",
      "max": 217824172,
      "min": 0,
      "orientation": "horizontal",
      "style": "IPY_MODEL_a0a9590fd48341fe9abe54acb6d0f0b3",
      "value": 217824172
     }
    },
    "48a120680f1d4eca99fa3ba847c8ae06": {
     "model_module": "@jupyter-widgets/controls",
     "model_module_version": "1.5.0",
     "model_name": "ProgressStyleModel",
     "state": {
      "_model_module": "@jupyter-widgets/controls",
      "_model_module_version": "1.5.0",
      "_model_name": "ProgressStyleModel",
      "_view_count": null,
      "_view_module": "@jupyter-widgets/base",
      "_view_module_version": "1.2.0",
      "_view_name": "StyleView",
      "bar_color": null,
      "description_width": ""
     }
    },
    "4a7ca1cf8a554d9fa550b60eed1ffac2": {
     "model_module": "@jupyter-widgets/base",
     "model_module_version": "1.2.0",
     "model_name": "LayoutModel",
     "state": {
      "_model_module": "@jupyter-widgets/base",
      "_model_module_version": "1.2.0",
      "_model_name": "LayoutModel",
      "_view_count": null,
      "_view_module": "@jupyter-widgets/base",
      "_view_module_version": "1.2.0",
      "_view_name": "LayoutView",
      "align_content": null,
      "align_items": null,
      "align_self": null,
      "border": null,
      "bottom": null,
      "display": null,
      "flex": null,
      "flex_flow": null,
      "grid_area": null,
      "grid_auto_columns": null,
      "grid_auto_flow": null,
      "grid_auto_rows": null,
      "grid_column": null,
      "grid_gap": null,
      "grid_row": null,
      "grid_template_areas": null,
      "grid_template_columns": null,
      "grid_template_rows": null,
      "height": null,
      "justify_content": null,
      "justify_items": null,
      "left": null,
      "margin": null,
      "max_height": null,
      "max_width": null,
      "min_height": null,
      "min_width": null,
      "object_fit": null,
      "object_position": null,
      "order": null,
      "overflow": null,
      "overflow_x": null,
      "overflow_y": null,
      "padding": null,
      "right": null,
      "top": null,
      "visibility": null,
      "width": null
     }
    },
    "4a85338d03d44a9f8b95102274eb9a11": {
     "model_module": "@jupyter-widgets/controls",
     "model_module_version": "1.5.0",
     "model_name": "FloatProgressModel",
     "state": {
      "_dom_classes": [],
      "_model_module": "@jupyter-widgets/controls",
      "_model_module_version": "1.5.0",
      "_model_name": "FloatProgressModel",
      "_view_count": null,
      "_view_module": "@jupyter-widgets/controls",
      "_view_module_version": "1.5.0",
      "_view_name": "ProgressView",
      "bar_style": "success",
      "description": "",
      "description_tooltip": null,
      "layout": "IPY_MODEL_952bc4fd749f4768ab1b23e9c5a94c6e",
      "max": 711396,
      "min": 0,
      "orientation": "horizontal",
      "style": "IPY_MODEL_00cffb0e4cf24ffb890a307e57afdd85",
      "value": 711396
     }
    },
    "5208f439666a479aa5dda68c1c2374ca": {
     "model_module": "@jupyter-widgets/controls",
     "model_module_version": "1.5.0",
     "model_name": "HBoxModel",
     "state": {
      "_dom_classes": [],
      "_model_module": "@jupyter-widgets/controls",
      "_model_module_version": "1.5.0",
      "_model_name": "HBoxModel",
      "_view_count": null,
      "_view_module": "@jupyter-widgets/controls",
      "_view_module_version": "1.5.0",
      "_view_name": "HBoxView",
      "box_style": "",
      "children": [
       "IPY_MODEL_fbe34b7fe413413a83fed0c70d5ae261",
       "IPY_MODEL_43cc70af330a43948e92d8973381d00e",
       "IPY_MODEL_568fe50cb9974195b9a74e2a748f85e1"
      ],
      "layout": "IPY_MODEL_b1ca5ca48caf48d7b74604c3397db1fc"
     }
    },
    "5403d252723849aabcbf9d66e9d5f75d": {
     "model_module": "@jupyter-widgets/controls",
     "model_module_version": "1.5.0",
     "model_name": "HBoxModel",
     "state": {
      "_dom_classes": [],
      "_model_module": "@jupyter-widgets/controls",
      "_model_module_version": "1.5.0",
      "_model_name": "HBoxModel",
      "_view_count": null,
      "_view_module": "@jupyter-widgets/controls",
      "_view_module_version": "1.5.0",
      "_view_name": "HBoxView",
      "box_style": "",
      "children": [
       "IPY_MODEL_f78c8dfb0b644104ad836638552499a1",
       "IPY_MODEL_4a85338d03d44a9f8b95102274eb9a11",
       "IPY_MODEL_89310cc9df9e4e918455662ba3baf71e"
      ],
      "layout": "IPY_MODEL_dec4da4eec5e46e7b0ef4351403e9700"
     }
    },
    "54c5e8fe845f48d592af8ccb933cf636": {
     "model_module": "@jupyter-widgets/controls",
     "model_module_version": "1.5.0",
     "model_name": "FloatProgressModel",
     "state": {
      "_dom_classes": [],
      "_model_module": "@jupyter-widgets/controls",
      "_model_module_version": "1.5.0",
      "_model_name": "FloatProgressModel",
      "_view_count": null,
      "_view_module": "@jupyter-widgets/controls",
      "_view_module_version": "1.5.0",
      "_view_name": "ProgressView",
      "bar_style": "success",
      "description": "",
      "description_tooltip": null,
      "layout": "IPY_MODEL_1516e853177a447d8071bd6e6a4fb62f",
      "max": 740,
      "min": 0,
      "orientation": "horizontal",
      "style": "IPY_MODEL_28827cbbd66f4817b56b74b2db313708",
      "value": 740
     }
    },
    "56377b1831af409f806260753da88997": {
     "model_module": "@jupyter-widgets/controls",
     "model_module_version": "1.5.0",
     "model_name": "HTMLModel",
     "state": {
      "_dom_classes": [],
      "_model_module": "@jupyter-widgets/controls",
      "_model_module_version": "1.5.0",
      "_model_name": "HTMLModel",
      "_view_count": null,
      "_view_module": "@jupyter-widgets/controls",
      "_view_module_version": "1.5.0",
      "_view_name": "HTMLView",
      "description": "",
      "description_tooltip": null,
      "layout": "IPY_MODEL_d8237c47189942439c15435478885701",
      "placeholder": "​",
      "style": "IPY_MODEL_142c7570473642e4a7eac37291f76003",
      "value": " 740/740 [00:00&lt;00:00, 33.5kB/s]"
     }
    },
    "568fe50cb9974195b9a74e2a748f85e1": {
     "model_module": "@jupyter-widgets/controls",
     "model_module_version": "1.5.0",
     "model_name": "HTMLModel",
     "state": {
      "_dom_classes": [],
      "_model_module": "@jupyter-widgets/controls",
      "_model_module_version": "1.5.0",
      "_model_name": "HTMLModel",
      "_view_count": null,
      "_view_module": "@jupyter-widgets/controls",
      "_view_module_version": "1.5.0",
      "_view_name": "HTMLView",
      "description": "",
      "description_tooltip": null,
      "layout": "IPY_MODEL_236b133c1e26455d9cabb0faf3d16a85",
      "placeholder": "​",
      "style": "IPY_MODEL_16ebf2335b194aa0adaab7432d2caa89",
      "value": " 218M/218M [00:08&lt;00:00, 25.0MB/s]"
     }
    },
    "5d0caac313b94e1489edd233fbb2754a": {
     "model_module": "@jupyter-widgets/controls",
     "model_module_version": "1.5.0",
     "model_name": "HTMLModel",
     "state": {
      "_dom_classes": [],
      "_model_module": "@jupyter-widgets/controls",
      "_model_module_version": "1.5.0",
      "_model_name": "HTMLModel",
      "_view_count": null,
      "_view_module": "@jupyter-widgets/controls",
      "_view_module_version": "1.5.0",
      "_view_name": "HTMLView",
      "description": "",
      "description_tooltip": null,
      "layout": "IPY_MODEL_4a7ca1cf8a554d9fa550b60eed1ffac2",
      "placeholder": "​",
      "style": "IPY_MODEL_24dff829c98a417a9a359de35faf06b7",
      "value": " 1.24k/1.24k [00:00&lt;00:00, 76.3kB/s]"
     }
    },
    "60bfdc366ca64618b36a0f49ba6dc0d8": {
     "model_module": "@jupyter-widgets/base",
     "model_module_version": "1.2.0",
     "model_name": "LayoutModel",
     "state": {
      "_model_module": "@jupyter-widgets/base",
      "_model_module_version": "1.2.0",
      "_model_name": "LayoutModel",
      "_view_count": null,
      "_view_module": "@jupyter-widgets/base",
      "_view_module_version": "1.2.0",
      "_view_name": "LayoutView",
      "align_content": null,
      "align_items": null,
      "align_self": null,
      "border": null,
      "bottom": null,
      "display": null,
      "flex": null,
      "flex_flow": null,
      "grid_area": null,
      "grid_auto_columns": null,
      "grid_auto_flow": null,
      "grid_auto_rows": null,
      "grid_column": null,
      "grid_gap": null,
      "grid_row": null,
      "grid_template_areas": null,
      "grid_template_columns": null,
      "grid_template_rows": null,
      "height": null,
      "justify_content": null,
      "justify_items": null,
      "left": null,
      "margin": null,
      "max_height": null,
      "max_width": null,
      "min_height": null,
      "min_width": null,
      "object_fit": null,
      "object_position": null,
      "order": null,
      "overflow": null,
      "overflow_x": null,
      "overflow_y": null,
      "padding": null,
      "right": null,
      "top": null,
      "visibility": null,
      "width": null
     }
    },
    "66009c1ca2e5467582bf46da04b9c397": {
     "model_module": "@jupyter-widgets/controls",
     "model_module_version": "1.5.0",
     "model_name": "ProgressStyleModel",
     "state": {
      "_model_module": "@jupyter-widgets/controls",
      "_model_module_version": "1.5.0",
      "_model_name": "ProgressStyleModel",
      "_view_count": null,
      "_view_module": "@jupyter-widgets/base",
      "_view_module_version": "1.2.0",
      "_view_name": "StyleView",
      "bar_color": null,
      "description_width": ""
     }
    },
    "6b140bab80eb43d39e6f44d886bffd83": {
     "model_module": "@jupyter-widgets/controls",
     "model_module_version": "1.5.0",
     "model_name": "HBoxModel",
     "state": {
      "_dom_classes": [],
      "_model_module": "@jupyter-widgets/controls",
      "_model_module_version": "1.5.0",
      "_model_name": "HBoxModel",
      "_view_count": null,
      "_view_module": "@jupyter-widgets/controls",
      "_view_module_version": "1.5.0",
      "_view_name": "HBoxView",
      "box_style": "",
      "children": [
       "IPY_MODEL_77d9f31089994b2e855a2b9e17fce3ae",
       "IPY_MODEL_54c5e8fe845f48d592af8ccb933cf636",
       "IPY_MODEL_56377b1831af409f806260753da88997"
      ],
      "layout": "IPY_MODEL_197bb8499a894947ba515f2e33a082ec"
     }
    },
    "733c45e6efa144d5b01558e24d3646b7": {
     "model_module": "@jupyter-widgets/controls",
     "model_module_version": "1.5.0",
     "model_name": "DescriptionStyleModel",
     "state": {
      "_model_module": "@jupyter-widgets/controls",
      "_model_module_version": "1.5.0",
      "_model_name": "DescriptionStyleModel",
      "_view_count": null,
      "_view_module": "@jupyter-widgets/base",
      "_view_module_version": "1.2.0",
      "_view_name": "StyleView",
      "description_width": ""
     }
    },
    "741312b1ca424c0c8ac84747db6d7e2d": {
     "model_module": "@jupyter-widgets/base",
     "model_module_version": "1.2.0",
     "model_name": "LayoutModel",
     "state": {
      "_model_module": "@jupyter-widgets/base",
      "_model_module_version": "1.2.0",
      "_model_name": "LayoutModel",
      "_view_count": null,
      "_view_module": "@jupyter-widgets/base",
      "_view_module_version": "1.2.0",
      "_view_name": "LayoutView",
      "align_content": null,
      "align_items": null,
      "align_self": null,
      "border": null,
      "bottom": null,
      "display": null,
      "flex": null,
      "flex_flow": null,
      "grid_area": null,
      "grid_auto_columns": null,
      "grid_auto_flow": null,
      "grid_auto_rows": null,
      "grid_column": null,
      "grid_gap": null,
      "grid_row": null,
      "grid_template_areas": null,
      "grid_template_columns": null,
      "grid_template_rows": null,
      "height": null,
      "justify_content": null,
      "justify_items": null,
      "left": null,
      "margin": null,
      "max_height": null,
      "max_width": null,
      "min_height": null,
      "min_width": null,
      "object_fit": null,
      "object_position": null,
      "order": null,
      "overflow": null,
      "overflow_x": null,
      "overflow_y": null,
      "padding": null,
      "right": null,
      "top": null,
      "visibility": null,
      "width": null
     }
    },
    "755acb2571f549ce8e23847ac7fd1e2e": {
     "model_module": "@jupyter-widgets/controls",
     "model_module_version": "1.5.0",
     "model_name": "HBoxModel",
     "state": {
      "_dom_classes": [],
      "_model_module": "@jupyter-widgets/controls",
      "_model_module_version": "1.5.0",
      "_model_name": "HBoxModel",
      "_view_count": null,
      "_view_module": "@jupyter-widgets/controls",
      "_view_module_version": "1.5.0",
      "_view_name": "HBoxView",
      "box_style": "",
      "children": [
       "IPY_MODEL_f129cffe41014170a28a918acb65f7bf",
       "IPY_MODEL_9d5c45a0a7504aae9e701386364c3d2d",
       "IPY_MODEL_5d0caac313b94e1489edd233fbb2754a"
      ],
      "layout": "IPY_MODEL_bc42ae1b7c8542a0b546ddda51a5b6d5"
     }
    },
    "762a1751bfa64291aa34636b3443d2e7": {
     "model_module": "@jupyter-widgets/base",
     "model_module_version": "1.2.0",
     "model_name": "LayoutModel",
     "state": {
      "_model_module": "@jupyter-widgets/base",
      "_model_module_version": "1.2.0",
      "_model_name": "LayoutModel",
      "_view_count": null,
      "_view_module": "@jupyter-widgets/base",
      "_view_module_version": "1.2.0",
      "_view_name": "LayoutView",
      "align_content": null,
      "align_items": null,
      "align_self": null,
      "border": null,
      "bottom": null,
      "display": null,
      "flex": null,
      "flex_flow": null,
      "grid_area": null,
      "grid_auto_columns": null,
      "grid_auto_flow": null,
      "grid_auto_rows": null,
      "grid_column": null,
      "grid_gap": null,
      "grid_row": null,
      "grid_template_areas": null,
      "grid_template_columns": null,
      "grid_template_rows": null,
      "height": null,
      "justify_content": null,
      "justify_items": null,
      "left": null,
      "margin": null,
      "max_height": null,
      "max_width": null,
      "min_height": null,
      "min_width": null,
      "object_fit": null,
      "object_position": null,
      "order": null,
      "overflow": null,
      "overflow_x": null,
      "overflow_y": null,
      "padding": null,
      "right": null,
      "top": null,
      "visibility": null,
      "width": null
     }
    },
    "77d9f31089994b2e855a2b9e17fce3ae": {
     "model_module": "@jupyter-widgets/controls",
     "model_module_version": "1.5.0",
     "model_name": "HTMLModel",
     "state": {
      "_dom_classes": [],
      "_model_module": "@jupyter-widgets/controls",
      "_model_module_version": "1.5.0",
      "_model_name": "HTMLModel",
      "_view_count": null,
      "_view_module": "@jupyter-widgets/controls",
      "_view_module_version": "1.5.0",
      "_view_name": "HTMLView",
      "description": "",
      "description_tooltip": null,
      "layout": "IPY_MODEL_b1a3806658d7415c9c854f10ca6c6106",
      "placeholder": "​",
      "style": "IPY_MODEL_e84c938c3c93479ea7dbb5c0e62e2ddc",
      "value": "config.json: 100%"
     }
    },
    "7d41af47fcf341a681c1e24fcf984111": {
     "model_module": "@jupyter-widgets/base",
     "model_module_version": "1.2.0",
     "model_name": "LayoutModel",
     "state": {
      "_model_module": "@jupyter-widgets/base",
      "_model_module_version": "1.2.0",
      "_model_name": "LayoutModel",
      "_view_count": null,
      "_view_module": "@jupyter-widgets/base",
      "_view_module_version": "1.2.0",
      "_view_name": "LayoutView",
      "align_content": null,
      "align_items": null,
      "align_self": null,
      "border": null,
      "bottom": null,
      "display": null,
      "flex": null,
      "flex_flow": null,
      "grid_area": null,
      "grid_auto_columns": null,
      "grid_auto_flow": null,
      "grid_auto_rows": null,
      "grid_column": null,
      "grid_gap": null,
      "grid_row": null,
      "grid_template_areas": null,
      "grid_template_columns": null,
      "grid_template_rows": null,
      "height": null,
      "justify_content": null,
      "justify_items": null,
      "left": null,
      "margin": null,
      "max_height": null,
      "max_width": null,
      "min_height": null,
      "min_width": null,
      "object_fit": null,
      "object_position": null,
      "order": null,
      "overflow": null,
      "overflow_x": null,
      "overflow_y": null,
      "padding": null,
      "right": null,
      "top": null,
      "visibility": null,
      "width": null
     }
    },
    "89310cc9df9e4e918455662ba3baf71e": {
     "model_module": "@jupyter-widgets/controls",
     "model_module_version": "1.5.0",
     "model_name": "HTMLModel",
     "state": {
      "_dom_classes": [],
      "_model_module": "@jupyter-widgets/controls",
      "_model_module_version": "1.5.0",
      "_model_name": "HTMLModel",
      "_view_count": null,
      "_view_module": "@jupyter-widgets/controls",
      "_view_module_version": "1.5.0",
      "_view_name": "HTMLView",
      "description": "",
      "description_tooltip": null,
      "layout": "IPY_MODEL_bff286ecc8434596a52b74bd0d71cddc",
      "placeholder": "​",
      "style": "IPY_MODEL_733c45e6efa144d5b01558e24d3646b7",
      "value": " 711k/711k [00:00&lt;00:00, 897kB/s]"
     }
    },
    "93a939cce2b646e68e8e9e23b7090052": {
     "model_module": "@jupyter-widgets/base",
     "model_module_version": "1.2.0",
     "model_name": "LayoutModel",
     "state": {
      "_model_module": "@jupyter-widgets/base",
      "_model_module_version": "1.2.0",
      "_model_name": "LayoutModel",
      "_view_count": null,
      "_view_module": "@jupyter-widgets/base",
      "_view_module_version": "1.2.0",
      "_view_name": "LayoutView",
      "align_content": null,
      "align_items": null,
      "align_self": null,
      "border": null,
      "bottom": null,
      "display": null,
      "flex": null,
      "flex_flow": null,
      "grid_area": null,
      "grid_auto_columns": null,
      "grid_auto_flow": null,
      "grid_auto_rows": null,
      "grid_column": null,
      "grid_gap": null,
      "grid_row": null,
      "grid_template_areas": null,
      "grid_template_columns": null,
      "grid_template_rows": null,
      "height": null,
      "justify_content": null,
      "justify_items": null,
      "left": null,
      "margin": null,
      "max_height": null,
      "max_width": null,
      "min_height": null,
      "min_width": null,
      "object_fit": null,
      "object_position": null,
      "order": null,
      "overflow": null,
      "overflow_x": null,
      "overflow_y": null,
      "padding": null,
      "right": null,
      "top": null,
      "visibility": null,
      "width": null
     }
    },
    "952bc4fd749f4768ab1b23e9c5a94c6e": {
     "model_module": "@jupyter-widgets/base",
     "model_module_version": "1.2.0",
     "model_name": "LayoutModel",
     "state": {
      "_model_module": "@jupyter-widgets/base",
      "_model_module_version": "1.2.0",
      "_model_name": "LayoutModel",
      "_view_count": null,
      "_view_module": "@jupyter-widgets/base",
      "_view_module_version": "1.2.0",
      "_view_name": "LayoutView",
      "align_content": null,
      "align_items": null,
      "align_self": null,
      "border": null,
      "bottom": null,
      "display": null,
      "flex": null,
      "flex_flow": null,
      "grid_area": null,
      "grid_auto_columns": null,
      "grid_auto_flow": null,
      "grid_auto_rows": null,
      "grid_column": null,
      "grid_gap": null,
      "grid_row": null,
      "grid_template_areas": null,
      "grid_template_columns": null,
      "grid_template_rows": null,
      "height": null,
      "justify_content": null,
      "justify_items": null,
      "left": null,
      "margin": null,
      "max_height": null,
      "max_width": null,
      "min_height": null,
      "min_width": null,
      "object_fit": null,
      "object_position": null,
      "order": null,
      "overflow": null,
      "overflow_x": null,
      "overflow_y": null,
      "padding": null,
      "right": null,
      "top": null,
      "visibility": null,
      "width": null
     }
    },
    "9b12eb438ecb44a796544870d647e22b": {
     "model_module": "@jupyter-widgets/controls",
     "model_module_version": "1.5.0",
     "model_name": "DescriptionStyleModel",
     "state": {
      "_model_module": "@jupyter-widgets/controls",
      "_model_module_version": "1.5.0",
      "_model_name": "DescriptionStyleModel",
      "_view_count": null,
      "_view_module": "@jupyter-widgets/base",
      "_view_module_version": "1.2.0",
      "_view_name": "StyleView",
      "description_width": ""
     }
    },
    "9d5c45a0a7504aae9e701386364c3d2d": {
     "model_module": "@jupyter-widgets/controls",
     "model_module_version": "1.5.0",
     "model_name": "FloatProgressModel",
     "state": {
      "_dom_classes": [],
      "_model_module": "@jupyter-widgets/controls",
      "_model_module_version": "1.5.0",
      "_model_name": "FloatProgressModel",
      "_view_count": null,
      "_view_module": "@jupyter-widgets/controls",
      "_view_module_version": "1.5.0",
      "_view_name": "ProgressView",
      "bar_style": "success",
      "description": "",
      "description_tooltip": null,
      "layout": "IPY_MODEL_60bfdc366ca64618b36a0f49ba6dc0d8",
      "max": 1242,
      "min": 0,
      "orientation": "horizontal",
      "style": "IPY_MODEL_48a120680f1d4eca99fa3ba847c8ae06",
      "value": 1242
     }
    },
    "a0a9590fd48341fe9abe54acb6d0f0b3": {
     "model_module": "@jupyter-widgets/controls",
     "model_module_version": "1.5.0",
     "model_name": "ProgressStyleModel",
     "state": {
      "_model_module": "@jupyter-widgets/controls",
      "_model_module_version": "1.5.0",
      "_model_name": "ProgressStyleModel",
      "_view_count": null,
      "_view_module": "@jupyter-widgets/base",
      "_view_module_version": "1.2.0",
      "_view_name": "StyleView",
      "bar_color": null,
      "description_width": ""
     }
    },
    "a9a7df757ae54f5492c12aacdc49e715": {
     "model_module": "@jupyter-widgets/controls",
     "model_module_version": "1.5.0",
     "model_name": "FloatProgressModel",
     "state": {
      "_dom_classes": [],
      "_model_module": "@jupyter-widgets/controls",
      "_model_module_version": "1.5.0",
      "_model_name": "FloatProgressModel",
      "_view_count": null,
      "_view_module": "@jupyter-widgets/controls",
      "_view_module_version": "1.5.0",
      "_view_name": "ProgressView",
      "bar_style": "success",
      "description": "",
      "description_tooltip": null,
      "layout": "IPY_MODEL_762a1751bfa64291aa34636b3443d2e7",
      "max": 5,
      "min": 0,
      "orientation": "horizontal",
      "style": "IPY_MODEL_66009c1ca2e5467582bf46da04b9c397",
      "value": 5
     }
    },
    "b1a3806658d7415c9c854f10ca6c6106": {
     "model_module": "@jupyter-widgets/base",
     "model_module_version": "1.2.0",
     "model_name": "LayoutModel",
     "state": {
      "_model_module": "@jupyter-widgets/base",
      "_model_module_version": "1.2.0",
      "_model_name": "LayoutModel",
      "_view_count": null,
      "_view_module": "@jupyter-widgets/base",
      "_view_module_version": "1.2.0",
      "_view_name": "LayoutView",
      "align_content": null,
      "align_items": null,
      "align_self": null,
      "border": null,
      "bottom": null,
      "display": null,
      "flex": null,
      "flex_flow": null,
      "grid_area": null,
      "grid_auto_columns": null,
      "grid_auto_flow": null,
      "grid_auto_rows": null,
      "grid_column": null,
      "grid_gap": null,
      "grid_row": null,
      "grid_template_areas": null,
      "grid_template_columns": null,
      "grid_template_rows": null,
      "height": null,
      "justify_content": null,
      "justify_items": null,
      "left": null,
      "margin": null,
      "max_height": null,
      "max_width": null,
      "min_height": null,
      "min_width": null,
      "object_fit": null,
      "object_position": null,
      "order": null,
      "overflow": null,
      "overflow_x": null,
      "overflow_y": null,
      "padding": null,
      "right": null,
      "top": null,
      "visibility": null,
      "width": null
     }
    },
    "b1ca5ca48caf48d7b74604c3397db1fc": {
     "model_module": "@jupyter-widgets/base",
     "model_module_version": "1.2.0",
     "model_name": "LayoutModel",
     "state": {
      "_model_module": "@jupyter-widgets/base",
      "_model_module_version": "1.2.0",
      "_model_name": "LayoutModel",
      "_view_count": null,
      "_view_module": "@jupyter-widgets/base",
      "_view_module_version": "1.2.0",
      "_view_name": "LayoutView",
      "align_content": null,
      "align_items": null,
      "align_self": null,
      "border": null,
      "bottom": null,
      "display": null,
      "flex": null,
      "flex_flow": null,
      "grid_area": null,
      "grid_auto_columns": null,
      "grid_auto_flow": null,
      "grid_auto_rows": null,
      "grid_column": null,
      "grid_gap": null,
      "grid_row": null,
      "grid_template_areas": null,
      "grid_template_columns": null,
      "grid_template_rows": null,
      "height": null,
      "justify_content": null,
      "justify_items": null,
      "left": null,
      "margin": null,
      "max_height": null,
      "max_width": null,
      "min_height": null,
      "min_width": null,
      "object_fit": null,
      "object_position": null,
      "order": null,
      "overflow": null,
      "overflow_x": null,
      "overflow_y": null,
      "padding": null,
      "right": null,
      "top": null,
      "visibility": null,
      "width": null
     }
    },
    "b7d40162de7d4b0c869b0f65a1fd45ce": {
     "model_module": "@jupyter-widgets/base",
     "model_module_version": "1.2.0",
     "model_name": "LayoutModel",
     "state": {
      "_model_module": "@jupyter-widgets/base",
      "_model_module_version": "1.2.0",
      "_model_name": "LayoutModel",
      "_view_count": null,
      "_view_module": "@jupyter-widgets/base",
      "_view_module_version": "1.2.0",
      "_view_name": "LayoutView",
      "align_content": null,
      "align_items": null,
      "align_self": null,
      "border": null,
      "bottom": null,
      "display": null,
      "flex": null,
      "flex_flow": null,
      "grid_area": null,
      "grid_auto_columns": null,
      "grid_auto_flow": null,
      "grid_auto_rows": null,
      "grid_column": null,
      "grid_gap": null,
      "grid_row": null,
      "grid_template_areas": null,
      "grid_template_columns": null,
      "grid_template_rows": null,
      "height": null,
      "justify_content": null,
      "justify_items": null,
      "left": null,
      "margin": null,
      "max_height": null,
      "max_width": null,
      "min_height": null,
      "min_width": null,
      "object_fit": null,
      "object_position": null,
      "order": null,
      "overflow": null,
      "overflow_x": null,
      "overflow_y": null,
      "padding": null,
      "right": null,
      "top": null,
      "visibility": null,
      "width": null
     }
    },
    "ba8775e7832d4cf89e1a3ba1e9e352a7": {
     "model_module": "@jupyter-widgets/base",
     "model_module_version": "1.2.0",
     "model_name": "LayoutModel",
     "state": {
      "_model_module": "@jupyter-widgets/base",
      "_model_module_version": "1.2.0",
      "_model_name": "LayoutModel",
      "_view_count": null,
      "_view_module": "@jupyter-widgets/base",
      "_view_module_version": "1.2.0",
      "_view_name": "LayoutView",
      "align_content": null,
      "align_items": null,
      "align_self": null,
      "border": null,
      "bottom": null,
      "display": null,
      "flex": null,
      "flex_flow": null,
      "grid_area": null,
      "grid_auto_columns": null,
      "grid_auto_flow": null,
      "grid_auto_rows": null,
      "grid_column": null,
      "grid_gap": null,
      "grid_row": null,
      "grid_template_areas": null,
      "grid_template_columns": null,
      "grid_template_rows": null,
      "height": null,
      "justify_content": null,
      "justify_items": null,
      "left": null,
      "margin": null,
      "max_height": null,
      "max_width": null,
      "min_height": null,
      "min_width": null,
      "object_fit": null,
      "object_position": null,
      "order": null,
      "overflow": null,
      "overflow_x": null,
      "overflow_y": null,
      "padding": null,
      "right": null,
      "top": null,
      "visibility": null,
      "width": null
     }
    },
    "bc42ae1b7c8542a0b546ddda51a5b6d5": {
     "model_module": "@jupyter-widgets/base",
     "model_module_version": "1.2.0",
     "model_name": "LayoutModel",
     "state": {
      "_model_module": "@jupyter-widgets/base",
      "_model_module_version": "1.2.0",
      "_model_name": "LayoutModel",
      "_view_count": null,
      "_view_module": "@jupyter-widgets/base",
      "_view_module_version": "1.2.0",
      "_view_name": "LayoutView",
      "align_content": null,
      "align_items": null,
      "align_self": null,
      "border": null,
      "bottom": null,
      "display": null,
      "flex": null,
      "flex_flow": null,
      "grid_area": null,
      "grid_auto_columns": null,
      "grid_auto_flow": null,
      "grid_auto_rows": null,
      "grid_column": null,
      "grid_gap": null,
      "grid_row": null,
      "grid_template_areas": null,
      "grid_template_columns": null,
      "grid_template_rows": null,
      "height": null,
      "justify_content": null,
      "justify_items": null,
      "left": null,
      "margin": null,
      "max_height": null,
      "max_width": null,
      "min_height": null,
      "min_width": null,
      "object_fit": null,
      "object_position": null,
      "order": null,
      "overflow": null,
      "overflow_x": null,
      "overflow_y": null,
      "padding": null,
      "right": null,
      "top": null,
      "visibility": null,
      "width": null
     }
    },
    "bc8aa6f790ef48fcbcad2ef9d1544db4": {
     "model_module": "@jupyter-widgets/base",
     "model_module_version": "1.2.0",
     "model_name": "LayoutModel",
     "state": {
      "_model_module": "@jupyter-widgets/base",
      "_model_module_version": "1.2.0",
      "_model_name": "LayoutModel",
      "_view_count": null,
      "_view_module": "@jupyter-widgets/base",
      "_view_module_version": "1.2.0",
      "_view_name": "LayoutView",
      "align_content": null,
      "align_items": null,
      "align_self": null,
      "border": null,
      "bottom": null,
      "display": null,
      "flex": null,
      "flex_flow": null,
      "grid_area": null,
      "grid_auto_columns": null,
      "grid_auto_flow": null,
      "grid_auto_rows": null,
      "grid_column": null,
      "grid_gap": null,
      "grid_row": null,
      "grid_template_areas": null,
      "grid_template_columns": null,
      "grid_template_rows": null,
      "height": null,
      "justify_content": null,
      "justify_items": null,
      "left": null,
      "margin": null,
      "max_height": null,
      "max_width": null,
      "min_height": null,
      "min_width": null,
      "object_fit": null,
      "object_position": null,
      "order": null,
      "overflow": null,
      "overflow_x": null,
      "overflow_y": null,
      "padding": null,
      "right": null,
      "top": null,
      "visibility": null,
      "width": null
     }
    },
    "bff286ecc8434596a52b74bd0d71cddc": {
     "model_module": "@jupyter-widgets/base",
     "model_module_version": "1.2.0",
     "model_name": "LayoutModel",
     "state": {
      "_model_module": "@jupyter-widgets/base",
      "_model_module_version": "1.2.0",
      "_model_name": "LayoutModel",
      "_view_count": null,
      "_view_module": "@jupyter-widgets/base",
      "_view_module_version": "1.2.0",
      "_view_name": "LayoutView",
      "align_content": null,
      "align_items": null,
      "align_self": null,
      "border": null,
      "bottom": null,
      "display": null,
      "flex": null,
      "flex_flow": null,
      "grid_area": null,
      "grid_auto_columns": null,
      "grid_auto_flow": null,
      "grid_auto_rows": null,
      "grid_column": null,
      "grid_gap": null,
      "grid_row": null,
      "grid_template_areas": null,
      "grid_template_columns": null,
      "grid_template_rows": null,
      "height": null,
      "justify_content": null,
      "justify_items": null,
      "left": null,
      "margin": null,
      "max_height": null,
      "max_width": null,
      "min_height": null,
      "min_width": null,
      "object_fit": null,
      "object_position": null,
      "order": null,
      "overflow": null,
      "overflow_x": null,
      "overflow_y": null,
      "padding": null,
      "right": null,
      "top": null,
      "visibility": null,
      "width": null
     }
    },
    "cdac95aab5a745cea004a4bc152a08b0": {
     "model_module": "@jupyter-widgets/controls",
     "model_module_version": "1.5.0",
     "model_name": "DescriptionStyleModel",
     "state": {
      "_model_module": "@jupyter-widgets/controls",
      "_model_module_version": "1.5.0",
      "_model_name": "DescriptionStyleModel",
      "_view_count": null,
      "_view_module": "@jupyter-widgets/base",
      "_view_module_version": "1.2.0",
      "_view_name": "StyleView",
      "description_width": ""
     }
    },
    "d7f2c0ef555f4a56bd50c812e6051e32": {
     "model_module": "@jupyter-widgets/base",
     "model_module_version": "1.2.0",
     "model_name": "LayoutModel",
     "state": {
      "_model_module": "@jupyter-widgets/base",
      "_model_module_version": "1.2.0",
      "_model_name": "LayoutModel",
      "_view_count": null,
      "_view_module": "@jupyter-widgets/base",
      "_view_module_version": "1.2.0",
      "_view_name": "LayoutView",
      "align_content": null,
      "align_items": null,
      "align_self": null,
      "border": null,
      "bottom": null,
      "display": null,
      "flex": null,
      "flex_flow": null,
      "grid_area": null,
      "grid_auto_columns": null,
      "grid_auto_flow": null,
      "grid_auto_rows": null,
      "grid_column": null,
      "grid_gap": null,
      "grid_row": null,
      "grid_template_areas": null,
      "grid_template_columns": null,
      "grid_template_rows": null,
      "height": null,
      "justify_content": null,
      "justify_items": null,
      "left": null,
      "margin": null,
      "max_height": null,
      "max_width": null,
      "min_height": null,
      "min_width": null,
      "object_fit": null,
      "object_position": null,
      "order": null,
      "overflow": null,
      "overflow_x": null,
      "overflow_y": null,
      "padding": null,
      "right": null,
      "top": null,
      "visibility": null,
      "width": null
     }
    },
    "d8237c47189942439c15435478885701": {
     "model_module": "@jupyter-widgets/base",
     "model_module_version": "1.2.0",
     "model_name": "LayoutModel",
     "state": {
      "_model_module": "@jupyter-widgets/base",
      "_model_module_version": "1.2.0",
      "_model_name": "LayoutModel",
      "_view_count": null,
      "_view_module": "@jupyter-widgets/base",
      "_view_module_version": "1.2.0",
      "_view_name": "LayoutView",
      "align_content": null,
      "align_items": null,
      "align_self": null,
      "border": null,
      "bottom": null,
      "display": null,
      "flex": null,
      "flex_flow": null,
      "grid_area": null,
      "grid_auto_columns": null,
      "grid_auto_flow": null,
      "grid_auto_rows": null,
      "grid_column": null,
      "grid_gap": null,
      "grid_row": null,
      "grid_template_areas": null,
      "grid_template_columns": null,
      "grid_template_rows": null,
      "height": null,
      "justify_content": null,
      "justify_items": null,
      "left": null,
      "margin": null,
      "max_height": null,
      "max_width": null,
      "min_height": null,
      "min_width": null,
      "object_fit": null,
      "object_position": null,
      "order": null,
      "overflow": null,
      "overflow_x": null,
      "overflow_y": null,
      "padding": null,
      "right": null,
      "top": null,
      "visibility": null,
      "width": null
     }
    },
    "dec4da4eec5e46e7b0ef4351403e9700": {
     "model_module": "@jupyter-widgets/base",
     "model_module_version": "1.2.0",
     "model_name": "LayoutModel",
     "state": {
      "_model_module": "@jupyter-widgets/base",
      "_model_module_version": "1.2.0",
      "_model_name": "LayoutModel",
      "_view_count": null,
      "_view_module": "@jupyter-widgets/base",
      "_view_module_version": "1.2.0",
      "_view_name": "LayoutView",
      "align_content": null,
      "align_items": null,
      "align_self": null,
      "border": null,
      "bottom": null,
      "display": null,
      "flex": null,
      "flex_flow": null,
      "grid_area": null,
      "grid_auto_columns": null,
      "grid_auto_flow": null,
      "grid_auto_rows": null,
      "grid_column": null,
      "grid_gap": null,
      "grid_row": null,
      "grid_template_areas": null,
      "grid_template_columns": null,
      "grid_template_rows": null,
      "height": null,
      "justify_content": null,
      "justify_items": null,
      "left": null,
      "margin": null,
      "max_height": null,
      "max_width": null,
      "min_height": null,
      "min_width": null,
      "object_fit": null,
      "object_position": null,
      "order": null,
      "overflow": null,
      "overflow_x": null,
      "overflow_y": null,
      "padding": null,
      "right": null,
      "top": null,
      "visibility": null,
      "width": null
     }
    },
    "df5521089beb4e46a40a2ab19d4f7391": {
     "model_module": "@jupyter-widgets/controls",
     "model_module_version": "1.5.0",
     "model_name": "DescriptionStyleModel",
     "state": {
      "_model_module": "@jupyter-widgets/controls",
      "_model_module_version": "1.5.0",
      "_model_name": "DescriptionStyleModel",
      "_view_count": null,
      "_view_module": "@jupyter-widgets/base",
      "_view_module_version": "1.2.0",
      "_view_name": "StyleView",
      "description_width": ""
     }
    },
    "e84c938c3c93479ea7dbb5c0e62e2ddc": {
     "model_module": "@jupyter-widgets/controls",
     "model_module_version": "1.5.0",
     "model_name": "DescriptionStyleModel",
     "state": {
      "_model_module": "@jupyter-widgets/controls",
      "_model_module_version": "1.5.0",
      "_model_name": "DescriptionStyleModel",
      "_view_count": null,
      "_view_module": "@jupyter-widgets/base",
      "_view_module_version": "1.2.0",
      "_view_name": "StyleView",
      "description_width": ""
     }
    },
    "f129cffe41014170a28a918acb65f7bf": {
     "model_module": "@jupyter-widgets/controls",
     "model_module_version": "1.5.0",
     "model_name": "HTMLModel",
     "state": {
      "_dom_classes": [],
      "_model_module": "@jupyter-widgets/controls",
      "_model_module_version": "1.5.0",
      "_model_name": "HTMLModel",
      "_view_count": null,
      "_view_module": "@jupyter-widgets/controls",
      "_view_module_version": "1.5.0",
      "_view_name": "HTMLView",
      "description": "",
      "description_tooltip": null,
      "layout": "IPY_MODEL_bc8aa6f790ef48fcbcad2ef9d1544db4",
      "placeholder": "​",
      "style": "IPY_MODEL_9b12eb438ecb44a796544870d647e22b",
      "value": "tokenizer_config.json: 100%"
     }
    },
    "f78c8dfb0b644104ad836638552499a1": {
     "model_module": "@jupyter-widgets/controls",
     "model_module_version": "1.5.0",
     "model_name": "HTMLModel",
     "state": {
      "_dom_classes": [],
      "_model_module": "@jupyter-widgets/controls",
      "_model_module_version": "1.5.0",
      "_model_name": "HTMLModel",
      "_view_count": null,
      "_view_module": "@jupyter-widgets/controls",
      "_view_module_version": "1.5.0",
      "_view_name": "HTMLView",
      "description": "",
      "description_tooltip": null,
      "layout": "IPY_MODEL_ba8775e7832d4cf89e1a3ba1e9e352a7",
      "placeholder": "​",
      "style": "IPY_MODEL_df5521089beb4e46a40a2ab19d4f7391",
      "value": "tokenizer.json: 100%"
     }
    },
    "f915b015df634a1eb665266a1fdf99d7": {
     "model_module": "@jupyter-widgets/controls",
     "model_module_version": "1.5.0",
     "model_name": "DescriptionStyleModel",
     "state": {
      "_model_module": "@jupyter-widgets/controls",
      "_model_module_version": "1.5.0",
      "_model_name": "DescriptionStyleModel",
      "_view_count": null,
      "_view_module": "@jupyter-widgets/base",
      "_view_module_version": "1.2.0",
      "_view_name": "StyleView",
      "description_width": ""
     }
    },
    "fb9403f913034c98ac468dbfb77d27a6": {
     "model_module": "@jupyter-widgets/controls",
     "model_module_version": "1.5.0",
     "model_name": "DescriptionStyleModel",
     "state": {
      "_model_module": "@jupyter-widgets/controls",
      "_model_module_version": "1.5.0",
      "_model_name": "DescriptionStyleModel",
      "_view_count": null,
      "_view_module": "@jupyter-widgets/base",
      "_view_module_version": "1.2.0",
      "_view_name": "StyleView",
      "description_width": ""
     }
    },
    "fbe34b7fe413413a83fed0c70d5ae261": {
     "model_module": "@jupyter-widgets/controls",
     "model_module_version": "1.5.0",
     "model_name": "HTMLModel",
     "state": {
      "_dom_classes": [],
      "_model_module": "@jupyter-widgets/controls",
      "_model_module_version": "1.5.0",
      "_model_name": "HTMLModel",
      "_view_count": null,
      "_view_module": "@jupyter-widgets/controls",
      "_view_module_version": "1.5.0",
      "_view_name": "HTMLView",
      "description": "",
      "description_tooltip": null,
      "layout": "IPY_MODEL_741312b1ca424c0c8ac84747db6d7e2d",
      "placeholder": "​",
      "style": "IPY_MODEL_f915b015df634a1eb665266a1fdf99d7",
      "value": "model_optimized.onnx: 100%"
     }
    },
    "feba3c7e8f8547bc982372c2e4dc116a": {
     "model_module": "@jupyter-widgets/controls",
     "model_module_version": "1.5.0",
     "model_name": "ProgressStyleModel",
     "state": {
      "_model_module": "@jupyter-widgets/controls",
      "_model_module_version": "1.5.0",
      "_model_name": "ProgressStyleModel",
      "_view_count": null,
      "_view_module": "@jupyter-widgets/base",
      "_view_module_version": "1.2.0",
      "_view_name": "StyleView",
      "bar_color": null,
      "description_width": ""
     }
    }
   }
  }
 },
 "nbformat": 4,
 "nbformat_minor": 1
}
