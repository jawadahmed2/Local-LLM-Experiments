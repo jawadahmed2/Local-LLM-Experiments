{
  "cells": [
    {
      "cell_type": "code",
      "execution_count": 4,
      "metadata": {
        "colab": {
          "base_uri": "https://localhost:8080/"
        },
        "id": "RYyEre0icWpp",
        "outputId": "5634bb91-b352-4a5d-ad86-24c103b009c6"
      },
      "outputs": [],
      "source": [
        "# !pip -qqq install pip --progress-bar off\n",
        "!pip -qqq install 'crewai[tools]'==0.28.8 --progress-bar off\n",
        "!pip -qqq install duckduckgo-search==5.3.0 --progress-bar off\n",
        "!pip -qqq install openai==1.35.3 --progress-bar off\n",
        "!pip -qqq install ollama==0.1.9 --progress-bar off\n",
        "!pip -qqq install pandas==2.2.2 --progress-bar off"
      ]
    },
    {
      "cell_type": "code",
      "execution_count": 12,
      "metadata": {
        "id": "QTNpbJkzfCb6"
      },
      "outputs": [],
      "source": [
        "import os\n",
        "import re\n",
        "from datetime import datetime\n",
        "\n",
        "import pandas as pd\n",
        "import requests\n",
        "from crewai import Agent, Crew, Process, Task\n",
        "from crewai_tools import tool\n",
        "# from google.colab import userdata\n",
        "from langchain.agents import load_tools\n",
        "from langchain_community.tools import DuckDuckGoSearchResults\n",
        "from langchain_core.prompts import ChatPromptTemplate\n",
        "from langchain_community.chat_models import ChatOllama\n",
        "\n",
        "\n",
        "def format_response(response: str) -> str:\n",
        "    entries = re.split(r\"(?<=]), (?=\\[)\", response)\n",
        "    return [entry.strip(\"[]\") for entry in entries]\n"
      ]
    },
    {
      "cell_type": "markdown",
      "metadata": {
        "id": "DvdmCpjbonsU"
      },
      "source": [
        "## Tools"
      ]
    },
    {
      "cell_type": "code",
      "execution_count": 6,
      "metadata": {
        "id": "l-PHMulaom9h"
      },
      "outputs": [],
      "source": [
        "search_tool = DuckDuckGoSearchResults(backend=\"news\", num_results=10)"
      ]
    },
    {
      "cell_type": "code",
      "execution_count": 7,
      "metadata": {
        "colab": {
          "base_uri": "https://localhost:8080/"
        },
        "id": "OHXKdNnQp4sn",
        "outputId": "6cfeb1cb-cb70-4ede-ab01-f499fcba3df4"
      },
      "outputs": [
        {
          "data": {
            "text/plain": [
              "['snippet: Tesla CEO and billionaire Elon Musk recently changed his profile picture on X, formerly known as Twitter, to laser eyes, sparking speculation that the longtime Dogecoin promoter might be attending the upcoming Bitcoin Conference in Nashville, Tennessee., title: Rumors swirl that Elon Musk may attend Bitcoin 2024 conference alongside Trump, link: https://www.msn.com/en-us/news/politics/rumors-swirl-that-elon-musk-may-attend-bitcoin-2024-conference-alongside-trump/ar-BB1qqFJu, date: 2024-07-22T16:53:00+00:00, source: MSN',\n",
              " 'snippet: Investors threw $1.35 billion at crypto investment products last week, with the focus mainly being on Bitcoin, according to CoinShares., title: Bitcoin ETFs Had Another Banner Week as BTC Price Rebounded, link: https://decrypt.co/240882/bitcoin-etfs-banner-week-btc-price-rebounded, date: 2024-07-22T17:15:00+00:00, source: decrypt',\n",
              " \"snippet: This article originally appeared in First Mover, CoinDesk's daily newsletter, putting the latest moves in crypto markets in context. Subscribe to, title: First Mover Americas: Bitcoin Settles Above $67K After Biden Drops Out, link: https://markets.businessinsider.com/news/currencies/first-mover-americas-bitcoin-settles-above-67k-after-biden-drops-out-1033577445, date: 2024-07-22T12:07:00+00:00, source: Business Insider\",\n",
              " 'snippet: Bitcoin Vista is a newly developed crypto trading system that has quickly caught the eye of crypto experts and traders alike. According to its creator, the platform automatically executes orders and implements strategies to manage the volatility of the crypto market., title: Bitcoin Vista Review 2024: Scam or Legit Trading Platform? - Real Reports!, link: https://techbullion.com/bitcoin-vista-review-2024-scam-or-legit-trading-platform-real-reports/, date: 2024-07-22T16:51:00+00:00, source: Impacts',\n",
              " \"snippet: The market hasn't fully priced in the impact of a Trump victory on Bitcoin, said Bernstein as it flags seven crypto stocks to watch., title: Bitcoin Traders Have 'Not Priced In' Possible Trump Victory, Says Bernstein, link: https://decrypt.co/240859/potential-trump-victory-bitcoin-not-priced-bernstein, date: 2024-07-22T13:02:00+00:00, source: decrypt\",\n",
              " \"snippet: Asia's first inverse bitcoin exchange-traded fund that allows investors to bet on a fall in the cryptocurrency, is set to debut in Hong Kong on Tuesday. Hong Kong's CSOP Asset Management said it will launch the CSOP Bitcoin Futures Daily (-1x) Inverse Product on the city's stock exchange on Tuesday morning., title: Hong Kong to launch Asia's first inverse bitcoin ETF, link: https://www.msn.com/en-xl/money/other/hong-kong-to-launch-asia-s-first-inverse-bitcoin-etf/ar-BB1qpb5M, date: 2024-07-22T10:27:39+00:00, source: Reuters on MSN.com\",\n",
              " \"snippet: The crypto community is abuzz with anticipation over the possibility that there may be a surprise appearance by Tesla CEO Elon Musk at Bitcoin 2024. While that's not confirmed, Musk is currently in Memphis, Tennessee, where training for the Grok AI chatbot, developed by one of his companies, xAI, is taking place., title: All Eyes On Donald Trump At Bitcoin 2024 As Elon Musk Arrives In Tennessee After Changing X Profile To Laser Eyes, link: https://insidebitcoins.com/news/all-eyes-on-donald-trump-at-bitcoin-2024-as-elon-musk-arrives-in-tennessee-after-changing-x-profile-to-laser-eyes, date: 2024-07-22T14:07:00+00:00, source: Inside Bitcoins\",\n",
              " 'snippet: The broker raised its price target for the shares to $16 from $13 while reiterating its buy rating on the stock., title: Bitcoin Miner Bitdeer Technologies Could be a Potential Takeover Target: Benchmark, link: https://www.msn.com/en-us/money/other/bitcoin-miner-bitdeer-technologies-could-be-a-potential-takeover-target-benchmark/ar-BB1qpXIp, date: 2024-07-22T12:30:00+00:00, source: CoinDesk on MSN.com',\n",
              " \"snippet: When Munger made these remarks, one Bitcoin was worth $57,714. This means an investment of $1,000 would have fetched a trader 0.017 BTC. Cut to the present, one Bitcoin is valued at $67,503. This after a painstaking bear market in 2022-23 which robbed the apex cryptocurrency of much of its gains made in the 2021 bull market., title: If You Invested $1,000 In Bitcoin When Charlie Munger Called It 'Disgusting,' Here's How Much You'd Have Today, link: https://www.msn.com/en-us/money/markets/if-you-invested-1000-in-bitcoin-when-charlie-munger-called-it-disgusting-heres-how-much-youd-have-today/ar-BB1qpKyK, date: 2024-07-22T11:40:13+00:00, source: Benzinga.com on MSN.com\",\n",
              " \"snippet: Bitfinex Alpha reports BTC's 29% recovery since July 5, with positive on-chain metrics and ETF inflows signaling a potential market bottom., title: Bitcoin on-chain metrics remain robust during July's rebound: Bitfinex, link: https://cryptobriefing.com/bitfinex-alpha-btc-recovery/, date: 2024-07-22T13:55:00+00:00, source: Crypto Briefing\"]"
            ]
          },
          "execution_count": 7,
          "metadata": {},
          "output_type": "execute_result"
        }
      ],
      "source": [
        "response = search_tool.run(\"Bitcoin\")\n",
        "format_response(response)"
      ]
    },
    {
      "cell_type": "code",
      "execution_count": 8,
      "metadata": {
        "id": "hrufH75dpvLc"
      },
      "outputs": [],
      "source": [
        "human_tools = load_tools([\"human\"])"
      ]
    },
    {
      "cell_type": "code",
      "execution_count": 13,
      "metadata": {
        "id": "_9qvz5b2Gu_w"
      },
      "outputs": [],
      "source": [
        "def get_daily_closing_prices(ticker) -> pd.DataFrame:\n",
        "    url = f'https://www.alphavantage.co/query?function=DIGITAL_CURRENCY_DAILY&symbol={ticker}&market=USD&apikey={userdata.get(\"ALPHAVANTAGE_API_KEY\")}'\n",
        "    response = requests.get(url)\n",
        "    data = response.json()\n",
        "    price_data = data[\"Time Series (Digital Currency Daily)\"]\n",
        "    daily_close_prices = {\n",
        "        date: prices[\"4. close\"] for (date, prices) in price_data.items()\n",
        "    }\n",
        "\n",
        "    df = pd.DataFrame.from_dict(daily_close_prices, orient=\"index\", columns=[\"price\"])\n",
        "    df.index = pd.to_datetime(df.index)\n",
        "    df[\"price\"] = pd.to_numeric(df[\"price\"])\n",
        "\n",
        "    return df"
      ]
    },
    {
      "cell_type": "code",
      "execution_count": 14,
      "metadata": {
        "colab": {
          "base_uri": "https://localhost:8080/",
          "height": 206
        },
        "id": "Emm7KO1LOcce",
        "outputId": "1609ce5a-de12-43ce-f8f5-e47d62f95ab4"
      },
      "outputs": [
        {
          "data": {
            "text/html": [
              "<div>\n",
              "<style scoped>\n",
              "    .dataframe tbody tr th:only-of-type {\n",
              "        vertical-align: middle;\n",
              "    }\n",
              "\n",
              "    .dataframe tbody tr th {\n",
              "        vertical-align: top;\n",
              "    }\n",
              "\n",
              "    .dataframe thead th {\n",
              "        text-align: right;\n",
              "    }\n",
              "</style>\n",
              "<table border=\"1\" class=\"dataframe\">\n",
              "  <thead>\n",
              "    <tr style=\"text-align: right;\">\n",
              "      <th></th>\n",
              "      <th>price</th>\n",
              "    </tr>\n",
              "  </thead>\n",
              "  <tbody>\n",
              "    <tr>\n",
              "      <th>2024-07-22</th>\n",
              "      <td>68212.88</td>\n",
              "    </tr>\n",
              "    <tr>\n",
              "      <th>2024-07-21</th>\n",
              "      <td>68181.28</td>\n",
              "    </tr>\n",
              "    <tr>\n",
              "      <th>2024-07-20</th>\n",
              "      <td>67163.83</td>\n",
              "    </tr>\n",
              "    <tr>\n",
              "      <th>2024-07-19</th>\n",
              "      <td>66707.61</td>\n",
              "    </tr>\n",
              "    <tr>\n",
              "      <th>2024-07-18</th>\n",
              "      <td>63982.86</td>\n",
              "    </tr>\n",
              "  </tbody>\n",
              "</table>\n",
              "</div>"
            ],
            "text/plain": [
              "               price\n",
              "2024-07-22  68212.88\n",
              "2024-07-21  68181.28\n",
              "2024-07-20  67163.83\n",
              "2024-07-19  66707.61\n",
              "2024-07-18  63982.86"
            ]
          },
          "execution_count": 14,
          "metadata": {},
          "output_type": "execute_result"
        }
      ],
      "source": [
        "price_df = get_daily_closing_prices(\"BTC\")\n",
        "price_df.head()"
      ]
    },
    {
      "cell_type": "code",
      "execution_count": 15,
      "metadata": {
        "colab": {
          "base_uri": "https://localhost:8080/"
        },
        "id": "33lNJ_VUm9tH",
        "outputId": "a36df6af-041f-4520-9918-c898594007d1"
      },
      "outputs": [
        {
          "name": "stdout",
          "output_type": "stream",
          "text": [
            "2024-07-22 - 68212.88\n",
            "2024-07-21 - 68181.28\n",
            "2024-07-20 - 67163.83\n",
            "2024-07-19 - 66707.61\n",
            "2024-07-18 - 63982.86\n",
            "2024-07-17 - 64085.81\n",
            "2024-07-16 - 65088.99\n",
            "2024-07-15 - 64757.16\n",
            "2024-07-14 - 60808.42\n",
            "2024-07-13 - 59224.58\n"
          ]
        }
      ],
      "source": [
        "text_output = []\n",
        "for date, row in price_df.head(10).iterrows():\n",
        "    text_output.append(f\"{date.strftime('%Y-%m-%d')} - {row['price']:.2f}\")\n",
        "formatted_text = \"\\n\".join(text_output)\n",
        "print(formatted_text)"
      ]
    },
    {
      "cell_type": "code",
      "execution_count": 16,
      "metadata": {
        "id": "Frkj_1LUssGW"
      },
      "outputs": [],
      "source": [
        "@tool(\"price tool\")\n",
        "def cryptocurrency_price_tool(ticker_symbol: str) -> str:\n",
        "    \"\"\"Get daily closing price for a given cryptocurrency ticker symbol for the previous 60 days\"\"\"\n",
        "    price_df = get_daily_closing_prices(ticker_symbol)\n",
        "    text_output = []\n",
        "    for date, row in price_df.head(60).iterrows():\n",
        "        text_output.append(f\"{date.strftime('%Y-%m-%d')} - {row['price']:.2f}\")\n",
        "    return \"\\n\".join(text_output)"
      ]
    },
    {
      "cell_type": "code",
      "execution_count": 17,
      "metadata": {
        "id": "JCjBBCPq3uTJ"
      },
      "outputs": [],
      "source": [
        "@tool(\"search tool\")\n",
        "def cryptocurrency_news_tool(ticker_symbol: str) -> str:\n",
        "    \"\"\"Get news for a given cryptocurrency ticker symbol\"\"\"\n",
        "    return search_tool.run(ticker_symbol + \" cryptocurrency\")"
      ]
    },
    {
      "cell_type": "markdown",
      "metadata": {
        "id": "zG15Sqv_uXY3"
      },
      "source": [
        "## Llama 3 with Ollama"
      ]
    },
    {
      "cell_type": "code",
      "execution_count": 20,
      "metadata": {
        "id": "F4eN5Bc-fpX5"
      },
      "outputs": [],
      "source": [
        "llm = ChatOllama(temperature=0, model=\"llama3\")"
      ]
    },
    {
      "cell_type": "code",
      "execution_count": 21,
      "metadata": {
        "colab": {
          "base_uri": "https://localhost:8080/"
        },
        "id": "nUFkmNlWf7G3",
        "outputId": "5ae9e365-45d9-49c9-8651-e1d655cc3fdb"
      },
      "outputs": [
        {
          "name": "stdout",
          "output_type": "stream",
          "text": [
            "CPU times: user 167 ms, sys: 10.1 ms, total: 177 ms\n",
            "Wall time: 2min 30s\n"
          ]
        }
      ],
      "source": [
        "%%time\n",
        "system = \"You are experienced Machine Learning & AI Engineer.\"\n",
        "human = \"{text}\"\n",
        "prompt = ChatPromptTemplate.from_messages([(\"system\", system), (\"human\", human)])\n",
        "\n",
        "chain = prompt | llm\n",
        "response = chain.invoke({\"text\": \"How to increase inference speed for a 7B LLM?\"})"
      ]
    },
    {
      "cell_type": "code",
      "execution_count": 22,
      "metadata": {
        "colab": {
          "base_uri": "https://localhost:8080/"
        },
        "id": "Gj6vouadgSY5",
        "outputId": "0f1d5af8-2f2a-4b76-b930-c70257df3962"
      },
      "outputs": [
        {
          "name": "stdout",
          "output_type": "stream",
          "text": [
            "Increasing the inference speed of a 7B Large Language Model (LLM) requires a combination of hardware and software optimizations. Here are some strategies to help you achieve faster inference times:\n",
            "\n",
            "1. **Hardware Acceleration**:\n",
            "\t* Use a GPU with high double-precision floating-point performance, such as NVIDIA V100 or A100.\n",
            "\t* Leverage TPUs (Tensor Processing Units) or Google's Cloud TPU v3 for even better performance.\n",
            "2. **Model Pruning and Quantization**:\n",
            "\t* Apply pruning techniques to remove unnecessary weights and connections, reducing the model size and computation requirements.\n",
            "\t* Quantize the model to reduce precision from 32-bit floating-point to 8-bit integers or even binary weights.\n",
            "3. **Batching and Parallelization**:\n",
            "\t* Increase the batch size to utilize more GPU resources and reduce overhead.\n",
            "\t* Use parallelization techniques, such as data parallelism or model parallelism, to distribute computations across multiple GPUs or nodes.\n",
            "4. **Optimized Frameworks and Libraries**:\n",
            "\t* Utilize optimized frameworks like TensorFlow, PyTorch, or JAX, which provide pre-built support for GPU acceleration and parallelization.\n",
            "\t* Leverage libraries like OpenBLAS, cuDNN, or MKL-DNN to accelerate linear algebra operations and matrix multiplications.\n",
            "5. **Model Optimization Techniques**:\n",
            "\t* Apply knowledge distillation to transfer knowledge from a larger model to the 7B LLM, reducing its size and computation requirements.\n",
            "\t* Use techniques like weight sharing, channel shuffle, or depthwise separable convolutions to reduce computational complexity.\n",
            "6. **Distributed Inference**:\n",
            "\t* Deploy your model on multiple machines or nodes using distributed inference frameworks like TensorFlow's Distributed TensorFlow (TF-Dist) or PyTorch's Distributed PyTorch (DP).\n",
            "\t* Use load balancing and job scheduling techniques to optimize resource utilization and minimize latency.\n",
            "7. **Model Compression**:\n",
            "\t* Apply compression techniques like Huffman coding, arithmetic coding, or dictionary-based compression to reduce the model size.\n",
            "\t* Use techniques like knowledge distillation or teacher-student learning to compress the model while preserving its performance.\n",
            "8. **Inference Engine Optimization**:\n",
            "\t* Optimize your inference engine's configuration, such as setting the correct batch size, number of threads, and memory allocation.\n",
            "\t* Experiment with different inference engines, like TensorFlow Lite, PyTorch Mobile, or Core ML, to find the best one for your use case.\n",
            "\n",
            "Remember that the effectiveness of these strategies will depend on your specific use case, hardware, and software configurations. Experimentation and profiling are crucial to identifying the most effective optimizations for your 7B LLM.\n"
          ]
        }
      ],
      "source": [
        "print(response.content)"
      ]
    },
    {
      "cell_type": "markdown",
      "metadata": {
        "id": "-LbEjEtzvyl5"
      },
      "source": [
        "## Agents"
      ]
    },
    {
      "cell_type": "code",
      "execution_count": null,
      "metadata": {
        "id": "SVyh4kZovzTk"
      },
      "outputs": [],
      "source": [
        "customer_communicator = Agent(\n",
        "    role=\"Senior cryptocurrency customer communicator\",\n",
        "    goal=\"Find which cryptocurrency the customer is interested in\",\n",
        "    backstory=\"\"\"You're highly experienced in communicating about cryptocurrencies\n",
        "    and blockchain technology with customers and their research needs\"\"\",\n",
        "    verbose=True,\n",
        "    allow_delegation=False,\n",
        "    llm=llm,\n",
        "    max_iter=5,\n",
        "    memory=True,\n",
        "    tools=human_tools,\n",
        ")"
      ]
    },
    {
      "cell_type": "code",
      "execution_count": null,
      "metadata": {
        "id": "IvlO2ZnevzrL"
      },
      "outputs": [],
      "source": [
        "news_analyst = Agent(\n",
        "    role=\"Cryptocurrency News Analyst\",\n",
        "    goal=\"\"\"Get news for a given cryptocurrency. Write 1 paragraph analysis of\n",
        "    the market and make prediction - up, down or neutral.\"\"\",\n",
        "    backstory=\"\"\"You're an expert analyst of trends based on cryptocurrency news.\n",
        "    You have a complete understanding of macroeconomic factors, but you specialize\n",
        "    into analyzing news.\n",
        "    \"\"\",\n",
        "    verbose=True,\n",
        "    allow_delegation=False,\n",
        "    llm=llm,\n",
        "    max_iter=5,\n",
        "    memory=True,\n",
        "    tools=[cryptocurrency_news_tool],\n",
        ")\n",
        "\n",
        "price_analyst = Agent(\n",
        "    role=\"Cryptocurrency Price Analyst\",\n",
        "    goal=\"\"\"Get historical prices for a given cryptocurrency. Write 1 paragraph analysis of\n",
        "    the market and make prediction - up, down or neutral.\"\"\",\n",
        "    backstory=\"\"\"You're an expert analyst of trends based on cryptocurrency\n",
        "    historical prices. You have a complete understanding of macroeconomic factors,\n",
        "    but you specialize into technical analys based on historical prices.\n",
        "    \"\"\",\n",
        "    verbose=True,\n",
        "    allow_delegation=False,\n",
        "    llm=llm,\n",
        "    max_iter=5,\n",
        "    memory=True,\n",
        "    tools=[cryptocurrency_price_tool],\n",
        ")"
      ]
    },
    {
      "cell_type": "code",
      "execution_count": null,
      "metadata": {
        "id": "j3ffY8r2wkiS"
      },
      "outputs": [],
      "source": [
        "writer = Agent(\n",
        "    role=\"Cryptocurrency Report Writer\",\n",
        "    goal=\"\"\"Write 1 paragraph report of the cryptocurrency market.\"\"\",\n",
        "    backstory=\"\"\"\n",
        "    You're widely accepted as the best cryptocurrency analyst that\n",
        "    understands the market and have tracked every asset for more than 10 years. Your trends\n",
        "    analysis are always extremely accurate.\n",
        "\n",
        "    You're also master level analyst in the traditional markets and have deep understanding\n",
        "    of human psychology. You understand macro factors and combine those multiple\n",
        "    theories - e.g. cycle theory. You're able to hold multiple opininons when analysing anything.\n",
        "\n",
        "    You understand news and historical prices, but you look at those with a\n",
        "    healthy dose of skepticism. You also consider the source of news articles.\n",
        "\n",
        "    Your most well developed talent is providing clear and concise summarization\n",
        "    that explains very complex market topics in simple to understand terms.\n",
        "\n",
        "    Some of your writing techniques include:\n",
        "\n",
        "    - Creating a bullet list (executive summary) of the most importannt points\n",
        "    - Distill complex analyses to their most important parts\n",
        "\n",
        "    You writing transforms even dry and most technical texts into\n",
        "    a pleasant and interesting read.\"\"\",\n",
        "    llm=llm,\n",
        "    verbose=True,\n",
        "    max_iter=5,\n",
        "    memory=True,\n",
        "    allow_delegation=False,\n",
        ")"
      ]
    },
    {
      "cell_type": "markdown",
      "metadata": {
        "id": "V7ez16ZGxYtY"
      },
      "source": [
        "## Tasks"
      ]
    },
    {
      "cell_type": "code",
      "execution_count": null,
      "metadata": {
        "id": "oLki8arlxRVZ"
      },
      "outputs": [],
      "source": [
        "get_cryptocurrency = Task(\n",
        "    description=f\"Ask which cryptocurrency the customer is interested in.\",\n",
        "    expected_output=\"\"\"Cryptocurrency symbol that the human wants you to research e.g. BTC.\"\"\",\n",
        "    agent=customer_communicator,\n",
        ")"
      ]
    },
    {
      "cell_type": "code",
      "execution_count": null,
      "metadata": {
        "id": "suRj6S4VxZwf"
      },
      "outputs": [],
      "source": [
        "get_news_analysis = Task(\n",
        "    description=f\"\"\"\n",
        "    Use the search tool to get news for the cryptocurrency\n",
        "\n",
        "    The current date is {datetime.now()}.\n",
        "\n",
        "    Compose the results into a helpful report\"\"\",\n",
        "    expected_output=\"\"\"Create 1 paragraph report for the cryptocurrency,\n",
        "    along with a prediction for the future trend\n",
        "    \"\"\",\n",
        "    agent=news_analyst,\n",
        "    context=[get_cryptocurrency],\n",
        ")\n",
        "\n",
        "\n",
        "get_price_analysis = Task(\n",
        "    description=f\"\"\"\n",
        "    Use the price tool to get historical prices\n",
        "\n",
        "    The current date is {datetime.now()}.\n",
        "\n",
        "    Compose the results into a helpful report\"\"\",\n",
        "    expected_output=\"\"\"Create 1 paragraph summary for the cryptocurrency,\n",
        "    along with a prediction for the future trend\n",
        "    \"\"\",\n",
        "    agent=price_analyst,\n",
        "    context=[get_cryptocurrency],\n",
        ")"
      ]
    },
    {
      "cell_type": "code",
      "execution_count": null,
      "metadata": {
        "id": "0x2GUC-_y9x8"
      },
      "outputs": [],
      "source": [
        "write_report = Task(\n",
        "    description=f\"\"\"Use the reports from the news analyst and the price analyst to\n",
        "    create a report that summarizes the cryptocurrency\"\"\",\n",
        "    expected_output=\"\"\"1 paragraph report that summarizes the market and\n",
        "    predicts the future prices (trend) for the cryptocurrency\"\"\",\n",
        "    agent=writer,\n",
        "    context=[get_news_analysis, get_price_analysis],\n",
        ")"
      ]
    },
    {
      "cell_type": "markdown",
      "metadata": {
        "id": "Ari7aynNxq8N"
      },
      "source": [
        "## Crew"
      ]
    },
    {
      "cell_type": "code",
      "execution_count": null,
      "metadata": {
        "id": "afP7g9qVxrmO"
      },
      "outputs": [],
      "source": [
        "crew = Crew(\n",
        "    agents=[customer_communicator, price_analyst, news_analyst, writer],\n",
        "    tasks=[get_cryptocurrency, get_news_analysis, get_price_analysis, write_report],\n",
        "    verbose=2,\n",
        "    process=Process.sequential,\n",
        "    full_output=True,\n",
        "    share_crew=False,\n",
        "    manager_llm=llm,\n",
        "    max_iter=15,\n",
        ")"
      ]
    },
    {
      "cell_type": "code",
      "execution_count": null,
      "metadata": {
        "colab": {
          "base_uri": "https://localhost:8080/"
        },
        "id": "1PGbWI48z5C2",
        "outputId": "0d529ee1-70cb-41f9-aed5-03dcb3bfa0c1"
      },
      "outputs": [
        {
          "name": "stdout",
          "output_type": "stream",
          "text": [
            "\u001b[1m\u001b[95m [DEBUG]: == Working Agent: Senior cryptocurrency customer communicator\u001b[00m\n",
            "\u001b[1m\u001b[95m [INFO]: == Starting Task: Ask which cryptocurrency the customer is interested in.\u001b[00m\n",
            "\n",
            "\n",
            "\u001b[1m> Entering new CrewAgentExecutor chain...\u001b[0m\n",
            "\u001b[32;1m\u001b[1;3mThought: I need to ask the customer which cryptocurrency they are interested in.\n",
            "\n",
            "Action: human\n",
            "Action Input: {\"question\": \"Hello! I'm here to help you with your cryptocurrency research. Which cryptocurrency are you interested in?\"}\u001b[0m\n",
            "\n",
            "Hello! I'm here to help you with your cryptocurrency research. Which cryptocurrency are you interested in?\n",
            "Bitcoin\n",
            "\u001b[95m \n",
            "\n",
            "Bitcoin\n",
            "\u001b[00m\n",
            "\u001b[32;1m\u001b[1;3mThought: I think I have the answer, but I want to confirm.\n",
            "\n",
            "Action: human\n",
            "Action Input: {\"question\": \"Just to confirm, you're interested in Bitcoin, correct?\"}\u001b[0m\n",
            "\n",
            "Just to confirm, you're interested in Bitcoin, correct?\n",
            "Correct\n",
            "\u001b[95m \n",
            "\n",
            "Correct\n",
            "\u001b[00m\n",
            "\u001b[32;1m\u001b[1;3mThought: I now know the final answer\n",
            "Final Answer: BTC\u001b[0m\n",
            "\n",
            "\u001b[1m> Finished chain.\u001b[0m\n",
            "\u001b[1m\u001b[92m [DEBUG]: == [Senior cryptocurrency customer communicator] Task output: BTC\n",
            "\n",
            "\u001b[00m\n",
            "\u001b[1m\u001b[95m [DEBUG]: == Working Agent: Cryptocurrency News Analyst\u001b[00m\n",
            "\u001b[1m\u001b[95m [INFO]: == Starting Task: \n",
            "    Use the search tool to get news for the cryptocurrency\n",
            "\n",
            "    The current date is 2024-04-30 18:31:00.539391.\n",
            "\n",
            "    Compose the results into a helpful report\u001b[00m\n",
            "\n",
            "\n",
            "\u001b[1m> Entering new CrewAgentExecutor chain...\u001b[0m\n",
            "\u001b[32;1m\u001b[1;3mThought: I need to get the latest news for Bitcoin (BTC) to analyze the market trend.\n",
            "\n",
            "Action: search tool\n",
            "Action Input: {\"ticker_symbol\": \"BTC\"}\n",
            "\u001b[0m\u001b[95m \n",
            "\n",
            "[snippet: Crypto markets have shed nearly $200 billion off their market cap in the last 24 hours as some of the industry's biggest players appear keen to unload their coins., title: Crypto Markets Break Down As Grayscale Sends Over $245,000,000 Worth of Bitcoin to Coinbase, link: https://dailyhodl.com/2024/04/30/crypto-markets-break-down-as-grayscale-sends-over-245000000-worth-of-bitcoin-to-coinbase/, date: 2024-04-30T18:05:00+00:00, source: The Daily Hodl], [snippet: Bitcoin is registering its worst month since the collapse of Sam Bankman-Fried's FTX empire as the euphoria around US exchange-traded funds for the largest digital asset subsides., title: Bitcoin Faces Worst Month Since FTX Crash With ETF Demand Cooling, link: https://www.msn.com/en-us/money/markets/bitcoin-faces-worst-month-since-ftx-crash-with-etf-demand-cooling/ar-AA1nVK9K, date: 2024-04-30T17:07:27+00:00, source: Bloomberg on MSN.com], [snippet: Due to the increasing competition among bitcoin miners, it is nearly impossible to solve a block alone with a single bitcoin mining rig - but one solo miner recently won the mining \"lottery\" and earned approximately $219,000, via a 3.125 BTC subsidy and reward for his effort., title: Solo bitcoin miner hits 'lottery' with successful block, link: https://www.thestreet.com/crypto/markets/solo-bitcoin-miner-hits-lottery-with-successful-block, date: 2024-04-30T16:01:00+00:00, source: TheStreet.com], [snippet: Fred Thiel of Marathon Digital Holdings explained why the likely spot ethereum ETF rejection could be good for the bitcoin price., title: Marathon CEO projects ethereum ETF denial might benefit bitcoin market, link: https://www.thestreet.com/crypto/policy/ethereum-etf-sec-rejection-might-benefit-bitcoin-price-marathon, date: 2024-04-30T17:27:00+00:00, source: TheStreet.com], [snippet: In a recent comprehensive analysis conducted by Alessio Rastani, a well-known and respected YouTuber and expert financial analyst, Bitcoin's chart patterns were analyzed, offering valuable insights into potential market directions., title: A Warning Sign in Bitcoin's Chart, link: https://insidebitcoins.com/news/a-warning-sign-in-bitcoins-chart, date: 2024-04-30T16:37:00+00:00, source: Inside Bitcoins], [snippet: MicroStrategy founder and chairman Michael Saylor suggests that Ethereum won't see the same kind of spot ETF approval that Bitcoin did., title: Bitcoin Is 'Only Crypto Asset' That Will Get SEC Approval for ETFs: Michael Saylor, link: https://decrypt.co/228801/bitcoin-only-crypto-asset-sec-approval-etfs-michael-saylor, date: 2024-04-30T17:02:00+00:00, source: decrypt], [snippet: Russia reportedly plans to institute a wide-ranging crypto ban in September. Anatoly Aksakov, chairman of the State Duma Committee on the Financial Market, says the country plans to prohibit \"organizing the circulation of cryptocurrencies,, title: Russian Authorities Introduce New Restrictions on Cryptocurrency To Prevent Ruble From Being Replaced: Report, link: https://dailyhodl.com/2024/04/30/russian-authorities-introduce-new-restrictions-on-cryptocurrency-to-prevent-ruble-from-being-replaced-report/, date: 2024-04-30T16:54:00+00:00, source: The Daily Hodl], [snippet: Pseudonymous cryptocurrency trader Kevin recently shared his thoughts ... The opposite will occur if he's dovish.\" Also Read: Uh Oh, Bitcoin? Crypto Expert Sees Dip Coming This Week But Recovery Shortly After Why It Matters: The crypto trader's ..., title: Bitcoin, Dogecoin, Shiba Inu Pumped After The Last FOMC Meeting—Will History Repeat On Wednesday?, link: https://www.msn.com/en-us/money/other/bitcoin-dogecoin-shiba-inu-pumped-after-the-last-fomc-meeting-will-history-repeat-on-wednesday/ar-AA1nWt2Y, date: 2024-04-30T16:53:54+00:00, source: Benzinga.com on MSN.com], [snippet: Bitcoin fell to a weekly low of $60,543 on April 30, a day after the launch of the first batch of spot Bitcoin ETFs in Hong Kong. The world's first cryptocurrency is down over 7.3% on the weekly and 13% on the monthly chart, according to CoinMarketCap., title: Bitcoin sells the news on Hong Kong ETF debut — Will BTC hold $60K?, link: https://cointelegraph.com/news/bitcoin-sell-news-hong-kong-etf-launch-btc-60k, date: 2024-04-30T16:28:00+00:00, source: CoinTelegraph], [snippet: The bull market for bitcoin (CRYPTO: BTC) might have hit its peak, as suggested by Peter Brandt, the CEO of Factor LLC and a seasoned chart analyst., title: Peter Brandt Suggests Bitcoin Bull Run May Have Peaked: '...Already Reached A Price Consistent', link: https://markets.businessinsider.com/news/stocks/peter-brandt-suggests-bitcoin-bull-run-may-have-peaked-already-reached-a-price-consistent-1033306810, date: 2024-04-30T15:42:00+00:00, source: Business Insider]\n",
            "\u001b[00m\n",
            "\u001b[32;1m\u001b[1;3mThought: I now know the final answer\n",
            "\n",
            "Final Answer: \n",
            "\n",
            "The current market trend for Bitcoin (BTC) is bearish. The news suggests that the cryptocurrency market has shed nearly $200 billion in market capitalization in the last 24 hours, with some of the industry's biggest players unloading their coins. Additionally, Bitcoin is registering its worst month since the collapse of Sam Bankman-Fried's FTX empire, and the euphoria around US exchange-traded funds for the largest digital asset is subsiding. The news also highlights that Russia plans to institute a wide-ranging crypto ban in September, which could further negatively impact the market. However, there are some positive news, such as a solo bitcoin miner winning the mining \"lottery\" and earning approximately $219,000. Overall, based on the current news, I predict that the trend for Bitcoin will be down in the short term.\u001b[0m\n",
            "\n",
            "\u001b[1m> Finished chain.\u001b[0m\n",
            "\u001b[1m\u001b[92m [DEBUG]: == [Cryptocurrency News Analyst] Task output: The current market trend for Bitcoin (BTC) is bearish. The news suggests that the cryptocurrency market has shed nearly $200 billion in market capitalization in the last 24 hours, with some of the industry's biggest players unloading their coins. Additionally, Bitcoin is registering its worst month since the collapse of Sam Bankman-Fried's FTX empire, and the euphoria around US exchange-traded funds for the largest digital asset is subsiding. The news also highlights that Russia plans to institute a wide-ranging crypto ban in September, which could further negatively impact the market. However, there are some positive news, such as a solo bitcoin miner winning the mining \"lottery\" and earning approximately $219,000. Overall, based on the current news, I predict that the trend for Bitcoin will be down in the short term.\n",
            "\n",
            "\u001b[00m\n",
            "\u001b[1m\u001b[95m [DEBUG]: == Working Agent: Cryptocurrency Price Analyst\u001b[00m\n",
            "\u001b[1m\u001b[95m [INFO]: == Starting Task: \n",
            "    Use the price tool to get historical prices\n",
            "\n",
            "    The current date is 2024-04-30 18:31:00.541244.\n",
            "\n",
            "    Compose the results into a helpful report\u001b[00m\n",
            "\n",
            "\n",
            "\u001b[1m> Entering new CrewAgentExecutor chain...\u001b[0m\n",
            "\u001b[32;1m\u001b[1;3mThought: I need to get the historical prices for Bitcoin (BTC) to analyze the market trend and make a prediction.\n",
            "\n",
            "Action: price tool\n",
            "Action Input: {\"ticker_symbol\": \"BTC\"}\u001b[0m\u001b[95m \n",
            "\n",
            "2024-04-30 - 63976.61\n",
            "2024-04-29 - 63844.85\n",
            "2024-04-28 - 63108.94\n",
            "2024-04-27 - 63422.00\n",
            "2024-04-26 - 63742.39\n",
            "2024-04-25 - 64484.44\n",
            "2024-04-24 - 64255.78\n",
            "2024-04-23 - 66414.16\n",
            "2024-04-22 - 66859.17\n",
            "2024-04-21 - 64952.92\n",
            "2024-04-20 - 64968.87\n",
            "2024-04-19 - 63848.37\n",
            "2024-04-18 - 63513.85\n",
            "2024-04-17 - 61279.36\n",
            "2024-04-16 - 63814.94\n",
            "2024-04-15 - 63452.18\n",
            "2024-04-14 - 65777.05\n",
            "2024-04-13 - 64024.77\n",
            "2024-04-12 - 67148.61\n",
            "2024-04-11 - 70020.73\n",
            "2024-04-10 - 70634.04\n",
            "2024-04-09 - 69117.01\n",
            "2024-04-08 - 71622.53\n",
            "2024-04-07 - 69350.34\n",
            "2024-04-06 - 68919.89\n",
            "2024-04-05 - 67856.51\n",
            "2024-04-04 - 68525.23\n",
            "2024-04-03 - 65987.92\n",
            "2024-04-02 - 65464.14\n",
            "2024-04-01 - 69681.82\n",
            "2024-03-31 - 71288.90\n",
            "2024-03-30 - 69626.87\n",
            "2024-03-29 - 69903.75\n",
            "2024-03-28 - 70801.18\n",
            "2024-03-27 - 69435.96\n",
            "2024-03-26 - 69992.40\n",
            "2024-03-25 - 69890.28\n",
            "2024-03-24 - 67204.93\n",
            "2024-03-23 - 63998.86\n",
            "2024-03-22 - 63814.56\n",
            "2024-03-21 - 65484.70\n",
            "2024-03-20 - 67858.80\n",
            "2024-03-19 - 61906.27\n",
            "2024-03-18 - 67613.04\n",
            "2024-03-17 - 68343.64\n",
            "2024-03-16 - 65254.22\n",
            "2024-03-15 - 69506.88\n",
            "2024-03-14 - 71364.58\n",
            "2024-03-13 - 73135.04\n",
            "2024-03-12 - 71475.93\n",
            "2024-03-11 - 72110.98\n",
            "2024-03-10 - 69032.12\n",
            "2024-03-09 - 68480.00\n",
            "2024-03-08 - 68289.16\n",
            "2024-03-07 - 66938.21\n",
            "2024-03-06 - 66122.28\n",
            "2024-03-05 - 63800.78\n",
            "2024-03-04 - 68360.14\n",
            "2024-03-03 - 63154.49\n",
            "2024-03-02 - 62045.78\n",
            "\u001b[00m\n",
            "\u001b[32;1m\u001b[1;3mThought: I now know the final answer\n",
            "\n",
            "Final Answer:\n",
            "\n",
            "Based on the historical prices of Bitcoin (BTC) over the past 60 days, the market trend appears to be bullish. The prices have been fluctuating, but the overall direction is upwards. The recent prices have been consolidating around the 64,000 level, indicating a potential breakout. \n",
            "\n",
            "My prediction is that the price of Bitcoin will continue to rise in the short term, potentially breaking out above the 65,000 level. Therefore, my prediction is UP.\u001b[0m\n",
            "\n",
            "\u001b[1m> Finished chain.\u001b[0m\n",
            "\u001b[1m\u001b[92m [DEBUG]: == [Cryptocurrency Price Analyst] Task output: Based on the historical prices of Bitcoin (BTC) over the past 60 days, the market trend appears to be bullish. The prices have been fluctuating, but the overall direction is upwards. The recent prices have been consolidating around the 64,000 level, indicating a potential breakout. \n",
            "\n",
            "My prediction is that the price of Bitcoin will continue to rise in the short term, potentially breaking out above the 65,000 level. Therefore, my prediction is UP.\n",
            "\n",
            "\u001b[00m\n",
            "\u001b[1m\u001b[95m [DEBUG]: == Working Agent: Cryptocurrency Report Writer\u001b[00m\n",
            "\u001b[1m\u001b[95m [INFO]: == Starting Task: Use the reports from the news analyst and the price analyst to \n",
            "    create a report that summarizes the cryptocurrency\u001b[00m\n",
            "\n",
            "\n",
            "\u001b[1m> Entering new CrewAgentExecutor chain...\u001b[0m\n",
            "\u001b[32;1m\u001b[1;3mI now can give a great answer.\n",
            "\n",
            "Final Answer:\n",
            "\n",
            "The cryptocurrency market is experiencing a bearish trend, with a significant decline in market capitalization, shedding nearly $200 billion in the last 24 hours. The news suggests that major players are unloading their coins, and the euphoria around US exchange-traded funds is subsiding. Additionally, Russia's planned crypto ban in September may further negatively impact the market. However, historical price analysis reveals a bullish trend over the past 60 days, with prices consolidating around the 64,000 level, indicating a potential breakout. Despite the bearish news, I predict that the price of Bitcoin will continue to rise in the short term, potentially breaking out above the 65,000 level. Overall, my prediction is UP, but with caution, as the market is highly volatile and susceptible to sudden changes.\n",
            "\n",
            "Executive Summary:\n",
            "\n",
            "* Bearish market trend with a significant decline in market capitalization\n",
            "* Major players unloading coins, and euphoria around US exchange-traded funds subsiding\n",
            "* Russia's planned crypto ban in September may negatively impact the market\n",
            "* Historical price analysis reveals a bullish trend over the past 60 days\n",
            "* Prices consolidating around the 64,000 level, indicating a potential breakout\n",
            "* Prediction: UP, but with caution due to market volatility.\u001b[0m\n",
            "\n",
            "\u001b[1m> Finished chain.\u001b[0m\n",
            "\u001b[1m\u001b[92m [DEBUG]: == [Cryptocurrency Report Writer] Task output: The cryptocurrency market is experiencing a bearish trend, with a significant decline in market capitalization, shedding nearly $200 billion in the last 24 hours. The news suggests that major players are unloading their coins, and the euphoria around US exchange-traded funds is subsiding. Additionally, Russia's planned crypto ban in September may further negatively impact the market. However, historical price analysis reveals a bullish trend over the past 60 days, with prices consolidating around the 64,000 level, indicating a potential breakout. Despite the bearish news, I predict that the price of Bitcoin will continue to rise in the short term, potentially breaking out above the 65,000 level. Overall, my prediction is UP, but with caution, as the market is highly volatile and susceptible to sudden changes.\n",
            "\n",
            "Executive Summary:\n",
            "\n",
            "* Bearish market trend with a significant decline in market capitalization\n",
            "* Major players unloading coins, and euphoria around US exchange-traded funds subsiding\n",
            "* Russia's planned crypto ban in September may negatively impact the market\n",
            "* Historical price analysis reveals a bullish trend over the past 60 days\n",
            "* Prices consolidating around the 64,000 level, indicating a potential breakout\n",
            "* Prediction: UP, but with caution due to market volatility.\n",
            "\n",
            "\u001b[00m\n"
          ]
        }
      ],
      "source": [
        "results = crew.kickoff()"
      ]
    }
  ],
  "metadata": {
    "colab": {
      "provenance": []
    },
    "kernelspec": {
      "display_name": "Python 3",
      "name": "python3"
    },
    "language_info": {
      "codemirror_mode": {
        "name": "ipython",
        "version": 3
      },
      "file_extension": ".py",
      "mimetype": "text/x-python",
      "name": "python",
      "nbconvert_exporter": "python",
      "pygments_lexer": "ipython3",
      "version": "3.11.9"
    }
  },
  "nbformat": 4,
  "nbformat_minor": 0
}
