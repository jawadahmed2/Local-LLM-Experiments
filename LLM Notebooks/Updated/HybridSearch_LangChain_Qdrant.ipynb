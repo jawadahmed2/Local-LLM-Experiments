{
  "cells": [
    {
      "cell_type": "code",
      "execution_count": 1,
      "metadata": {},
      "outputs": [
        {
          "name": "stdout",
          "output_type": "stream",
          "text": [
            "Requirement already satisfied: rank_bm25 in /home/jawad/anaconda3/envs/gpu/lib/python3.12/site-packages (0.2.2)\n",
            "Requirement already satisfied: numpy in /home/jawad/anaconda3/envs/gpu/lib/python3.12/site-packages (from rank_bm25) (1.26.0)\n"
          ]
        }
      ],
      "source": [
        "!pip install rank_bm25"
      ]
    },
    {
      "cell_type": "code",
      "execution_count": 16,
      "metadata": {
        "id": "6ptzNtLeNwcW"
      },
      "outputs": [],
      "source": [
        "\n",
        "import os\n",
        "from langchain.document_loaders.pdf import OnlinePDFLoader\n",
        "from langchain.text_splitter import RecursiveCharacterTextSplitter\n",
        "\n",
        "from langchain.retrievers import BM25Retriever, EnsembleRetriever\n",
        "from langchain.schema import Document\n",
        "\n",
        "from langchain.vectorstores import Chroma\n",
        "from langchain.vectorstores import FAISS\n",
        "\n",
        "from langchain_community.embeddings.ollama import OllamaEmbeddings\n",
        "from langchain_core.output_parsers import StrOutputParser\n",
        "from langchain_core.prompts import ChatPromptTemplate\n",
        "from langchain_core.runnables import RunnablePassthrough\n",
        "from langchain_community.chat_models import ChatOllama\n",
        "from langchain.document_loaders.pdf import OnlinePDFLoader\n",
        "from langchain_community.document_loaders import PyPDFLoader"
      ]
    },
    {
      "cell_type": "markdown",
      "metadata": {
        "id": "1lX24ckCOtU5"
      },
      "source": [
        "Prior to constructing the retriever, we need to generate chunks from our original document."
      ]
    },
    {
      "cell_type": "markdown",
      "metadata": {
        "id": "MEOmRlDSNwcY"
      },
      "source": [
        "## Making chunks\n",
        "We’ll extract a PDF document from the provided URL and generate chunks using the RecursiveCharacterTextSplitter module."
      ]
    },
    {
      "cell_type": "code",
      "execution_count": null,
      "metadata": {},
      "outputs": [],
      "source": [
        "# # for online pdfs\n",
        "# url=\"https://s2.q4cdn.com/299287126/files/doc_financials/2023/q4/c7c14359-36fa-40c3-b3ca-5bf7f3fa0b96.pdf\"\n",
        "\n",
        "# loader = OnlinePDFLoader(url)"
      ]
    },
    {
      "cell_type": "code",
      "execution_count": 7,
      "metadata": {},
      "outputs": [],
      "source": [
        "# for local pdf loader\n",
        "loader = PyPDFLoader(\"data/c7c14359-36fa-40c3-b3ca-5bf7f3fa0b96.pdf\")\n"
      ]
    },
    {
      "cell_type": "code",
      "execution_count": 8,
      "metadata": {
        "id": "oFhHzUMmNwca",
        "outputId": "cf7f6036-e879-4265-af1b-67700602a666"
      },
      "outputs": [],
      "source": [
        "documents = loader.load()\n",
        "\n",
        "docuemnt_splitter = RecursiveCharacterTextSplitter(chunk_size=1000, chunk_overlap = 50, length_function = len)\n",
        "\n",
        "chunks = docuemnt_splitter.split_documents(documents)\n",
        "\n",
        "embeddings = OllamaEmbeddings(model='nomic-embed-text')\n",
        "\n",
        "list_chunks=[x.page_content for x in chunks]"
      ]
    },
    {
      "cell_type": "markdown",
      "metadata": {
        "id": "ogFB5PcEO8Mb"
      },
      "source": [
        "Combining these two retrievers, we initialize an ensemble_retriever, as demonstrated in the following code snippet. When creating the ensemble retriever, we have the option to specify the weight for each retriever."
      ]
    },
    {
      "cell_type": "code",
      "execution_count": 9,
      "metadata": {
        "id": "-iqpFuvSNwcb"
      },
      "outputs": [],
      "source": [
        "faiss_vectorstore = FAISS.from_texts(list_chunks, embeddings)\n",
        "faiss_retriever = faiss_vectorstore.as_retriever(search_kwargs={\"k\": 3})\n",
        "\n",
        "# initialize the bm25 retriever and faiss retriever\n",
        "bm25_retriever = BM25Retriever.from_texts(list_chunks)\n",
        "bm25_retriever.k = 3"
      ]
    },
    {
      "cell_type": "markdown",
      "metadata": {
        "id": "zKMzAbPMNwcc"
      },
      "source": [
        "## Query\n",
        "\n",
        "We’ve configured k=3 to retrieve the top 3 documents relevant to the query. Therefore, both the dense and sparse retrievers fetch 3 documents each. The EnsembleRetriever queries multiple retrievers at runtime and combines their separate ranked lists of results using an algorithm like Reciprocal Rank Fusion, scoring documents based on their ranks across the individual lists. This allows it to leverage different retrieval algorithms without needing to create a unified index or store documents in a single structure."
      ]
    },
    {
      "cell_type": "code",
      "execution_count": 10,
      "metadata": {
        "id": "xEQeJBVYNwcc"
      },
      "outputs": [],
      "source": [
        "query='As of December 31st 2023, what is the leased square footage for physical stores in North America?'"
      ]
    },
    {
      "cell_type": "code",
      "execution_count": 11,
      "metadata": {
        "id": "m6YKUjIFNwcd"
      },
      "outputs": [
        {
          "name": "stderr",
          "output_type": "stream",
          "text": [
            "/home/jawad/anaconda3/envs/gpu/lib/python3.12/site-packages/langchain_core/_api/deprecation.py:119: LangChainDeprecationWarning: The method `BaseRetriever.get_relevant_documents` was deprecated in langchain-core 0.1.46 and will be removed in 0.3.0. Use invoke instead.\n",
            "  warn_deprecated(\n"
          ]
        }
      ],
      "source": [
        "retrieved_keywords=bm25_retriever.get_relevant_documents(query)\n",
        "retrieved_vectors=faiss_retriever.get_relevant_documents(query)\n",
        "\n",
        "# initialize the ensemble retriever\n",
        "ensemble_retriever = EnsembleRetriever(retrievers=[bm25_retriever, faiss_retriever],\n",
        "                                       weights=[0.5, 0.5])\n",
        "retrieved_hybrid=ensemble_retriever.get_relevant_documents(query)"
      ]
    },
    {
      "cell_type": "code",
      "execution_count": 12,
      "metadata": {
        "id": "pg39Tdj-Nwcd",
        "outputId": "45b15913-0df6-490f-c91c-cd6af97fe825"
      },
      "outputs": [
        {
          "data": {
            "text/plain": [
              "[Document(page_content='Table of Contents\\nItem 2. Properties\\nAs of December 31, 2023, we operated the following facilities (in thousands):\\nDescription of UseLeased Square\\nFootage (1) Owned Square Footage Location\\nOffice space 29,655 9,222North America\\nOffice space 24,528 1,802International\\nPhysical stores (2) 22,871 707North America\\nPhysical stores (2) 255 —International\\nFulfillment, data centers, and other 413,017 25,630North America\\nFulfillment, data centers, and other 173,765 14,802International\\nTotal 664,091 52,163\\n ___________________\\n(1)For leased properties, represents the total leased space excluding sub-leased space.\\n(2)This includes 600 North America and 28 International stores as of December 31, 2023.\\nSegmentLeased Square Footage\\n(1)Owned Square Footage\\n(1)\\nNorth America 424,145 15,438\\nInternational 165,329 7,931\\nAWS 20,434 17,770\\nTotal 609,908 41,139\\n ___________________'),\n",
              " Document(page_content='Table of Contents\\nForeign Exchange Risk\\nDuring 2023, net sales from our International segment accounted for 23% of our consolidated revenues. Net sales and related expenses generated from\\nour internationally-focused stores, including within Canada and Mexico (which are included in our North America segment), are primarily denominated in the\\nfunctional currencies of the corresponding stores and primarily include Euros, British Pounds, and Japanese Yen. The results of operations of, and certain of our\\nintercompany balances associated with, our internationally-focused stores and AWS are exposed to foreign exchange rate fluctuations. Upon consolidation, as\\nforeign exchange rates vary, net sales and other operating results may differ materially from expectations, and we may record significant gains or losses on the\\nremeasurement of intercompany balances. For example, as a result of fluctuations in foreign exchange rates throughout the year compared to rates in effect the'),\n",
              " Document(page_content='Table of Contents\\nUncertain Tax Positions\\nDescription of\\nthe MatterAs discussed in Notes 1 and 9 of the consolidated financial statements, the Company is subject to income taxes in the U.S. and\\nnumerous foreign jurisdictions and during the ordinary course of business, there are many tax positions for which the ultimate tax\\ndetermination is uncertain. As a result, significant judgment is required in evaluating the Company’s tax positions and determining its\\nprovision for income taxes. The Company uses significant judgment in (1) determining whether a tax position’s technical merits are\\nmore likely than not to be sustained and (2) measuring the amount of tax benefit that qualifies for recognition. As of December 31,\\n2023, the Company reported accrued liabilities of $5.2 billion for various tax contingencies.\\nAuditing the recognition and measurement of the Company’s tax contingencies was challenging because the evaluation of whether a')]"
            ]
          },
          "execution_count": 12,
          "metadata": {},
          "output_type": "execute_result"
        }
      ],
      "source": [
        "retrieved_keywords"
      ]
    },
    {
      "cell_type": "code",
      "execution_count": 13,
      "metadata": {
        "id": "9-_EeFfyNwce",
        "outputId": "35fb18fc-90ee-462e-8454-770d2624d766"
      },
      "outputs": [
        {
          "data": {
            "text/plain": [
              "[Document(page_content='Table of Contents\\nItem 2. Properties\\nAs of December 31, 2023, we operated the following facilities (in thousands):\\nDescription of UseLeased Square\\nFootage (1) Owned Square Footage Location\\nOffice space 29,655 9,222North America\\nOffice space 24,528 1,802International\\nPhysical stores (2) 22,871 707North America\\nPhysical stores (2) 255 —International\\nFulfillment, data centers, and other 413,017 25,630North America\\nFulfillment, data centers, and other 173,765 14,802International\\nTotal 664,091 52,163\\n ___________________\\n(1)For leased properties, represents the total leased space excluding sub-leased space.\\n(2)This includes 600 North America and 28 International stores as of December 31, 2023.\\nSegmentLeased Square Footage\\n(1)Owned Square Footage\\n(1)\\nNorth America 424,145 15,438\\nInternational 165,329 7,931\\nAWS 20,434 17,770\\nTotal 609,908 41,139\\n ___________________'),\n",
              " Document(page_content='Year Ended December 31,\\n2021 2022 2023\\nMarketable equity securities valuation gains (losses) $ 11,526 $ (13,870)$ 984 \\nEquity warrant valuation gains (losses) 1,315 (2,132) 26 \\nUpward adjustments relating to equity investments in private companies 1,866 76 40 \\nForeign currency gains (losses) (55) (340) 65 \\nOther, net (19) (540) (177)\\nTotal other income (expense), net $ 14,633 $ (16,806)$ 938 \\n45'),\n",
              " Document(page_content='•factors affecting our reputation or brand image (including any actual or perceived inability to achieve our goals or commitments, whether related to\\nsustainability, customers, employees, or other topics), and public perceptions regarding social or ethical issues related to our development and use of\\nartificial intelligence and machine learning technologies, products, and services;\\n•the extent to which we invest in technology and infrastructure, fulfillment, and other expense categories;\\n•availability of and increases in the prices of transportation (including fuel), resources such as land, water, and energy, commodities like paper and\\npacking supplies and hardware products, and technology infrastructure products, including as a result of inflationary pressures;\\n•constrained labor markets, which increase our payroll costs;\\n•the extent to which operators of the networks between our customers and our stores successfully charge fees to grant our customers unimpaired and')]"
            ]
          },
          "execution_count": 13,
          "metadata": {},
          "output_type": "execute_result"
        }
      ],
      "source": [
        "retrieved_vectors"
      ]
    },
    {
      "cell_type": "code",
      "execution_count": 14,
      "metadata": {
        "id": "jiAC4UI9Nwce",
        "outputId": "22796758-0dcd-4bf3-bcdb-59723f3ec97c"
      },
      "outputs": [
        {
          "data": {
            "text/plain": [
              "[Document(page_content='Table of Contents\\nItem 2. Properties\\nAs of December 31, 2023, we operated the following facilities (in thousands):\\nDescription of UseLeased Square\\nFootage (1) Owned Square Footage Location\\nOffice space 29,655 9,222North America\\nOffice space 24,528 1,802International\\nPhysical stores (2) 22,871 707North America\\nPhysical stores (2) 255 —International\\nFulfillment, data centers, and other 413,017 25,630North America\\nFulfillment, data centers, and other 173,765 14,802International\\nTotal 664,091 52,163\\n ___________________\\n(1)For leased properties, represents the total leased space excluding sub-leased space.\\n(2)This includes 600 North America and 28 International stores as of December 31, 2023.\\nSegmentLeased Square Footage\\n(1)Owned Square Footage\\n(1)\\nNorth America 424,145 15,438\\nInternational 165,329 7,931\\nAWS 20,434 17,770\\nTotal 609,908 41,139\\n ___________________'),\n",
              " Document(page_content='Table of Contents\\nForeign Exchange Risk\\nDuring 2023, net sales from our International segment accounted for 23% of our consolidated revenues. Net sales and related expenses generated from\\nour internationally-focused stores, including within Canada and Mexico (which are included in our North America segment), are primarily denominated in the\\nfunctional currencies of the corresponding stores and primarily include Euros, British Pounds, and Japanese Yen. The results of operations of, and certain of our\\nintercompany balances associated with, our internationally-focused stores and AWS are exposed to foreign exchange rate fluctuations. Upon consolidation, as\\nforeign exchange rates vary, net sales and other operating results may differ materially from expectations, and we may record significant gains or losses on the\\nremeasurement of intercompany balances. For example, as a result of fluctuations in foreign exchange rates throughout the year compared to rates in effect the'),\n",
              " Document(page_content='Year Ended December 31,\\n2021 2022 2023\\nMarketable equity securities valuation gains (losses) $ 11,526 $ (13,870)$ 984 \\nEquity warrant valuation gains (losses) 1,315 (2,132) 26 \\nUpward adjustments relating to equity investments in private companies 1,866 76 40 \\nForeign currency gains (losses) (55) (340) 65 \\nOther, net (19) (540) (177)\\nTotal other income (expense), net $ 14,633 $ (16,806)$ 938 \\n45'),\n",
              " Document(page_content='Table of Contents\\nUncertain Tax Positions\\nDescription of\\nthe MatterAs discussed in Notes 1 and 9 of the consolidated financial statements, the Company is subject to income taxes in the U.S. and\\nnumerous foreign jurisdictions and during the ordinary course of business, there are many tax positions for which the ultimate tax\\ndetermination is uncertain. As a result, significant judgment is required in evaluating the Company’s tax positions and determining its\\nprovision for income taxes. The Company uses significant judgment in (1) determining whether a tax position’s technical merits are\\nmore likely than not to be sustained and (2) measuring the amount of tax benefit that qualifies for recognition. As of December 31,\\n2023, the Company reported accrued liabilities of $5.2 billion for various tax contingencies.\\nAuditing the recognition and measurement of the Company’s tax contingencies was challenging because the evaluation of whether a'),\n",
              " Document(page_content='•factors affecting our reputation or brand image (including any actual or perceived inability to achieve our goals or commitments, whether related to\\nsustainability, customers, employees, or other topics), and public perceptions regarding social or ethical issues related to our development and use of\\nartificial intelligence and machine learning technologies, products, and services;\\n•the extent to which we invest in technology and infrastructure, fulfillment, and other expense categories;\\n•availability of and increases in the prices of transportation (including fuel), resources such as land, water, and energy, commodities like paper and\\npacking supplies and hardware products, and technology infrastructure products, including as a result of inflationary pressures;\\n•constrained labor markets, which increase our payroll costs;\\n•the extent to which operators of the networks between our customers and our stores successfully charge fees to grant our customers unimpaired and')]"
            ]
          },
          "execution_count": 14,
          "metadata": {},
          "output_type": "execute_result"
        }
      ],
      "source": [
        "retrieved_hybrid"
      ]
    },
    {
      "cell_type": "markdown",
      "metadata": {
        "id": "tesmR9pQNwcf"
      },
      "source": [
        "## Creating  chains using retrived vectors"
      ]
    },
    {
      "cell_type": "code",
      "execution_count": 25,
      "metadata": {},
      "outputs": [],
      "source": [
        "llm = ChatOllama(model = \"llama3\")"
      ]
    },
    {
      "cell_type": "code",
      "execution_count": 26,
      "metadata": {},
      "outputs": [
        {
          "data": {
            "text/plain": [
              "AIMessage(content=\"Hello! It's nice to meet you. Is there something I can help you with, or would you like to chat?\", response_metadata={'model': 'llama3', 'created_at': '2024-08-14T17:11:13.832954391Z', 'message': {'role': 'assistant', 'content': ''}, 'done': True, 'total_duration': 16744887866, 'load_duration': 9622514170, 'prompt_eval_count': 11, 'prompt_eval_duration': 1253175000, 'eval_count': 26, 'eval_duration': 5729230000}, id='run-6a1db481-1453-4f75-a4a2-501ba9343550-0')"
            ]
          },
          "execution_count": 26,
          "metadata": {},
          "output_type": "execute_result"
        }
      ],
      "source": [
        "llm.invoke('hello')"
      ]
    },
    {
      "cell_type": "code",
      "execution_count": 27,
      "metadata": {
        "id": "2NtLWtvDNwcf"
      },
      "outputs": [],
      "source": [
        "prompt = ChatPromptTemplate.from_template(\n",
        "    \"\"\"Answer the question based only on the context provided.\n",
        "\n",
        "Context: {context}\n",
        "\n",
        "Question: {question}\"\"\"\n",
        ")\n",
        "\n",
        "\n",
        "chain_ensemble = (\n",
        "    RunnablePassthrough.assign(context=(lambda x: x[\"question\"]) | ensemble_retriever)\n",
        "    | prompt\n",
        "    | llm\n",
        "    | StrOutputParser()\n",
        ")\n",
        "\n",
        "chain_faiss = (\n",
        "    RunnablePassthrough.assign(context=(lambda x: x[\"question\"]) | faiss_retriever)\n",
        "    | prompt\n",
        "    | llm\n",
        "    | StrOutputParser()\n",
        ")\n",
        "\n",
        "chain_bm25 = (\n",
        "    RunnablePassthrough.assign(context=(lambda x: x[\"question\"]) | bm25_retriever)\n",
        "    | prompt\n",
        "    | llm\n",
        "    | StrOutputParser()\n",
        ")\n"
      ]
    },
    {
      "cell_type": "code",
      "execution_count": 28,
      "metadata": {
        "id": "tGY-WgxbNwcg",
        "outputId": "b4cd6340-8b0b-4bd0-d7a7-f5aa48e6b4f5"
      },
      "outputs": [
        {
          "data": {
            "text/plain": [
              "'Based on the provided context, as of December 31st 2023, the leased square footage for physical stores in North America is 22,871.'"
            ]
          },
          "execution_count": 28,
          "metadata": {},
          "output_type": "execute_result"
        }
      ],
      "source": [
        "\n",
        "chain_ensemble.invoke({'question':query})\n"
      ]
    },
    {
      "cell_type": "code",
      "execution_count": 29,
      "metadata": {
        "id": "YwI1jH-WNwcg",
        "outputId": "c7f0c724-ae78-4ead-cb9c-69a0f9582a43"
      },
      "outputs": [
        {
          "data": {
            "text/plain": [
              "'According to the provided table, as of December 31st, 2023, the leased square footage for physical stores in North America is 22,871 thousand.'"
            ]
          },
          "execution_count": 29,
          "metadata": {},
          "output_type": "execute_result"
        }
      ],
      "source": [
        "chain_faiss.invoke({'question':query})"
      ]
    },
    {
      "cell_type": "code",
      "execution_count": 30,
      "metadata": {
        "id": "ZXL8i367Nwcg",
        "outputId": "05310b2f-63ee-4384-ed28-fff5bb0b9fb4"
      },
      "outputs": [
        {
          "data": {
            "text/plain": [
              "'Based on the provided context, the answer is:\\n\\n22,871 thousands'"
            ]
          },
          "execution_count": 30,
          "metadata": {},
          "output_type": "execute_result"
        }
      ],
      "source": [
        "chain_bm25.invoke({'question':query})"
      ]
    },
    {
      "cell_type": "markdown",
      "metadata": {
        "id": "T2w_30g_Nwch"
      },
      "source": [
        "## Qdrant use\n",
        "\n",
        "Using Qdrant Vector Database"
      ]
    },
    {
      "cell_type": "markdown",
      "metadata": {
        "id": "SxGzxuN2PiPK"
      },
      "source": [
        "We’ll utilize the Langchain framework and the Pinecone vector database to build the hybrid RAG application. The initial step involves creating an index in the Pinecone vector database.\n",
        "\n",
        "As we are adopting a hybrid search approach, currently, it exclusively supports the “dotproduct” metric. We have the option to select the dimensionality of the embedded vector. Initially, we create an index and then proceed to upload embedded dense vectors into the index."
      ]
    },
    {
      "cell_type": "code",
      "execution_count": 39,
      "metadata": {},
      "outputs": [],
      "source": [
        "import time\n",
        "from langchain.vectorstores import Qdrant\n",
        "from qdrant_client import QdrantClient\n",
        "from qdrant_client.http import models\n",
        "from tqdm.auto import tqdm\n",
        "from qdrant_client.http.models import VectorParams\n",
        "from qdrant_client.http.models import PointStruct"
      ]
    },
    {
      "cell_type": "code",
      "execution_count": 44,
      "metadata": {},
      "outputs": [],
      "source": [
        "index_name = \"langchain-pinecone-hybrid-search-index\""
      ]
    },
    {
      "cell_type": "code",
      "execution_count": 45,
      "metadata": {},
      "outputs": [],
      "source": [
        "# Initialize Qdrant client\n",
        "client = QdrantClient(\"http://localhost:6333\")\n",
        "\n",
        "# Check if the collection already exists\n",
        "existing_collections = client.get_collections().collections\n",
        "existing_collection_names = [collection.name for collection in existing_collections]"
      ]
    },
    {
      "cell_type": "code",
      "execution_count": 46,
      "metadata": {
        "id": "5N3jRRqINwch"
      },
      "outputs": [],
      "source": [
        "# If the collection does not exist, create it\n",
        "if index_name not in existing_collection_names:\n",
        "    client.create_collection(\n",
        "        collection_name=index_name,\n",
        "        vectors_config=VectorParams(size=768, distance=\"Dot\"),\n",
        "    )"
      ]
    },
    {
      "cell_type": "code",
      "execution_count": 47,
      "metadata": {
        "id": "SyWyRtKMNwch"
      },
      "outputs": [],
      "source": [
        "# Extract text from the Document objects\n",
        "texts = [doc.page_content for doc in chunks]\n",
        "\n",
        "# Generate embeddings for the extracted text\n",
        "vectors = embeddings.embed_documents(texts)\n",
        "\n",
        "# Prepare points for insertion\n",
        "points = [\n",
        "    PointStruct(id=i, vector=vector, payload={\"text\": text})\n",
        "    for i, (text, vector) in enumerate(zip(texts, vectors))\n",
        "]"
      ]
    },
    {
      "cell_type": "code",
      "execution_count": 49,
      "metadata": {},
      "outputs": [],
      "source": [
        "# Insert points into Qdrant collection\n",
        "client.upsert(collection_name=index_name, points=points)\n",
        "\n",
        "# Use LangChain's Qdrant wrapper to connect to the collection\n",
        "vector_store = Qdrant(client=client, collection_name=index_name, embeddings=embeddings)"
      ]
    },
    {
      "cell_type": "markdown",
      "metadata": {
        "id": "MDT4QWiSPytF"
      },
      "source": [
        "We additionally generate a sparse vector using the BM25Encoder and store it in a JSON file. By combining these two types of vectors, we initialize the hybrid search retriever as demonstrated below:"
      ]
    },
    {
      "cell_type": "code",
      "execution_count": null,
      "metadata": {},
      "outputs": [],
      "source": [
        "!pip install fastembed\n"
      ]
    },
    {
      "cell_type": "code",
      "execution_count": 57,
      "metadata": {},
      "outputs": [],
      "source": [
        "from langchain_qdrant import FastEmbedSparse, RetrievalMode"
      ]
    },
    {
      "cell_type": "code",
      "execution_count": 60,
      "metadata": {},
      "outputs": [
        {
          "data": {
            "application/vnd.jupyter.widget-view+json": {
              "model_id": "51db9e9c0c8a43ae8be05aa0a3b892bd",
              "version_major": 2,
              "version_minor": 0
            },
            "text/plain": [
              "Fetching 6 files:   0%|          | 0/6 [00:00<?, ?it/s]"
            ]
          },
          "metadata": {},
          "output_type": "display_data"
        },
        {
          "data": {
            "application/vnd.jupyter.widget-view+json": {
              "model_id": "c4ab64c69c164a27b69b6075b64022a3",
              "version_major": 2,
              "version_minor": 0
            },
            "text/plain": [
              "config.json:   0%|          | 0.00/707 [00:00<?, ?B/s]"
            ]
          },
          "metadata": {},
          "output_type": "display_data"
        },
        {
          "data": {
            "application/vnd.jupyter.widget-view+json": {
              "model_id": "e09ef52710d846b3aed617e1d4fd93a9",
              "version_major": 2,
              "version_minor": 0
            },
            "text/plain": [
              "tokenizer_config.json:   0%|          | 0.00/1.43k [00:00<?, ?B/s]"
            ]
          },
          "metadata": {},
          "output_type": "display_data"
        },
        {
          "data": {
            "application/vnd.jupyter.widget-view+json": {
              "model_id": "41a7efcca4a545f59f436e6f1ecf8ed9",
              "version_major": 2,
              "version_minor": 0
            },
            "text/plain": [
              "model.onnx:   0%|          | 0.00/91.0M [00:00<?, ?B/s]"
            ]
          },
          "metadata": {},
          "output_type": "display_data"
        },
        {
          "data": {
            "application/vnd.jupyter.widget-view+json": {
              "model_id": "0c9efeebef2648e2856b04f9ef60c66f",
              "version_major": 2,
              "version_minor": 0
            },
            "text/plain": [
              "special_tokens_map.json:   0%|          | 0.00/695 [00:00<?, ?B/s]"
            ]
          },
          "metadata": {},
          "output_type": "display_data"
        },
        {
          "data": {
            "application/vnd.jupyter.widget-view+json": {
              "model_id": "9e2c42afb8254efebe5b8f8858c39311",
              "version_major": 2,
              "version_minor": 0
            },
            "text/plain": [
              "stopwords.txt:   0%|          | 0.00/936 [00:00<?, ?B/s]"
            ]
          },
          "metadata": {},
          "output_type": "display_data"
        },
        {
          "data": {
            "application/vnd.jupyter.widget-view+json": {
              "model_id": "99aaf9e93bd940408954fd9385248cf6",
              "version_major": 2,
              "version_minor": 0
            },
            "text/plain": [
              "tokenizer.json:   0%|          | 0.00/711k [00:00<?, ?B/s]"
            ]
          },
          "metadata": {},
          "output_type": "display_data"
        }
      ],
      "source": [
        "sparse_embeddings = FastEmbedSparse(model_name=\"Qdrant/bm42-all-minilm-l6-v2-attentions\")"
      ]
    },
    {
      "cell_type": "markdown",
      "metadata": {},
      "source": [
        "#### Hybrid Vector Search\n",
        "To perform a hybrid search using dense and sparse vectors with score fusion,\n",
        "\n",
        "The retrieval_mode parameter should be set to RetrievalMode.HYBRID.\n",
        "A dense embeddings value should be provided to the embedding parameter.\n",
        "An implementation of the SparseEmbeddings interface using any sparse embeddings provider has to be provided as value to the sparse_embedding parameter."
      ]
    },
    {
      "cell_type": "code",
      "execution_count": 61,
      "metadata": {},
      "outputs": [],
      "source": [
        "from langchain_qdrant import QdrantVectorStore"
      ]
    },
    {
      "cell_type": "code",
      "execution_count": 69,
      "metadata": {},
      "outputs": [],
      "source": [
        "# Convert PointStruct objects to Document objects\n",
        "documents = [\n",
        "    Document(page_content=point.payload[\"text\"])\n",
        "    for point in points\n",
        "]"
      ]
    },
    {
      "cell_type": "code",
      "execution_count": 70,
      "metadata": {
        "colab": {
          "referenced_widgets": [
            "958b9443141b4a5e877716dbf2faa17e"
          ]
        },
        "id": "MUCyIvcTNwcj",
        "outputId": "b43bcffc-97f4-4000-d12e-c560672a7fd5"
      },
      "outputs": [],
      "source": [
        "qdrant = QdrantVectorStore.from_documents(\n",
        "    documents=documents,\n",
        "    embedding=embeddings,\n",
        "    sparse_embedding=sparse_embeddings,\n",
        "    location=\":memory:\",\n",
        "    collection_name=\"my_documents\",\n",
        "    retrieval_mode=RetrievalMode.HYBRID,\n",
        ")"
      ]
    },
    {
      "cell_type": "code",
      "execution_count": 71,
      "metadata": {
        "id": "4MKqLZycNwck"
      },
      "outputs": [],
      "source": [
        "retriever_qdrant = qdrant.similarity_search(\"As of December 31st 2023, what is the leased square footage for physical stores in North America?\")"
      ]
    },
    {
      "cell_type": "code",
      "execution_count": 72,
      "metadata": {},
      "outputs": [
        {
          "data": {
            "text/plain": [
              "[Document(page_content='Table of Contents\\nItem 2. Properties\\nAs of December 31, 2023, we operated the following facilities (in thousands):\\nDescription of UseLeased Square\\nFootage (1) Owned Square Footage Location\\nOffice space 29,655 9,222North America\\nOffice space 24,528 1,802International\\nPhysical stores (2) 22,871 707North America\\nPhysical stores (2) 255 —International\\nFulfillment, data centers, and other 413,017 25,630North America\\nFulfillment, data centers, and other 173,765 14,802International\\nTotal 664,091 52,163\\n ___________________\\n(1)For leased properties, represents the total leased space excluding sub-leased space.\\n(2)This includes 600 North America and 28 International stores as of December 31, 2023.\\nSegmentLeased Square Footage\\n(1)Owned Square Footage\\n(1)\\nNorth America 424,145 15,438\\nInternational 165,329 7,931\\nAWS 20,434 17,770\\nTotal 609,908 41,139\\n ___________________', metadata={'_id': '8eb8152c210d481bac363d7f6bb998ea', '_collection_name': 'my_documents'}),\n",
              " Document(page_content='Property and equipment, net by segment is as follows (in millions):\\n December 31,\\n 2021 2022 2023\\nNorth America $ 83,640 $ 90,076 $ 93,632 \\nInternational 21,718 23,347 24,357 \\nAWS 43,245 60,324 72,701 \\nCorporate 11,678 12,968 13,487 \\nConsolidated $ 160,281 $ 186,715 $ 204,177 \\nTotal net additions to property and equipment by segment are as follows (in millions):\\n Year Ended December 31,\\n 2021 2022 2023\\nNorth America (1) $ 37,397 $ 23,682 $ 17,529 \\nInternational (1) 10,259 6,711 4,144 \\nAWS (2) 22,047 27,755 24,843 \\nCorporate 2,622 2,688 1,828 \\nConsolidated $ 72,325 $ 60,836 $ 48,344 \\n___________________\\n(1)Includes property and equipment added under finance leases of $3.6 billion, $422 million, and $525 million in 2021, 2022, and 2023, and under build-to-\\nsuit lease arrangements of $5.6 billion, $3.2 billion, and $356 million in 2021, 2022, and 2023.', metadata={'_id': 'dc00eb9b16564202b84870f385d71ac7', '_collection_name': 'my_documents'}),\n",
              " Document(page_content='Year Ended December 31,\\n 2021 2022 2023\\nNorth America $ 9,234 $ 11,565 $ 13,678 \\nInternational 3,022 3,483 4,016 \\nAWS 10,653 9,876 12,531 \\nConsolidated $ 22,909 $ 24,924 $ 30,225 \\n70', metadata={'_id': 'ebdaa59c052c43588984e68c0854634b', '_collection_name': 'my_documents'}),\n",
              " Document(page_content='six years in January 2024, which, based on servers that are included in “Property and equipment, net” as of December 31, 2023, will have an anticipated impact\\nto our 2024 operating income of $3.1 billion. We had previously increased the useful life of our servers from four years to five years in January 2022.\\nFor the year ended December 31, 2022, we recorded approximately $1.1 billion, of which $720 million was recorded in the fourth quarter, of\\nimpairments of property and equipment and operating leases primarily related to physical stores. These charges were recorded in “Other operating expense\\n(income), net” on our consolidated statements of operations and primarily impacted our North America segment. For the year ended December 31, 2022, we\\nalso recorded expenses of approximately $480 million, primarily in “Fulfillment”, on our consolidated statements of operations primarily relating to', metadata={'_id': 'e3920836fa914cf3909f1d87d8fdb111', '_collection_name': 'my_documents'})]"
            ]
          },
          "execution_count": 72,
          "metadata": {},
          "output_type": "execute_result"
        }
      ],
      "source": [
        "retriever_qdrant"
      ]
    },
    {
      "cell_type": "markdown",
      "metadata": {},
      "source": [
        "### Qdrant Sparse vector\n",
        "Qdrant is an open-source, high-performance vector search engine/database.\n",
        "\n",
        "QdrantSparseVectorRetriever uses sparse vectors introduced in Qdrant v1.7.0 for document retrieval."
      ]
    },
    {
      "cell_type": "code",
      "execution_count": 73,
      "metadata": {},
      "outputs": [
        {
          "data": {
            "text/plain": [
              "True"
            ]
          },
          "execution_count": 73,
          "metadata": {},
          "output_type": "execute_result"
        }
      ],
      "source": [
        "client = QdrantClient(location=\":memory:\")\n",
        "collection_name = \"sparse_collection\"\n",
        "vector_name = \"sparse_vector\"\n",
        "\n",
        "client.create_collection(\n",
        "    collection_name,\n",
        "    vectors_config={},\n",
        "    sparse_vectors_config={\n",
        "        vector_name: models.SparseVectorParams(\n",
        "            index=models.SparseIndexParams(\n",
        "                on_disk=False,\n",
        "            )\n",
        "        )\n",
        "    },\n",
        ")"
      ]
    },
    {
      "cell_type": "code",
      "execution_count": 74,
      "metadata": {},
      "outputs": [],
      "source": [
        "from langchain_community.retrievers import (\n",
        "    QdrantSparseVectorRetriever,\n",
        ")\n",
        "from langchain_core.documents import Document"
      ]
    },
    {
      "cell_type": "code",
      "execution_count": 75,
      "metadata": {},
      "outputs": [],
      "source": [
        "import random\n",
        "\n",
        "\n",
        "def demo_encoder(_: str) -> tuple[list[int], list[float]]:\n",
        "    return (\n",
        "        sorted(random.sample(range(100), 100)),\n",
        "        [random.uniform(0.1, 1.0) for _ in range(100)],\n",
        "    )\n",
        "\n",
        "\n",
        "# Create a retriever with a demo encoder\n",
        "retriever = QdrantSparseVectorRetriever(\n",
        "    client=client,\n",
        "    collection_name=collection_name,\n",
        "    sparse_vector_name=vector_name,\n",
        "    sparse_encoder=demo_encoder,\n",
        ")"
      ]
    },
    {
      "cell_type": "code",
      "execution_count": null,
      "metadata": {},
      "outputs": [],
      "source": [
        "retriever.add_documents(documents)"
      ]
    },
    {
      "cell_type": "code",
      "execution_count": 77,
      "metadata": {},
      "outputs": [
        {
          "data": {
            "text/plain": [
              "[Document(page_content='operation of its stores including its fulfillment network, Amazon’s acquisitions, and certain aspects of AWS’s offering of cloud services. We strongly dispute\\nthese claims and intend to defend ourselves vigorously in these investigations. Similarly, we face investigations under a growing patchwork of laws and\\nregulations governing the collection, use, and disclosure of data, the interpretation of which continues to evolve, leading to uncertainty about how regulators\\nwill view our privacy practices. In addition, regulators and lawmakers are increasingly focused on controlling additional aspects of the operations of\\ntechnology companies and companies they have characterized to be online “gatekeepers” through the application of existing regulations and laws and the\\nadoption of new regulations and laws, which increases our compliance costs and limits the operation of our business. Unfavorable regulations, laws, decisions,', metadata={'_id': '3949b8a249ec416bbc2284ed2156c758', '_collection_name': 'sparse_collection'}),\n",
              " Document(page_content='397 days from the date of issue. There were $6.8 billion of\\n58', metadata={'_id': 'ef5bf8f7f997495d9080b9b865d81461', '_collection_name': 'sparse_collection'}),\n",
              " Document(page_content='us to substantially utilize or pay for the entire asset over its estimated life. Assets acquired under finance leases are recorded in “Property and equipment, net.”\\nAll other leases are categorized as operating leases. Our leases generally have terms that range from one to ten years for equipment and one to twenty years for\\nproperty.\\nCertain lease contracts include obligations to pay for other services, such as operations and maintenance. For leases of property, we account for these\\nother services as a component of the lease. For substantially all other leases, the services are accounted for separately and we allocate payments to the lease and\\nother services components based on estimated stand-alone prices.\\nLease liabilities are recognized at the present value of the fixed lease payments, reduced by landlord incentives using a discount rate based on similarly', metadata={'_id': '1e46ec82c3af4ca3b65edee3a2016978', '_collection_name': 'sparse_collection'}),\n",
              " Document(page_content='(c) Evaluated the effectiveness of the registrant’s disclosure controls and procedures and presented in this report our conclusions about the\\neffectiveness of the disclosure controls and procedures, as of the end of the period covered by this report based on such evaluation; and\\n(d) Disclosed in this report any change in the registrant’s internal control over financial reporting that occurred during the registrant’s most recent\\nfiscal quarter (the registrant’s fourth fiscal quarter in the case of an annual report) that has materially affected, or is reasonably likely to materially affect,\\nthe registrant’s internal control over financial reporting; and\\n5. The registrant’s other certifying officer(s) and I have disclosed, based on our most recent evaluation of internal control over financial reporting, to the\\nregistrant’s auditors and the audit committee of the registrant’s board of directors (or persons performing the equivalent functions):', metadata={'_id': '07f8d430ea5b4c548f38e1b37a72d806', '_collection_name': 'sparse_collection'})]"
            ]
          },
          "execution_count": 77,
          "metadata": {},
          "output_type": "execute_result"
        }
      ],
      "source": [
        "retriever.invoke(\n",
        "    \"As of December 31st 2023, what is the leased square footage for physical stores in North America?\",\n",
        ")"
      ]
    },
    {
      "cell_type": "markdown",
      "metadata": {},
      "source": [
        "#### Create a get relevant document function"
      ]
    },
    {
      "cell_type": "markdown",
      "metadata": {
        "id": "xPQ8lR3yP7kD"
      },
      "source": [
        "Let’s adjust the _get_relevant_documents function and proceed."
      ]
    },
    {
      "cell_type": "code",
      "execution_count": 82,
      "metadata": {
        "id": "av5JvhaINwck"
      },
      "outputs": [],
      "source": [
        "from langchain_qdrant import QdrantVectorStore\n",
        "from langchain_core.documents.base import Document\n",
        "\n",
        "def get_relevant_documents(query, qdrant: QdrantVectorStore):\n",
        "    # Encode the query using the dense embedding model\n",
        "    # dense_vec = embeddings.embed_query(query)\n",
        "\n",
        "    # Perform the dense similarity search in Qdrant\n",
        "    results = qdrant.similarity_search(\n",
        "        query=query,\n",
        "        k=4  # Number of top results to return\n",
        "    )\n",
        "\n",
        "    # Convert the results to a list of Document objects\n",
        "    final_result = []\n",
        "    for result in results:\n",
        "        final_result.append(\n",
        "            Document(page_content=result.page_content, metadata=result.metadata)\n",
        "        )\n",
        "\n",
        "    return final_result\n"
      ]
    },
    {
      "cell_type": "code",
      "execution_count": 83,
      "metadata": {
        "id": "ilZpKz1lNwck",
        "outputId": "9054be07-c39d-46c3-ff83-0b5c087cc28c"
      },
      "outputs": [
        {
          "data": {
            "text/plain": [
              "[Document(page_content='Table of Contents\\nItem 2. Properties\\nAs of December 31, 2023, we operated the following facilities (in thousands):\\nDescription of UseLeased Square\\nFootage (1) Owned Square Footage Location\\nOffice space 29,655 9,222North America\\nOffice space 24,528 1,802International\\nPhysical stores (2) 22,871 707North America\\nPhysical stores (2) 255 —International\\nFulfillment, data centers, and other 413,017 25,630North America\\nFulfillment, data centers, and other 173,765 14,802International\\nTotal 664,091 52,163\\n ___________________\\n(1)For leased properties, represents the total leased space excluding sub-leased space.\\n(2)This includes 600 North America and 28 International stores as of December 31, 2023.\\nSegmentLeased Square Footage\\n(1)Owned Square Footage\\n(1)\\nNorth America 424,145 15,438\\nInternational 165,329 7,931\\nAWS 20,434 17,770\\nTotal 609,908 41,139\\n ___________________', metadata={'_id': '8eb8152c210d481bac363d7f6bb998ea', '_collection_name': 'my_documents'}),\n",
              " Document(page_content='Property and equipment, net by segment is as follows (in millions):\\n December 31,\\n 2021 2022 2023\\nNorth America $ 83,640 $ 90,076 $ 93,632 \\nInternational 21,718 23,347 24,357 \\nAWS 43,245 60,324 72,701 \\nCorporate 11,678 12,968 13,487 \\nConsolidated $ 160,281 $ 186,715 $ 204,177 \\nTotal net additions to property and equipment by segment are as follows (in millions):\\n Year Ended December 31,\\n 2021 2022 2023\\nNorth America (1) $ 37,397 $ 23,682 $ 17,529 \\nInternational (1) 10,259 6,711 4,144 \\nAWS (2) 22,047 27,755 24,843 \\nCorporate 2,622 2,688 1,828 \\nConsolidated $ 72,325 $ 60,836 $ 48,344 \\n___________________\\n(1)Includes property and equipment added under finance leases of $3.6 billion, $422 million, and $525 million in 2021, 2022, and 2023, and under build-to-\\nsuit lease arrangements of $5.6 billion, $3.2 billion, and $356 million in 2021, 2022, and 2023.', metadata={'_id': 'dc00eb9b16564202b84870f385d71ac7', '_collection_name': 'my_documents'}),\n",
              " Document(page_content='Year Ended December 31,\\n 2021 2022 2023\\nNorth America $ 9,234 $ 11,565 $ 13,678 \\nInternational 3,022 3,483 4,016 \\nAWS 10,653 9,876 12,531 \\nConsolidated $ 22,909 $ 24,924 $ 30,225 \\n70', metadata={'_id': 'ebdaa59c052c43588984e68c0854634b', '_collection_name': 'my_documents'}),\n",
              " Document(page_content='six years in January 2024, which, based on servers that are included in “Property and equipment, net” as of December 31, 2023, will have an anticipated impact\\nto our 2024 operating income of $3.1 billion. We had previously increased the useful life of our servers from four years to five years in January 2022.\\nFor the year ended December 31, 2022, we recorded approximately $1.1 billion, of which $720 million was recorded in the fourth quarter, of\\nimpairments of property and equipment and operating leases primarily related to physical stores. These charges were recorded in “Other operating expense\\n(income), net” on our consolidated statements of operations and primarily impacted our North America segment. For the year ended December 31, 2022, we\\nalso recorded expenses of approximately $480 million, primarily in “Fulfillment”, on our consolidated statements of operations primarily relating to', metadata={'_id': 'e3920836fa914cf3909f1d87d8fdb111', '_collection_name': 'my_documents'})]"
            ]
          },
          "execution_count": 83,
          "metadata": {},
          "output_type": "execute_result"
        }
      ],
      "source": [
        "final_result=get_relevant_documents(query, qdrant)\n",
        "final_result"
      ]
    },
    {
      "cell_type": "markdown",
      "metadata": {
        "id": "wEJRi1hBNwck"
      },
      "source": [
        "### Creating chain and final response"
      ]
    },
    {
      "cell_type": "code",
      "execution_count": 84,
      "metadata": {
        "id": "YquIMkACNwcl",
        "outputId": "bcf5cbf0-1b24-412b-ec1b-a4782f5ec014"
      },
      "outputs": [
        {
          "data": {
            "text/plain": [
              "'Based on the provided context, the answer to the question is:\\n\\nAs of December 31st, 2023, the leased square footage for physical stores in North America is 22,871.'"
            ]
          },
          "execution_count": 84,
          "metadata": {},
          "output_type": "execute_result"
        }
      ],
      "source": [
        "chain_new = (\n",
        "    RunnablePassthrough.assign(context=lambda x: final_result)\n",
        "    | prompt\n",
        "    | llm\n",
        "    | StrOutputParser()\n",
        ")\n",
        "chain_new.invoke({\"question\":query})"
      ]
    }
  ],
  "metadata": {
    "colab": {
      "provenance": []
    },
    "kernelspec": {
      "display_name": "langchain",
      "language": "python",
      "name": "python3"
    },
    "language_info": {
      "codemirror_mode": {
        "name": "ipython",
        "version": 3
      },
      "file_extension": ".py",
      "mimetype": "text/x-python",
      "name": "python",
      "nbconvert_exporter": "python",
      "pygments_lexer": "ipython3",
      "version": "3.12.3"
    }
  },
  "nbformat": 4,
  "nbformat_minor": 0
}
