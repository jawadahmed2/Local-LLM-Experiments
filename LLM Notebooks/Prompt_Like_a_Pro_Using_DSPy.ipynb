{
  "cells": [
    {
      "cell_type": "markdown",
      "metadata": {
        "id": "gH2-_bvoQL4v"
      },
      "source": [
        "### Building a Chain of thought of RAG Pipeline using Ollama x llama2, Qdrant and DSPy."
      ]
    },
    {
      "cell_type": "markdown",
      "metadata": {
        "id": "qJcQAIMSQL4z"
      },
      "source": [
        "## Setup"
      ]
    },
    {
      "cell_type": "code",
      "execution_count": 3,
      "metadata": {
        "id": "D-GfHrEGQL40"
      },
      "outputs": [],
      "source": [
        "# !pip install dspy-ai\n",
        "# !pip install qdrant-client\n",
        "# !pip install ollama\n",
        "# !pip install dspy"
      ]
    },
    {
      "cell_type": "markdown",
      "metadata": {
        "id": "XpJdw5AxQL42"
      },
      "source": [
        "## Load the dataset"
      ]
    },
    {
      "cell_type": "code",
      "execution_count": 1,
      "metadata": {},
      "outputs": [
        {
          "name": "stdout",
          "output_type": "stream",
          "text": [
            "Collecting dspy\n",
            "  Downloading dspy-0.1.5-py3-none-any.whl.metadata (692 bytes)\n",
            "Collecting dspy-ai==2.4.5 (from dspy)\n",
            "  Downloading dspy_ai-2.4.5-py3-none-any.whl.metadata (36 kB)\n",
            "Requirement already satisfied: backoff~=2.2.1 in /home/jawad/anaconda3/envs/gpu/lib/python3.12/site-packages (from dspy-ai==2.4.5->dspy) (2.2.1)\n",
            "Collecting joblib~=1.3.2 (from dspy-ai==2.4.5->dspy)\n",
            "  Downloading joblib-1.3.2-py3-none-any.whl.metadata (5.4 kB)\n",
            "Requirement already satisfied: openai<2.0.0,>=0.28.1 in /home/jawad/anaconda3/envs/gpu/lib/python3.12/site-packages (from dspy-ai==2.4.5->dspy) (1.35.3)\n",
            "Requirement already satisfied: pandas in /home/jawad/anaconda3/envs/gpu/lib/python3.12/site-packages (from dspy-ai==2.4.5->dspy) (2.2.2)\n",
            "Requirement already satisfied: regex in /home/jawad/anaconda3/envs/gpu/lib/python3.12/site-packages (from dspy-ai==2.4.5->dspy) (2023.12.25)\n",
            "Collecting ujson (from dspy-ai==2.4.5->dspy)\n",
            "  Downloading ujson-5.10.0-cp312-cp312-manylinux_2_17_x86_64.manylinux2014_x86_64.whl.metadata (9.3 kB)\n",
            "Requirement already satisfied: tqdm in /home/jawad/anaconda3/envs/gpu/lib/python3.12/site-packages (from dspy-ai==2.4.5->dspy) (4.66.4)\n",
            "Collecting datasets<3.0.0,~=2.14.6 (from dspy-ai==2.4.5->dspy)\n",
            "  Downloading datasets-2.14.7-py3-none-any.whl.metadata (19 kB)\n",
            "Requirement already satisfied: requests in /home/jawad/anaconda3/envs/gpu/lib/python3.12/site-packages (from dspy-ai==2.4.5->dspy) (2.31.0)\n",
            "Collecting optuna (from dspy-ai==2.4.5->dspy)\n",
            "  Downloading optuna-3.6.1-py3-none-any.whl.metadata (17 kB)\n",
            "Collecting pydantic==2.5.0 (from dspy-ai==2.4.5->dspy)\n",
            "\u001b[33m  WARNING: Retrying (Retry(total=4, connect=None, read=None, redirect=None, status=None)) after connection broken by 'ReadTimeoutError(\"HTTPSConnectionPool(host='files.pythonhosted.org', port=443): Read timed out. (read timeout=15)\")': /packages/d7/10/ddfb9539a6e55f7dfd6c2b9b81d86fcba2761ba87eeb81f8b1012957dcdc/pydantic-2.5.0-py3-none-any.whl.metadata\u001b[0m\u001b[33m\n",
            "\u001b[0m  Downloading pydantic-2.5.0-py3-none-any.whl.metadata (174 kB)\n",
            "Requirement already satisfied: annotated-types>=0.4.0 in /home/jawad/anaconda3/envs/gpu/lib/python3.12/site-packages (from pydantic==2.5.0->dspy-ai==2.4.5->dspy) (0.6.0)\n"
          ]
        }
      ],
      "source": [
        "# Install the dspy module\n",
        "!pip install dspy"
      ]
    },
    {
      "cell_type": "code",
      "execution_count": 2,
      "metadata": {
        "colab": {
          "base_uri": "https://localhost:8080/"
        },
        "id": "ilQVbojpQL42",
        "outputId": "76a91879-b5fb-4f15-cd85-41b7b192aa55"
      },
      "outputs": [
        {
          "name": "stdout",
          "output_type": "stream",
          "text": [
            "Requirement already satisfied: dspy in /usr/local/lib/python3.10/dist-packages (0.1.5)\n",
            "Requirement already satisfied: dspy-ai==2.4.5 in /usr/local/lib/python3.10/dist-packages (from dspy) (2.4.5)\n",
            "Requirement already satisfied: backoff~=2.2.1 in /usr/local/lib/python3.10/dist-packages (from dspy-ai==2.4.5->dspy) (2.2.1)\n",
            "Requirement already satisfied: joblib~=1.3.2 in /usr/local/lib/python3.10/dist-packages (from dspy-ai==2.4.5->dspy) (1.3.2)\n",
            "Requirement already satisfied: openai<2.0.0,>=0.28.1 in /usr/local/lib/python3.10/dist-packages (from dspy-ai==2.4.5->dspy) (1.25.1)\n",
            "Requirement already satisfied: pandas in /usr/local/lib/python3.10/dist-packages (from dspy-ai==2.4.5->dspy) (2.0.3)\n",
            "Requirement already satisfied: regex in /usr/local/lib/python3.10/dist-packages (from dspy-ai==2.4.5->dspy) (2023.12.25)\n",
            "Requirement already satisfied: ujson in /usr/local/lib/python3.10/dist-packages (from dspy-ai==2.4.5->dspy) (5.9.0)\n",
            "Requirement already satisfied: tqdm in /usr/local/lib/python3.10/dist-packages (from dspy-ai==2.4.5->dspy) (4.66.2)\n",
            "Requirement already satisfied: datasets<3.0.0,~=2.14.6 in /usr/local/lib/python3.10/dist-packages (from dspy-ai==2.4.5->dspy) (2.14.7)\n",
            "Requirement already satisfied: requests in /usr/local/lib/python3.10/dist-packages (from dspy-ai==2.4.5->dspy) (2.31.0)\n",
            "Requirement already satisfied: optuna in /usr/local/lib/python3.10/dist-packages (from dspy-ai==2.4.5->dspy) (3.6.1)\n",
            "Requirement already satisfied: pydantic==2.5.0 in /usr/local/lib/python3.10/dist-packages (from dspy-ai==2.4.5->dspy) (2.5.0)\n",
            "Requirement already satisfied: annotated-types>=0.4.0 in /usr/local/lib/python3.10/dist-packages (from pydantic==2.5.0->dspy-ai==2.4.5->dspy) (0.6.0)\n",
            "Requirement already satisfied: pydantic-core==2.14.1 in /usr/local/lib/python3.10/dist-packages (from pydantic==2.5.0->dspy-ai==2.4.5->dspy) (2.14.1)\n",
            "Requirement already satisfied: typing-extensions>=4.6.1 in /usr/local/lib/python3.10/dist-packages (from pydantic==2.5.0->dspy-ai==2.4.5->dspy) (4.11.0)\n",
            "Requirement already satisfied: numpy>=1.17 in /usr/local/lib/python3.10/dist-packages (from datasets<3.0.0,~=2.14.6->dspy-ai==2.4.5->dspy) (1.25.2)\n",
            "Requirement already satisfied: pyarrow>=8.0.0 in /usr/local/lib/python3.10/dist-packages (from datasets<3.0.0,~=2.14.6->dspy-ai==2.4.5->dspy) (14.0.2)\n",
            "Requirement already satisfied: pyarrow-hotfix in /usr/local/lib/python3.10/dist-packages (from datasets<3.0.0,~=2.14.6->dspy-ai==2.4.5->dspy) (0.6)\n",
            "Requirement already satisfied: dill<0.3.8,>=0.3.0 in /usr/local/lib/python3.10/dist-packages (from datasets<3.0.0,~=2.14.6->dspy-ai==2.4.5->dspy) (0.3.7)\n",
            "Requirement already satisfied: xxhash in /usr/local/lib/python3.10/dist-packages (from datasets<3.0.0,~=2.14.6->dspy-ai==2.4.5->dspy) (3.4.1)\n",
            "Requirement already satisfied: multiprocess in /usr/local/lib/python3.10/dist-packages (from datasets<3.0.0,~=2.14.6->dspy-ai==2.4.5->dspy) (0.70.15)\n",
            "Requirement already satisfied: fsspec[http]<=2023.10.0,>=2023.1.0 in /usr/local/lib/python3.10/dist-packages (from datasets<3.0.0,~=2.14.6->dspy-ai==2.4.5->dspy) (2023.6.0)\n",
            "Requirement already satisfied: aiohttp in /usr/local/lib/python3.10/dist-packages (from datasets<3.0.0,~=2.14.6->dspy-ai==2.4.5->dspy) (3.9.5)\n",
            "Requirement already satisfied: huggingface-hub<1.0.0,>=0.14.0 in /usr/local/lib/python3.10/dist-packages (from datasets<3.0.0,~=2.14.6->dspy-ai==2.4.5->dspy) (0.19.4)\n",
            "Requirement already satisfied: packaging in /usr/local/lib/python3.10/dist-packages (from datasets<3.0.0,~=2.14.6->dspy-ai==2.4.5->dspy) (24.0)\n",
            "Requirement already satisfied: pyyaml>=5.1 in /usr/local/lib/python3.10/dist-packages (from datasets<3.0.0,~=2.14.6->dspy-ai==2.4.5->dspy) (6.0.1)\n",
            "Requirement already satisfied: anyio<5,>=3.5.0 in /usr/local/lib/python3.10/dist-packages (from openai<2.0.0,>=0.28.1->dspy-ai==2.4.5->dspy) (3.7.1)\n",
            "Requirement already satisfied: distro<2,>=1.7.0 in /usr/lib/python3/dist-packages (from openai<2.0.0,>=0.28.1->dspy-ai==2.4.5->dspy) (1.7.0)\n",
            "Requirement already satisfied: httpx<1,>=0.23.0 in /usr/local/lib/python3.10/dist-packages (from openai<2.0.0,>=0.28.1->dspy-ai==2.4.5->dspy) (0.27.0)\n",
            "Requirement already satisfied: sniffio in /usr/local/lib/python3.10/dist-packages (from openai<2.0.0,>=0.28.1->dspy-ai==2.4.5->dspy) (1.3.1)\n",
            "Requirement already satisfied: charset-normalizer<4,>=2 in /usr/local/lib/python3.10/dist-packages (from requests->dspy-ai==2.4.5->dspy) (3.3.2)\n",
            "Requirement already satisfied: idna<4,>=2.5 in /usr/local/lib/python3.10/dist-packages (from requests->dspy-ai==2.4.5->dspy) (3.7)\n",
            "Requirement already satisfied: urllib3<3,>=1.21.1 in /usr/local/lib/python3.10/dist-packages (from requests->dspy-ai==2.4.5->dspy) (1.26.18)\n",
            "Requirement already satisfied: certifi>=2017.4.17 in /usr/local/lib/python3.10/dist-packages (from requests->dspy-ai==2.4.5->dspy) (2024.2.2)\n",
            "Requirement already satisfied: alembic>=1.5.0 in /usr/local/lib/python3.10/dist-packages (from optuna->dspy-ai==2.4.5->dspy) (1.13.1)\n",
            "Requirement already satisfied: colorlog in /usr/local/lib/python3.10/dist-packages (from optuna->dspy-ai==2.4.5->dspy) (6.8.2)\n",
            "Requirement already satisfied: sqlalchemy>=1.3.0 in /usr/local/lib/python3.10/dist-packages (from optuna->dspy-ai==2.4.5->dspy) (2.0.29)\n",
            "Requirement already satisfied: python-dateutil>=2.8.2 in /usr/local/lib/python3.10/dist-packages (from pandas->dspy-ai==2.4.5->dspy) (2.8.2)\n",
            "Requirement already satisfied: pytz>=2020.1 in /usr/local/lib/python3.10/dist-packages (from pandas->dspy-ai==2.4.5->dspy) (2023.4)\n",
            "Requirement already satisfied: tzdata>=2022.1 in /usr/local/lib/python3.10/dist-packages (from pandas->dspy-ai==2.4.5->dspy) (2024.1)\n",
            "Requirement already satisfied: Mako in /usr/local/lib/python3.10/dist-packages (from alembic>=1.5.0->optuna->dspy-ai==2.4.5->dspy) (1.3.3)\n",
            "Requirement already satisfied: exceptiongroup in /usr/local/lib/python3.10/dist-packages (from anyio<5,>=3.5.0->openai<2.0.0,>=0.28.1->dspy-ai==2.4.5->dspy) (1.2.1)\n",
            "Requirement already satisfied: aiosignal>=1.1.2 in /usr/local/lib/python3.10/dist-packages (from aiohttp->datasets<3.0.0,~=2.14.6->dspy-ai==2.4.5->dspy) (1.3.1)\n",
            "Requirement already satisfied: attrs>=17.3.0 in /usr/local/lib/python3.10/dist-packages (from aiohttp->datasets<3.0.0,~=2.14.6->dspy-ai==2.4.5->dspy) (23.2.0)\n",
            "Requirement already satisfied: frozenlist>=1.1.1 in /usr/local/lib/python3.10/dist-packages (from aiohttp->datasets<3.0.0,~=2.14.6->dspy-ai==2.4.5->dspy) (1.4.1)\n",
            "Requirement already satisfied: multidict<7.0,>=4.5 in /usr/local/lib/python3.10/dist-packages (from aiohttp->datasets<3.0.0,~=2.14.6->dspy-ai==2.4.5->dspy) (6.0.5)\n",
            "Requirement already satisfied: yarl<2.0,>=1.0 in /usr/local/lib/python3.10/dist-packages (from aiohttp->datasets<3.0.0,~=2.14.6->dspy-ai==2.4.5->dspy) (1.9.4)\n",
            "Requirement already satisfied: async-timeout<5.0,>=4.0 in /usr/local/lib/python3.10/dist-packages (from aiohttp->datasets<3.0.0,~=2.14.6->dspy-ai==2.4.5->dspy) (4.0.3)\n",
            "Requirement already satisfied: httpcore==1.* in /usr/local/lib/python3.10/dist-packages (from httpx<1,>=0.23.0->openai<2.0.0,>=0.28.1->dspy-ai==2.4.5->dspy) (1.0.5)\n",
            "Requirement already satisfied: h11<0.15,>=0.13 in /usr/local/lib/python3.10/dist-packages (from httpcore==1.*->httpx<1,>=0.23.0->openai<2.0.0,>=0.28.1->dspy-ai==2.4.5->dspy) (0.14.0)\n",
            "Requirement already satisfied: filelock in /usr/local/lib/python3.10/dist-packages (from huggingface-hub<1.0.0,>=0.14.0->datasets<3.0.0,~=2.14.6->dspy-ai==2.4.5->dspy) (3.14.0)\n",
            "Requirement already satisfied: six>=1.5 in /usr/local/lib/python3.10/dist-packages (from python-dateutil>=2.8.2->pandas->dspy-ai==2.4.5->dspy) (1.16.0)\n",
            "Requirement already satisfied: greenlet!=0.4.17 in /usr/local/lib/python3.10/dist-packages (from sqlalchemy>=1.3.0->optuna->dspy-ai==2.4.5->dspy) (3.0.3)\n",
            "Requirement already satisfied: MarkupSafe>=0.9.2 in /usr/local/lib/python3.10/dist-packages (from Mako->alembic>=1.5.0->optuna->dspy-ai==2.4.5->dspy) (2.1.5)\n"
          ]
        },
        {
          "name": "stderr",
          "output_type": "stream",
          "text": [
            "/usr/local/lib/python3.10/dist-packages/datasets/table.py:1421: FutureWarning: promote has been superseded by mode='default'.\n",
            "  table = cls._concat_blocks(blocks, axis=0)\n"
          ]
        },
        {
          "data": {
            "text/plain": [
              "1000"
            ]
          },
          "execution_count": 2,
          "metadata": {},
          "output_type": "execute_result"
        }
      ],
      "source": [
        "# Import the necessary modules\n",
        "from dspy.datasets import HotPotQA\n",
        "\n",
        "# Load the dataset.\n",
        "dataset = HotPotQA(train_seed=1, train_size=1000)\n",
        "\n",
        "# Tell DSPy that the 'question' field is the input. Any other fields are labels and/or metadata.\n",
        "dataset = [x.with_inputs('question') for x in dataset.train]\n",
        "\n",
        "len(dataset)"
      ]
    },
    {
      "cell_type": "code",
      "execution_count": 3,
      "metadata": {
        "colab": {
          "base_uri": "https://localhost:8080/"
        },
        "id": "BlkX42NBQL44",
        "outputId": "1dd6980f-4af9-447f-bb51-c79c5550d9d5"
      },
      "outputs": [
        {
          "data": {
            "text/plain": [
              "Example({'question': 'What is the code name for the German offensive that started this Second World War engagement on the Eastern Front (a few hundred kilometers from Moscow) between Soviet and German forces, which included 102nd Infantry Division?', 'answer': 'Operation Citadel'}) (input_keys={'question'})"
            ]
          },
          "execution_count": 3,
          "metadata": {},
          "output_type": "execute_result"
        }
      ],
      "source": [
        "dataset[9]"
      ]
    },
    {
      "cell_type": "code",
      "execution_count": 4,
      "metadata": {
        "colab": {
          "base_uri": "https://localhost:8080/"
        },
        "id": "HWU7v0WcQL44",
        "outputId": "09dd2ce7-8ba4-497f-9b96-25cacd313b6c"
      },
      "outputs": [
        {
          "data": {
            "text/plain": [
              "('What is a block away from the arena where the Baltimore Blast play their games?',\n",
              " 'Baltimore Convention Center')"
            ]
          },
          "execution_count": 4,
          "metadata": {},
          "output_type": "execute_result"
        }
      ],
      "source": [
        "dataset[300].question, dataset[300].answer"
      ]
    },
    {
      "cell_type": "code",
      "execution_count": 5,
      "metadata": {
        "id": "wEykgmBHQL45"
      },
      "outputs": [],
      "source": [
        "# import torch\n",
        "# torch.cuda.is_available()"
      ]
    },
    {
      "cell_type": "markdown",
      "metadata": {
        "id": "jhbxTEO3QL45"
      },
      "source": [
        "## Initialize the retriever using Qdrant"
      ]
    },
    {
      "cell_type": "code",
      "execution_count": 6,
      "metadata": {
        "colab": {
          "base_uri": "https://localhost:8080/"
        },
        "id": "t1ziFyF5QL46",
        "outputId": "90767122-e33a-44bd-c76b-71d323ece028"
      },
      "outputs": [
        {
          "name": "stdout",
          "output_type": "stream",
          "text": [
            "Requirement already satisfied: fastembed in /usr/local/lib/python3.10/dist-packages (0.1.3)\n",
            "Requirement already satisfied: huggingface-hub==0.19.4 in /usr/local/lib/python3.10/dist-packages (from fastembed) (0.19.4)\n",
            "Requirement already satisfied: onnx<2.0,>=1.11 in /usr/local/lib/python3.10/dist-packages (from fastembed) (1.16.0)\n",
            "Requirement already satisfied: onnxruntime<2.0,>=1.15 in /usr/local/lib/python3.10/dist-packages (from fastembed) (1.17.3)\n",
            "Requirement already satisfied: requests<3.0,>=2.31 in /usr/local/lib/python3.10/dist-packages (from fastembed) (2.31.0)\n",
            "Requirement already satisfied: tokenizers<0.16.0,>=0.15.0 in /usr/local/lib/python3.10/dist-packages (from fastembed) (0.15.2)\n",
            "Requirement already satisfied: tqdm<5.0,>=4.65 in /usr/local/lib/python3.10/dist-packages (from fastembed) (4.66.2)\n",
            "Requirement already satisfied: filelock in /usr/local/lib/python3.10/dist-packages (from huggingface-hub==0.19.4->fastembed) (3.14.0)\n",
            "Requirement already satisfied: fsspec>=2023.5.0 in /usr/local/lib/python3.10/dist-packages (from huggingface-hub==0.19.4->fastembed) (2023.6.0)\n",
            "Requirement already satisfied: pyyaml>=5.1 in /usr/local/lib/python3.10/dist-packages (from huggingface-hub==0.19.4->fastembed) (6.0.1)\n",
            "Requirement already satisfied: typing-extensions>=3.7.4.3 in /usr/local/lib/python3.10/dist-packages (from huggingface-hub==0.19.4->fastembed) (4.11.0)\n",
            "Requirement already satisfied: packaging>=20.9 in /usr/local/lib/python3.10/dist-packages (from huggingface-hub==0.19.4->fastembed) (24.0)\n",
            "Requirement already satisfied: numpy>=1.20 in /usr/local/lib/python3.10/dist-packages (from onnx<2.0,>=1.11->fastembed) (1.25.2)\n",
            "Requirement already satisfied: protobuf>=3.20.2 in /usr/local/lib/python3.10/dist-packages (from onnx<2.0,>=1.11->fastembed) (5.26.1)\n",
            "Requirement already satisfied: coloredlogs in /usr/local/lib/python3.10/dist-packages (from onnxruntime<2.0,>=1.15->fastembed) (15.0.1)\n",
            "Requirement already satisfied: flatbuffers in /usr/local/lib/python3.10/dist-packages (from onnxruntime<2.0,>=1.15->fastembed) (24.3.25)\n",
            "Requirement already satisfied: sympy in /usr/local/lib/python3.10/dist-packages (from onnxruntime<2.0,>=1.15->fastembed) (1.12)\n",
            "Requirement already satisfied: charset-normalizer<4,>=2 in /usr/local/lib/python3.10/dist-packages (from requests<3.0,>=2.31->fastembed) (3.3.2)\n",
            "Requirement already satisfied: idna<4,>=2.5 in /usr/local/lib/python3.10/dist-packages (from requests<3.0,>=2.31->fastembed) (3.7)\n",
            "Requirement already satisfied: urllib3<3,>=1.21.1 in /usr/local/lib/python3.10/dist-packages (from requests<3.0,>=2.31->fastembed) (1.26.18)\n",
            "Requirement already satisfied: certifi>=2017.4.17 in /usr/local/lib/python3.10/dist-packages (from requests<3.0,>=2.31->fastembed) (2024.2.2)\n",
            "Requirement already satisfied: humanfriendly>=9.1 in /usr/local/lib/python3.10/dist-packages (from coloredlogs->onnxruntime<2.0,>=1.15->fastembed) (10.0)\n",
            "Requirement already satisfied: mpmath>=0.19 in /usr/local/lib/python3.10/dist-packages (from sympy->onnxruntime<2.0,>=1.15->fastembed) (1.3.0)\n",
            "Requirement already satisfied: dspy-ai[qdrant] in /usr/local/lib/python3.10/dist-packages (2.4.5)\n",
            "Requirement already satisfied: backoff~=2.2.1 in /usr/local/lib/python3.10/dist-packages (from dspy-ai[qdrant]) (2.2.1)\n",
            "Requirement already satisfied: joblib~=1.3.2 in /usr/local/lib/python3.10/dist-packages (from dspy-ai[qdrant]) (1.3.2)\n",
            "Requirement already satisfied: openai<2.0.0,>=0.28.1 in /usr/local/lib/python3.10/dist-packages (from dspy-ai[qdrant]) (1.25.1)\n",
            "Requirement already satisfied: pandas in /usr/local/lib/python3.10/dist-packages (from dspy-ai[qdrant]) (2.0.3)\n",
            "Requirement already satisfied: regex in /usr/local/lib/python3.10/dist-packages (from dspy-ai[qdrant]) (2023.12.25)\n",
            "Requirement already satisfied: ujson in /usr/local/lib/python3.10/dist-packages (from dspy-ai[qdrant]) (5.9.0)\n",
            "Requirement already satisfied: tqdm in /usr/local/lib/python3.10/dist-packages (from dspy-ai[qdrant]) (4.66.2)\n",
            "Requirement already satisfied: datasets<3.0.0,~=2.14.6 in /usr/local/lib/python3.10/dist-packages (from dspy-ai[qdrant]) (2.14.7)\n",
            "Requirement already satisfied: requests in /usr/local/lib/python3.10/dist-packages (from dspy-ai[qdrant]) (2.31.0)\n",
            "Requirement already satisfied: optuna in /usr/local/lib/python3.10/dist-packages (from dspy-ai[qdrant]) (3.6.1)\n",
            "Requirement already satisfied: pydantic==2.5.0 in /usr/local/lib/python3.10/dist-packages (from dspy-ai[qdrant]) (2.5.0)\n",
            "Requirement already satisfied: qdrant-client in /usr/local/lib/python3.10/dist-packages (from dspy-ai[qdrant]) (1.6.9)\n",
            "Requirement already satisfied: fastembed in /usr/local/lib/python3.10/dist-packages (from dspy-ai[qdrant]) (0.1.3)\n",
            "Requirement already satisfied: annotated-types>=0.4.0 in /usr/local/lib/python3.10/dist-packages (from pydantic==2.5.0->dspy-ai[qdrant]) (0.6.0)\n",
            "Requirement already satisfied: pydantic-core==2.14.1 in /usr/local/lib/python3.10/dist-packages (from pydantic==2.5.0->dspy-ai[qdrant]) (2.14.1)\n",
            "Requirement already satisfied: typing-extensions>=4.6.1 in /usr/local/lib/python3.10/dist-packages (from pydantic==2.5.0->dspy-ai[qdrant]) (4.11.0)\n",
            "Requirement already satisfied: numpy>=1.17 in /usr/local/lib/python3.10/dist-packages (from datasets<3.0.0,~=2.14.6->dspy-ai[qdrant]) (1.25.2)\n",
            "Requirement already satisfied: pyarrow>=8.0.0 in /usr/local/lib/python3.10/dist-packages (from datasets<3.0.0,~=2.14.6->dspy-ai[qdrant]) (14.0.2)\n",
            "Requirement already satisfied: pyarrow-hotfix in /usr/local/lib/python3.10/dist-packages (from datasets<3.0.0,~=2.14.6->dspy-ai[qdrant]) (0.6)\n",
            "Requirement already satisfied: dill<0.3.8,>=0.3.0 in /usr/local/lib/python3.10/dist-packages (from datasets<3.0.0,~=2.14.6->dspy-ai[qdrant]) (0.3.7)\n",
            "Requirement already satisfied: xxhash in /usr/local/lib/python3.10/dist-packages (from datasets<3.0.0,~=2.14.6->dspy-ai[qdrant]) (3.4.1)\n",
            "Requirement already satisfied: multiprocess in /usr/local/lib/python3.10/dist-packages (from datasets<3.0.0,~=2.14.6->dspy-ai[qdrant]) (0.70.15)\n",
            "Requirement already satisfied: fsspec[http]<=2023.10.0,>=2023.1.0 in /usr/local/lib/python3.10/dist-packages (from datasets<3.0.0,~=2.14.6->dspy-ai[qdrant]) (2023.6.0)\n",
            "Requirement already satisfied: aiohttp in /usr/local/lib/python3.10/dist-packages (from datasets<3.0.0,~=2.14.6->dspy-ai[qdrant]) (3.9.5)\n",
            "Requirement already satisfied: huggingface-hub<1.0.0,>=0.14.0 in /usr/local/lib/python3.10/dist-packages (from datasets<3.0.0,~=2.14.6->dspy-ai[qdrant]) (0.19.4)\n",
            "Requirement already satisfied: packaging in /usr/local/lib/python3.10/dist-packages (from datasets<3.0.0,~=2.14.6->dspy-ai[qdrant]) (24.0)\n",
            "Requirement already satisfied: pyyaml>=5.1 in /usr/local/lib/python3.10/dist-packages (from datasets<3.0.0,~=2.14.6->dspy-ai[qdrant]) (6.0.1)\n",
            "Requirement already satisfied: onnx<2.0,>=1.11 in /usr/local/lib/python3.10/dist-packages (from fastembed->dspy-ai[qdrant]) (1.16.0)\n",
            "Requirement already satisfied: onnxruntime<2.0,>=1.15 in /usr/local/lib/python3.10/dist-packages (from fastembed->dspy-ai[qdrant]) (1.17.3)\n",
            "Requirement already satisfied: tokenizers<0.16.0,>=0.15.0 in /usr/local/lib/python3.10/dist-packages (from fastembed->dspy-ai[qdrant]) (0.15.2)\n",
            "Requirement already satisfied: filelock in /usr/local/lib/python3.10/dist-packages (from huggingface-hub<1.0.0,>=0.14.0->datasets<3.0.0,~=2.14.6->dspy-ai[qdrant]) (3.14.0)\n",
            "Requirement already satisfied: anyio<5,>=3.5.0 in /usr/local/lib/python3.10/dist-packages (from openai<2.0.0,>=0.28.1->dspy-ai[qdrant]) (3.7.1)\n",
            "Requirement already satisfied: distro<2,>=1.7.0 in /usr/lib/python3/dist-packages (from openai<2.0.0,>=0.28.1->dspy-ai[qdrant]) (1.7.0)\n",
            "Requirement already satisfied: httpx<1,>=0.23.0 in /usr/local/lib/python3.10/dist-packages (from openai<2.0.0,>=0.28.1->dspy-ai[qdrant]) (0.27.0)\n",
            "Requirement already satisfied: sniffio in /usr/local/lib/python3.10/dist-packages (from openai<2.0.0,>=0.28.1->dspy-ai[qdrant]) (1.3.1)\n",
            "Requirement already satisfied: grpcio>=1.41.0 in /usr/local/lib/python3.10/dist-packages (from qdrant-client->dspy-ai[qdrant]) (1.63.0)\n",
            "Requirement already satisfied: grpcio-tools>=1.41.0 in /usr/local/lib/python3.10/dist-packages (from qdrant-client->dspy-ai[qdrant]) (1.63.0)\n",
            "Requirement already satisfied: portalocker<3.0.0,>=2.7.0 in /usr/local/lib/python3.10/dist-packages (from qdrant-client->dspy-ai[qdrant]) (2.8.2)\n",
            "Requirement already satisfied: urllib3<2.0.0,>=1.26.14 in /usr/local/lib/python3.10/dist-packages (from qdrant-client->dspy-ai[qdrant]) (1.26.18)\n",
            "Requirement already satisfied: charset-normalizer<4,>=2 in /usr/local/lib/python3.10/dist-packages (from requests->dspy-ai[qdrant]) (3.3.2)\n",
            "Requirement already satisfied: idna<4,>=2.5 in /usr/local/lib/python3.10/dist-packages (from requests->dspy-ai[qdrant]) (3.7)\n",
            "Requirement already satisfied: certifi>=2017.4.17 in /usr/local/lib/python3.10/dist-packages (from requests->dspy-ai[qdrant]) (2024.2.2)\n",
            "Requirement already satisfied: alembic>=1.5.0 in /usr/local/lib/python3.10/dist-packages (from optuna->dspy-ai[qdrant]) (1.13.1)\n",
            "Requirement already satisfied: colorlog in /usr/local/lib/python3.10/dist-packages (from optuna->dspy-ai[qdrant]) (6.8.2)\n",
            "Requirement already satisfied: sqlalchemy>=1.3.0 in /usr/local/lib/python3.10/dist-packages (from optuna->dspy-ai[qdrant]) (2.0.29)\n",
            "Requirement already satisfied: python-dateutil>=2.8.2 in /usr/local/lib/python3.10/dist-packages (from pandas->dspy-ai[qdrant]) (2.8.2)\n",
            "Requirement already satisfied: pytz>=2020.1 in /usr/local/lib/python3.10/dist-packages (from pandas->dspy-ai[qdrant]) (2023.4)\n",
            "Requirement already satisfied: tzdata>=2022.1 in /usr/local/lib/python3.10/dist-packages (from pandas->dspy-ai[qdrant]) (2024.1)\n",
            "Requirement already satisfied: Mako in /usr/local/lib/python3.10/dist-packages (from alembic>=1.5.0->optuna->dspy-ai[qdrant]) (1.3.3)\n",
            "Requirement already satisfied: exceptiongroup in /usr/local/lib/python3.10/dist-packages (from anyio<5,>=3.5.0->openai<2.0.0,>=0.28.1->dspy-ai[qdrant]) (1.2.1)\n",
            "Requirement already satisfied: aiosignal>=1.1.2 in /usr/local/lib/python3.10/dist-packages (from aiohttp->datasets<3.0.0,~=2.14.6->dspy-ai[qdrant]) (1.3.1)\n",
            "Requirement already satisfied: attrs>=17.3.0 in /usr/local/lib/python3.10/dist-packages (from aiohttp->datasets<3.0.0,~=2.14.6->dspy-ai[qdrant]) (23.2.0)\n",
            "Requirement already satisfied: frozenlist>=1.1.1 in /usr/local/lib/python3.10/dist-packages (from aiohttp->datasets<3.0.0,~=2.14.6->dspy-ai[qdrant]) (1.4.1)\n",
            "Requirement already satisfied: multidict<7.0,>=4.5 in /usr/local/lib/python3.10/dist-packages (from aiohttp->datasets<3.0.0,~=2.14.6->dspy-ai[qdrant]) (6.0.5)\n",
            "Requirement already satisfied: yarl<2.0,>=1.0 in /usr/local/lib/python3.10/dist-packages (from aiohttp->datasets<3.0.0,~=2.14.6->dspy-ai[qdrant]) (1.9.4)\n",
            "Requirement already satisfied: async-timeout<5.0,>=4.0 in /usr/local/lib/python3.10/dist-packages (from aiohttp->datasets<3.0.0,~=2.14.6->dspy-ai[qdrant]) (4.0.3)\n",
            "Requirement already satisfied: protobuf<6.0dev,>=5.26.1 in /usr/local/lib/python3.10/dist-packages (from grpcio-tools>=1.41.0->qdrant-client->dspy-ai[qdrant]) (5.26.1)\n",
            "Requirement already satisfied: setuptools in /usr/local/lib/python3.10/dist-packages (from grpcio-tools>=1.41.0->qdrant-client->dspy-ai[qdrant]) (67.7.2)\n",
            "Requirement already satisfied: httpcore==1.* in /usr/local/lib/python3.10/dist-packages (from httpx<1,>=0.23.0->openai<2.0.0,>=0.28.1->dspy-ai[qdrant]) (1.0.5)\n",
            "Requirement already satisfied: h11<0.15,>=0.13 in /usr/local/lib/python3.10/dist-packages (from httpcore==1.*->httpx<1,>=0.23.0->openai<2.0.0,>=0.28.1->dspy-ai[qdrant]) (0.14.0)\n",
            "Requirement already satisfied: h2<5,>=3 in /usr/local/lib/python3.10/dist-packages (from httpx<1,>=0.23.0->openai<2.0.0,>=0.28.1->dspy-ai[qdrant]) (4.1.0)\n",
            "Requirement already satisfied: coloredlogs in /usr/local/lib/python3.10/dist-packages (from onnxruntime<2.0,>=1.15->fastembed->dspy-ai[qdrant]) (15.0.1)\n",
            "Requirement already satisfied: flatbuffers in /usr/local/lib/python3.10/dist-packages (from onnxruntime<2.0,>=1.15->fastembed->dspy-ai[qdrant]) (24.3.25)\n",
            "Requirement already satisfied: sympy in /usr/local/lib/python3.10/dist-packages (from onnxruntime<2.0,>=1.15->fastembed->dspy-ai[qdrant]) (1.12)\n",
            "Requirement already satisfied: six>=1.5 in /usr/local/lib/python3.10/dist-packages (from python-dateutil>=2.8.2->pandas->dspy-ai[qdrant]) (1.16.0)\n",
            "Requirement already satisfied: greenlet!=0.4.17 in /usr/local/lib/python3.10/dist-packages (from sqlalchemy>=1.3.0->optuna->dspy-ai[qdrant]) (3.0.3)\n",
            "Requirement already satisfied: hyperframe<7,>=6.0 in /usr/local/lib/python3.10/dist-packages (from h2<5,>=3->httpx<1,>=0.23.0->openai<2.0.0,>=0.28.1->dspy-ai[qdrant]) (6.0.1)\n",
            "Requirement already satisfied: hpack<5,>=4.0 in /usr/local/lib/python3.10/dist-packages (from h2<5,>=3->httpx<1,>=0.23.0->openai<2.0.0,>=0.28.1->dspy-ai[qdrant]) (4.0.0)\n",
            "Requirement already satisfied: humanfriendly>=9.1 in /usr/local/lib/python3.10/dist-packages (from coloredlogs->onnxruntime<2.0,>=1.15->fastembed->dspy-ai[qdrant]) (10.0)\n",
            "Requirement already satisfied: MarkupSafe>=0.9.2 in /usr/local/lib/python3.10/dist-packages (from Mako->alembic>=1.5.0->optuna->dspy-ai[qdrant]) (2.1.5)\n",
            "Requirement already satisfied: mpmath>=0.19 in /usr/local/lib/python3.10/dist-packages (from sympy->onnxruntime<2.0,>=1.15->fastembed->dspy-ai[qdrant]) (1.3.0)\n"
          ]
        }
      ],
      "source": [
        "!pip install fastembed\n",
        "!pip install dspy-ai[qdrant]\n",
        "\n",
        "from dspy.retrieve.qdrant_rm import QdrantRM\n",
        "from qdrant_client import QdrantClient\n",
        "\n",
        "qdrant_client = QdrantClient(\":memory:\")  # loads in memory for this session\n",
        "\n",
        "docs = [x.question + \" -> \" + x.answer for x in dataset]\n",
        "\n",
        "ids = list(range(0,len(docs)))\n",
        "\n",
        "\n",
        "qdrant_client.add(\n",
        "    collection_name=\"hotpotqa\",\n",
        "    documents=docs,\n",
        "    ids=ids\n",
        "    )\n",
        "\n",
        "\n",
        "qdrant_retriever_model = QdrantRM(\"hotpotqa\", qdrant_client, k=3)"
      ]
    },
    {
      "cell_type": "markdown",
      "metadata": {
        "id": "i55BeKlcQL46"
      },
      "source": [
        "## Load the Ollama model\n",
        "\n",
        "Pre-requisites: should have downlaoded the Ollama application from: https://ollama.com/download/windows\n",
        "\n",
        "For Windows you can follow these steps:\n",
        "1) To download it, go to: Download Ollama on Windows.\n",
        "2) Install it on your system.\n",
        "3) After installing, you can open the command prompt and type “ollama pull llama2”, which will download the latest quantized image for Llama2; by default, it pulls a 7B model.\n",
        "4) You will see the Ollama icon in your hidden icons, which means that you can run Ollama models now!\n"
      ]
    },
    {
      "cell_type": "code",
      "execution_count": 7,
      "metadata": {
        "id": "l5LyzSlPQL48"
      },
      "outputs": [],
      "source": [
        "import dspy\n",
        "ollama_model = dspy.OllamaLocal(model=\"llama2\",model_type='text',\n",
        "                                max_tokens=350,\n",
        "                                temperature=0.7,\n",
        "                                top_p=0.9, frequency_penalty=1.17, top_k=40)"
      ]
    },
    {
      "cell_type": "markdown",
      "metadata": {
        "id": "feV95NrzQL48"
      },
      "source": [
        "Try out one example before proceeding"
      ]
    },
    {
      "cell_type": "code",
      "execution_count": null,
      "metadata": {
        "id": "WzzRKvpPQL49"
      },
      "outputs": [],
      "source": [
        "ollama_model(\"tell me about interstellar's plot\")"
      ]
    },
    {
      "cell_type": "markdown",
      "metadata": {
        "id": "wZmutBeSQL49"
      },
      "source": [
        "## Get Top Passages from the retriever"
      ]
    },
    {
      "cell_type": "code",
      "execution_count": null,
      "metadata": {
        "id": "hccB4BisQL4-",
        "outputId": "45ef8f1e-22d0-4ad3-f22e-e8860f25e51c"
      },
      "outputs": [
        {
          "name": "stdout",
          "output_type": "stream",
          "text": [
            "Top 3 passages for question: What was a previous unoffical name for the high performance variant of Audi's compact executive car? \n",
            " ------------------------------ \n",
            "\n",
            "1] What was a previous unoffical name for the high performance variant of Audi's compact executive car? -> Audi Ur-S4 \n",
            "\n",
            "2] What car models used the same Saxomat clutch as the automobiles produced by former East German auto maker VEB Sachsenring Automobilwerke Zwickau in Zwickau, Saxony? -> Fiat 1800, Lancia Flaminia, Saab 93, Borgward Isabella, Goliath/Hansa 1100, Auto Union 1000, Ford Taunus \n",
            "\n",
            "3] William Sachiti is the founder of the company that is a UK competitor to the major automaker based in what city? -> Palo Alto \n",
            "\n"
          ]
        }
      ],
      "source": [
        "import dspy\n",
        "\n",
        "dspy.settings.configure(rm=qdrant_retriever_model, lm=ollama_model)\n",
        "\n",
        "dev_example = dataset[100]\n",
        "\n",
        "def get_top_passages(question):\n",
        "    retrieve = dspy.Retrieve(k=3)\n",
        "    topK_passages = retrieve(question,k=3).passages\n",
        "    print(f\"Top {retrieve.k} passages for question: {question} \\n\", '-' * 30, '\\n')\n",
        "    for idx, passage in enumerate(topK_passages):\n",
        "        print(f'{idx+1}]', passage, '\\n')\n",
        "\n",
        "get_top_passages(dev_example.question)"
      ]
    },
    {
      "cell_type": "markdown",
      "metadata": {
        "id": "14CiojdSQL4-"
      },
      "source": [
        "## Define Signatures for Input and Output"
      ]
    },
    {
      "cell_type": "code",
      "execution_count": null,
      "metadata": {
        "id": "xHi3sgVvQL4_"
      },
      "outputs": [],
      "source": [
        "class GenerateAnswer(dspy.Signature):\n",
        "    \"\"\"Answer questions with short factoid answers.\"\"\"\n",
        "\n",
        "    context = dspy.InputField(desc=\"may or maynot contain relevant facts or answer keywords\")\n",
        "    question = dspy.InputField()\n",
        "    answer = dspy.OutputField(desc=\"an answer between 10 to 20 words\")"
      ]
    },
    {
      "cell_type": "code",
      "execution_count": null,
      "metadata": {
        "id": "rhsiKxh2QL4_"
      },
      "outputs": [],
      "source": [
        "ga = GenerateAnswer(context=\"My name is sachin and I like writing blogs\", question=\"What is my name?\", answer=\"Sachin\")"
      ]
    },
    {
      "cell_type": "code",
      "execution_count": null,
      "metadata": {
        "id": "vkiUrQ4bQL5A",
        "outputId": "d06f87a1-bfce-4a21-a420-1f559aca753e"
      },
      "outputs": [
        {
          "name": "stdout",
          "output_type": "stream",
          "text": [
            "<bound method BaseModel.model_construct of GenerateAnswer(context, question -> answer\n",
            "    instructions='Answer questions with short factoid answers.'\n",
            "    context = Field(annotation=str required=True json_schema_extra={'desc': 'may or maynot contain relevant facts or answer keywords', '__dspy_field_type': 'input', 'prefix': 'Context:'})\n",
            "    question = Field(annotation=str required=True json_schema_extra={'__dspy_field_type': 'input', 'prefix': 'Question:', 'desc': '${question}'})\n",
            "    answer = Field(annotation=str required=True json_schema_extra={'desc': 'an answer between 10 to 20 words', '__dspy_field_type': 'output', 'prefix': 'Answer:'})\n",
            ")>\n"
          ]
        }
      ],
      "source": [
        "print(ga.model_construct)"
      ]
    },
    {
      "cell_type": "markdown",
      "metadata": {
        "id": "009FJCueQL5A"
      },
      "source": [
        "## Create a DSPy CoT Module"
      ]
    },
    {
      "cell_type": "code",
      "execution_count": null,
      "metadata": {
        "id": "GVqqj3IqQL5A"
      },
      "outputs": [],
      "source": [
        "class RAG(dspy.Module):\n",
        "    def __init__(self, num_passages=3):\n",
        "        super().__init__()\n",
        "\n",
        "        self.retrieve = dspy.Retrieve(k=num_passages)\n",
        "        self.generate_answer = dspy.ChainOfThought(GenerateAnswer)\n",
        "\n",
        "    def forward(self, question):\n",
        "        context = self.retrieve(question).passages\n",
        "        prediction = self.generate_answer(context=context, question=question)\n",
        "        return dspy.Prediction(context=context, answer=prediction.answer)"
      ]
    },
    {
      "cell_type": "markdown",
      "metadata": {
        "id": "IWosWfUXQL5B"
      },
      "source": [
        "Let's call the RAG object"
      ]
    },
    {
      "cell_type": "code",
      "execution_count": null,
      "metadata": {
        "id": "Lg6hfacIQL5B"
      },
      "outputs": [],
      "source": [
        "uncompiled_rag = RAG()"
      ]
    },
    {
      "cell_type": "markdown",
      "metadata": {
        "id": "ELu7KENSQL5B"
      },
      "source": [
        "Define some datapoints from which we can ask CoT questions"
      ]
    },
    {
      "cell_type": "code",
      "execution_count": null,
      "metadata": {
        "id": "_OFCNzcjQL5C",
        "outputId": "e660785b-513b-4c53-9fb3-fe8fa5821b87"
      },
      "outputs": [
        {
          "data": {
            "text/plain": [
              "(Example({'question': \"Who has been on a British television music competition show and was was most popular in the 80's with the pop band 'Culture Club'?\", 'answer': \"George Alan O'Dowd\"}) (input_keys={'question'}),\n",
              " Example({'question': \"What was a previous unoffical name for the high performance variant of Audi's compact executive car?\", 'answer': 'Audi Ur-S4'}) (input_keys={'question'}),\n",
              " Example({'question': 'Which is taller, the Empire State Building or the Bank of America Tower?', 'answer': 'The Empire State Building'}) (input_keys={'question'}))"
            ]
          },
          "execution_count": 19,
          "metadata": {},
          "output_type": "execute_result"
        }
      ],
      "source": [
        "dataset[91],dataset[100],dataset[6]"
      ]
    },
    {
      "cell_type": "markdown",
      "metadata": {
        "id": "kGMwfXGvQL5C"
      },
      "source": [
        "## Let's run the queries now"
      ]
    },
    {
      "cell_type": "code",
      "execution_count": null,
      "metadata": {
        "id": "w76I9IpuQL5D",
        "outputId": "36f9a55e-5a1f-4edc-b3ca-4870161765e5"
      },
      "outputs": [
        {
          "name": "stdout",
          "output_type": "stream",
          "text": [
            "No, George Alan O'Dowd was not the most popular in the late 2000s with his rock band.\n"
          ]
        }
      ],
      "source": [
        "my_question = \"Was George Alan O'Dowd the most popular in the late 2000s with his rock band?\"\n",
        "# my_question = \"which segment of Audi's car was named as Ur-S4?\"\n",
        "# my_question = \"is Bank of America Tower taller than empire state building?\"\n",
        "\n",
        "# get_top_passages(my_question)\n",
        "\n",
        "response = uncompiled_rag(my_question)\n",
        "print(response.answer)"
      ]
    },
    {
      "cell_type": "markdown",
      "metadata": {
        "id": "Frv6YSEFQL5D"
      },
      "source": [
        "To inspect the prompt internally"
      ]
    },
    {
      "cell_type": "code",
      "execution_count": null,
      "metadata": {
        "id": "5tUG4_VzQL5D",
        "outputId": "517f7101-7f10-4e21-cace-50e6505d09ec"
      },
      "outputs": [
        {
          "name": "stdout",
          "output_type": "stream",
          "text": [
            "\n",
            "\n",
            "\n",
            "\n",
            "Answer questions with short factoid answers.\n",
            "\n",
            "---\n",
            "\n",
            "Follow the following format.\n",
            "\n",
            "Context: may or maynot contain relevant facts or answer keywords\n",
            "\n",
            "Question: ${question}\n",
            "\n",
            "Reasoning: Let's think step by step in order to ${produce the answer}. We ...\n",
            "\n",
            "Answer: an answer between 10 to 20 words\n",
            "\n",
            "---\n",
            "\n",
            "Context:\n",
            "[1] «Who has been on a British television music competition show and was was most popular in the 80's with the pop band 'Culture Club'? -> George Alan O'Dowd»\n",
            "[2] «Who was dubbed the father of the type of rock music that emerged from post-punk in the late 1970s? -> Brian Healy»\n",
            "[3] «Alan Forbes has done posters for an American rock band that formed in 1996 in what city in California? -> Palm Desert»\n",
            "\n",
            "Question: Was George Alan O'Dowd the most popular in the late 2000s with his rock band?\n",
            "\n",
            "Reasoning: Let's think step by step in order to Answer: No, George Alan O'Dowd was not the most popular in the late 2000s. He was active and popular in the 1980s with his pop band Culture Club.\n",
            "\n",
            "Answer:\u001b[32m No, George Alan O'Dowd was not the most popular in the late 2000s with his rock band.\u001b[0m\n",
            "\n",
            "\n",
            "\n"
          ]
        }
      ],
      "source": [
        "ollama_model.inspect_history(n=1)"
      ]
    },
    {
      "cell_type": "markdown",
      "metadata": {
        "id": "eQ7CIi6QQL5E"
      },
      "source": [
        "## ADVANCED (Using teleprompters to train the CoT model)"
      ]
    },
    {
      "cell_type": "code",
      "execution_count": null,
      "metadata": {
        "id": "E0jPm89iQL5E",
        "outputId": "3478b63d-02fd-43a8-ac2b-4f698174e264"
      },
      "outputs": [
        {
          "name": "stderr",
          "output_type": "stream",
          "text": [
            "100%|██████████| 3/3 [02:44<00:00, 54.95s/it]"
          ]
        },
        {
          "name": "stdout",
          "output_type": "stream",
          "text": [
            "Bootstrapped 1 full traces after 3 examples in round 0.\n"
          ]
        },
        {
          "name": "stderr",
          "output_type": "stream",
          "text": [
            "\n"
          ]
        }
      ],
      "source": [
        "# compile\n",
        "\n",
        "dataset_dev = [dataset[91],\n",
        "dataset[100],\n",
        "dataset[6]]\n",
        "\n",
        "from dspy.teleprompt import BootstrapFewShot\n",
        "\n",
        "# Validation logic: check that the predicted answer is correct.\n",
        "# Also check that the retrieved context does actually contain that answer.\n",
        "def validate_context_and_answer(example, pred, trace=None):\n",
        "    answer_EM = dspy.evaluate.answer_exact_match(example, pred)\n",
        "    answer_PM = dspy.evaluate.answer_passage_match(example, pred)\n",
        "    return answer_EM and answer_PM\n",
        "\n",
        "# Set up a basic teleprompter, which will compile our RAG program.\n",
        "teleprompter = BootstrapFewShot(metric=validate_context_and_answer)\n",
        "\n",
        "# Compile!\n",
        "compiled_rag = teleprompter.compile(RAG(), dataset=dataset_dev)"
      ]
    },
    {
      "cell_type": "code",
      "execution_count": null,
      "metadata": {
        "id": "FuYpklYAQL5F"
      },
      "outputs": [],
      "source": [
        "# Ask any question you like to this simple RAG program.\n",
        "\n",
        "my_question = \"Was George Alan O'Dowd the most popular in the early 1980s with his pop band?\"\n",
        "# my_question = \"which segment of Audi's car was named as Ur-S4?\"\n",
        "# my_question = \"is Bank of America Tower taller than empire state building?\"\n",
        "\n",
        "# get_top_passages(my_question)\n",
        "\n",
        "# Get the prediction. This contains `pred.context` and `pred.answer`.\n",
        "pred = compiled_rag(my_question)\n",
        "\n",
        "# Print the contexts and the answer.\n",
        "print(f\"Question: {my_question}\")\n",
        "print(f\"Predicted Answer: {pred.answer}\")\n",
        "print(f\"Retrieved Contexts (truncated): {[c[:200] + '...' for c in pred.context]}\")"
      ]
    },
    {
      "cell_type": "code",
      "execution_count": null,
      "metadata": {
        "id": "U6ULkaKVQL5G",
        "outputId": "bac41493-823b-465a-c494-3cf503ce061c"
      },
      "outputs": [
        {
          "name": "stdout",
          "output_type": "stream",
          "text": [
            "\n",
            "\n",
            "\n",
            "\n",
            "Given the fields `context`, `question`, produce the fields `answer`.\n",
            "\n",
            "---\n",
            "\n",
            "Question: Which is taller, the Empire State Building or the Bank of America Tower?\n",
            "Answer: The Empire State Building\n",
            "\n",
            "Question: What was a previous unoffical name for the high performance variant of Audi's compact executive car?\n",
            "Answer: Audi Ur-S4\n",
            "\n",
            "---\n",
            "\n",
            "Follow the following format.\n",
            "\n",
            "Context: ${context}\n",
            "\n",
            "Question: ${question}\n",
            "\n",
            "Reasoning: Let's think step by step in order to ${produce the answer}. We ...\n",
            "\n",
            "Answer: ${answer}\n",
            "\n",
            "---\n",
            "\n",
            "Context:\n",
            "[1] «Who has been on a British television music competition show and was was most popular in the 80's with the pop band 'Culture Club'? -> George Alan O'Dowd»\n",
            "[2] «The Fridge had booked such acts as the English singer and DJ who was the lead singer of what pop band? -> Culture Club»\n",
            "[3] «Celebration was recorded by the singer who was a leading presence when what cable channel premiered? -> MTV»\n",
            "\n",
            "Question: Who has been on a British television music competition show and was was most popular in the 80's with the pop band 'Culture Club'?\n",
            "\n",
            "Reasoning: Let's think step by step in order to Context: [1] «Who has been on a British television music competition show and was was most popular in the 80's with the pop band 'Culture Club'? -> George Alan O'Dowd» [2] «The Fridge had booked such acts as the English singer and DJ who was the lead singer of what pop band? -> Culture Club» [3] «Celebration was recorded by the singer who was a leading presence when what cable channel premiered? -> MTV» Question: Who has been on a British television music competition show and was was most popular in the 80's with the pop band 'Culture Club'? Reasoning: Let's think step by step in order to answer this question. We know from [1] that George Alan O'Dowd has been on a British television music competition show. From [2], we know that Culture Club was a popular pop band in the 80's. Therefore, the answer must be George Alan O'Dowd, who was the lead singer of Culture Club.\n",
            "\n",
            "Answer: George Alan O'Dowd\n",
            "\n",
            "---\n",
            "\n",
            "Context:\n",
            "[1] «Who has been on a British television music competition show and was was most popular in the 80's with the pop band 'Culture Club'? -> George Alan O'Dowd»\n",
            "[2] «The Fridge had booked such acts as the English singer and DJ who was the lead singer of what pop band? -> Culture Club»\n",
            "[3] «What singer, best known for his recording of the song \"Raindrops Keep Fallin' on My Head\", had his single \"Most of All\" reach #2 on the \"Billboard\" Adult Contemporary singles chart in 1970? -> B. J. Thomas»\n",
            "\n",
            "Question: Was George Alan O'Dowd the most popular in the late 1980s with his pop band?\n",
            "\n",
            "Reasoning: Let's think step by step in order to\u001b[32m Context: [1] «Who has been on a British television music competition show and was was most popular in the 80's with the pop band 'Culture Club'? -> George Alan O'Dowd» [2] «The Fridge had booked such acts as the English singer and DJ who was the lead singer of what pop band? -> Culture Club» [3] «What singer, best known for his recording of the song \"Raindrops Keep Fallin' on My Head\", had his single \"Most of All\" reach #2 on the \"Billboard\" Adult Contemporary singles chart in 1970? -> B. J. Thomas»\n",
            "Question: Was George Alan O'Dowd the most popular in the late 1980s with his pop band?\n",
            "Reasoning: Let's think step by step in order to answer this question. We know from [1] that George Alan O'Dowd was the lead singer of Culture Club, which was a popular pop band in the 80's. However, we also know from [3] that B. J. Thomas was more popular than George Alan O'Dowd in the late 70's and early 80's. Therefore, the answer must be no, George Alan O'Dowd was not the most popular pop band leader in the late 1980s.\n",
            "\n",
            "Answer: No\u001b[0m\n",
            "\n",
            "\n",
            "\n"
          ]
        }
      ],
      "source": [
        "ollama_model.inspect_history(1)"
      ]
    },
    {
      "cell_type": "code",
      "execution_count": null,
      "metadata": {
        "id": "JWo474SUQL5G"
      },
      "outputs": [],
      "source": []
    }
  ],
  "metadata": {
    "colab": {
      "provenance": []
    },
    "kernelspec": {
      "display_name": "new",
      "language": "python",
      "name": "python3"
    },
    "language_info": {
      "codemirror_mode": {
        "name": "ipython",
        "version": 3
      },
      "file_extension": ".py",
      "mimetype": "text/x-python",
      "name": "python",
      "nbconvert_exporter": "python",
      "pygments_lexer": "ipython3",
      "version": "3.12.3"
    }
  },
  "nbformat": 4,
  "nbformat_minor": 0
}
