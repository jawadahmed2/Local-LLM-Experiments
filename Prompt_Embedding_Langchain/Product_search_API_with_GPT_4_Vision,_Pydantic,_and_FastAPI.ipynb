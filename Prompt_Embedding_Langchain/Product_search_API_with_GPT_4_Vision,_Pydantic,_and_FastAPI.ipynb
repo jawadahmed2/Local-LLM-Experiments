{
  "nbformat": 4,
  "nbformat_minor": 0,
  "metadata": {
    "colab": {
      "provenance": []
    },
    "kernelspec": {
      "name": "python3",
      "display_name": "Python 3"
    },
    "language_info": {
      "name": "python"
    }
  },
  "cells": [
    {
      "cell_type": "code",
      "source": [
        "!pip install pydantic"
      ],
      "metadata": {
        "colab": {
          "base_uri": "https://localhost:8080/"
        },
        "id": "t9H9AU8hBebU",
        "outputId": "7a5e29a2-9250-49b6-a194-19e58e673439"
      },
      "execution_count": 8,
      "outputs": [
        {
          "output_type": "stream",
          "name": "stdout",
          "text": [
            "Requirement already satisfied: pydantic in /usr/local/lib/python3.10/dist-packages (2.6.4)\n",
            "Requirement already satisfied: annotated-types>=0.4.0 in /usr/local/lib/python3.10/dist-packages (from pydantic) (0.6.0)\n",
            "Requirement already satisfied: pydantic-core==2.16.3 in /usr/local/lib/python3.10/dist-packages (from pydantic) (2.16.3)\n",
            "Requirement already satisfied: typing-extensions>=4.6.1 in /usr/local/lib/python3.10/dist-packages (from pydantic) (4.10.0)\n"
          ]
        }
      ]
    },
    {
      "cell_type": "code",
      "source": [
        "from pydantic.config import ConfigDict"
      ],
      "metadata": {
        "id": "_BhkxgnBBgmV"
      },
      "execution_count": 9,
      "outputs": []
    },
    {
      "cell_type": "code",
      "source": [
        "class MultiSearchQueryResponse(BaseModel):\n",
        "    products: List[SearchQuery]\n",
        "\n",
        "    model_config = ConfigDict(\n",
        "      json_schema_extra={\n",
        "            \"examples\": [\n",
        "                {\n",
        "                    \"products\": [\n",
        "                        {\n",
        "                            \"product_name\": \"Nike Air Max\",\n",
        "                            \"query\": \"black running shoes\",\n",
        "                        },\n",
        "                        {\n",
        "                            \"product_name\": \"Apple iPhone 13\",\n",
        "                            \"query\": \"smartphone with best camera\",\n",
        "                        },\n",
        "                    ]\n",
        "                }\n",
        "            ]\n",
        "        }\n",
        "    )"
      ],
      "metadata": {
        "id": "1WngGV8FBm0D"
      },
      "execution_count": 10,
      "outputs": []
    },
    {
      "cell_type": "code",
      "source": [
        "!pip install openai\n",
        "!pip install fastapi"
      ],
      "metadata": {
        "colab": {
          "base_uri": "https://localhost:8080/"
        },
        "id": "bE3nc3ZhB6Z6",
        "outputId": "2d59b873-c899-4b6a-b1ec-03e9cd6b6147"
      },
      "execution_count": 14,
      "outputs": [
        {
          "output_type": "stream",
          "name": "stdout",
          "text": [
            "Requirement already satisfied: openai in /usr/local/lib/python3.10/dist-packages (1.14.3)\n",
            "Requirement already satisfied: anyio<5,>=3.5.0 in /usr/local/lib/python3.10/dist-packages (from openai) (3.7.1)\n",
            "Requirement already satisfied: distro<2,>=1.7.0 in /usr/lib/python3/dist-packages (from openai) (1.7.0)\n",
            "Requirement already satisfied: httpx<1,>=0.23.0 in /usr/local/lib/python3.10/dist-packages (from openai) (0.27.0)\n",
            "Requirement already satisfied: pydantic<3,>=1.9.0 in /usr/local/lib/python3.10/dist-packages (from openai) (2.6.4)\n",
            "Requirement already satisfied: sniffio in /usr/local/lib/python3.10/dist-packages (from openai) (1.3.1)\n",
            "Requirement already satisfied: tqdm>4 in /usr/local/lib/python3.10/dist-packages (from openai) (4.66.2)\n",
            "Requirement already satisfied: typing-extensions<5,>=4.7 in /usr/local/lib/python3.10/dist-packages (from openai) (4.10.0)\n",
            "Requirement already satisfied: idna>=2.8 in /usr/local/lib/python3.10/dist-packages (from anyio<5,>=3.5.0->openai) (3.6)\n",
            "Requirement already satisfied: exceptiongroup in /usr/local/lib/python3.10/dist-packages (from anyio<5,>=3.5.0->openai) (1.2.0)\n",
            "Requirement already satisfied: certifi in /usr/local/lib/python3.10/dist-packages (from httpx<1,>=0.23.0->openai) (2024.2.2)\n",
            "Requirement already satisfied: httpcore==1.* in /usr/local/lib/python3.10/dist-packages (from httpx<1,>=0.23.0->openai) (1.0.4)\n",
            "Requirement already satisfied: h11<0.15,>=0.13 in /usr/local/lib/python3.10/dist-packages (from httpcore==1.*->httpx<1,>=0.23.0->openai) (0.14.0)\n",
            "Requirement already satisfied: annotated-types>=0.4.0 in /usr/local/lib/python3.10/dist-packages (from pydantic<3,>=1.9.0->openai) (0.6.0)\n",
            "Requirement already satisfied: pydantic-core==2.16.3 in /usr/local/lib/python3.10/dist-packages (from pydantic<3,>=1.9.0->openai) (2.16.3)\n",
            "Collecting fastapi\n",
            "  Downloading fastapi-0.110.0-py3-none-any.whl (92 kB)\n",
            "\u001b[2K     \u001b[90m━━━━━━━━━━━━━━━━━━━━━━━━━━━━━━━━━━━━━━━━\u001b[0m \u001b[32m92.1/92.1 kB\u001b[0m \u001b[31m2.5 MB/s\u001b[0m eta \u001b[36m0:00:00\u001b[0m\n",
            "\u001b[?25hRequirement already satisfied: pydantic!=1.8,!=1.8.1,!=2.0.0,!=2.0.1,!=2.1.0,<3.0.0,>=1.7.4 in /usr/local/lib/python3.10/dist-packages (from fastapi) (2.6.4)\n",
            "Collecting starlette<0.37.0,>=0.36.3 (from fastapi)\n",
            "  Downloading starlette-0.36.3-py3-none-any.whl (71 kB)\n",
            "\u001b[2K     \u001b[90m━━━━━━━━━━━━━━━━━━━━━━━━━━━━━━━━━━━━━━━━\u001b[0m \u001b[32m71.5/71.5 kB\u001b[0m \u001b[31m7.6 MB/s\u001b[0m eta \u001b[36m0:00:00\u001b[0m\n",
            "\u001b[?25hRequirement already satisfied: typing-extensions>=4.8.0 in /usr/local/lib/python3.10/dist-packages (from fastapi) (4.10.0)\n",
            "Requirement already satisfied: annotated-types>=0.4.0 in /usr/local/lib/python3.10/dist-packages (from pydantic!=1.8,!=1.8.1,!=2.0.0,!=2.0.1,!=2.1.0,<3.0.0,>=1.7.4->fastapi) (0.6.0)\n",
            "Requirement already satisfied: pydantic-core==2.16.3 in /usr/local/lib/python3.10/dist-packages (from pydantic!=1.8,!=1.8.1,!=2.0.0,!=2.0.1,!=2.1.0,<3.0.0,>=1.7.4->fastapi) (2.16.3)\n",
            "Requirement already satisfied: anyio<5,>=3.4.0 in /usr/local/lib/python3.10/dist-packages (from starlette<0.37.0,>=0.36.3->fastapi) (3.7.1)\n",
            "Requirement already satisfied: idna>=2.8 in /usr/local/lib/python3.10/dist-packages (from anyio<5,>=3.4.0->starlette<0.37.0,>=0.36.3->fastapi) (3.6)\n",
            "Requirement already satisfied: sniffio>=1.1 in /usr/local/lib/python3.10/dist-packages (from anyio<5,>=3.4.0->starlette<0.37.0,>=0.36.3->fastapi) (1.3.1)\n",
            "Requirement already satisfied: exceptiongroup in /usr/local/lib/python3.10/dist-packages (from anyio<5,>=3.4.0->starlette<0.37.0,>=0.36.3->fastapi) (1.2.0)\n",
            "Installing collected packages: starlette, fastapi\n",
            "Successfully installed fastapi-0.110.0 starlette-0.36.3\n"
          ]
        }
      ]
    },
    {
      "cell_type": "code",
      "source": [
        "!jupyter notebook restart"
      ],
      "metadata": {
        "colab": {
          "base_uri": "https://localhost:8080/"
        },
        "id": "NjiUe60MCcsU",
        "outputId": "29d1ee68-a81a-439e-9cfd-757b854cea3f"
      },
      "execution_count": 15,
      "outputs": [
        {
          "output_type": "stream",
          "name": "stdout",
          "text": [
            "\u001b[35m[C 18:33:37.435 NotebookApp]\u001b[m No such file or directory: /content/restart\n"
          ]
        }
      ]
    },
    {
      "cell_type": "markdown",
      "source": [
        "enter your API key for GPT4"
      ],
      "metadata": {
        "id": "X5Vk9zEiDAf9"
      }
    },
    {
      "cell_type": "code",
      "source": [
        "from openai import OpenAI\n",
        "from fastapi import FastAPI\n",
        "from pydantic import BaseModel, ConfigDict\n",
        "from typing import List\n",
        "\n",
        "client = OpenAI(api_key=\"YOUR_OPENAI_API_KEY\")\n",
        "\n",
        "app = FastAPI(\n",
        "    title=\"Ecommerce Vision API\",\n",
        "    description=\"\"\"A FastAPI application to extract products\n",
        "        from images and describe them as an array of queries\"\"\",\n",
        "    version=\"0.1.0\",\n",
        ")\n",
        "\n",
        "\n",
        "class ImageRequest(BaseModel):\n",
        "    url: str\n",
        "    temperature: float = 0.0\n",
        "    max_tokens: int = 1800\n",
        "\n",
        "    model_config = ConfigDict(\n",
        "      json_schema_extra={\n",
        "            \"examples\": [\n",
        "                {\n",
        "                    \"url\": \"https://mensfashionpostingcom.files.wordpress.com/2020/03/fbe79-img_5052.jpg?w=768\",\n",
        "                    \"temperature\": 0.0,\n",
        "                    \"max_tokens\": 1800,\n",
        "                }\n",
        "            ]\n",
        "        }\n",
        "    )\n",
        "\n",
        "class MultiSearchQuery(BaseModel):\n",
        "    product_name: str\n",
        "    query: str\n",
        "\n",
        "class MultiSearchQueryResponse(BaseModel):\n",
        "    products: List[MultiSearchQuery]\n",
        "\n",
        "    @classmethod\n",
        "    def model_json_schema(cls):\n",
        "        return {\n",
        "            \"type\": \"object\",\n",
        "            \"properties\": {\n",
        "                \"products\": {\n",
        "                    \"type\": \"array\",\n",
        "                    \"items\": {\n",
        "                        \"type\": \"object\",\n",
        "                        \"properties\": {\n",
        "                            \"product_name\": {\"type\": \"string\"},\n",
        "                            \"query\": {\"type\": \"string\"},\n",
        "                        },\n",
        "                        \"required\": [\"product_name\", \"query\"],\n",
        "                    },\n",
        "                }\n",
        "            },\n",
        "            \"required\": [\"products\"],\n",
        "        }\n",
        "\n",
        "    @classmethod\n",
        "    def model_validate_json(cls, json_data):\n",
        "        return cls.model_validate(json.loads(json_data))\n",
        "\n",
        "@app.post(\"/api/extract_products\", response_model=MultiSearchQueryResponse)\n",
        "async def extract_products(image_request: ImageRequest) -> MultiSearchQueryResponse:\n",
        "    completion = await client.chat.completions.create(\n",
        "        model=\"gpt-4-vision-preview\",\n",
        "        max_tokens=request.max_tokens,\n",
        "        temperature=request.temperature,\n",
        "        stop=[\"```\"],\n",
        "        messages=[\n",
        "            {\n",
        "                \"role\": \"system\",\n",
        "                \"content\": f\"\"\"\n",
        "                You are an expert system designed to extract products from images for\n",
        "                an ecommerce application. Please provide the product name and a\n",
        "                descriptive query to search for the product. Accurately identify every\n",
        "                product in an image and provide a descriptive query to search for the\n",
        "                product. You just return a correctly formatted JSON object with the\n",
        "                product name and query for each product in the image and follows the\n",
        "                schema below:\n",
        "\n",
        "                JSON Schema:\n",
        "                {MultiSearchQueryResponse.model_json_schema()}\"\"\",\n",
        "            },\n",
        "            {\n",
        "                \"role\": \"user\",\n",
        "                \"content\": [\n",
        "                    {\n",
        "                        \"type\": \"text\",\n",
        "                        \"text\": \"\"\"Extract the products from the image,\n",
        "                        and describe them in a query in JSON format\"\"\",\n",
        "                    },\n",
        "                    {\n",
        "                        \"type\": \"image_url\",\n",
        "                        \"image_url\": {\"url\": request.url},\n",
        "                    },\n",
        "                ],\n",
        "            },\n",
        "            {\n",
        "                \"role\": \"assistant\",\n",
        "                \"content\": \"```json\",\n",
        "            },\n",
        "        ],\n",
        "    )\n",
        "    return MultiSearchQueryResponse.model_validate_json(completion.choices[0].message.content)"
      ],
      "metadata": {
        "id": "6Y06WbzqCAqY"
      },
      "execution_count": null,
      "outputs": []
    }
  ]
}