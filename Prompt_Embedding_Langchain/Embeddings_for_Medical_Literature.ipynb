{
  "nbformat": 4,
  "nbformat_minor": 0,
  "metadata": {
    "colab": {
      "provenance": []
    },
    "kernelspec": {
      "name": "python3",
      "display_name": "Python 3"
    },
    "language_info": {
      "name": "python"
    },
    "widgets": {
      "application/vnd.jupyter.widget-state+json": {
        "6152c905437c4a2b95558be34c983a28": {
          "model_module": "@jupyter-widgets/controls",
          "model_name": "HBoxModel",
          "model_module_version": "1.5.0",
          "state": {
            "_dom_classes": [],
            "_model_module": "@jupyter-widgets/controls",
            "_model_module_version": "1.5.0",
            "_model_name": "HBoxModel",
            "_view_count": null,
            "_view_module": "@jupyter-widgets/controls",
            "_view_module_version": "1.5.0",
            "_view_name": "HBoxView",
            "box_style": "",
            "children": [
              "IPY_MODEL_abd0ab7fe90f4f59a016096813be8af6",
              "IPY_MODEL_0cdc0a3242fb45cabf4ee01ba739a355",
              "IPY_MODEL_438eac536d81402da3cdf3c266593420"
            ],
            "layout": "IPY_MODEL_a1e09628a7994de5984a48299e7b6830"
          }
        },
        "abd0ab7fe90f4f59a016096813be8af6": {
          "model_module": "@jupyter-widgets/controls",
          "model_name": "HTMLModel",
          "model_module_version": "1.5.0",
          "state": {
            "_dom_classes": [],
            "_model_module": "@jupyter-widgets/controls",
            "_model_module_version": "1.5.0",
            "_model_name": "HTMLModel",
            "_view_count": null,
            "_view_module": "@jupyter-widgets/controls",
            "_view_module_version": "1.5.0",
            "_view_name": "HTMLView",
            "description": "",
            "description_tooltip": null,
            "layout": "IPY_MODEL_57e08854817d4130920ceaba82360987",
            "placeholder": "​",
            "style": "IPY_MODEL_ad5e3bcbf5e449128d290fcb2d5795c4",
            "value": "Epoch: 100%"
          }
        },
        "0cdc0a3242fb45cabf4ee01ba739a355": {
          "model_module": "@jupyter-widgets/controls",
          "model_name": "FloatProgressModel",
          "model_module_version": "1.5.0",
          "state": {
            "_dom_classes": [],
            "_model_module": "@jupyter-widgets/controls",
            "_model_module_version": "1.5.0",
            "_model_name": "FloatProgressModel",
            "_view_count": null,
            "_view_module": "@jupyter-widgets/controls",
            "_view_module_version": "1.5.0",
            "_view_name": "ProgressView",
            "bar_style": "success",
            "description": "",
            "description_tooltip": null,
            "layout": "IPY_MODEL_313b782d174746a88e49a87b725e88bd",
            "max": 4,
            "min": 0,
            "orientation": "horizontal",
            "style": "IPY_MODEL_2fc4de47ed43452e881906eecac221f1",
            "value": 4
          }
        },
        "438eac536d81402da3cdf3c266593420": {
          "model_module": "@jupyter-widgets/controls",
          "model_name": "HTMLModel",
          "model_module_version": "1.5.0",
          "state": {
            "_dom_classes": [],
            "_model_module": "@jupyter-widgets/controls",
            "_model_module_version": "1.5.0",
            "_model_name": "HTMLModel",
            "_view_count": null,
            "_view_module": "@jupyter-widgets/controls",
            "_view_module_version": "1.5.0",
            "_view_name": "HTMLView",
            "description": "",
            "description_tooltip": null,
            "layout": "IPY_MODEL_d0034590a2e84381a26d01c680ef7f06",
            "placeholder": "​",
            "style": "IPY_MODEL_a3fb5d39130747689547c3c1732f8dd9",
            "value": " 4/4 [01:31&lt;00:00, 20.57s/it]"
          }
        },
        "a1e09628a7994de5984a48299e7b6830": {
          "model_module": "@jupyter-widgets/base",
          "model_name": "LayoutModel",
          "model_module_version": "1.2.0",
          "state": {
            "_model_module": "@jupyter-widgets/base",
            "_model_module_version": "1.2.0",
            "_model_name": "LayoutModel",
            "_view_count": null,
            "_view_module": "@jupyter-widgets/base",
            "_view_module_version": "1.2.0",
            "_view_name": "LayoutView",
            "align_content": null,
            "align_items": null,
            "align_self": null,
            "border": null,
            "bottom": null,
            "display": null,
            "flex": null,
            "flex_flow": null,
            "grid_area": null,
            "grid_auto_columns": null,
            "grid_auto_flow": null,
            "grid_auto_rows": null,
            "grid_column": null,
            "grid_gap": null,
            "grid_row": null,
            "grid_template_areas": null,
            "grid_template_columns": null,
            "grid_template_rows": null,
            "height": null,
            "justify_content": null,
            "justify_items": null,
            "left": null,
            "margin": null,
            "max_height": null,
            "max_width": null,
            "min_height": null,
            "min_width": null,
            "object_fit": null,
            "object_position": null,
            "order": null,
            "overflow": null,
            "overflow_x": null,
            "overflow_y": null,
            "padding": null,
            "right": null,
            "top": null,
            "visibility": null,
            "width": null
          }
        },
        "57e08854817d4130920ceaba82360987": {
          "model_module": "@jupyter-widgets/base",
          "model_name": "LayoutModel",
          "model_module_version": "1.2.0",
          "state": {
            "_model_module": "@jupyter-widgets/base",
            "_model_module_version": "1.2.0",
            "_model_name": "LayoutModel",
            "_view_count": null,
            "_view_module": "@jupyter-widgets/base",
            "_view_module_version": "1.2.0",
            "_view_name": "LayoutView",
            "align_content": null,
            "align_items": null,
            "align_self": null,
            "border": null,
            "bottom": null,
            "display": null,
            "flex": null,
            "flex_flow": null,
            "grid_area": null,
            "grid_auto_columns": null,
            "grid_auto_flow": null,
            "grid_auto_rows": null,
            "grid_column": null,
            "grid_gap": null,
            "grid_row": null,
            "grid_template_areas": null,
            "grid_template_columns": null,
            "grid_template_rows": null,
            "height": null,
            "justify_content": null,
            "justify_items": null,
            "left": null,
            "margin": null,
            "max_height": null,
            "max_width": null,
            "min_height": null,
            "min_width": null,
            "object_fit": null,
            "object_position": null,
            "order": null,
            "overflow": null,
            "overflow_x": null,
            "overflow_y": null,
            "padding": null,
            "right": null,
            "top": null,
            "visibility": null,
            "width": null
          }
        },
        "ad5e3bcbf5e449128d290fcb2d5795c4": {
          "model_module": "@jupyter-widgets/controls",
          "model_name": "DescriptionStyleModel",
          "model_module_version": "1.5.0",
          "state": {
            "_model_module": "@jupyter-widgets/controls",
            "_model_module_version": "1.5.0",
            "_model_name": "DescriptionStyleModel",
            "_view_count": null,
            "_view_module": "@jupyter-widgets/base",
            "_view_module_version": "1.2.0",
            "_view_name": "StyleView",
            "description_width": ""
          }
        },
        "313b782d174746a88e49a87b725e88bd": {
          "model_module": "@jupyter-widgets/base",
          "model_name": "LayoutModel",
          "model_module_version": "1.2.0",
          "state": {
            "_model_module": "@jupyter-widgets/base",
            "_model_module_version": "1.2.0",
            "_model_name": "LayoutModel",
            "_view_count": null,
            "_view_module": "@jupyter-widgets/base",
            "_view_module_version": "1.2.0",
            "_view_name": "LayoutView",
            "align_content": null,
            "align_items": null,
            "align_self": null,
            "border": null,
            "bottom": null,
            "display": null,
            "flex": null,
            "flex_flow": null,
            "grid_area": null,
            "grid_auto_columns": null,
            "grid_auto_flow": null,
            "grid_auto_rows": null,
            "grid_column": null,
            "grid_gap": null,
            "grid_row": null,
            "grid_template_areas": null,
            "grid_template_columns": null,
            "grid_template_rows": null,
            "height": null,
            "justify_content": null,
            "justify_items": null,
            "left": null,
            "margin": null,
            "max_height": null,
            "max_width": null,
            "min_height": null,
            "min_width": null,
            "object_fit": null,
            "object_position": null,
            "order": null,
            "overflow": null,
            "overflow_x": null,
            "overflow_y": null,
            "padding": null,
            "right": null,
            "top": null,
            "visibility": null,
            "width": null
          }
        },
        "2fc4de47ed43452e881906eecac221f1": {
          "model_module": "@jupyter-widgets/controls",
          "model_name": "ProgressStyleModel",
          "model_module_version": "1.5.0",
          "state": {
            "_model_module": "@jupyter-widgets/controls",
            "_model_module_version": "1.5.0",
            "_model_name": "ProgressStyleModel",
            "_view_count": null,
            "_view_module": "@jupyter-widgets/base",
            "_view_module_version": "1.2.0",
            "_view_name": "StyleView",
            "bar_color": null,
            "description_width": ""
          }
        },
        "d0034590a2e84381a26d01c680ef7f06": {
          "model_module": "@jupyter-widgets/base",
          "model_name": "LayoutModel",
          "model_module_version": "1.2.0",
          "state": {
            "_model_module": "@jupyter-widgets/base",
            "_model_module_version": "1.2.0",
            "_model_name": "LayoutModel",
            "_view_count": null,
            "_view_module": "@jupyter-widgets/base",
            "_view_module_version": "1.2.0",
            "_view_name": "LayoutView",
            "align_content": null,
            "align_items": null,
            "align_self": null,
            "border": null,
            "bottom": null,
            "display": null,
            "flex": null,
            "flex_flow": null,
            "grid_area": null,
            "grid_auto_columns": null,
            "grid_auto_flow": null,
            "grid_auto_rows": null,
            "grid_column": null,
            "grid_gap": null,
            "grid_row": null,
            "grid_template_areas": null,
            "grid_template_columns": null,
            "grid_template_rows": null,
            "height": null,
            "justify_content": null,
            "justify_items": null,
            "left": null,
            "margin": null,
            "max_height": null,
            "max_width": null,
            "min_height": null,
            "min_width": null,
            "object_fit": null,
            "object_position": null,
            "order": null,
            "overflow": null,
            "overflow_x": null,
            "overflow_y": null,
            "padding": null,
            "right": null,
            "top": null,
            "visibility": null,
            "width": null
          }
        },
        "a3fb5d39130747689547c3c1732f8dd9": {
          "model_module": "@jupyter-widgets/controls",
          "model_name": "DescriptionStyleModel",
          "model_module_version": "1.5.0",
          "state": {
            "_model_module": "@jupyter-widgets/controls",
            "_model_module_version": "1.5.0",
            "_model_name": "DescriptionStyleModel",
            "_view_count": null,
            "_view_module": "@jupyter-widgets/base",
            "_view_module_version": "1.2.0",
            "_view_name": "StyleView",
            "description_width": ""
          }
        },
        "8b6671c611584f97b4fca18e5cc86243": {
          "model_module": "@jupyter-widgets/controls",
          "model_name": "HBoxModel",
          "model_module_version": "1.5.0",
          "state": {
            "_dom_classes": [],
            "_model_module": "@jupyter-widgets/controls",
            "_model_module_version": "1.5.0",
            "_model_name": "HBoxModel",
            "_view_count": null,
            "_view_module": "@jupyter-widgets/controls",
            "_view_module_version": "1.5.0",
            "_view_name": "HBoxView",
            "box_style": "",
            "children": [
              "IPY_MODEL_68a8ea1f6c0f4d2e9570c716a6a70863",
              "IPY_MODEL_bc23cd2e0acb4459932b8356e3d9241c",
              "IPY_MODEL_f8ec1a4999da44a8878586acae019269"
            ],
            "layout": "IPY_MODEL_324603fe7ee841a993daaf2d19ccb958"
          }
        },
        "68a8ea1f6c0f4d2e9570c716a6a70863": {
          "model_module": "@jupyter-widgets/controls",
          "model_name": "HTMLModel",
          "model_module_version": "1.5.0",
          "state": {
            "_dom_classes": [],
            "_model_module": "@jupyter-widgets/controls",
            "_model_module_version": "1.5.0",
            "_model_name": "HTMLModel",
            "_view_count": null,
            "_view_module": "@jupyter-widgets/controls",
            "_view_module_version": "1.5.0",
            "_view_name": "HTMLView",
            "description": "",
            "description_tooltip": null,
            "layout": "IPY_MODEL_f319965a971b4f399ffd07994b6bf443",
            "placeholder": "​",
            "style": "IPY_MODEL_ba66a2c5ecff4e2d855c38399b60d182",
            "value": "Iteration: 100%"
          }
        },
        "bc23cd2e0acb4459932b8356e3d9241c": {
          "model_module": "@jupyter-widgets/controls",
          "model_name": "FloatProgressModel",
          "model_module_version": "1.5.0",
          "state": {
            "_dom_classes": [],
            "_model_module": "@jupyter-widgets/controls",
            "_model_module_version": "1.5.0",
            "_model_name": "FloatProgressModel",
            "_view_count": null,
            "_view_module": "@jupyter-widgets/controls",
            "_view_module_version": "1.5.0",
            "_view_name": "ProgressView",
            "bar_style": "success",
            "description": "",
            "description_tooltip": null,
            "layout": "IPY_MODEL_7089299c7a7548a9a63b49f269d6dc3b",
            "max": 2,
            "min": 0,
            "orientation": "horizontal",
            "style": "IPY_MODEL_d942df24d9fc4ebfb5e51ed1da9b3ee1",
            "value": 2
          }
        },
        "f8ec1a4999da44a8878586acae019269": {
          "model_module": "@jupyter-widgets/controls",
          "model_name": "HTMLModel",
          "model_module_version": "1.5.0",
          "state": {
            "_dom_classes": [],
            "_model_module": "@jupyter-widgets/controls",
            "_model_module_version": "1.5.0",
            "_model_name": "HTMLModel",
            "_view_count": null,
            "_view_module": "@jupyter-widgets/controls",
            "_view_module_version": "1.5.0",
            "_view_name": "HTMLView",
            "description": "",
            "description_tooltip": null,
            "layout": "IPY_MODEL_2647606b13f54ee58bbe2f950ab8cf20",
            "placeholder": "​",
            "style": "IPY_MODEL_1c82b1e695b24b5b87956d6c8971954b",
            "value": " 2/2 [00:29&lt;00:00, 14.34s/it]"
          }
        },
        "324603fe7ee841a993daaf2d19ccb958": {
          "model_module": "@jupyter-widgets/base",
          "model_name": "LayoutModel",
          "model_module_version": "1.2.0",
          "state": {
            "_model_module": "@jupyter-widgets/base",
            "_model_module_version": "1.2.0",
            "_model_name": "LayoutModel",
            "_view_count": null,
            "_view_module": "@jupyter-widgets/base",
            "_view_module_version": "1.2.0",
            "_view_name": "LayoutView",
            "align_content": null,
            "align_items": null,
            "align_self": null,
            "border": null,
            "bottom": null,
            "display": null,
            "flex": null,
            "flex_flow": null,
            "grid_area": null,
            "grid_auto_columns": null,
            "grid_auto_flow": null,
            "grid_auto_rows": null,
            "grid_column": null,
            "grid_gap": null,
            "grid_row": null,
            "grid_template_areas": null,
            "grid_template_columns": null,
            "grid_template_rows": null,
            "height": null,
            "justify_content": null,
            "justify_items": null,
            "left": null,
            "margin": null,
            "max_height": null,
            "max_width": null,
            "min_height": null,
            "min_width": null,
            "object_fit": null,
            "object_position": null,
            "order": null,
            "overflow": null,
            "overflow_x": null,
            "overflow_y": null,
            "padding": null,
            "right": null,
            "top": null,
            "visibility": null,
            "width": null
          }
        },
        "f319965a971b4f399ffd07994b6bf443": {
          "model_module": "@jupyter-widgets/base",
          "model_name": "LayoutModel",
          "model_module_version": "1.2.0",
          "state": {
            "_model_module": "@jupyter-widgets/base",
            "_model_module_version": "1.2.0",
            "_model_name": "LayoutModel",
            "_view_count": null,
            "_view_module": "@jupyter-widgets/base",
            "_view_module_version": "1.2.0",
            "_view_name": "LayoutView",
            "align_content": null,
            "align_items": null,
            "align_self": null,
            "border": null,
            "bottom": null,
            "display": null,
            "flex": null,
            "flex_flow": null,
            "grid_area": null,
            "grid_auto_columns": null,
            "grid_auto_flow": null,
            "grid_auto_rows": null,
            "grid_column": null,
            "grid_gap": null,
            "grid_row": null,
            "grid_template_areas": null,
            "grid_template_columns": null,
            "grid_template_rows": null,
            "height": null,
            "justify_content": null,
            "justify_items": null,
            "left": null,
            "margin": null,
            "max_height": null,
            "max_width": null,
            "min_height": null,
            "min_width": null,
            "object_fit": null,
            "object_position": null,
            "order": null,
            "overflow": null,
            "overflow_x": null,
            "overflow_y": null,
            "padding": null,
            "right": null,
            "top": null,
            "visibility": null,
            "width": null
          }
        },
        "ba66a2c5ecff4e2d855c38399b60d182": {
          "model_module": "@jupyter-widgets/controls",
          "model_name": "DescriptionStyleModel",
          "model_module_version": "1.5.0",
          "state": {
            "_model_module": "@jupyter-widgets/controls",
            "_model_module_version": "1.5.0",
            "_model_name": "DescriptionStyleModel",
            "_view_count": null,
            "_view_module": "@jupyter-widgets/base",
            "_view_module_version": "1.2.0",
            "_view_name": "StyleView",
            "description_width": ""
          }
        },
        "7089299c7a7548a9a63b49f269d6dc3b": {
          "model_module": "@jupyter-widgets/base",
          "model_name": "LayoutModel",
          "model_module_version": "1.2.0",
          "state": {
            "_model_module": "@jupyter-widgets/base",
            "_model_module_version": "1.2.0",
            "_model_name": "LayoutModel",
            "_view_count": null,
            "_view_module": "@jupyter-widgets/base",
            "_view_module_version": "1.2.0",
            "_view_name": "LayoutView",
            "align_content": null,
            "align_items": null,
            "align_self": null,
            "border": null,
            "bottom": null,
            "display": null,
            "flex": null,
            "flex_flow": null,
            "grid_area": null,
            "grid_auto_columns": null,
            "grid_auto_flow": null,
            "grid_auto_rows": null,
            "grid_column": null,
            "grid_gap": null,
            "grid_row": null,
            "grid_template_areas": null,
            "grid_template_columns": null,
            "grid_template_rows": null,
            "height": null,
            "justify_content": null,
            "justify_items": null,
            "left": null,
            "margin": null,
            "max_height": null,
            "max_width": null,
            "min_height": null,
            "min_width": null,
            "object_fit": null,
            "object_position": null,
            "order": null,
            "overflow": null,
            "overflow_x": null,
            "overflow_y": null,
            "padding": null,
            "right": null,
            "top": null,
            "visibility": null,
            "width": null
          }
        },
        "d942df24d9fc4ebfb5e51ed1da9b3ee1": {
          "model_module": "@jupyter-widgets/controls",
          "model_name": "ProgressStyleModel",
          "model_module_version": "1.5.0",
          "state": {
            "_model_module": "@jupyter-widgets/controls",
            "_model_module_version": "1.5.0",
            "_model_name": "ProgressStyleModel",
            "_view_count": null,
            "_view_module": "@jupyter-widgets/base",
            "_view_module_version": "1.2.0",
            "_view_name": "StyleView",
            "bar_color": null,
            "description_width": ""
          }
        },
        "2647606b13f54ee58bbe2f950ab8cf20": {
          "model_module": "@jupyter-widgets/base",
          "model_name": "LayoutModel",
          "model_module_version": "1.2.0",
          "state": {
            "_model_module": "@jupyter-widgets/base",
            "_model_module_version": "1.2.0",
            "_model_name": "LayoutModel",
            "_view_count": null,
            "_view_module": "@jupyter-widgets/base",
            "_view_module_version": "1.2.0",
            "_view_name": "LayoutView",
            "align_content": null,
            "align_items": null,
            "align_self": null,
            "border": null,
            "bottom": null,
            "display": null,
            "flex": null,
            "flex_flow": null,
            "grid_area": null,
            "grid_auto_columns": null,
            "grid_auto_flow": null,
            "grid_auto_rows": null,
            "grid_column": null,
            "grid_gap": null,
            "grid_row": null,
            "grid_template_areas": null,
            "grid_template_columns": null,
            "grid_template_rows": null,
            "height": null,
            "justify_content": null,
            "justify_items": null,
            "left": null,
            "margin": null,
            "max_height": null,
            "max_width": null,
            "min_height": null,
            "min_width": null,
            "object_fit": null,
            "object_position": null,
            "order": null,
            "overflow": null,
            "overflow_x": null,
            "overflow_y": null,
            "padding": null,
            "right": null,
            "top": null,
            "visibility": null,
            "width": null
          }
        },
        "1c82b1e695b24b5b87956d6c8971954b": {
          "model_module": "@jupyter-widgets/controls",
          "model_name": "DescriptionStyleModel",
          "model_module_version": "1.5.0",
          "state": {
            "_model_module": "@jupyter-widgets/controls",
            "_model_module_version": "1.5.0",
            "_model_name": "DescriptionStyleModel",
            "_view_count": null,
            "_view_module": "@jupyter-widgets/base",
            "_view_module_version": "1.2.0",
            "_view_name": "StyleView",
            "description_width": ""
          }
        },
        "43d51e98603840a188e8a072ac9651d8": {
          "model_module": "@jupyter-widgets/controls",
          "model_name": "HBoxModel",
          "model_module_version": "1.5.0",
          "state": {
            "_dom_classes": [],
            "_model_module": "@jupyter-widgets/controls",
            "_model_module_version": "1.5.0",
            "_model_name": "HBoxModel",
            "_view_count": null,
            "_view_module": "@jupyter-widgets/controls",
            "_view_module_version": "1.5.0",
            "_view_name": "HBoxView",
            "box_style": "",
            "children": [
              "IPY_MODEL_0a5d06943e8b4ae59aac1e4060cac6f9",
              "IPY_MODEL_298710e321ca446f9112e1dc0db2fc7b",
              "IPY_MODEL_f791f30b93bd4b87b700c57a4d7cf4d5"
            ],
            "layout": "IPY_MODEL_cff0669a02354e74a401112f0a9fb06d"
          }
        },
        "0a5d06943e8b4ae59aac1e4060cac6f9": {
          "model_module": "@jupyter-widgets/controls",
          "model_name": "HTMLModel",
          "model_module_version": "1.5.0",
          "state": {
            "_dom_classes": [],
            "_model_module": "@jupyter-widgets/controls",
            "_model_module_version": "1.5.0",
            "_model_name": "HTMLModel",
            "_view_count": null,
            "_view_module": "@jupyter-widgets/controls",
            "_view_module_version": "1.5.0",
            "_view_name": "HTMLView",
            "description": "",
            "description_tooltip": null,
            "layout": "IPY_MODEL_1557c0ac1ebd4971966c8690f3ae2095",
            "placeholder": "​",
            "style": "IPY_MODEL_f325580ad0714c7297be322d30be325e",
            "value": "Iteration: 100%"
          }
        },
        "298710e321ca446f9112e1dc0db2fc7b": {
          "model_module": "@jupyter-widgets/controls",
          "model_name": "FloatProgressModel",
          "model_module_version": "1.5.0",
          "state": {
            "_dom_classes": [],
            "_model_module": "@jupyter-widgets/controls",
            "_model_module_version": "1.5.0",
            "_model_name": "FloatProgressModel",
            "_view_count": null,
            "_view_module": "@jupyter-widgets/controls",
            "_view_module_version": "1.5.0",
            "_view_name": "ProgressView",
            "bar_style": "success",
            "description": "",
            "description_tooltip": null,
            "layout": "IPY_MODEL_b4847f14ef684e24a5c50e7050db802e",
            "max": 2,
            "min": 0,
            "orientation": "horizontal",
            "style": "IPY_MODEL_7530d383e46144db9cae0bfe26ab5ae5",
            "value": 2
          }
        },
        "f791f30b93bd4b87b700c57a4d7cf4d5": {
          "model_module": "@jupyter-widgets/controls",
          "model_name": "HTMLModel",
          "model_module_version": "1.5.0",
          "state": {
            "_dom_classes": [],
            "_model_module": "@jupyter-widgets/controls",
            "_model_module_version": "1.5.0",
            "_model_name": "HTMLModel",
            "_view_count": null,
            "_view_module": "@jupyter-widgets/controls",
            "_view_module_version": "1.5.0",
            "_view_name": "HTMLView",
            "description": "",
            "description_tooltip": null,
            "layout": "IPY_MODEL_68feef9bb4ad4b88b0ad41c771bd837a",
            "placeholder": "​",
            "style": "IPY_MODEL_6fa8be2199284cbd94981fde23ff017e",
            "value": " 2/2 [00:21&lt;00:00, 10.42s/it]"
          }
        },
        "cff0669a02354e74a401112f0a9fb06d": {
          "model_module": "@jupyter-widgets/base",
          "model_name": "LayoutModel",
          "model_module_version": "1.2.0",
          "state": {
            "_model_module": "@jupyter-widgets/base",
            "_model_module_version": "1.2.0",
            "_model_name": "LayoutModel",
            "_view_count": null,
            "_view_module": "@jupyter-widgets/base",
            "_view_module_version": "1.2.0",
            "_view_name": "LayoutView",
            "align_content": null,
            "align_items": null,
            "align_self": null,
            "border": null,
            "bottom": null,
            "display": null,
            "flex": null,
            "flex_flow": null,
            "grid_area": null,
            "grid_auto_columns": null,
            "grid_auto_flow": null,
            "grid_auto_rows": null,
            "grid_column": null,
            "grid_gap": null,
            "grid_row": null,
            "grid_template_areas": null,
            "grid_template_columns": null,
            "grid_template_rows": null,
            "height": null,
            "justify_content": null,
            "justify_items": null,
            "left": null,
            "margin": null,
            "max_height": null,
            "max_width": null,
            "min_height": null,
            "min_width": null,
            "object_fit": null,
            "object_position": null,
            "order": null,
            "overflow": null,
            "overflow_x": null,
            "overflow_y": null,
            "padding": null,
            "right": null,
            "top": null,
            "visibility": null,
            "width": null
          }
        },
        "1557c0ac1ebd4971966c8690f3ae2095": {
          "model_module": "@jupyter-widgets/base",
          "model_name": "LayoutModel",
          "model_module_version": "1.2.0",
          "state": {
            "_model_module": "@jupyter-widgets/base",
            "_model_module_version": "1.2.0",
            "_model_name": "LayoutModel",
            "_view_count": null,
            "_view_module": "@jupyter-widgets/base",
            "_view_module_version": "1.2.0",
            "_view_name": "LayoutView",
            "align_content": null,
            "align_items": null,
            "align_self": null,
            "border": null,
            "bottom": null,
            "display": null,
            "flex": null,
            "flex_flow": null,
            "grid_area": null,
            "grid_auto_columns": null,
            "grid_auto_flow": null,
            "grid_auto_rows": null,
            "grid_column": null,
            "grid_gap": null,
            "grid_row": null,
            "grid_template_areas": null,
            "grid_template_columns": null,
            "grid_template_rows": null,
            "height": null,
            "justify_content": null,
            "justify_items": null,
            "left": null,
            "margin": null,
            "max_height": null,
            "max_width": null,
            "min_height": null,
            "min_width": null,
            "object_fit": null,
            "object_position": null,
            "order": null,
            "overflow": null,
            "overflow_x": null,
            "overflow_y": null,
            "padding": null,
            "right": null,
            "top": null,
            "visibility": null,
            "width": null
          }
        },
        "f325580ad0714c7297be322d30be325e": {
          "model_module": "@jupyter-widgets/controls",
          "model_name": "DescriptionStyleModel",
          "model_module_version": "1.5.0",
          "state": {
            "_model_module": "@jupyter-widgets/controls",
            "_model_module_version": "1.5.0",
            "_model_name": "DescriptionStyleModel",
            "_view_count": null,
            "_view_module": "@jupyter-widgets/base",
            "_view_module_version": "1.2.0",
            "_view_name": "StyleView",
            "description_width": ""
          }
        },
        "b4847f14ef684e24a5c50e7050db802e": {
          "model_module": "@jupyter-widgets/base",
          "model_name": "LayoutModel",
          "model_module_version": "1.2.0",
          "state": {
            "_model_module": "@jupyter-widgets/base",
            "_model_module_version": "1.2.0",
            "_model_name": "LayoutModel",
            "_view_count": null,
            "_view_module": "@jupyter-widgets/base",
            "_view_module_version": "1.2.0",
            "_view_name": "LayoutView",
            "align_content": null,
            "align_items": null,
            "align_self": null,
            "border": null,
            "bottom": null,
            "display": null,
            "flex": null,
            "flex_flow": null,
            "grid_area": null,
            "grid_auto_columns": null,
            "grid_auto_flow": null,
            "grid_auto_rows": null,
            "grid_column": null,
            "grid_gap": null,
            "grid_row": null,
            "grid_template_areas": null,
            "grid_template_columns": null,
            "grid_template_rows": null,
            "height": null,
            "justify_content": null,
            "justify_items": null,
            "left": null,
            "margin": null,
            "max_height": null,
            "max_width": null,
            "min_height": null,
            "min_width": null,
            "object_fit": null,
            "object_position": null,
            "order": null,
            "overflow": null,
            "overflow_x": null,
            "overflow_y": null,
            "padding": null,
            "right": null,
            "top": null,
            "visibility": null,
            "width": null
          }
        },
        "7530d383e46144db9cae0bfe26ab5ae5": {
          "model_module": "@jupyter-widgets/controls",
          "model_name": "ProgressStyleModel",
          "model_module_version": "1.5.0",
          "state": {
            "_model_module": "@jupyter-widgets/controls",
            "_model_module_version": "1.5.0",
            "_model_name": "ProgressStyleModel",
            "_view_count": null,
            "_view_module": "@jupyter-widgets/base",
            "_view_module_version": "1.2.0",
            "_view_name": "StyleView",
            "bar_color": null,
            "description_width": ""
          }
        },
        "68feef9bb4ad4b88b0ad41c771bd837a": {
          "model_module": "@jupyter-widgets/base",
          "model_name": "LayoutModel",
          "model_module_version": "1.2.0",
          "state": {
            "_model_module": "@jupyter-widgets/base",
            "_model_module_version": "1.2.0",
            "_model_name": "LayoutModel",
            "_view_count": null,
            "_view_module": "@jupyter-widgets/base",
            "_view_module_version": "1.2.0",
            "_view_name": "LayoutView",
            "align_content": null,
            "align_items": null,
            "align_self": null,
            "border": null,
            "bottom": null,
            "display": null,
            "flex": null,
            "flex_flow": null,
            "grid_area": null,
            "grid_auto_columns": null,
            "grid_auto_flow": null,
            "grid_auto_rows": null,
            "grid_column": null,
            "grid_gap": null,
            "grid_row": null,
            "grid_template_areas": null,
            "grid_template_columns": null,
            "grid_template_rows": null,
            "height": null,
            "justify_content": null,
            "justify_items": null,
            "left": null,
            "margin": null,
            "max_height": null,
            "max_width": null,
            "min_height": null,
            "min_width": null,
            "object_fit": null,
            "object_position": null,
            "order": null,
            "overflow": null,
            "overflow_x": null,
            "overflow_y": null,
            "padding": null,
            "right": null,
            "top": null,
            "visibility": null,
            "width": null
          }
        },
        "6fa8be2199284cbd94981fde23ff017e": {
          "model_module": "@jupyter-widgets/controls",
          "model_name": "DescriptionStyleModel",
          "model_module_version": "1.5.0",
          "state": {
            "_model_module": "@jupyter-widgets/controls",
            "_model_module_version": "1.5.0",
            "_model_name": "DescriptionStyleModel",
            "_view_count": null,
            "_view_module": "@jupyter-widgets/base",
            "_view_module_version": "1.2.0",
            "_view_name": "StyleView",
            "description_width": ""
          }
        },
        "4a061ecb5ca44bc9ac0e4f4a3512580f": {
          "model_module": "@jupyter-widgets/controls",
          "model_name": "HBoxModel",
          "model_module_version": "1.5.0",
          "state": {
            "_dom_classes": [],
            "_model_module": "@jupyter-widgets/controls",
            "_model_module_version": "1.5.0",
            "_model_name": "HBoxModel",
            "_view_count": null,
            "_view_module": "@jupyter-widgets/controls",
            "_view_module_version": "1.5.0",
            "_view_name": "HBoxView",
            "box_style": "",
            "children": [
              "IPY_MODEL_c2cfd3e68e204d288f70a058c361d360",
              "IPY_MODEL_be93765a3ba14f5083e29175002db0cb",
              "IPY_MODEL_b5ca48e930c04a8086df74ef7cf22f43"
            ],
            "layout": "IPY_MODEL_42681afdc9264f7e806f8cb98f206d03"
          }
        },
        "c2cfd3e68e204d288f70a058c361d360": {
          "model_module": "@jupyter-widgets/controls",
          "model_name": "HTMLModel",
          "model_module_version": "1.5.0",
          "state": {
            "_dom_classes": [],
            "_model_module": "@jupyter-widgets/controls",
            "_model_module_version": "1.5.0",
            "_model_name": "HTMLModel",
            "_view_count": null,
            "_view_module": "@jupyter-widgets/controls",
            "_view_module_version": "1.5.0",
            "_view_name": "HTMLView",
            "description": "",
            "description_tooltip": null,
            "layout": "IPY_MODEL_e8d6cd0a99df49bf968b5b083f4ff9e3",
            "placeholder": "​",
            "style": "IPY_MODEL_9163b40bb2ce41048e07c9835294a9a4",
            "value": "Iteration: 100%"
          }
        },
        "be93765a3ba14f5083e29175002db0cb": {
          "model_module": "@jupyter-widgets/controls",
          "model_name": "FloatProgressModel",
          "model_module_version": "1.5.0",
          "state": {
            "_dom_classes": [],
            "_model_module": "@jupyter-widgets/controls",
            "_model_module_version": "1.5.0",
            "_model_name": "FloatProgressModel",
            "_view_count": null,
            "_view_module": "@jupyter-widgets/controls",
            "_view_module_version": "1.5.0",
            "_view_name": "ProgressView",
            "bar_style": "success",
            "description": "",
            "description_tooltip": null,
            "layout": "IPY_MODEL_6f7f94f38a154739930943c6f9c1bbd9",
            "max": 2,
            "min": 0,
            "orientation": "horizontal",
            "style": "IPY_MODEL_d6ac4b7ee0a642b886f9cf0325d514d5",
            "value": 2
          }
        },
        "b5ca48e930c04a8086df74ef7cf22f43": {
          "model_module": "@jupyter-widgets/controls",
          "model_name": "HTMLModel",
          "model_module_version": "1.5.0",
          "state": {
            "_dom_classes": [],
            "_model_module": "@jupyter-widgets/controls",
            "_model_module_version": "1.5.0",
            "_model_name": "HTMLModel",
            "_view_count": null,
            "_view_module": "@jupyter-widgets/controls",
            "_view_module_version": "1.5.0",
            "_view_name": "HTMLView",
            "description": "",
            "description_tooltip": null,
            "layout": "IPY_MODEL_c4f7942670154cfb8f2bafe98ee8c8cb",
            "placeholder": "​",
            "style": "IPY_MODEL_4d1c4d1fba4e477587b92f25797209e9",
            "value": " 2/2 [00:17&lt;00:00,  8.48s/it]"
          }
        },
        "42681afdc9264f7e806f8cb98f206d03": {
          "model_module": "@jupyter-widgets/base",
          "model_name": "LayoutModel",
          "model_module_version": "1.2.0",
          "state": {
            "_model_module": "@jupyter-widgets/base",
            "_model_module_version": "1.2.0",
            "_model_name": "LayoutModel",
            "_view_count": null,
            "_view_module": "@jupyter-widgets/base",
            "_view_module_version": "1.2.0",
            "_view_name": "LayoutView",
            "align_content": null,
            "align_items": null,
            "align_self": null,
            "border": null,
            "bottom": null,
            "display": null,
            "flex": null,
            "flex_flow": null,
            "grid_area": null,
            "grid_auto_columns": null,
            "grid_auto_flow": null,
            "grid_auto_rows": null,
            "grid_column": null,
            "grid_gap": null,
            "grid_row": null,
            "grid_template_areas": null,
            "grid_template_columns": null,
            "grid_template_rows": null,
            "height": null,
            "justify_content": null,
            "justify_items": null,
            "left": null,
            "margin": null,
            "max_height": null,
            "max_width": null,
            "min_height": null,
            "min_width": null,
            "object_fit": null,
            "object_position": null,
            "order": null,
            "overflow": null,
            "overflow_x": null,
            "overflow_y": null,
            "padding": null,
            "right": null,
            "top": null,
            "visibility": null,
            "width": null
          }
        },
        "e8d6cd0a99df49bf968b5b083f4ff9e3": {
          "model_module": "@jupyter-widgets/base",
          "model_name": "LayoutModel",
          "model_module_version": "1.2.0",
          "state": {
            "_model_module": "@jupyter-widgets/base",
            "_model_module_version": "1.2.0",
            "_model_name": "LayoutModel",
            "_view_count": null,
            "_view_module": "@jupyter-widgets/base",
            "_view_module_version": "1.2.0",
            "_view_name": "LayoutView",
            "align_content": null,
            "align_items": null,
            "align_self": null,
            "border": null,
            "bottom": null,
            "display": null,
            "flex": null,
            "flex_flow": null,
            "grid_area": null,
            "grid_auto_columns": null,
            "grid_auto_flow": null,
            "grid_auto_rows": null,
            "grid_column": null,
            "grid_gap": null,
            "grid_row": null,
            "grid_template_areas": null,
            "grid_template_columns": null,
            "grid_template_rows": null,
            "height": null,
            "justify_content": null,
            "justify_items": null,
            "left": null,
            "margin": null,
            "max_height": null,
            "max_width": null,
            "min_height": null,
            "min_width": null,
            "object_fit": null,
            "object_position": null,
            "order": null,
            "overflow": null,
            "overflow_x": null,
            "overflow_y": null,
            "padding": null,
            "right": null,
            "top": null,
            "visibility": null,
            "width": null
          }
        },
        "9163b40bb2ce41048e07c9835294a9a4": {
          "model_module": "@jupyter-widgets/controls",
          "model_name": "DescriptionStyleModel",
          "model_module_version": "1.5.0",
          "state": {
            "_model_module": "@jupyter-widgets/controls",
            "_model_module_version": "1.5.0",
            "_model_name": "DescriptionStyleModel",
            "_view_count": null,
            "_view_module": "@jupyter-widgets/base",
            "_view_module_version": "1.2.0",
            "_view_name": "StyleView",
            "description_width": ""
          }
        },
        "6f7f94f38a154739930943c6f9c1bbd9": {
          "model_module": "@jupyter-widgets/base",
          "model_name": "LayoutModel",
          "model_module_version": "1.2.0",
          "state": {
            "_model_module": "@jupyter-widgets/base",
            "_model_module_version": "1.2.0",
            "_model_name": "LayoutModel",
            "_view_count": null,
            "_view_module": "@jupyter-widgets/base",
            "_view_module_version": "1.2.0",
            "_view_name": "LayoutView",
            "align_content": null,
            "align_items": null,
            "align_self": null,
            "border": null,
            "bottom": null,
            "display": null,
            "flex": null,
            "flex_flow": null,
            "grid_area": null,
            "grid_auto_columns": null,
            "grid_auto_flow": null,
            "grid_auto_rows": null,
            "grid_column": null,
            "grid_gap": null,
            "grid_row": null,
            "grid_template_areas": null,
            "grid_template_columns": null,
            "grid_template_rows": null,
            "height": null,
            "justify_content": null,
            "justify_items": null,
            "left": null,
            "margin": null,
            "max_height": null,
            "max_width": null,
            "min_height": null,
            "min_width": null,
            "object_fit": null,
            "object_position": null,
            "order": null,
            "overflow": null,
            "overflow_x": null,
            "overflow_y": null,
            "padding": null,
            "right": null,
            "top": null,
            "visibility": null,
            "width": null
          }
        },
        "d6ac4b7ee0a642b886f9cf0325d514d5": {
          "model_module": "@jupyter-widgets/controls",
          "model_name": "ProgressStyleModel",
          "model_module_version": "1.5.0",
          "state": {
            "_model_module": "@jupyter-widgets/controls",
            "_model_module_version": "1.5.0",
            "_model_name": "ProgressStyleModel",
            "_view_count": null,
            "_view_module": "@jupyter-widgets/base",
            "_view_module_version": "1.2.0",
            "_view_name": "StyleView",
            "bar_color": null,
            "description_width": ""
          }
        },
        "c4f7942670154cfb8f2bafe98ee8c8cb": {
          "model_module": "@jupyter-widgets/base",
          "model_name": "LayoutModel",
          "model_module_version": "1.2.0",
          "state": {
            "_model_module": "@jupyter-widgets/base",
            "_model_module_version": "1.2.0",
            "_model_name": "LayoutModel",
            "_view_count": null,
            "_view_module": "@jupyter-widgets/base",
            "_view_module_version": "1.2.0",
            "_view_name": "LayoutView",
            "align_content": null,
            "align_items": null,
            "align_self": null,
            "border": null,
            "bottom": null,
            "display": null,
            "flex": null,
            "flex_flow": null,
            "grid_area": null,
            "grid_auto_columns": null,
            "grid_auto_flow": null,
            "grid_auto_rows": null,
            "grid_column": null,
            "grid_gap": null,
            "grid_row": null,
            "grid_template_areas": null,
            "grid_template_columns": null,
            "grid_template_rows": null,
            "height": null,
            "justify_content": null,
            "justify_items": null,
            "left": null,
            "margin": null,
            "max_height": null,
            "max_width": null,
            "min_height": null,
            "min_width": null,
            "object_fit": null,
            "object_position": null,
            "order": null,
            "overflow": null,
            "overflow_x": null,
            "overflow_y": null,
            "padding": null,
            "right": null,
            "top": null,
            "visibility": null,
            "width": null
          }
        },
        "4d1c4d1fba4e477587b92f25797209e9": {
          "model_module": "@jupyter-widgets/controls",
          "model_name": "DescriptionStyleModel",
          "model_module_version": "1.5.0",
          "state": {
            "_model_module": "@jupyter-widgets/controls",
            "_model_module_version": "1.5.0",
            "_model_name": "DescriptionStyleModel",
            "_view_count": null,
            "_view_module": "@jupyter-widgets/base",
            "_view_module_version": "1.2.0",
            "_view_name": "StyleView",
            "description_width": ""
          }
        },
        "f77036be67294eb1b2ff013d84f1c46a": {
          "model_module": "@jupyter-widgets/controls",
          "model_name": "HBoxModel",
          "model_module_version": "1.5.0",
          "state": {
            "_dom_classes": [],
            "_model_module": "@jupyter-widgets/controls",
            "_model_module_version": "1.5.0",
            "_model_name": "HBoxModel",
            "_view_count": null,
            "_view_module": "@jupyter-widgets/controls",
            "_view_module_version": "1.5.0",
            "_view_name": "HBoxView",
            "box_style": "",
            "children": [
              "IPY_MODEL_9aa8773b2f97405d943a139229925a8e",
              "IPY_MODEL_e04cf78a6a7f438da829217e7898e25f",
              "IPY_MODEL_8bbc1274c46a43759725a7212581eeb3"
            ],
            "layout": "IPY_MODEL_8649822d995143fbb009d06bdfa1e753"
          }
        },
        "9aa8773b2f97405d943a139229925a8e": {
          "model_module": "@jupyter-widgets/controls",
          "model_name": "HTMLModel",
          "model_module_version": "1.5.0",
          "state": {
            "_dom_classes": [],
            "_model_module": "@jupyter-widgets/controls",
            "_model_module_version": "1.5.0",
            "_model_name": "HTMLModel",
            "_view_count": null,
            "_view_module": "@jupyter-widgets/controls",
            "_view_module_version": "1.5.0",
            "_view_name": "HTMLView",
            "description": "",
            "description_tooltip": null,
            "layout": "IPY_MODEL_96ad907857f84a1bab3f1b864e619ae3",
            "placeholder": "​",
            "style": "IPY_MODEL_10cf7da85f1e41358cbf66b91d965f13",
            "value": "Iteration: 100%"
          }
        },
        "e04cf78a6a7f438da829217e7898e25f": {
          "model_module": "@jupyter-widgets/controls",
          "model_name": "FloatProgressModel",
          "model_module_version": "1.5.0",
          "state": {
            "_dom_classes": [],
            "_model_module": "@jupyter-widgets/controls",
            "_model_module_version": "1.5.0",
            "_model_name": "FloatProgressModel",
            "_view_count": null,
            "_view_module": "@jupyter-widgets/controls",
            "_view_module_version": "1.5.0",
            "_view_name": "ProgressView",
            "bar_style": "success",
            "description": "",
            "description_tooltip": null,
            "layout": "IPY_MODEL_fbed9debdc9842c4907b7682367512c0",
            "max": 2,
            "min": 0,
            "orientation": "horizontal",
            "style": "IPY_MODEL_935fc54440774487a6e280dfe36f27e4",
            "value": 2
          }
        },
        "8bbc1274c46a43759725a7212581eeb3": {
          "model_module": "@jupyter-widgets/controls",
          "model_name": "HTMLModel",
          "model_module_version": "1.5.0",
          "state": {
            "_dom_classes": [],
            "_model_module": "@jupyter-widgets/controls",
            "_model_module_version": "1.5.0",
            "_model_name": "HTMLModel",
            "_view_count": null,
            "_view_module": "@jupyter-widgets/controls",
            "_view_module_version": "1.5.0",
            "_view_name": "HTMLView",
            "description": "",
            "description_tooltip": null,
            "layout": "IPY_MODEL_68fe1342a47946a5a6debb5cd4b779be",
            "placeholder": "​",
            "style": "IPY_MODEL_10fab74c8e364b338ceaa71dc8dcabf4",
            "value": " 2/2 [00:16&lt;00:00,  8.30s/it]"
          }
        },
        "8649822d995143fbb009d06bdfa1e753": {
          "model_module": "@jupyter-widgets/base",
          "model_name": "LayoutModel",
          "model_module_version": "1.2.0",
          "state": {
            "_model_module": "@jupyter-widgets/base",
            "_model_module_version": "1.2.0",
            "_model_name": "LayoutModel",
            "_view_count": null,
            "_view_module": "@jupyter-widgets/base",
            "_view_module_version": "1.2.0",
            "_view_name": "LayoutView",
            "align_content": null,
            "align_items": null,
            "align_self": null,
            "border": null,
            "bottom": null,
            "display": null,
            "flex": null,
            "flex_flow": null,
            "grid_area": null,
            "grid_auto_columns": null,
            "grid_auto_flow": null,
            "grid_auto_rows": null,
            "grid_column": null,
            "grid_gap": null,
            "grid_row": null,
            "grid_template_areas": null,
            "grid_template_columns": null,
            "grid_template_rows": null,
            "height": null,
            "justify_content": null,
            "justify_items": null,
            "left": null,
            "margin": null,
            "max_height": null,
            "max_width": null,
            "min_height": null,
            "min_width": null,
            "object_fit": null,
            "object_position": null,
            "order": null,
            "overflow": null,
            "overflow_x": null,
            "overflow_y": null,
            "padding": null,
            "right": null,
            "top": null,
            "visibility": null,
            "width": null
          }
        },
        "96ad907857f84a1bab3f1b864e619ae3": {
          "model_module": "@jupyter-widgets/base",
          "model_name": "LayoutModel",
          "model_module_version": "1.2.0",
          "state": {
            "_model_module": "@jupyter-widgets/base",
            "_model_module_version": "1.2.0",
            "_model_name": "LayoutModel",
            "_view_count": null,
            "_view_module": "@jupyter-widgets/base",
            "_view_module_version": "1.2.0",
            "_view_name": "LayoutView",
            "align_content": null,
            "align_items": null,
            "align_self": null,
            "border": null,
            "bottom": null,
            "display": null,
            "flex": null,
            "flex_flow": null,
            "grid_area": null,
            "grid_auto_columns": null,
            "grid_auto_flow": null,
            "grid_auto_rows": null,
            "grid_column": null,
            "grid_gap": null,
            "grid_row": null,
            "grid_template_areas": null,
            "grid_template_columns": null,
            "grid_template_rows": null,
            "height": null,
            "justify_content": null,
            "justify_items": null,
            "left": null,
            "margin": null,
            "max_height": null,
            "max_width": null,
            "min_height": null,
            "min_width": null,
            "object_fit": null,
            "object_position": null,
            "order": null,
            "overflow": null,
            "overflow_x": null,
            "overflow_y": null,
            "padding": null,
            "right": null,
            "top": null,
            "visibility": null,
            "width": null
          }
        },
        "10cf7da85f1e41358cbf66b91d965f13": {
          "model_module": "@jupyter-widgets/controls",
          "model_name": "DescriptionStyleModel",
          "model_module_version": "1.5.0",
          "state": {
            "_model_module": "@jupyter-widgets/controls",
            "_model_module_version": "1.5.0",
            "_model_name": "DescriptionStyleModel",
            "_view_count": null,
            "_view_module": "@jupyter-widgets/base",
            "_view_module_version": "1.2.0",
            "_view_name": "StyleView",
            "description_width": ""
          }
        },
        "fbed9debdc9842c4907b7682367512c0": {
          "model_module": "@jupyter-widgets/base",
          "model_name": "LayoutModel",
          "model_module_version": "1.2.0",
          "state": {
            "_model_module": "@jupyter-widgets/base",
            "_model_module_version": "1.2.0",
            "_model_name": "LayoutModel",
            "_view_count": null,
            "_view_module": "@jupyter-widgets/base",
            "_view_module_version": "1.2.0",
            "_view_name": "LayoutView",
            "align_content": null,
            "align_items": null,
            "align_self": null,
            "border": null,
            "bottom": null,
            "display": null,
            "flex": null,
            "flex_flow": null,
            "grid_area": null,
            "grid_auto_columns": null,
            "grid_auto_flow": null,
            "grid_auto_rows": null,
            "grid_column": null,
            "grid_gap": null,
            "grid_row": null,
            "grid_template_areas": null,
            "grid_template_columns": null,
            "grid_template_rows": null,
            "height": null,
            "justify_content": null,
            "justify_items": null,
            "left": null,
            "margin": null,
            "max_height": null,
            "max_width": null,
            "min_height": null,
            "min_width": null,
            "object_fit": null,
            "object_position": null,
            "order": null,
            "overflow": null,
            "overflow_x": null,
            "overflow_y": null,
            "padding": null,
            "right": null,
            "top": null,
            "visibility": null,
            "width": null
          }
        },
        "935fc54440774487a6e280dfe36f27e4": {
          "model_module": "@jupyter-widgets/controls",
          "model_name": "ProgressStyleModel",
          "model_module_version": "1.5.0",
          "state": {
            "_model_module": "@jupyter-widgets/controls",
            "_model_module_version": "1.5.0",
            "_model_name": "ProgressStyleModel",
            "_view_count": null,
            "_view_module": "@jupyter-widgets/base",
            "_view_module_version": "1.2.0",
            "_view_name": "StyleView",
            "bar_color": null,
            "description_width": ""
          }
        },
        "68fe1342a47946a5a6debb5cd4b779be": {
          "model_module": "@jupyter-widgets/base",
          "model_name": "LayoutModel",
          "model_module_version": "1.2.0",
          "state": {
            "_model_module": "@jupyter-widgets/base",
            "_model_module_version": "1.2.0",
            "_model_name": "LayoutModel",
            "_view_count": null,
            "_view_module": "@jupyter-widgets/base",
            "_view_module_version": "1.2.0",
            "_view_name": "LayoutView",
            "align_content": null,
            "align_items": null,
            "align_self": null,
            "border": null,
            "bottom": null,
            "display": null,
            "flex": null,
            "flex_flow": null,
            "grid_area": null,
            "grid_auto_columns": null,
            "grid_auto_flow": null,
            "grid_auto_rows": null,
            "grid_column": null,
            "grid_gap": null,
            "grid_row": null,
            "grid_template_areas": null,
            "grid_template_columns": null,
            "grid_template_rows": null,
            "height": null,
            "justify_content": null,
            "justify_items": null,
            "left": null,
            "margin": null,
            "max_height": null,
            "max_width": null,
            "min_height": null,
            "min_width": null,
            "object_fit": null,
            "object_position": null,
            "order": null,
            "overflow": null,
            "overflow_x": null,
            "overflow_y": null,
            "padding": null,
            "right": null,
            "top": null,
            "visibility": null,
            "width": null
          }
        },
        "10fab74c8e364b338ceaa71dc8dcabf4": {
          "model_module": "@jupyter-widgets/controls",
          "model_name": "DescriptionStyleModel",
          "model_module_version": "1.5.0",
          "state": {
            "_model_module": "@jupyter-widgets/controls",
            "_model_module_version": "1.5.0",
            "_model_name": "DescriptionStyleModel",
            "_view_count": null,
            "_view_module": "@jupyter-widgets/base",
            "_view_module_version": "1.2.0",
            "_view_name": "StyleView",
            "description_width": ""
          }
        }
      }
    }
  },
  "cells": [
    {
      "cell_type": "markdown",
      "source": [
        "# Introducing paperetl\n",
        "\n",
        "paperetl is an ETL library for processing medical and scientific papers. paperetl transforms XML, CSV and PDF articles into a structured dataset, enabling downstream processing by machine learning applications.\n",
        "\n"
      ],
      "metadata": {
        "id": "uSRZj8RWSBVh"
      }
    },
    {
      "cell_type": "markdown",
      "source": [
        "# Install dependencies\n",
        "\n",
        "Install `paperetl` and all dependencies. This step also downloads input data to process."
      ],
      "metadata": {
        "id": "0sqt7nEFSmO4"
      }
    },
    {
      "cell_type": "code",
      "execution_count": 1,
      "metadata": {
        "id": "i-DF6MYkR7zX"
      },
      "outputs": [],
      "source": [
        "%%capture\n",
        "!pip install git+https://github.com/neuml/paperetl\n",
        "\n",
        "# Download NLTK data\n",
        "!python -c \"import nltk; nltk.download('punkt')\"\n",
        "\n",
        "# Download data\n",
        "!mkdir -p paperetl\n",
        "!wget -N https://github.com/neuml/paperetl/releases/download/v1.6.0/tests.tar.gz\n",
        "!tar -xvzf tests.tar.gz"
      ]
    },
    {
      "cell_type": "markdown",
      "source": [
        "# Review data\n",
        "\n",
        "Now let's take a look at the input data, which is a list of files in a directory."
      ],
      "metadata": {
        "id": "xLekHfEAUBH6"
      }
    },
    {
      "cell_type": "code",
      "source": [
        "!ls -l paperetl/file/data"
      ],
      "metadata": {
        "colab": {
          "base_uri": "https://localhost:8080/"
        },
        "id": "SQR2B_KVTlGL",
        "outputId": "48ab6bc9-3838-44e5-c177-13f2505adcbf"
      },
      "execution_count": 2,
      "outputs": [
        {
          "output_type": "stream",
          "name": "stdout",
          "text": [
            "total 1692\n",
            "-rw-rw-r-- 1 1000 1000  95375 Nov  4  2020 0.xml\n",
            "-rw-rw-r-- 1 1000 1000    353 Dec  5  2021 10.csv\n",
            "-rw-rw-r-- 1 1000 1000 310066 Nov  4  2020 1.xml\n",
            "-rw-rw-r-- 1 1000 1000 349016 Nov  4  2020 2.xml\n",
            "-rw-rw-r-- 1 1000 1000 232888 Nov  4  2020 3.xml\n",
            "-rw-rw-r-- 1 1000 1000 235276 Nov  4  2020 4.xml\n",
            "-rw-rw-r-- 1 1000 1000  50414 Nov  4  2020 5.xml\n",
            "-rw-rw-r-- 1 1000 1000  92683 Nov  4  2020 6.xml\n",
            "-rw-rw-r-- 1 1000 1000 139379 Nov  4  2020 7.xml\n",
            "-rw-rw-r-- 1 1000 1000  41640 Nov  4  2020 8.xml\n",
            "-rw-rw-r-- 1 1000 1000  77557 Nov  4  2020 9.xml\n",
            "-rw-r--r-- 1 1000 1000   5364 Dec  5  2021 arxiv.xml\n",
            "-rw-r--r-- 1 1000 1000  70272 Oct  5  2021 pubmed.xml\n"
          ]
        }
      ]
    },
    {
      "cell_type": "markdown",
      "source": [
        "# Process data\n",
        "\n",
        "Next, we'll run the ETL process to load the files into a SQLite articles database."
      ],
      "metadata": {
        "id": "G5bDFFCXUhGJ"
      }
    },
    {
      "cell_type": "code",
      "source": [
        "!python -m paperetl.file paperetl/file/data paperetl/models"
      ],
      "metadata": {
        "colab": {
          "base_uri": "https://localhost:8080/"
        },
        "id": "1R0mP1VcUpeP",
        "outputId": "6cd640a8-0baf-4078-983a-27451dfafede"
      },
      "execution_count": 3,
      "outputs": [
        {
          "output_type": "stream",
          "name": "stdout",
          "text": [
            "Processing: paperetl/file/data/0.xml\n",
            "/usr/local/lib/python3.10/dist-packages/paperetl/file/tei.py:35: XMLParsedAsHTMLWarning: It looks like you're parsing an XML document using an HTML parser. If this really is an HTML document (maybe it's XHTML?), you can ignore or filter this warning. If it's XML, you should know that using an XML parser will be more reliable. To parse this document as XML, make sure you have the lxml package installed, and pass the keyword argument `features=\"xml\"` into the BeautifulSoup constructor.\n",
            "  soup = BeautifulSoup(stream, \"lxml\")\n",
            "Processing: paperetl/file/data/1.xml\n",
            "/usr/local/lib/python3.10/dist-packages/paperetl/file/tei.py:35: XMLParsedAsHTMLWarning: It looks like you're parsing an XML document using an HTML parser. If this really is an HTML document (maybe it's XHTML?), you can ignore or filter this warning. If it's XML, you should know that using an XML parser will be more reliable. To parse this document as XML, make sure you have the lxml package installed, and pass the keyword argument `features=\"xml\"` into the BeautifulSoup constructor.\n",
            "  soup = BeautifulSoup(stream, \"lxml\")\n",
            "Processing: paperetl/file/data/10.csv\n",
            "Processing: paperetl/file/data/2.xml\n",
            "Processing: paperetl/file/data/3.xml\n",
            "Processing: paperetl/file/data/4.xml\n",
            "Processing: paperetl/file/data/5.xml\n",
            "Processing: paperetl/file/data/6.xml\n",
            "Processing: paperetl/file/data/7.xml\n",
            "Processing: paperetl/file/data/8.xml\n",
            "Processing: paperetl/file/data/9.xml\n",
            "Processing: paperetl/file/data/arxiv.xml\n",
            "/usr/local/lib/python3.10/dist-packages/paperetl/file/arx.py:33: XMLParsedAsHTMLWarning: It looks like you're parsing an XML document using an HTML parser. If this really is an HTML document (maybe it's XHTML?), you can ignore or filter this warning. If it's XML, you should know that using an XML parser will be more reliable. To parse this document as XML, make sure you have the lxml package installed, and pass the keyword argument `features=\"xml\"` into the BeautifulSoup constructor.\n",
            "  soup = BeautifulSoup(stream, \"lxml\")\n",
            "Processing: paperetl/file/data/pubmed.xml\n",
            "Total articles inserted: 0\n"
          ]
        }
      ]
    },
    {
      "cell_type": "code",
      "source": [
        "!ls -l paperetl/models"
      ],
      "metadata": {
        "colab": {
          "base_uri": "https://localhost:8080/"
        },
        "id": "ER8QFxTZhQst",
        "outputId": "9f623349-89e1-4246-d4bd-1a3656bd0aaf"
      },
      "execution_count": 4,
      "outputs": [
        {
          "output_type": "stream",
          "name": "stdout",
          "text": [
            "total 936\n",
            "-rw-r--r-- 1 root root 958464 Apr 26 19:35 articles.sqlite\n"
          ]
        }
      ]
    },
    {
      "cell_type": "markdown",
      "source": [
        "This ETL process took the XML and CSV files, parsed the metadata/content and loaded it all into `articles.sqlite`."
      ],
      "metadata": {
        "id": "t-ra9JbhhZl8"
      }
    },
    {
      "cell_type": "markdown",
      "source": [
        "# Import the necessary modules"
      ],
      "metadata": {
        "id": "qTAzDwDw9mfo"
      }
    },
    {
      "cell_type": "markdown",
      "source": [
        "The Sentence Transformers library typically requires data in the form of InputExample objects, where each example contains a pair of texts and a label indicating the similarity between them. For a semantic similarity task, you'll need to create pairs of sentences and a corresponding label, usually a float that indicates how similar the two texts are."
      ],
      "metadata": {
        "id": "FkvsckLj-BqA"
      }
    },
    {
      "cell_type": "markdown",
      "source": [
        "# Review parsed data\n",
        "\n",
        "The two main tables in `articles.sqlite` are articles and sections.\n",
        "\n",
        "- The articles table stores metadata (date, authors, publication, title...)\n",
        "- The sections table stores the article text split into sections and sentences\n",
        "\n",
        "Now let's take a look at what was loaded."
      ],
      "metadata": {
        "id": "Bhlm_ZAgdxkW"
      }
    },
    {
      "cell_type": "code",
      "source": [
        "import sqlite3\n",
        "\n",
        "import pandas as pd\n",
        "\n",
        "from IPython.display import display, HTML\n",
        "\n",
        "def execute(sql):\n",
        "  db = sqlite3.connect(\"paperetl/models/articles.sqlite\")\n",
        "  cursor = db.cursor()\n",
        "  cursor.execute(sql)\n",
        "\n",
        "  df = pd.DataFrame([list(x) for x in cursor], columns=[c[0] for c in cursor.description])\n",
        "  display(HTML(df.to_html(index=False)))\n",
        "\n",
        "# Show articles\n",
        "execute(\"SELECT * FROM articles LIMIT 5\")"
      ],
      "metadata": {
        "id": "DDEYJNQhd1Cw"
      },
      "execution_count": null,
      "outputs": []
    },
    {
      "cell_type": "markdown",
      "source": [
        " let's check the schema of the articles table to see what columns are available."
      ],
      "metadata": {
        "id": "aMrM678C9Kzr"
      }
    },
    {
      "cell_type": "code",
      "source": [
        "# Connect to the SQLite database\n",
        "db = sqlite3.connect(\"paperetl/models/articles.sqlite\")\n",
        "\n",
        "# Create a cursor object using the cursor() method\n",
        "cursor = db.cursor()\n",
        "\n",
        "# Get the schema of the articles table\n",
        "cursor.execute(\"PRAGMA table_info(articles)\")\n",
        "schema = cursor.fetchall()\n",
        "\n",
        "# Close the database connection\n",
        "db.close()\n",
        "\n",
        "# Print the schema\n",
        "for column in schema:\n",
        "    print(column)\n"
      ],
      "metadata": {
        "colab": {
          "base_uri": "https://localhost:8080/"
        },
        "id": "Xr_SPHRx8vEs",
        "outputId": "c21320ff-e1af-41b0-ec66-dc91073f3e8e"
      },
      "execution_count": 6,
      "outputs": [
        {
          "output_type": "stream",
          "name": "stdout",
          "text": [
            "(0, 'Id', 'TEXT', 0, None, 1)\n",
            "(1, 'Source', 'TEXT', 0, None, 0)\n",
            "(2, 'Published', 'DATETIME', 0, None, 0)\n",
            "(3, 'Publication', 'TEXT', 0, None, 0)\n",
            "(4, 'Authors', 'TEXT', 0, None, 0)\n",
            "(5, 'Affiliations', 'TEXT', 0, None, 0)\n",
            "(6, 'Affiliation', 'TEXT', 0, None, 0)\n",
            "(7, 'Title', 'TEXT', 0, None, 0)\n",
            "(8, 'Tags', 'TEXT', 0, None, 0)\n",
            "(9, 'Reference', 'TEXT', 0, None, 0)\n",
            "(10, 'Entry', 'DATETIME', 0, None, 0)\n"
          ]
        }
      ]
    },
    {
      "cell_type": "code",
      "source": [
        "# Connect to the SQLite database\n",
        "db = sqlite3.connect(\"paperetl/models/articles.sqlite\")\n",
        "\n",
        "# Create a cursor object using the cursor() method\n",
        "cursor = db.cursor()\n",
        "\n",
        "# Get the schema of the sections table\n",
        "cursor.execute(\"PRAGMA table_info(sections)\")\n",
        "sections_schema = cursor.fetchall()\n",
        "\n",
        "# Close the database connection\n",
        "db.close()\n",
        "\n",
        "# Print the schema of sections table\n",
        "for column in sections_schema:\n",
        "    print(column)\n"
      ],
      "metadata": {
        "colab": {
          "base_uri": "https://localhost:8080/"
        },
        "id": "_2E2004--nst",
        "outputId": "501b814f-8256-41f2-b1f6-287cc55d8f8c"
      },
      "execution_count": 7,
      "outputs": [
        {
          "output_type": "stream",
          "name": "stdout",
          "text": [
            "(0, 'Id', 'INTEGER', 0, None, 1)\n",
            "(1, 'Article', 'TEXT', 0, None, 0)\n",
            "(2, 'Name', 'TEXT', 0, None, 0)\n",
            "(3, 'Text', 'TEXT', 0, None, 0)\n"
          ]
        }
      ]
    },
    {
      "cell_type": "code",
      "source": [
        "# Show sections\n",
        "execute(\"SELECT * FROM sections LIMIT 5\")"
      ],
      "metadata": {
        "colab": {
          "base_uri": "https://localhost:8080/",
          "height": 258
        },
        "id": "sexEVsPVf62F",
        "outputId": "7762933b-b86c-420c-8c51-44f89d8c5453"
      },
      "execution_count": 8,
      "outputs": [
        {
          "output_type": "display_data",
          "data": {
            "text/plain": [
              "<IPython.core.display.HTML object>"
            ],
            "text/html": [
              "<table border=\"1\" class=\"dataframe\">\n",
              "  <thead>\n",
              "    <tr style=\"text-align: right;\">\n",
              "      <th>Id</th>\n",
              "      <th>Article</th>\n",
              "      <th>Name</th>\n",
              "      <th>Text</th>\n",
              "    </tr>\n",
              "  </thead>\n",
              "  <tbody>\n",
              "    <tr>\n",
              "      <td>0</td>\n",
              "      <td>00398e4c637f5e5447e35e63669187f0239c0357</td>\n",
              "      <td>TITLE</td>\n",
              "      <td>Changing travel patterns in China during the early stages of the COVID-19 pandemic</td>\n",
              "    </tr>\n",
              "    <tr>\n",
              "      <td>1</td>\n",
              "      <td>00398e4c637f5e5447e35e63669187f0239c0357</td>\n",
              "      <td>None</td>\n",
              "      <td>T he COVID-19 pandemic was first identified in Wuhan, China, in late 2019, and came to prominence in January 2020, and quickly spread within the country.</td>\n",
              "    </tr>\n",
              "    <tr>\n",
              "      <td>2</td>\n",
              "      <td>00398e4c637f5e5447e35e63669187f0239c0357</td>\n",
              "      <td>None</td>\n",
              "      <td>January is also a major holiday period in China, and the 40-day period around Lunar New Year (LNY), or Chunyun, marks the largest annual human movement in the world, with major travel flows out of large cities 1 .</td>\n",
              "    </tr>\n",
              "    <tr>\n",
              "      <td>3</td>\n",
              "      <td>00398e4c637f5e5447e35e63669187f0239c0357</td>\n",
              "      <td>None</td>\n",
              "      <td>The purpose of this holiday travel is often to visit family members.</td>\n",
              "    </tr>\n",
              "    <tr>\n",
              "      <td>4</td>\n",
              "      <td>00398e4c637f5e5447e35e63669187f0239c0357</td>\n",
              "      <td>None</td>\n",
              "      <td>The temporary displacement from residential addresses as a result of this holiday travel could last one to two weeks, up to a month.</td>\n",
              "    </tr>\n",
              "  </tbody>\n",
              "</table>"
            ]
          },
          "metadata": {}
        }
      ]
    },
    {
      "cell_type": "code",
      "source": [
        "# Show articles\n",
        "execute(\"SELECT * FROM articles LIMIT 5\")"
      ],
      "metadata": {
        "colab": {
          "base_uri": "https://localhost:8080/",
          "height": 1000
        },
        "id": "cushq-2FKXzQ",
        "outputId": "f0b4f6e8-269e-4a06-d766-9d6de5601c94"
      },
      "execution_count": 33,
      "outputs": [
        {
          "output_type": "display_data",
          "data": {
            "text/plain": [
              "<IPython.core.display.HTML object>"
            ],
            "text/html": [
              "<table border=\"1\" class=\"dataframe\">\n",
              "  <thead>\n",
              "    <tr style=\"text-align: right;\">\n",
              "      <th>Id</th>\n",
              "      <th>Source</th>\n",
              "      <th>Published</th>\n",
              "      <th>Publication</th>\n",
              "      <th>Authors</th>\n",
              "      <th>Affiliations</th>\n",
              "      <th>Affiliation</th>\n",
              "      <th>Title</th>\n",
              "      <th>Tags</th>\n",
              "      <th>Reference</th>\n",
              "      <th>Entry</th>\n",
              "    </tr>\n",
              "  </thead>\n",
              "  <tbody>\n",
              "    <tr>\n",
              "      <td>00398e4c637f5e5447e35e63669187f0239c0357</td>\n",
              "      <td>0.xml</td>\n",
              "      <td>None</td>\n",
              "      <td>None</td>\n",
              "      <td>Gibbs, Hamish; Liu, Yang; Pearson, Carl; Jarvis, Christopher; Grundy, Chris; Quilty, Billy; Diamond, Charlie; Cmmid, Lshtm; Eggo, Rosalind</td>\n",
              "      <td>Department of Infectious Disease Epidemiology, School of Hygiene and Tropical Medicine; Centre for Mathematical Modelling of Infectious Diseases, School of Hygiene and Tropical Medicine</td>\n",
              "      <td>Centre for Mathematical Modelling of Infectious Diseases, School of Hygiene and Tropical Medicine</td>\n",
              "      <td>Changing travel patterns in China during the early stages of the COVID-19 pandemic</td>\n",
              "      <td>PDF</td>\n",
              "      <td>https://doi.org/10.1038/s41467-020-18783-0</td>\n",
              "      <td>2024-04-26 00:00:00</td>\n",
              "    </tr>\n",
              "    <tr>\n",
              "      <td>1001</td>\n",
              "      <td>datasource2</td>\n",
              "      <td>None</td>\n",
              "      <td>Test Journal2</td>\n",
              "      <td>Test Author2</td>\n",
              "      <td>None</td>\n",
              "      <td>None</td>\n",
              "      <td>Test Article2</td>\n",
              "      <td>None</td>\n",
              "      <td>test url2</td>\n",
              "      <td>2021-04-01 00:00:00</td>\n",
              "    </tr>\n",
              "    <tr>\n",
              "      <td>1000</td>\n",
              "      <td>datasource</td>\n",
              "      <td>None</td>\n",
              "      <td>Test Journal</td>\n",
              "      <td>Test Author</td>\n",
              "      <td>None</td>\n",
              "      <td>None</td>\n",
              "      <td>Test Article</td>\n",
              "      <td>None</td>\n",
              "      <td>test url</td>\n",
              "      <td>2021-05-01 00:00:00</td>\n",
              "    </tr>\n",
              "    <tr>\n",
              "      <td>00c4c8c42473d25ebb38c4a8a14200c6900be2e9</td>\n",
              "      <td>1.xml</td>\n",
              "      <td>2020-04-26 00:00:00</td>\n",
              "      <td>Abouk and Heydari (2020)</td>\n",
              "      <td>Chernozhukov, Victor; Kasahara, Hiroyuki; Schrimpf, Paul; Chernozhukov, V; Kasahara, H; Schrimpf, P</td>\n",
              "      <td>Department of Economics and Center for Statistics and Data Science, MIT; School of Economics, UBC</td>\n",
              "      <td>School of Economics, UBC</td>\n",
              "      <td>1.xml</td>\n",
              "      <td>PDF</td>\n",
              "      <td>https://doi.org/10.1016/j.jeconom.2020.09.003</td>\n",
              "      <td>2024-04-26 00:00:00</td>\n",
              "    </tr>\n",
              "    <tr>\n",
              "      <td>b9f6e3d2dd7d18902ac3a538789d836793dd48b2</td>\n",
              "      <td>2.xml</td>\n",
              "      <td>None</td>\n",
              "      <td>None</td>\n",
              "      <td>Hessami, Amirhossein; Shamshirian, Amir; Heydari, Keyvan; Pourali, Fatemeh; Alizadeh-Navaei, Reza; Moosazadeh, Mahmood; Abrotan, Saeed; Shojaie, Layla; Sedighi, Sogol; Shamshirian, Danial; Rezaei, Nima</td>\n",
              "      <td>School of Medicine, Student Research Committee, Mazandaran University of Medical Sciences; Systematic Review and Meta-Analysis Expert Group (SRMEG), Universal Scientific Education and Research Network (USERN); Network of Immunity in Infection, Malignancy and Autoimmunity (NIIMA), Universal Scientific Education and Research Network (USERN); Gastrointestinal Cancer Research Center, Non-Communicable Disease Institute, Mazandaran University of Medical Sciences; Department of Medical Laboratory Sciences, School of Allied Medical Science, Student Research Committee, Mazandaran University of Medical Sciences; Health Science Research Center, Addiction Institute, Mazandaran University of Medical Sciences; Department of Cardiology, Babol University of Medical Sciences; Research Center for Liver Diseases, Departments of Medicine, Keck School of Medicine, University of Southern California; Student Research Committee, Shiraz University of Medical Sciences; Chronic Respiratory Diseases Research Center, National Research Institute of Tuberculosis and Lung Diseases (NRITLD), Shahid Beheshti University of Medical Sciences; Research Center for Immunodeficiencies, Children's Medical Center, Tehran University of Medical Sciences; Department of Immunology, School of Medicine, Tehran University of Medical Sciences</td>\n",
              "      <td>Department of Immunology, School of Medicine, Tehran University of Medical Sciences</td>\n",
              "      <td>Cardiovascular diseases burden in COVID-19: Systematic review and meta-analysis</td>\n",
              "      <td>PDF</td>\n",
              "      <td>https://doi.org/10.1016/j.ajem.2020.10.022</td>\n",
              "      <td>2024-04-26 00:00:00</td>\n",
              "    </tr>\n",
              "  </tbody>\n",
              "</table>"
            ]
          },
          "metadata": {}
        }
      ]
    },
    {
      "cell_type": "code",
      "source": [
        "import sqlite3\n",
        "from sentence_transformers import InputExample\n",
        "\n",
        "# Connect to the SQLite database\n",
        "db_path = 'paperetl/models/articles.sqlite'\n",
        "db = sqlite3.connect(db_path)\n",
        "\n",
        "# Create a cursor object using the cursor() method\n",
        "cursor = db.cursor()\n",
        "\n",
        "# Select titles from the articles table\n",
        "cursor.execute(\"SELECT Id, Title FROM articles\")\n",
        "\n",
        "# Fetch all rows using fetchall() method\n",
        "articles_data = cursor.fetchall()\n",
        "\n",
        "# Dictionary to hold article titles and their first section of text\n",
        "article_content = {}\n",
        "\n",
        "# For each article, fetch the first section of text\n",
        "for article_id, title in articles_data:\n",
        "    cursor.execute(\"SELECT Text FROM sections WHERE Article = ? ORDER BY ROWID ASC LIMIT 1\", (article_id,))\n",
        "    first_section_text = cursor.fetchone()\n",
        "\n",
        "    if first_section_text:\n",
        "        article_content[title] = first_section_text[0]\n",
        "\n",
        "# Close the database connection\n",
        "db.close()\n",
        "\n",
        "# List to hold InputExample objects for training\n",
        "training_examples = []\n",
        "\n",
        "# Create InputExample objects from titles and their first section of text\n",
        "for title, text in article_content.items():\n",
        "    # The label is set to 1.0 for all pairs, as we don't have actual similarity scores\n",
        "    # In a real use-case, you would want to have labels reflecting the actual similarity\n",
        "    training_examples.append(InputExample(texts=[title, text], label=1.0))\n",
        "\n",
        "# Now you have a list of InputExample objects ready for training"
      ],
      "metadata": {
        "id": "v_OJgUo2LiZV"
      },
      "execution_count": 3,
      "outputs": []
    },
    {
      "cell_type": "markdown",
      "source": [
        "**Model Training**"
      ],
      "metadata": {
        "id": "6tubmZv4AE-G"
      }
    },
    {
      "cell_type": "code",
      "source": [
        "!pip install -U sentence_transformers\n"
      ],
      "metadata": {
        "colab": {
          "base_uri": "https://localhost:8080/",
          "height": 1000
        },
        "id": "7LYajs8YMHhv",
        "outputId": "bbdf5c74-8e92-4260-83d6-e99958d40d27"
      },
      "execution_count": 35,
      "outputs": [
        {
          "output_type": "stream",
          "name": "stdout",
          "text": [
            "Requirement already satisfied: sentence_transformers in /usr/local/lib/python3.10/dist-packages (2.2.2)\n",
            "Collecting sentence_transformers\n",
            "  Using cached sentence_transformers-2.7.0-py3-none-any.whl (171 kB)\n",
            "Requirement already satisfied: transformers<5.0.0,>=4.34.0 in /usr/local/lib/python3.10/dist-packages (from sentence_transformers) (4.40.0)\n",
            "Requirement already satisfied: tqdm in /usr/local/lib/python3.10/dist-packages (from sentence_transformers) (4.66.2)\n",
            "Requirement already satisfied: torch>=1.11.0 in /usr/local/lib/python3.10/dist-packages (from sentence_transformers) (2.2.1+cu121)\n",
            "Requirement already satisfied: numpy in /usr/local/lib/python3.10/dist-packages (from sentence_transformers) (1.25.2)\n",
            "Requirement already satisfied: scikit-learn in /usr/local/lib/python3.10/dist-packages (from sentence_transformers) (1.2.2)\n",
            "Requirement already satisfied: scipy in /usr/local/lib/python3.10/dist-packages (from sentence_transformers) (1.11.4)\n",
            "Requirement already satisfied: huggingface-hub>=0.15.1 in /usr/local/lib/python3.10/dist-packages (from sentence_transformers) (0.20.3)\n",
            "Requirement already satisfied: Pillow in /usr/local/lib/python3.10/dist-packages (from sentence_transformers) (9.4.0)\n",
            "Requirement already satisfied: filelock in /usr/local/lib/python3.10/dist-packages (from huggingface-hub>=0.15.1->sentence_transformers) (3.13.4)\n",
            "Requirement already satisfied: fsspec>=2023.5.0 in /usr/local/lib/python3.10/dist-packages (from huggingface-hub>=0.15.1->sentence_transformers) (2023.6.0)\n",
            "Requirement already satisfied: requests in /usr/local/lib/python3.10/dist-packages (from huggingface-hub>=0.15.1->sentence_transformers) (2.31.0)\n",
            "Requirement already satisfied: pyyaml>=5.1 in /usr/local/lib/python3.10/dist-packages (from huggingface-hub>=0.15.1->sentence_transformers) (6.0.1)\n",
            "Requirement already satisfied: typing-extensions>=3.7.4.3 in /usr/local/lib/python3.10/dist-packages (from huggingface-hub>=0.15.1->sentence_transformers) (4.11.0)\n",
            "Requirement already satisfied: packaging>=20.9 in /usr/local/lib/python3.10/dist-packages (from huggingface-hub>=0.15.1->sentence_transformers) (24.0)\n",
            "Requirement already satisfied: sympy in /usr/local/lib/python3.10/dist-packages (from torch>=1.11.0->sentence_transformers) (1.12)\n",
            "Requirement already satisfied: networkx in /usr/local/lib/python3.10/dist-packages (from torch>=1.11.0->sentence_transformers) (3.3)\n",
            "Requirement already satisfied: jinja2 in /usr/local/lib/python3.10/dist-packages (from torch>=1.11.0->sentence_transformers) (3.1.3)\n",
            "Requirement already satisfied: nvidia-cuda-nvrtc-cu12==12.1.105 in /usr/local/lib/python3.10/dist-packages (from torch>=1.11.0->sentence_transformers) (12.1.105)\n",
            "Requirement already satisfied: nvidia-cuda-runtime-cu12==12.1.105 in /usr/local/lib/python3.10/dist-packages (from torch>=1.11.0->sentence_transformers) (12.1.105)\n",
            "Requirement already satisfied: nvidia-cuda-cupti-cu12==12.1.105 in /usr/local/lib/python3.10/dist-packages (from torch>=1.11.0->sentence_transformers) (12.1.105)\n",
            "Requirement already satisfied: nvidia-cudnn-cu12==8.9.2.26 in /usr/local/lib/python3.10/dist-packages (from torch>=1.11.0->sentence_transformers) (8.9.2.26)\n",
            "Requirement already satisfied: nvidia-cublas-cu12==12.1.3.1 in /usr/local/lib/python3.10/dist-packages (from torch>=1.11.0->sentence_transformers) (12.1.3.1)\n",
            "Requirement already satisfied: nvidia-cufft-cu12==11.0.2.54 in /usr/local/lib/python3.10/dist-packages (from torch>=1.11.0->sentence_transformers) (11.0.2.54)\n",
            "Requirement already satisfied: nvidia-curand-cu12==10.3.2.106 in /usr/local/lib/python3.10/dist-packages (from torch>=1.11.0->sentence_transformers) (10.3.2.106)\n",
            "Requirement already satisfied: nvidia-cusolver-cu12==11.4.5.107 in /usr/local/lib/python3.10/dist-packages (from torch>=1.11.0->sentence_transformers) (11.4.5.107)\n",
            "Requirement already satisfied: nvidia-cusparse-cu12==12.1.0.106 in /usr/local/lib/python3.10/dist-packages (from torch>=1.11.0->sentence_transformers) (12.1.0.106)\n",
            "Requirement already satisfied: nvidia-nccl-cu12==2.19.3 in /usr/local/lib/python3.10/dist-packages (from torch>=1.11.0->sentence_transformers) (2.19.3)\n",
            "Requirement already satisfied: nvidia-nvtx-cu12==12.1.105 in /usr/local/lib/python3.10/dist-packages (from torch>=1.11.0->sentence_transformers) (12.1.105)\n",
            "Requirement already satisfied: triton==2.2.0 in /usr/local/lib/python3.10/dist-packages (from torch>=1.11.0->sentence_transformers) (2.2.0)\n",
            "Requirement already satisfied: nvidia-nvjitlink-cu12 in /usr/local/lib/python3.10/dist-packages (from nvidia-cusolver-cu12==11.4.5.107->torch>=1.11.0->sentence_transformers) (12.4.127)\n",
            "Requirement already satisfied: regex!=2019.12.17 in /usr/local/lib/python3.10/dist-packages (from transformers<5.0.0,>=4.34.0->sentence_transformers) (2023.12.25)\n",
            "Requirement already satisfied: tokenizers<0.20,>=0.19 in /usr/local/lib/python3.10/dist-packages (from transformers<5.0.0,>=4.34.0->sentence_transformers) (0.19.1)\n",
            "Requirement already satisfied: safetensors>=0.4.1 in /usr/local/lib/python3.10/dist-packages (from transformers<5.0.0,>=4.34.0->sentence_transformers) (0.4.3)\n",
            "Requirement already satisfied: joblib>=1.1.1 in /usr/local/lib/python3.10/dist-packages (from scikit-learn->sentence_transformers) (1.4.0)\n",
            "Requirement already satisfied: threadpoolctl>=2.0.0 in /usr/local/lib/python3.10/dist-packages (from scikit-learn->sentence_transformers) (3.4.0)\n",
            "Requirement already satisfied: MarkupSafe>=2.0 in /usr/local/lib/python3.10/dist-packages (from jinja2->torch>=1.11.0->sentence_transformers) (2.1.5)\n",
            "Requirement already satisfied: charset-normalizer<4,>=2 in /usr/local/lib/python3.10/dist-packages (from requests->huggingface-hub>=0.15.1->sentence_transformers) (3.3.2)\n",
            "Requirement already satisfied: idna<4,>=2.5 in /usr/local/lib/python3.10/dist-packages (from requests->huggingface-hub>=0.15.1->sentence_transformers) (3.7)\n",
            "Requirement already satisfied: urllib3<3,>=1.21.1 in /usr/local/lib/python3.10/dist-packages (from requests->huggingface-hub>=0.15.1->sentence_transformers) (2.0.7)\n",
            "Requirement already satisfied: certifi>=2017.4.17 in /usr/local/lib/python3.10/dist-packages (from requests->huggingface-hub>=0.15.1->sentence_transformers) (2024.2.2)\n",
            "Requirement already satisfied: mpmath>=0.19 in /usr/local/lib/python3.10/dist-packages (from sympy->torch>=1.11.0->sentence_transformers) (1.3.0)\n",
            "Installing collected packages: sentence_transformers\n",
            "  Attempting uninstall: sentence_transformers\n",
            "    Found existing installation: sentence-transformers 2.2.2\n",
            "    Uninstalling sentence-transformers-2.2.2:\n",
            "      Successfully uninstalled sentence-transformers-2.2.2\n",
            "Successfully installed sentence_transformers-2.7.0\n"
          ]
        },
        {
          "output_type": "display_data",
          "data": {
            "application/vnd.colab-display-data+json": {
              "pip_warning": {
                "packages": [
                  "sentence_transformers"
                ]
              },
              "id": "105eca5f03b4463bac94655f49048f4f"
            }
          },
          "metadata": {}
        }
      ]
    },
    {
      "cell_type": "markdown",
      "source": [
        "Set up the Sentence Transformers Model"
      ],
      "metadata": {
        "id": "mc-Ui3gPMaw1"
      }
    },
    {
      "cell_type": "markdown",
      "source": [
        "Step 1: Import Libraries and Initialize Model"
      ],
      "metadata": {
        "id": "dSlbBJuOD02-"
      }
    },
    {
      "cell_type": "code",
      "source": [
        "from sentence_transformers import models, SentenceTransformer, losses\n",
        "from sentence_transformers.evaluation import EmbeddingSimilarityEvaluator\n",
        "from torch.utils.data import DataLoader\n",
        "from sentence_transformers import SentencesDataset\n",
        "\n",
        "# Load the pre-trained model from Hugging Face\n",
        "model_name = \"microsoft/BiomedNLP-PubMedBERT-base-uncased-abstract-fulltext\"\n",
        "embeddings = models.Transformer(model_name)\n",
        "\n",
        "# Pooling strategy aggregates word embeddings into a fixed-size sentence embedding\n",
        "pooling = models.Pooling(embeddings.get_word_embedding_dimension())\n",
        "\n",
        "# Combine transformer and pooling modules into a Sentence Transformer model\n",
        "model = SentenceTransformer(modules=[embeddings, pooling])\n"
      ],
      "metadata": {
        "id": "rBXr51xJNXWO"
      },
      "execution_count": 4,
      "outputs": []
    },
    {
      "cell_type": "markdown",
      "source": [
        "Step 2: Prepare the Dataloader for training"
      ],
      "metadata": {
        "id": "PZ2ccGd0D2BZ"
      }
    },
    {
      "cell_type": "code",
      "source": [
        "from torch.utils.data import DataLoader\n",
        "\n",
        "# Convert list of InputExamples to a SentencesDataset\n",
        "train_dataset = SentencesDataset(examples=training_examples, model=model)\n",
        "\n",
        "# DataLoader prepares the data for training\n",
        "train_dataloader = DataLoader(train_dataset, shuffle=True, batch_size=16)\n"
      ],
      "metadata": {
        "id": "zHharexVNlHp"
      },
      "execution_count": 5,
      "outputs": []
    },
    {
      "cell_type": "code",
      "source": [
        "# MultipleNegativesRankingLoss is used for tasks where you have one positive example and several negative examples\n",
        "train_loss = losses.MultipleNegativesRankingLoss(model=model)\n"
      ],
      "metadata": {
        "id": "6oGAP5GJNutB"
      },
      "execution_count": 6,
      "outputs": []
    },
    {
      "cell_type": "markdown",
      "source": [
        "Setup an Evaluator"
      ],
      "metadata": {
        "id": "BJGl0-rLO1i9"
      }
    },
    {
      "cell_type": "code",
      "source": [
        "\n",
        "# Convert the validation data into InputExample objects\n",
        "valid_examples = [InputExample(texts=[text_pair[0], text_pair[1]], label=text_pair[2]) for text_pair in valid_data]\n",
        "\n",
        "# Create the evaluator using these new examples\n",
        "sentences1 = [example.texts[0] for example in valid_examples]\n",
        "sentences2 = [example.texts[1] for example in valid_examples]\n",
        "scores = [example.label for example in valid_examples]\n",
        "\n",
        "# Finally, create the EmbeddingSimilarityEvaluator\n",
        "evaluator = EmbeddingSimilarityEvaluator(sentences1, sentences2, scores)\n"
      ],
      "metadata": {
        "id": "6Ov3aSzCOd0M"
      },
      "execution_count": 10,
      "outputs": []
    },
    {
      "cell_type": "code",
      "source": [
        "\n",
        "# Create lists of the first and second sentences, as well as similarity scores\n",
        "sentences1 = [example.texts[0] for example in valid_examples]\n",
        "sentences2 = [example.texts[1] for example in valid_examples]\n",
        "scores = [example.label for example in valid_examples]\n",
        "\n",
        "# Create the evaluator\n",
        "evaluator = EmbeddingSimilarityEvaluator(sentences1, sentences2, scores)\n"
      ],
      "metadata": {
        "id": "whgZfR66OSQB"
      },
      "execution_count": 11,
      "outputs": []
    },
    {
      "cell_type": "markdown",
      "source": [
        "Train the Model"
      ],
      "metadata": {
        "id": "-iPt65YMO3-0"
      }
    },
    {
      "cell_type": "code",
      "source": [
        "# Define number of epochs and evaluation steps\n",
        "epochs = 4\n",
        "evaluation_steps = 1000  # Adjust these hyperparameters according to your dataset and hardware capabilities\n",
        "\n",
        "# Train the model\n",
        "model.fit(\n",
        "    train_objectives=[(train_dataloader, train_loss)],\n",
        "    epochs=epochs,\n",
        "    evaluator=evaluator,\n",
        "    evaluation_steps=evaluation_steps,\n",
        "    output_path=\"output/pubmedbert-base-embeddings\"\n",
        ")\n"
      ],
      "metadata": {
        "colab": {
          "base_uri": "https://localhost:8080/",
          "height": 177,
          "referenced_widgets": [
            "6152c905437c4a2b95558be34c983a28",
            "abd0ab7fe90f4f59a016096813be8af6",
            "0cdc0a3242fb45cabf4ee01ba739a355",
            "438eac536d81402da3cdf3c266593420",
            "a1e09628a7994de5984a48299e7b6830",
            "57e08854817d4130920ceaba82360987",
            "ad5e3bcbf5e449128d290fcb2d5795c4",
            "313b782d174746a88e49a87b725e88bd",
            "2fc4de47ed43452e881906eecac221f1",
            "d0034590a2e84381a26d01c680ef7f06",
            "a3fb5d39130747689547c3c1732f8dd9",
            "8b6671c611584f97b4fca18e5cc86243",
            "68a8ea1f6c0f4d2e9570c716a6a70863",
            "bc23cd2e0acb4459932b8356e3d9241c",
            "f8ec1a4999da44a8878586acae019269",
            "324603fe7ee841a993daaf2d19ccb958",
            "f319965a971b4f399ffd07994b6bf443",
            "ba66a2c5ecff4e2d855c38399b60d182",
            "7089299c7a7548a9a63b49f269d6dc3b",
            "d942df24d9fc4ebfb5e51ed1da9b3ee1",
            "2647606b13f54ee58bbe2f950ab8cf20",
            "1c82b1e695b24b5b87956d6c8971954b",
            "43d51e98603840a188e8a072ac9651d8",
            "0a5d06943e8b4ae59aac1e4060cac6f9",
            "298710e321ca446f9112e1dc0db2fc7b",
            "f791f30b93bd4b87b700c57a4d7cf4d5",
            "cff0669a02354e74a401112f0a9fb06d",
            "1557c0ac1ebd4971966c8690f3ae2095",
            "f325580ad0714c7297be322d30be325e",
            "b4847f14ef684e24a5c50e7050db802e",
            "7530d383e46144db9cae0bfe26ab5ae5",
            "68feef9bb4ad4b88b0ad41c771bd837a",
            "6fa8be2199284cbd94981fde23ff017e",
            "4a061ecb5ca44bc9ac0e4f4a3512580f",
            "c2cfd3e68e204d288f70a058c361d360",
            "be93765a3ba14f5083e29175002db0cb",
            "b5ca48e930c04a8086df74ef7cf22f43",
            "42681afdc9264f7e806f8cb98f206d03",
            "e8d6cd0a99df49bf968b5b083f4ff9e3",
            "9163b40bb2ce41048e07c9835294a9a4",
            "6f7f94f38a154739930943c6f9c1bbd9",
            "d6ac4b7ee0a642b886f9cf0325d514d5",
            "c4f7942670154cfb8f2bafe98ee8c8cb",
            "4d1c4d1fba4e477587b92f25797209e9",
            "f77036be67294eb1b2ff013d84f1c46a",
            "9aa8773b2f97405d943a139229925a8e",
            "e04cf78a6a7f438da829217e7898e25f",
            "8bbc1274c46a43759725a7212581eeb3",
            "8649822d995143fbb009d06bdfa1e753",
            "96ad907857f84a1bab3f1b864e619ae3",
            "10cf7da85f1e41358cbf66b91d965f13",
            "fbed9debdc9842c4907b7682367512c0",
            "935fc54440774487a6e280dfe36f27e4",
            "68fe1342a47946a5a6debb5cd4b779be",
            "10fab74c8e364b338ceaa71dc8dcabf4"
          ]
        },
        "id": "aHR8AkfKOxrU",
        "outputId": "8fa964f9-e282-4e5f-da44-e3c136c92318"
      },
      "execution_count": 12,
      "outputs": [
        {
          "output_type": "display_data",
          "data": {
            "text/plain": [
              "Epoch:   0%|          | 0/4 [00:00<?, ?it/s]"
            ],
            "application/vnd.jupyter.widget-view+json": {
              "version_major": 2,
              "version_minor": 0,
              "model_id": "6152c905437c4a2b95558be34c983a28"
            }
          },
          "metadata": {}
        },
        {
          "output_type": "display_data",
          "data": {
            "text/plain": [
              "Iteration:   0%|          | 0/2 [00:00<?, ?it/s]"
            ],
            "application/vnd.jupyter.widget-view+json": {
              "version_major": 2,
              "version_minor": 0,
              "model_id": "8b6671c611584f97b4fca18e5cc86243"
            }
          },
          "metadata": {}
        },
        {
          "output_type": "display_data",
          "data": {
            "text/plain": [
              "Iteration:   0%|          | 0/2 [00:00<?, ?it/s]"
            ],
            "application/vnd.jupyter.widget-view+json": {
              "version_major": 2,
              "version_minor": 0,
              "model_id": "43d51e98603840a188e8a072ac9651d8"
            }
          },
          "metadata": {}
        },
        {
          "output_type": "display_data",
          "data": {
            "text/plain": [
              "Iteration:   0%|          | 0/2 [00:00<?, ?it/s]"
            ],
            "application/vnd.jupyter.widget-view+json": {
              "version_major": 2,
              "version_minor": 0,
              "model_id": "4a061ecb5ca44bc9ac0e4f4a3512580f"
            }
          },
          "metadata": {}
        },
        {
          "output_type": "display_data",
          "data": {
            "text/plain": [
              "Iteration:   0%|          | 0/2 [00:00<?, ?it/s]"
            ],
            "application/vnd.jupyter.widget-view+json": {
              "version_major": 2,
              "version_minor": 0,
              "model_id": "f77036be67294eb1b2ff013d84f1c46a"
            }
          },
          "metadata": {}
        }
      ]
    },
    {
      "cell_type": "code",
      "source": [
        "# Run the evaluator on the model\n",
        "model.evaluate(evaluator)\n"
      ],
      "metadata": {
        "colab": {
          "base_uri": "https://localhost:8080/"
        },
        "id": "mNK-EOy8P3A0",
        "outputId": "4ee86ae4-3e8c-4ac2-f2fe-b43e25b10c92"
      },
      "execution_count": 13,
      "outputs": [
        {
          "output_type": "execute_result",
          "data": {
            "text/plain": [
              "0.9999999999999999"
            ]
          },
          "metadata": {},
          "execution_count": 13
        }
      ]
    },
    {
      "cell_type": "code",
      "source": [
        "# Pick a few examples from your test set and see the model predictions\n",
        "for i in range(5):  # Adjust the range as needed\n",
        "    print(f\"Text 1: {test_sentences1[i]}\")\n",
        "    print(f\"Text 2: {test_sentences2[i]}\")"
      ],
      "metadata": {
        "colab": {
          "base_uri": "https://localhost:8080/"
        },
        "id": "IpsCVx3TTg_u",
        "outputId": "a1c78eb1-81b6-4edc-ca72-c01dff96b74a"
      },
      "execution_count": 17,
      "outputs": [
        {
          "output_type": "stream",
          "name": "stdout",
          "text": [
            "Text 1: Changing travel patterns in China during the early stages of the COVID-19 pandemic\n",
            "Text 2: Changing travel patterns in China during the early stages of the COVID-19 pandemic\n",
            "Text 1: Changing travel patterns in China during the early stages of the COVID-19 pandemic\n",
            "Text 2: T he COVID-19 pandemic was first identified in Wuhan, China, in late 2019, and came to prominence in January 2020, and quickly spread within the country.\n",
            "Text 1: Changing travel patterns in China during the early stages of the COVID-19 pandemic\n",
            "Text 2: January is also a major holiday period in China, and the 40-day period around Lunar New Year (LNY), or Chunyun, marks the largest annual human movement in the world, with major travel flows out of large cities 1 .\n",
            "Text 1: Changing travel patterns in China during the early stages of the COVID-19 pandemic\n",
            "Text 2: The purpose of this holiday travel is often to visit family members.\n",
            "Text 1: Changing travel patterns in China during the early stages of the COVID-19 pandemic\n",
            "Text 2: The temporary displacement from residential addresses as a result of this holiday travel could last one to two weeks, up to a month.\n"
          ]
        }
      ]
    }
  ]
}