{
  "cells": [
    {
      "cell_type": "code",
      "execution_count": null,
      "metadata": {
        "colab": {
          "base_uri": "https://localhost:8080/"
        },
        "id": "XNKS19REh8n1",
        "outputId": "d911aedc-05ab-4f0d-8d45-cb9bcb27dea8"
      },
      "outputs": [],
      "source": [
        "!pip install langchain\n",
        "import sqlite3\n",
        "import pandas as pd\n",
        "from langchain.llms import OpenAI\n",
        "from langchain.utilities import SQLDatabase\n",
        "from langchain.agents import create_sql_agent\n",
        "from langchain.agents.agent_toolkits import SQLDatabaseToolkit\n",
        "from langchain.agents.agent_types import AgentType\n",
        "from langchain.memory import ConversationEntityMemory\n",
        "from langchain.memory.entity import InMemoryEntityStore\n",
        "!pip install openai\n",
        "import openai\n",
        "\n",
        "# Set your OpenAI API key\n",
        "OPENAI_API_KEY = \"\"\n",
        "\n",
        "# Initialize the SQLite database\n",
        "db_uri = \"sqlite:///financial_data.db\"\n",
        "db = SQLDatabase.from_uri(db_uri)\n",
        "\n",
        "# Initialize the LangChain LLM with OpenAI\n",
        "llm = OpenAI(openai_api_key=OPENAI_API_KEY, temperature=0.1, verbose=True)\n",
        "\n",
        "# Initialize InMemoryEntityStore for memory\n",
        "entity_store = InMemoryEntityStore()\n",
        "\n",
        "# Initialize ConversationEntityMemory with the LLM and entity store\n",
        "memory = ConversationEntityMemory(llm=llm, entity_store=entity_store)\n",
        "\n",
        "# Create the SQL Agent\n",
        "toolkit = SQLDatabaseToolkit(db=db, llm=llm)\n",
        "agent_executor = create_sql_agent(\n",
        "    llm=llm,\n",
        "    toolkit=toolkit,\n",
        "    verbose=True,\n",
        "    agent_type=AgentType.ZERO_SHOT_REACT_DESCRIPTION,\n",
        "    top_k=5\n",
        ")\n",
        "print(agent_executor)\n"
      ]
    },
    {
      "cell_type": "code",
      "execution_count": null,
      "metadata": {
        "id": "1fHac1elnWc9"
      },
      "outputs": [],
      "source": [
        "import openai\n",
        "\n",
        "usage = openai.ApiUsage.retrieve()\n",
        "\n",
        "print(f\"Current usage: {usage.total_usage}\")\n",
        "print(f\"Max usage: {usage.max_usage}\")"
      ]
    },
    {
      "cell_type": "code",
      "execution_count": null,
      "metadata": {
        "id": "sgUHDUhRnYHH"
      },
      "outputs": [],
      "source": [
        "query_result = agent_executor.run(\n",
        "    input=\"What was the 3 month yield on 2007-01-25 00:00:00?\",\n",
        "    memory=memory  # Passing the memory to the agent\n",
        ")\n",
        "\n",
        "print(\"Query Result:\", query_result)"
      ]
    }
  ],
  "metadata": {
    "colab": {
      "provenance": []
    },
    "kernelspec": {
      "display_name": "Python 3",
      "name": "python3"
    },
    "language_info": {
      "name": "python"
    }
  },
  "nbformat": 4,
  "nbformat_minor": 0
}
