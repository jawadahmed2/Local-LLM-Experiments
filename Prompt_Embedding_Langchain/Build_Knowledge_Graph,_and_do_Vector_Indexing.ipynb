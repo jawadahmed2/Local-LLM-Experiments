{
  "cells": [
    {
      "cell_type": "markdown",
      "metadata": {
        "id": "LJhWbbOYwXmB"
      },
      "source": [
        "Learn to load data from external API into Neo4j Graph DB\n",
        "Convert data into Graph Structure using Cypher via Python\n",
        "Build Embeddings using LLM and perform Vector indexing on Neo4j"
      ]
    },
    {
      "cell_type": "markdown",
      "metadata": {
        "id": "d6BPdx12tUbZ"
      },
      "source": [
        "Let’s build Loader :"
      ]
    },
    {
      "cell_type": "code",
      "execution_count": 1,
      "metadata": {
        "id": "Ft4OqbE5s9NN"
      },
      "outputs": [],
      "source": [
        "def load_so_data(tag: str = \"neo4j\", page: int = 1) -> None:\n",
        "    parameters = (\n",
        "        f\"?pagesize=100&page={page}&order=desc&sort=creation&answers=1&tagged={tag}\"\n",
        "        \"&site=stackoverflow&filter=!*236eb_eL9rai)MOSNZ-6D3Q6ZKb0buI*IVotWaTb\"\n",
        "    )\n",
        "    data = requests.get(so_api_base_url + parameters).json()\n",
        "    insert_so_data(data)\n",
        "\n",
        "\n",
        "def load_high_score_so_data() -> None:\n",
        "    parameters = (\n",
        "        f\"?fromdate=1664150400&order=desc&sort=votes&site=stackoverflow&\"\n",
        "        \"filter=!.DK56VBPooplF.)bWW5iOX32Fh1lcCkw1b_Y6Zkb7YD8.ZMhrR5.FRRsR6Z1uK8*Z5wPaONvyII\"\n",
        "    )\n",
        "    data = requests.get(so_api_base_url + parameters).json()\n",
        "    insert_so_data(data)"
      ]
    },
    {
      "cell_type": "markdown",
      "metadata": {
        "id": "vb6D65katxy7"
      },
      "source": [
        "**Let’s do Vector Indexing**"
      ]
    },
    {
      "cell_type": "code",
      "execution_count": 2,
      "metadata": {
        "id": "RjCUzY_Nteii"
      },
      "outputs": [],
      "source": [
        "def create_vector_index(driver, dimension: int) -> None:\n",
        "    index_query = \"CALL db.index.vector.createNodeIndex('stackoverflow', 'Question', 'embedding', $dimension, 'cosine')\"\n",
        "    try:\n",
        "        driver.query(index_query, {\"dimension\": dimension})\n",
        "    except:  # Already exists\n",
        "        pass\n",
        "    index_query = \"CALL db.index.vector.createNodeIndex('top_answers', 'Answer', 'embedding', $dimension, 'cosine')\"\n",
        "    try:\n",
        "        driver.query(index_query, {\"dimension\": dimension})\n",
        "    except:  # Already exists\n",
        "        pass"
      ]
    },
    {
      "cell_type": "markdown",
      "metadata": {
        "id": "gHuX-5uFts0Q"
      },
      "source": [
        "**Construct Knowledge Graph**"
      ]
    },
    {
      "cell_type": "code",
      "execution_count": 3,
      "metadata": {
        "id": "puNaKcuTtigF"
      },
      "outputs": [],
      "source": [
        "def insert_so_data(data: dict) -> None:\n",
        "    # Calculate embedding values for questions and answers\n",
        "    for q in data[\"items\"]:\n",
        "        question_text = q[\"title\"] + \"\\n\" + q[\"body_markdown\"]\n",
        "        q[\"embedding\"] = embeddings.embed_query(question_text)\n",
        "        for a in q[\"answers\"]:\n",
        "            a[\"embedding\"] = embeddings.embed_query(\n",
        "                question_text + \"\\n\" + a[\"body_markdown\"]\n",
        "            )\n",
        "\n",
        "    # Cypher, the query language of Neo4j, is used to import the data\n",
        "    # https://neo4j.com/docs/getting-started/cypher-intro/\n",
        "    # https://neo4j.com/docs/cypher-cheat-sheet/5/auradb-enterprise/\n",
        "    import_query = \"\"\"\n",
        "    UNWIND $data AS q\n",
        "    MERGE (question:Question {id:q.question_id})\n",
        "    ON CREATE SET question.title = q.title, question.link = q.link, question.score = q.score,\n",
        "        question.favorite_count = q.favorite_count, question.creation_date = datetime({epochSeconds: q.creation_date}),\n",
        "        question.body = q.body_markdown, question.embedding = q.embedding\n",
        "    FOREACH (tagName IN q.tags |\n",
        "        MERGE (tag:Tag {name:tagName})\n",
        "        MERGE (question)-[:TAGGED]->(tag)\n",
        "    )\n",
        "    FOREACH (a IN q.answers |\n",
        "        MERGE (question)<-[:ANSWERS]-(answer:Answer {id:a.answer_id})\n",
        "        SET answer.is_accepted = a.is_accepted,\n",
        "            answer.score = a.score,\n",
        "            answer.creation_date = datetime({epochSeconds:a.creation_date}),\n",
        "            answer.body = a.body_markdown,\n",
        "            answer.embedding = a.embedding\n",
        "        MERGE (answerer:User {id:coalesce(a.owner.user_id, \"deleted\")})\n",
        "        ON CREATE SET answerer.display_name = a.owner.display_name,\n",
        "                      answerer.reputation= a.owner.reputation\n",
        "        MERGE (answer)<-[:PROVIDED]-(answerer)\n",
        "    )\n",
        "    WITH * WHERE NOT q.owner.user_id IS NULL\n",
        "    MERGE (owner:User {id:q.owner.user_id})\n",
        "    ON CREATE SET owner.display_name = q.owner.display_name,\n",
        "                  owner.reputation = q.owner.reputation\n",
        "    MERGE (owner)-[:ASKED]->(question)\n",
        "    \"\"\"\n",
        "    neo4j_graph.query(import_query, {\"data\": data[\"items\"]})"
      ]
    },
    {
      "cell_type": "markdown",
      "metadata": {
        "id": "e6aPKnNdt-UD"
      },
      "source": [
        "**Embedding Calculation**"
      ]
    },
    {
      "cell_type": "code",
      "execution_count": 4,
      "metadata": {
        "id": "bFvagSK9tp_0"
      },
      "outputs": [],
      "source": [
        "def insert_so_data(data: dict) -> None:\n",
        "    # Calculate embedding values for questions and answers\n",
        "    for q in data[\"items\"]:\n",
        "        question_text = q[\"title\"] + \"\\n\" + q[\"body_markdown\"]\n",
        "        q[\"embedding\"] = embeddings.embed_query(question_text)\n",
        "        for a in q[\"answers\"]:\n",
        "            a[\"embedding\"] = embeddings.embed_query(\n",
        "                question_text + \"\\n\" + a[\"body_markdown\"]\n",
        "            )"
      ]
    },
    {
      "cell_type": "markdown",
      "metadata": {
        "id": "BTSiH_M6uVP6"
      },
      "source": [
        "**Cypher Query Construction**"
      ]
    },
    {
      "cell_type": "code",
      "execution_count": 5,
      "metadata": {
        "id": "ZQmFGCX0ucIZ"
      },
      "outputs": [],
      "source": [
        "import_query = \"\"\"\n",
        "    UNWIND $data AS q\n",
        "    MERGE (question:Question {id:q.question_id})\n",
        "    ON CREATE SET question.content = q.question_text\n",
        "    ON CREATE SET question.title = q.title, question.link = q.link, question.score = q.score,\n",
        "        question.favorite_count = q.favorite_count, question.creation_date = datetime({epochSeconds: q.creation_date}),\n",
        "        question.body = q.body_markdown, question.embedding = q.embedding\n",
        "    FOREACH (tagName IN q.tags |\n",
        "..................\n",
        "..................\n",
        "..................\n",
        "\"\"\""
      ]
    },
    {
      "cell_type": "markdown",
      "metadata": {
        "id": "vMoytoDMuy_x"
      },
      "source": [
        "**Database Insertion**"
      ]
    },
    {
      "cell_type": "code",
      "execution_count": 6,
      "metadata": {
        "colab": {
          "base_uri": "https://localhost:8080/"
        },
        "id": "gpX6KhAPu2oY",
        "outputId": "050e17ea-2a94-46be-abc8-747a0f52d96f"
      },
      "outputs": [
        {
          "name": "stdout",
          "output_type": "stream",
          "text": [
            "Collecting neo4j\n",
            "  Downloading neo4j-5.23.1-py3-none-any.whl.metadata (5.7 kB)\n",
            "Requirement already satisfied: pytz in /home/jawad/anaconda3/envs/gpu/lib/python3.12/site-packages (from neo4j) (2024.1)\n",
            "Downloading neo4j-5.23.1-py3-none-any.whl (293 kB)\n",
            "Installing collected packages: neo4j\n",
            "Successfully installed neo4j-5.23.1\n"
          ]
        }
      ],
      "source": [
        "!pip install neo4j\n",
        "\n",
        "from neo4j import GraphDatabase"
      ]
    },
    {
      "cell_type": "code",
      "execution_count": 7,
      "metadata": {
        "id": "mY5eB1vYwN3c"
      },
      "outputs": [],
      "source": [
        "# Connect to the Neo4j database (provide correct credentials)\n",
        "neo4j_graph = GraphDatabase.driver(\"bolt://localhost:7687\", auth=(\"neo4j\", \"password\"))"
      ]
    },
    {
      "cell_type": "code",
      "execution_count": null,
      "metadata": {},
      "outputs": [],
      "source": []
    }
  ],
  "metadata": {
    "colab": {
      "provenance": []
    },
    "kernelspec": {
      "display_name": "Python 3",
      "name": "python3"
    },
    "language_info": {
      "codemirror_mode": {
        "name": "ipython",
        "version": 3
      },
      "file_extension": ".py",
      "mimetype": "text/x-python",
      "name": "python",
      "nbconvert_exporter": "python",
      "pygments_lexer": "ipython3",
      "version": "3.12.3"
    }
  },
  "nbformat": 4,
  "nbformat_minor": 0
}
