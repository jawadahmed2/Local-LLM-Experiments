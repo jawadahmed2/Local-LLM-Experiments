{
  "cells": [
    {
      "cell_type": "markdown",
      "metadata": {
        "id": "vlG6ed0MMcxz"
      },
      "source": [
        "Step I: Download Libraries"
      ]
    },
    {
      "cell_type": "code",
      "execution_count": null,
      "metadata": {
        "colab": {
          "base_uri": "https://localhost:8080/"
        },
        "id": "AR-vMRLoMMiA",
        "outputId": "3a9e3f35-012b-48dc-8c3a-04d2d5c0782e"
      },
      "outputs": [],
      "source": [
        "pip install -U -q langchain openai chromadb unstructured==0.12.5 instructor tiktoken"
      ]
    },
    {
      "cell_type": "markdown",
      "metadata": {
        "id": "XOoZqlIiMe1I"
      },
      "source": [
        "Step II: Import Libraries, Download Data and Initialize OpenAI"
      ]
    },
    {
      "cell_type": "code",
      "execution_count": 3,
      "metadata": {
        "colab": {
          "base_uri": "https://localhost:8080/"
        },
        "id": "eF4L_yV2Mi3D",
        "outputId": "bfe7af2e-c449-49eb-d567-dd47bd244bcf"
      },
      "outputs": [
        {
          "name": "stdout",
          "output_type": "stream",
          "text": [
            "··········\n"
          ]
        },
        {
          "name": "stderr",
          "output_type": "stream",
          "text": [
            "[nltk_data] Downloading package punkt to /root/nltk_data...\n",
            "[nltk_data]   Unzipping tokenizers/punkt.zip.\n",
            "[nltk_data] Downloading package averaged_perceptron_tagger to\n",
            "[nltk_data]     /root/nltk_data...\n",
            "[nltk_data]   Unzipping taggers/averaged_perceptron_tagger.zip.\n"
          ]
        }
      ],
      "source": [
        "import getpass\n",
        "import os\n",
        "\n",
        "from langchain.vectorstores import Chroma\n",
        "from langchain.embeddings import OpenAIEmbeddings\n",
        "from langchain.text_splitter import TokenTextSplitter\n",
        "from langchain_community.document_loaders import UnstructuredURLLoader\n",
        "\n",
        "# Set your OpenAI API key\n",
        "os.environ[\"OPENAI_API_KEY\"] = getpass.getpass()\n",
        "\n",
        "url = \"https://www.sec.gov/Archives/edgar/data/1559720/000155972024000006/abnb-20231231.htm\"\n",
        "loader = UnstructuredURLLoader(urls=[url], headers={'User-Agent': 'your-org your@org.com'})\n",
        "documents = loader.load()"
      ]
    },
    {
      "cell_type": "markdown",
      "metadata": {
        "id": "gewMOJuMNUY5"
      },
      "source": [
        "Step III: Chunk and store 10-K in vector DB"
      ]
    },
    {
      "cell_type": "code",
      "execution_count": null,
      "metadata": {
        "id": "Lu-7K1PkNQBr"
      },
      "outputs": [],
      "source": [
        "# Naively chunk the SEC filing by tokens\n",
        "token_splitter = TokenTextSplitter(chunk_size=1000, chunk_overlap=100)\n",
        "docs = token_splitter.split_documents(documents)\n",
        "\n",
        "# Save the chunked docs in vector DB\n",
        "vectorstore = Chroma.from_documents(docs, OpenAIEmbeddings())"
      ]
    },
    {
      "cell_type": "markdown",
      "metadata": {
        "id": "TBRkQD2BNZlt"
      },
      "source": [
        "Step IV: Query vector DB for contextual documents"
      ]
    },
    {
      "cell_type": "code",
      "execution_count": null,
      "metadata": {
        "id": "HQfywx25NdOg"
      },
      "outputs": [],
      "source": [
        "query = \"What was Airbnb's revenue, net income, and cost of revenue for fiscal year 2023?\"\n",
        "# Get documents from the vector DB\n",
        "k = 3\n",
        "top_k_docs = vectorstore.similarity_search(query, k)\n",
        "context = \"\\n\".join([doc.page_content for doc in top_k_docs])"
      ]
    },
    {
      "cell_type": "markdown",
      "metadata": {
        "id": "OUQEMrfXNyLy"
      },
      "source": [
        "Step V: Answer and structure output with Instructor"
      ]
    },
    {
      "cell_type": "code",
      "execution_count": null,
      "metadata": {
        "id": "n5JNvWIXNvcD"
      },
      "outputs": [],
      "source": [
        "import instructor\n",
        "from openai import OpenAI\n",
        "from pydantic import BaseModel\n",
        "from pydantic import Field\n",
        "\n",
        "# Define our data model\n",
        "class Financials(BaseModel):\n",
        "  ticker: str = Field(description=\"Ticker symbol of the stock\")\n",
        "  period: str = Field(description=\"The financial period like FY2023\")\n",
        "  revenue: str = Field(description=\"Revenue, including currency and unit suffix like $10.45Bn\")\n",
        "  cost_of_revenue: str = Field(description=\"Cost of revenue, including currency and unit suffix like $10.45Bn\")\n",
        "  net_income: str = Field(description=\"Net income, including currency and unit suffix like $10.45Bn\")\n",
        "\n",
        "# Instantiate instructor\n",
        "client = instructor.patch(OpenAI())\n",
        "\n",
        "# Call openai\n",
        "response = client.chat.completions.create(\n",
        "    model=\"gpt-4-0125-preview\",\n",
        "    response_model=Financials,\n",
        "    messages=[\n",
        "        {\"role\": \"system\", \"content\": \"You are an expert financial assistant that reads SEC filings and answers questions.\"},\n",
        "        {\"role\": \"user\", \"content\": f\"Question: {query} Context: {context}\"},\n",
        "    ],\n",
        ")\n",
        "\n",
        "print(response.model_dump_json(indent=2))\n",
        "\n",
        "# Output\n",
        "{\n",
        "  \"ticker\": \"ABNB\",\n",
        "  \"period\": \"FY2023\",\n",
        "  \"revenue\": \"$9.9Bn\",\n",
        "  \"cost_of_revenue\": \"$1.703Bn\",\n",
        "  \"net_income\": \"$4.8Bn\"\n",
        "}"
      ]
    },
    {
      "cell_type": "code",
      "execution_count": null,
      "metadata": {
        "id": "pqFHgPvKN4BK"
      },
      "outputs": [],
      "source": []
    }
  ],
  "metadata": {
    "colab": {
      "provenance": []
    },
    "kernelspec": {
      "display_name": "Python 3",
      "name": "python3"
    },
    "language_info": {
      "name": "python",
      "version": "3.12.3"
    }
  },
  "nbformat": 4,
  "nbformat_minor": 0
}
