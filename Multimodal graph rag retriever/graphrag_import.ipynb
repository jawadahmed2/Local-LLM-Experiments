{
  "cells": [
    {
      "cell_type": "markdown",
      "id": "f0e5eec3-5e80-46f0-9eb3-94216915c65b",
      "metadata": {
        "id": "f0e5eec3-5e80-46f0-9eb3-94216915c65b"
      },
      "source": [
        "## Neo4j Import of GraphRAG Result Parquet files\n",
        "This notebook imports the results of the GraphRAG indexing process into the Neo4j Graph database for further processing, analysis or visualization.\n",
        "\n",
        "### How does it work?\n",
        "The notebook loads the parquet files from the output folder of your indexing process and loads them into Pandas dataframes. It then uses a batching approach to send a slice of the data into Neo4j to create nodes and relationships and add relevant properties. The id-arrays on most entities are turned into relationships.\n",
        "\n",
        "All operations use `MERGE`, so they are idempotent, and you can run the script multiple times.\n",
        "\n",
        "If you need to clean out the database, you can run the following statement\n",
        "```\n",
        "MATCH (n)\n",
        "CALL { WITH n DETACH DELETE n } IN TRANSACTIONS OF 25000 ROWS;\n",
        "```"
      ]
    },
    {
      "cell_type": "code",
      "execution_count": null,
      "id": "4581aea5-dacb-4bd3-b96c-f45d84ba05e3",
      "metadata": {
        "id": "4581aea5-dacb-4bd3-b96c-f45d84ba05e3"
      },
      "outputs": [],
      "source": [
        "GRAPHRAG_FOLDER=\"artifacts\""
      ]
    },
    {
      "cell_type": "code",
      "execution_count": null,
      "id": "3eeee95f-e4f2-4052-94fb-a5dc8ab542ae",
      "metadata": {
        "id": "3eeee95f-e4f2-4052-94fb-a5dc8ab542ae",
        "outputId": "41b7338a-10b5-4142-b014-a6d7c62de87a"
      },
      "outputs": [
        {
          "name": "stderr",
          "output_type": "stream",
          "text": [
            "/Users/tomazbratanic/anaconda3/lib/python3.11/site-packages/pandas/core/arrays/masked.py:60: UserWarning: Pandas requires version '1.3.6' or newer of 'bottleneck' (version '1.3.5' currently installed).\n",
            "  from pandas.core import (\n"
          ]
        }
      ],
      "source": [
        "import pandas as pd\n",
        "from neo4j import GraphDatabase\n",
        "import time"
      ]
    },
    {
      "cell_type": "code",
      "execution_count": null,
      "id": "b6c15443-4acb-4f91-88ea-4e08abaa4c29",
      "metadata": {
        "id": "b6c15443-4acb-4f91-88ea-4e08abaa4c29"
      },
      "outputs": [],
      "source": [
        "NEO4J_URI=\"bolt://localhost\"\n",
        "NEO4J_USERNAME=\"neo4j\"\n",
        "NEO4J_PASSWORD=\"password\"\n",
        "NEO4J_DATABASE=\"neo4j\"\n",
        "\n",
        "driver = GraphDatabase.driver(NEO4J_URI, auth=(NEO4J_USERNAME, NEO4J_PASSWORD))"
      ]
    },
    {
      "cell_type": "code",
      "execution_count": null,
      "id": "d787bf7b-ac9b-4bfb-b140-a50a3fd205c5",
      "metadata": {
        "id": "d787bf7b-ac9b-4bfb-b140-a50a3fd205c5"
      },
      "outputs": [],
      "source": [
        "def batched_import(statement, df, batch_size=1000):\n",
        "    \"\"\"\n",
        "    Import a dataframe into Neo4j using a batched approach.\n",
        "    Parameters: statement is the Cypher query to execute, df is the dataframe to import, and batch_size is the number of rows to import in each batch.\n",
        "    \"\"\"\n",
        "    total = len(df)\n",
        "    start_s = time.time()\n",
        "    for start in range(0,total, batch_size):\n",
        "        batch = df.iloc[start: min(start+batch_size,total)]\n",
        "        result = driver.execute_query(\"UNWIND $rows AS value \" + statement,\n",
        "                                      rows=batch.to_dict('records'),\n",
        "                                      database_=NEO4J_DATABASE)\n",
        "        print(result.summary.counters)\n",
        "    print(f'{total} rows in { time.time() - start_s} s.')\n",
        "    return total"
      ]
    },
    {
      "cell_type": "markdown",
      "id": "eceb8ef0-90fe-4aab-812b-def8f62fd0ad",
      "metadata": {
        "id": "eceb8ef0-90fe-4aab-812b-def8f62fd0ad"
      },
      "source": [
        "### Indexes and Constraints\n",
        "Indexes in Neo4j are only used to find the starting points for graph queries, e.g. quickly finding two nodes to connect. Constraints exist to avoid duplicates, we create them mostly on id's of Entity types.\n",
        "\n",
        "We use some Types as markers with two underscores before and after to distinguish them from the actual entity types.\n",
        "\n",
        "The default relationship type here is `RELATED` but we could also infer a real relationship-type from the description or the types of the start and end-nodes.\n",
        "\n",
        "* `__Entity__`\n",
        "* `__Document__`\n",
        "* `__Chunk__`\n",
        "* `__Community__`\n",
        "* `__Covariate__`"
      ]
    },
    {
      "cell_type": "code",
      "execution_count": null,
      "id": "ed7f212e-9148-424c-adc6-d81db9f8e5a5",
      "metadata": {
        "id": "ed7f212e-9148-424c-adc6-d81db9f8e5a5",
        "outputId": "46496ff6-fee2-4821-c994-f5005bc41df7"
      },
      "outputs": [
        {
          "name": "stdout",
          "output_type": "stream",
          "text": [
            "\n",
            "create constraint chunk_id if not exists for (c:__Chunk__) require c.id is unique\n",
            "\n",
            "create constraint document_id if not exists for (d:__Document__) require d.id is unique\n",
            "\n",
            "create constraint entity_id if not exists for (c:__Community__) require c.community is unique\n",
            "\n",
            "create constraint entity_id if not exists for (e:__Entity__) require e.id is unique\n",
            "\n",
            "create constraint entity_title if not exists for (e:__Entity__) require e.name is unique\n",
            "\n",
            "create constraint entity_title if not exists for (e:__Covariate__) require e.title is unique\n",
            "\n",
            "create constraint related_id if not exists for ()-[rel:RELATED]->() require rel.id is unique\n"
          ]
        }
      ],
      "source": [
        "# create constraints, idempotent operation\n",
        "\n",
        "statements = \"\"\"\n",
        "create constraint chunk_id if not exists for (c:__Chunk__) require c.id is unique;\n",
        "create constraint document_id if not exists for (d:__Document__) require d.id is unique;\n",
        "create constraint entity_id if not exists for (c:__Community__) require c.community is unique;\n",
        "create constraint entity_id if not exists for (e:__Entity__) require e.id is unique;\n",
        "create constraint entity_title if not exists for (e:__Entity__) require e.name is unique;\n",
        "create constraint entity_title if not exists for (e:__Covariate__) require e.title is unique;\n",
        "create constraint related_id if not exists for ()-[rel:RELATED]->() require rel.id is unique;\n",
        "\"\"\".split(\";\")\n",
        "\n",
        "for statement in statements:\n",
        "    if len((statement or \"\").strip()) > 0:\n",
        "        print(statement)\n",
        "        driver.execute_query(statement)"
      ]
    },
    {
      "cell_type": "markdown",
      "id": "e9b611db-03d4-4afc-ba9c-a801c3d26d91",
      "metadata": {
        "id": "e9b611db-03d4-4afc-ba9c-a801c3d26d91"
      },
      "source": [
        "## Import Process\n",
        "### Importing the Documents\n",
        "We're loading the parquet file for the documents and create nodes with their ids and add the title property. We don't need to store text_unit_ids as we can create the relationships and the text content is also contained in the chunks."
      ]
    },
    {
      "cell_type": "code",
      "execution_count": null,
      "id": "5ec93c92-499d-4ec6-bf3b-c34f74552600",
      "metadata": {
        "id": "5ec93c92-499d-4ec6-bf3b-c34f74552600",
        "outputId": "dd7e8a29-d930-4823-aa9e-d6de6fe3ea2f"
      },
      "outputs": [
        {
          "data": {
            "text/html": [
              "<div>\n",
              "<style scoped>\n",
              "    .dataframe tbody tr th:only-of-type {\n",
              "        vertical-align: middle;\n",
              "    }\n",
              "\n",
              "    .dataframe tbody tr th {\n",
              "        vertical-align: top;\n",
              "    }\n",
              "\n",
              "    .dataframe thead th {\n",
              "        text-align: right;\n",
              "    }\n",
              "</style>\n",
              "<table border=\"1\" class=\"dataframe\">\n",
              "  <thead>\n",
              "    <tr style=\"text-align: right;\">\n",
              "      <th></th>\n",
              "      <th>id</th>\n",
              "      <th>title</th>\n",
              "    </tr>\n",
              "  </thead>\n",
              "  <tbody>\n",
              "    <tr>\n",
              "      <th>0</th>\n",
              "      <td>c305886e4aa2f6efcf64b57762777055</td>\n",
              "      <td>book.txt</td>\n",
              "    </tr>\n",
              "  </tbody>\n",
              "</table>\n",
              "</div>"
            ],
            "text/plain": [
              "                                 id     title\n",
              "0  c305886e4aa2f6efcf64b57762777055  book.txt"
            ]
          },
          "execution_count": 6,
          "metadata": {},
          "output_type": "execute_result"
        }
      ],
      "source": [
        "doc_df = pd.read_parquet(f'{GRAPHRAG_FOLDER}/create_final_documents.parquet', columns=[\"id\", \"title\"])\n",
        "doc_df.head(2)"
      ]
    },
    {
      "cell_type": "code",
      "execution_count": null,
      "id": "ffd3d380-8710-46f5-b90a-04ed8482192c",
      "metadata": {
        "id": "ffd3d380-8710-46f5-b90a-04ed8482192c",
        "outputId": "bb9f8961-b10f-45f6-bf33-4f9cbfc9d2ae"
      },
      "outputs": [
        {
          "name": "stdout",
          "output_type": "stream",
          "text": [
            "{'_contains_updates': True, 'properties_set': 1}\n",
            "1 rows in 0.03545784950256348 s.\n"
          ]
        },
        {
          "data": {
            "text/plain": [
              "1"
            ]
          },
          "execution_count": 7,
          "metadata": {},
          "output_type": "execute_result"
        }
      ],
      "source": [
        "# import documents\n",
        "statement = \"\"\"\n",
        "MERGE (d:__Document__ {id:value.id})\n",
        "SET d += value {.title}\n",
        "\"\"\"\n",
        "\n",
        "batched_import(statement, doc_df)"
      ]
    },
    {
      "cell_type": "markdown",
      "id": "d9aa9028-4b62-4a14-86be-fad56b0c77f3",
      "metadata": {
        "id": "d9aa9028-4b62-4a14-86be-fad56b0c77f3"
      },
      "source": [
        "### Loading Text Units\n",
        "We load the text units, create a node per id and set the text and number of tokens. Then we connect them to the documents that we created before."
      ]
    },
    {
      "cell_type": "code",
      "execution_count": null,
      "id": "140b420e-045e-4c71-9f25-1a20c5b528bd",
      "metadata": {
        "id": "140b420e-045e-4c71-9f25-1a20c5b528bd",
        "outputId": "880ecf4a-2594-41ec-96d4-f0836b10bab2"
      },
      "outputs": [
        {
          "data": {
            "text/html": [
              "<div>\n",
              "<style scoped>\n",
              "    .dataframe tbody tr th:only-of-type {\n",
              "        vertical-align: middle;\n",
              "    }\n",
              "\n",
              "    .dataframe tbody tr th {\n",
              "        vertical-align: top;\n",
              "    }\n",
              "\n",
              "    .dataframe thead th {\n",
              "        text-align: right;\n",
              "    }\n",
              "</style>\n",
              "<table border=\"1\" class=\"dataframe\">\n",
              "  <thead>\n",
              "    <tr style=\"text-align: right;\">\n",
              "      <th></th>\n",
              "      <th>id</th>\n",
              "      <th>text</th>\n",
              "      <th>n_tokens</th>\n",
              "      <th>document_ids</th>\n",
              "    </tr>\n",
              "  </thead>\n",
              "  <tbody>\n",
              "    <tr>\n",
              "      <th>0</th>\n",
              "      <td>680dd6d2a970a49082fa4f34bf63a34e</td>\n",
              "      <td>﻿The Project Gutenberg eBook of A Christmas Ca...</td>\n",
              "      <td>300</td>\n",
              "      <td>[c305886e4aa2f6efcf64b57762777055]</td>\n",
              "    </tr>\n",
              "    <tr>\n",
              "      <th>1</th>\n",
              "      <td>95f1f8f5bdbf0bee3a2c6f2f4a4907f6</td>\n",
              "      <td>THE PROJECT GUTENBERG EBOOK A CHRISTMAS CAROL...</td>\n",
              "      <td>300</td>\n",
              "      <td>[c305886e4aa2f6efcf64b57762777055]</td>\n",
              "    </tr>\n",
              "  </tbody>\n",
              "</table>\n",
              "</div>"
            ],
            "text/plain": [
              "                                 id  \\\n",
              "0  680dd6d2a970a49082fa4f34bf63a34e   \n",
              "1  95f1f8f5bdbf0bee3a2c6f2f4a4907f6   \n",
              "\n",
              "                                                text  n_tokens  \\\n",
              "0  ﻿The Project Gutenberg eBook of A Christmas Ca...       300   \n",
              "1   THE PROJECT GUTENBERG EBOOK A CHRISTMAS CAROL...       300   \n",
              "\n",
              "                         document_ids  \n",
              "0  [c305886e4aa2f6efcf64b57762777055]  \n",
              "1  [c305886e4aa2f6efcf64b57762777055]  "
            ]
          },
          "execution_count": 8,
          "metadata": {},
          "output_type": "execute_result"
        }
      ],
      "source": [
        "text_df = pd.read_parquet(f'{GRAPHRAG_FOLDER}/create_final_text_units.parquet',\n",
        "                          columns=[\"id\",\"text\",\"n_tokens\",\"document_ids\"])\n",
        "text_df.head(2)"
      ]
    },
    {
      "cell_type": "code",
      "execution_count": null,
      "id": "1d038114-0714-48ee-a48a-c421cd539661",
      "metadata": {
        "id": "1d038114-0714-48ee-a48a-c421cd539661",
        "outputId": "b370283f-7c44-4c31-f42b-49fb06e2db56"
      },
      "outputs": [
        {
          "name": "stdout",
          "output_type": "stream",
          "text": [
            "{'_contains_updates': True, 'properties_set': 462}\n",
            "231 rows in 0.039582014083862305 s.\n"
          ]
        },
        {
          "data": {
            "text/plain": [
              "231"
            ]
          },
          "execution_count": 9,
          "metadata": {},
          "output_type": "execute_result"
        }
      ],
      "source": [
        "statement = \"\"\"\n",
        "MERGE (c:__Chunk__ {id:value.id})\n",
        "SET c += value {.text, .n_tokens}\n",
        "WITH c, value\n",
        "UNWIND value.document_ids AS document\n",
        "MATCH (d:__Document__ {id:document})\n",
        "MERGE (c)-[:PART_OF]->(d)\n",
        "\"\"\"\n",
        "\n",
        "batched_import(statement, text_df)"
      ]
    },
    {
      "cell_type": "markdown",
      "id": "9c614c5f-6925-4237-a1bf-6ebd35dcea38",
      "metadata": {
        "id": "9c614c5f-6925-4237-a1bf-6ebd35dcea38"
      },
      "source": [
        "### Loading Nodes\n",
        "For the nodes we store id, name, description, embedding (if available), human readable id."
      ]
    },
    {
      "cell_type": "code",
      "execution_count": null,
      "id": "5e713603-c508-4964-ba49-474e4867b747",
      "metadata": {
        "id": "5e713603-c508-4964-ba49-474e4867b747",
        "outputId": "a5efb031-87e6-4605-9d26-fbf9061dedc2"
      },
      "outputs": [
        {
          "data": {
            "text/html": [
              "<div>\n",
              "<style scoped>\n",
              "    .dataframe tbody tr th:only-of-type {\n",
              "        vertical-align: middle;\n",
              "    }\n",
              "\n",
              "    .dataframe tbody tr th {\n",
              "        vertical-align: top;\n",
              "    }\n",
              "\n",
              "    .dataframe thead th {\n",
              "        text-align: right;\n",
              "    }\n",
              "</style>\n",
              "<table border=\"1\" class=\"dataframe\">\n",
              "  <thead>\n",
              "    <tr style=\"text-align: right;\">\n",
              "      <th></th>\n",
              "      <th>name</th>\n",
              "      <th>type</th>\n",
              "      <th>description</th>\n",
              "      <th>human_readable_id</th>\n",
              "      <th>id</th>\n",
              "      <th>description_embedding</th>\n",
              "      <th>text_unit_ids</th>\n",
              "    </tr>\n",
              "  </thead>\n",
              "  <tbody>\n",
              "    <tr>\n",
              "      <th>0</th>\n",
              "      <td>\"PROJECT GUTENBERG\"</td>\n",
              "      <td>\"ORGANIZATION\"</td>\n",
              "      <td>Project Gutenberg is a pioneering organization...</td>\n",
              "      <td>0</td>\n",
              "      <td>b45241d70f0e43fca764df95b2b81f77</td>\n",
              "      <td>[-0.020793898031115532, 0.02951139025390148, 0...</td>\n",
              "      <td>[01e84646075b255eab0a34d872336a89, 10bab8e9773...</td>\n",
              "    </tr>\n",
              "    <tr>\n",
              "      <th>1</th>\n",
              "      <td>\"UNITED STATES\"</td>\n",
              "      <td>\"GEO\"</td>\n",
              "      <td>The United States is prominently recognized fo...</td>\n",
              "      <td>1</td>\n",
              "      <td>4119fd06010c494caa07f439b333f4c5</td>\n",
              "      <td>[-0.009704762138426304, 0.013335365802049637, ...</td>\n",
              "      <td>[01e84646075b255eab0a34d872336a89, 28f242c4515...</td>\n",
              "    </tr>\n",
              "  </tbody>\n",
              "</table>\n",
              "</div>"
            ],
            "text/plain": [
              "                  name            type  \\\n",
              "0  \"PROJECT GUTENBERG\"  \"ORGANIZATION\"   \n",
              "1      \"UNITED STATES\"           \"GEO\"   \n",
              "\n",
              "                                         description  human_readable_id  \\\n",
              "0  Project Gutenberg is a pioneering organization...                  0   \n",
              "1  The United States is prominently recognized fo...                  1   \n",
              "\n",
              "                                 id  \\\n",
              "0  b45241d70f0e43fca764df95b2b81f77   \n",
              "1  4119fd06010c494caa07f439b333f4c5   \n",
              "\n",
              "                               description_embedding  \\\n",
              "0  [-0.020793898031115532, 0.02951139025390148, 0...   \n",
              "1  [-0.009704762138426304, 0.013335365802049637, ...   \n",
              "\n",
              "                                       text_unit_ids  \n",
              "0  [01e84646075b255eab0a34d872336a89, 10bab8e9773...  \n",
              "1  [01e84646075b255eab0a34d872336a89, 28f242c4515...  "
            ]
          },
          "execution_count": 10,
          "metadata": {},
          "output_type": "execute_result"
        }
      ],
      "source": [
        "entity_df = pd.read_parquet(f'{GRAPHRAG_FOLDER}/create_final_entities.parquet',\n",
        "                            columns=[\"name\",\"type\",\"description\",\"human_readable_id\",\"id\",\"description_embedding\",\"text_unit_ids\"])\n",
        "entity_df.head(2)"
      ]
    },
    {
      "cell_type": "code",
      "execution_count": null,
      "id": "27900c01-89e1-4dec-9d5c-c07317c68baf",
      "metadata": {
        "id": "27900c01-89e1-4dec-9d5c-c07317c68baf",
        "outputId": "6384329b-d2d9-4c16-c5cd-36ea445bab1e"
      },
      "outputs": [
        {
          "name": "stdout",
          "output_type": "stream",
          "text": [
            "{'_contains_updates': True, 'properties_set': 831}\n",
            "277 rows in 0.37113404273986816 s.\n"
          ]
        },
        {
          "data": {
            "text/plain": [
              "277"
            ]
          },
          "execution_count": 11,
          "metadata": {},
          "output_type": "execute_result"
        }
      ],
      "source": [
        "entity_statement = \"\"\"\n",
        "MERGE (e:__Entity__ {id:value.id})\n",
        "SET e += value {.human_readable_id, .description, name:replace(value.name,'\"','')}\n",
        "WITH e, value\n",
        "CALL db.create.setNodeVectorProperty(e, \"description_embedding\", value.description_embedding)\n",
        "CALL apoc.create.addLabels(e, case when coalesce(value.type,\"\") = \"\" then [] else [apoc.text.upperCamelCase(replace(value.type,'\"',''))] end) yield node\n",
        "UNWIND value.text_unit_ids AS text_unit\n",
        "MATCH (c:__Chunk__ {id:text_unit})\n",
        "MERGE (c)-[:HAS_ENTITY]->(e)\n",
        "\"\"\"\n",
        "\n",
        "batched_import(entity_statement, entity_df)"
      ]
    },
    {
      "cell_type": "markdown",
      "id": "619e1dd1-06ab-4741-9f5c-f1c7fb8f8bac",
      "metadata": {
        "id": "619e1dd1-06ab-4741-9f5c-f1c7fb8f8bac"
      },
      "source": [
        "### Import Relationships\n",
        "For the relationships we find the source and target node by name, using the base `__Entity__` type. After creating the RELATED relationships, we set the description as attribute."
      ]
    },
    {
      "cell_type": "code",
      "execution_count": null,
      "id": "1be9e7a9-69ee-406b-bce5-95a9c41ecffe",
      "metadata": {
        "id": "1be9e7a9-69ee-406b-bce5-95a9c41ecffe",
        "outputId": "d8fb49e1-57b4-4db4-9fb2-fb9cf4d478ac"
      },
      "outputs": [
        {
          "data": {
            "text/html": [
              "<div>\n",
              "<style scoped>\n",
              "    .dataframe tbody tr th:only-of-type {\n",
              "        vertical-align: middle;\n",
              "    }\n",
              "\n",
              "    .dataframe tbody tr th {\n",
              "        vertical-align: top;\n",
              "    }\n",
              "\n",
              "    .dataframe thead th {\n",
              "        text-align: right;\n",
              "    }\n",
              "</style>\n",
              "<table border=\"1\" class=\"dataframe\">\n",
              "  <thead>\n",
              "    <tr style=\"text-align: right;\">\n",
              "      <th></th>\n",
              "      <th>source</th>\n",
              "      <th>target</th>\n",
              "      <th>id</th>\n",
              "      <th>rank</th>\n",
              "      <th>weight</th>\n",
              "      <th>human_readable_id</th>\n",
              "      <th>description</th>\n",
              "      <th>text_unit_ids</th>\n",
              "    </tr>\n",
              "  </thead>\n",
              "  <tbody>\n",
              "    <tr>\n",
              "      <th>0</th>\n",
              "      <td>\"PROJECT GUTENBERG\"</td>\n",
              "      <td>\"A CHRISTMAS CAROL\"</td>\n",
              "      <td>b84d71ed9c3b45819eb3205fd28e13a0</td>\n",
              "      <td>20</td>\n",
              "      <td>1.0</td>\n",
              "      <td>0</td>\n",
              "      <td>\"Project Gutenberg is responsible for releasin...</td>\n",
              "      <td>[680dd6d2a970a49082fa4f34bf63a34e]</td>\n",
              "    </tr>\n",
              "    <tr>\n",
              "      <th>1</th>\n",
              "      <td>\"PROJECT GUTENBERG\"</td>\n",
              "      <td>\"SUZANNE SHELL\"</td>\n",
              "      <td>b0b464bc92a541e48547fe9738378dab</td>\n",
              "      <td>15</td>\n",
              "      <td>1.0</td>\n",
              "      <td>1</td>\n",
              "      <td>\"Suzanne Shell produced the eBook version of '...</td>\n",
              "      <td>[680dd6d2a970a49082fa4f34bf63a34e]</td>\n",
              "    </tr>\n",
              "  </tbody>\n",
              "</table>\n",
              "</div>"
            ],
            "text/plain": [
              "                source               target                                id  \\\n",
              "0  \"PROJECT GUTENBERG\"  \"A CHRISTMAS CAROL\"  b84d71ed9c3b45819eb3205fd28e13a0   \n",
              "1  \"PROJECT GUTENBERG\"      \"SUZANNE SHELL\"  b0b464bc92a541e48547fe9738378dab   \n",
              "\n",
              "   rank  weight human_readable_id  \\\n",
              "0    20     1.0                 0   \n",
              "1    15     1.0                 1   \n",
              "\n",
              "                                         description  \\\n",
              "0  \"Project Gutenberg is responsible for releasin...   \n",
              "1  \"Suzanne Shell produced the eBook version of '...   \n",
              "\n",
              "                        text_unit_ids  \n",
              "0  [680dd6d2a970a49082fa4f34bf63a34e]  \n",
              "1  [680dd6d2a970a49082fa4f34bf63a34e]  "
            ]
          },
          "execution_count": 12,
          "metadata": {},
          "output_type": "execute_result"
        }
      ],
      "source": [
        "rel_df = pd.read_parquet(f'{GRAPHRAG_FOLDER}/create_final_relationships.parquet',\n",
        "                         columns=[\"source\",\"target\",\"id\",\"rank\",\"weight\",\"human_readable_id\",\"description\",\"text_unit_ids\"])\n",
        "rel_df.head(2)"
      ]
    },
    {
      "cell_type": "code",
      "execution_count": null,
      "id": "5c6ed591-f98c-4403-9fde-8d4cb4c01cca",
      "metadata": {
        "id": "5c6ed591-f98c-4403-9fde-8d4cb4c01cca",
        "outputId": "b4b5c90f-cd58-4c4a-8653-7aad1b927bda"
      },
      "outputs": [
        {
          "name": "stdout",
          "output_type": "stream",
          "text": [
            "{'_contains_updates': True, 'properties_set': 1710}\n",
            "342 rows in 0.1247568130493164 s.\n"
          ]
        },
        {
          "data": {
            "text/plain": [
              "342"
            ]
          },
          "execution_count": 13,
          "metadata": {},
          "output_type": "execute_result"
        }
      ],
      "source": [
        "rel_statement = \"\"\"\n",
        "    MATCH (source:__Entity__ {name:replace(value.source,'\"','')})\n",
        "    MATCH (target:__Entity__ {name:replace(value.target,'\"','')})\n",
        "    // not necessary to merge on id as there is only one relationship per pair\n",
        "    MERGE (source)-[rel:RELATED {id: value.id}]->(target)\n",
        "    SET rel += value {.rank, .weight, .human_readable_id, .description, .text_unit_ids}\n",
        "    RETURN count(*) as createdRels\n",
        "\"\"\"\n",
        "\n",
        "batched_import(rel_statement, rel_df)"
      ]
    },
    {
      "cell_type": "markdown",
      "id": "67d02faf-b305-44c0-9cba-7328d61b833d",
      "metadata": {
        "id": "67d02faf-b305-44c0-9cba-7328d61b833d"
      },
      "source": [
        "### Importing Communities\n",
        "For communities we import their id, title, level. We connect the `__Community__` nodes to the start and end nodes of the relationships they refer to.\n",
        "\n",
        "Connecting them to the chunks they orignate from is optional, as the entites are already connected to the chunks."
      ]
    },
    {
      "cell_type": "code",
      "execution_count": null,
      "id": "523bed92-d12c-4fc4-aa44-6c62321b36bc",
      "metadata": {
        "id": "523bed92-d12c-4fc4-aa44-6c62321b36bc",
        "outputId": "07474e47-55d3-4001-a11c-2604420d9aa9"
      },
      "outputs": [
        {
          "data": {
            "text/html": [
              "<div>\n",
              "<style scoped>\n",
              "    .dataframe tbody tr th:only-of-type {\n",
              "        vertical-align: middle;\n",
              "    }\n",
              "\n",
              "    .dataframe tbody tr th {\n",
              "        vertical-align: top;\n",
              "    }\n",
              "\n",
              "    .dataframe thead th {\n",
              "        text-align: right;\n",
              "    }\n",
              "</style>\n",
              "<table border=\"1\" class=\"dataframe\">\n",
              "  <thead>\n",
              "    <tr style=\"text-align: right;\">\n",
              "      <th></th>\n",
              "      <th>id</th>\n",
              "      <th>level</th>\n",
              "      <th>title</th>\n",
              "      <th>text_unit_ids</th>\n",
              "      <th>relationship_ids</th>\n",
              "    </tr>\n",
              "  </thead>\n",
              "  <tbody>\n",
              "    <tr>\n",
              "      <th>0</th>\n",
              "      <td>2</td>\n",
              "      <td>0</td>\n",
              "      <td>Community 2</td>\n",
              "      <td>[0546d296a4d3bb0486bd0c94c01dc9be,0d6bc6e701a0...</td>\n",
              "      <td>[ba481175ee1d4329bf07757a30abd3a1, 8d8da35190b...</td>\n",
              "    </tr>\n",
              "    <tr>\n",
              "      <th>1</th>\n",
              "      <td>4</td>\n",
              "      <td>0</td>\n",
              "      <td>Community 4</td>\n",
              "      <td>[054bdcba0a3690b43609d9226a47f84d,3a450ed2b7fb...</td>\n",
              "      <td>[929f30875e1744b49e7b416eaf5a790c, 4920fda0318...</td>\n",
              "    </tr>\n",
              "  </tbody>\n",
              "</table>\n",
              "</div>"
            ],
            "text/plain": [
              "  id  level        title                                      text_unit_ids  \\\n",
              "0  2      0  Community 2  [0546d296a4d3bb0486bd0c94c01dc9be,0d6bc6e701a0...   \n",
              "1  4      0  Community 4  [054bdcba0a3690b43609d9226a47f84d,3a450ed2b7fb...   \n",
              "\n",
              "                                    relationship_ids  \n",
              "0  [ba481175ee1d4329bf07757a30abd3a1, 8d8da35190b...  \n",
              "1  [929f30875e1744b49e7b416eaf5a790c, 4920fda0318...  "
            ]
          },
          "execution_count": 14,
          "metadata": {},
          "output_type": "execute_result"
        }
      ],
      "source": [
        "community_df = pd.read_parquet(f'{GRAPHRAG_FOLDER}/create_final_communities.parquet',\n",
        "                     columns=[\"id\",\"level\",\"title\",\"text_unit_ids\",\"relationship_ids\"])\n",
        "\n",
        "community_df.head(2)"
      ]
    },
    {
      "cell_type": "code",
      "execution_count": null,
      "id": "3e064234-5fce-448e-8bb4-ab2f35699049",
      "metadata": {
        "id": "3e064234-5fce-448e-8bb4-ab2f35699049",
        "outputId": "21376a55-0361-47cc-c13a-5f13fd7456b6"
      },
      "outputs": [
        {
          "name": "stdout",
          "output_type": "stream",
          "text": [
            "{'_contains_updates': True, 'properties_set': 94}\n",
            "47 rows in 0.06892895698547363 s.\n"
          ]
        },
        {
          "data": {
            "text/plain": [
              "47"
            ]
          },
          "execution_count": 15,
          "metadata": {},
          "output_type": "execute_result"
        }
      ],
      "source": [
        "statement = \"\"\"\n",
        "MERGE (c:__Community__ {community:value.id})\n",
        "SET c += value {.level, .title}\n",
        "/*\n",
        "UNWIND value.text_unit_ids as text_unit_id\n",
        "MATCH (t:__Chunk__ {id:text_unit_id})\n",
        "MERGE (c)-[:HAS_CHUNK]->(t)\n",
        "WITH distinct c, value\n",
        "*/\n",
        "WITH *\n",
        "UNWIND value.relationship_ids as rel_id\n",
        "MATCH (start:__Entity__)-[:RELATED {id:rel_id}]->(end:__Entity__)\n",
        "MERGE (start)-[:IN_COMMUNITY]->(c)\n",
        "MERGE (end)-[:IN_COMMUNITY]->(c)\n",
        "RETURN count(distinct c) as createdCommunities\n",
        "\"\"\"\n",
        "\n",
        "batched_import(statement, community_df)"
      ]
    },
    {
      "cell_type": "markdown",
      "id": "e27325cd-6ba8-43b4-8781-f9a81af5e242",
      "metadata": {
        "id": "e27325cd-6ba8-43b4-8781-f9a81af5e242"
      },
      "source": [
        "### Importing Community Reports\n",
        "Fo the community reports we create nodes for each communitiy set the id, community, level, title, summary, rank, and rank_explanation and connect them to the entities they are about. For the findings we create the findings in context of the communities."
      ]
    },
    {
      "cell_type": "code",
      "execution_count": null,
      "id": "fc9f6606-0cce-4f28-9d88-eaf894d8110b",
      "metadata": {
        "id": "fc9f6606-0cce-4f28-9d88-eaf894d8110b",
        "outputId": "a2ed6be9-b3cb-4176-909b-2064cf38ca96"
      },
      "outputs": [
        {
          "data": {
            "text/html": [
              "<div>\n",
              "<style scoped>\n",
              "    .dataframe tbody tr th:only-of-type {\n",
              "        vertical-align: middle;\n",
              "    }\n",
              "\n",
              "    .dataframe tbody tr th {\n",
              "        vertical-align: top;\n",
              "    }\n",
              "\n",
              "    .dataframe thead th {\n",
              "        text-align: right;\n",
              "    }\n",
              "</style>\n",
              "<table border=\"1\" class=\"dataframe\">\n",
              "  <thead>\n",
              "    <tr style=\"text-align: right;\">\n",
              "      <th></th>\n",
              "      <th>id</th>\n",
              "      <th>community</th>\n",
              "      <th>level</th>\n",
              "      <th>title</th>\n",
              "      <th>summary</th>\n",
              "      <th>findings</th>\n",
              "      <th>rank</th>\n",
              "      <th>rank_explanation</th>\n",
              "      <th>full_content</th>\n",
              "    </tr>\n",
              "  </thead>\n",
              "  <tbody>\n",
              "    <tr>\n",
              "      <th>0</th>\n",
              "      <td>e7822326-4da8-4954-afa9-be7f4f5791a5</td>\n",
              "      <td>42</td>\n",
              "      <td>2</td>\n",
              "      <td>Scrooge's Supernatural Encounters: Marley's Gh...</td>\n",
              "      <td>This report delves into the pivotal supernatur...</td>\n",
              "      <td>[{'explanation': 'Marley's Ghost plays a cruci...</td>\n",
              "      <td>8.0</td>\n",
              "      <td>The impact severity rating is high due to the ...</td>\n",
              "      <td># Scrooge's Supernatural Encounters: Marley's ...</td>\n",
              "    </tr>\n",
              "    <tr>\n",
              "      <th>1</th>\n",
              "      <td>8a5afac1-99ef-4f01-a1b1-f044ce392ff9</td>\n",
              "      <td>43</td>\n",
              "      <td>2</td>\n",
              "      <td>The Ghost's Influence on Scrooge's Transformation</td>\n",
              "      <td>This report delves into the pivotal role of 'T...</td>\n",
              "      <td>[{'explanation': 'The Ghost, identified at tim...</td>\n",
              "      <td>8.5</td>\n",
              "      <td>The impact severity rating is high due to the ...</td>\n",
              "      <td># The Ghost's Influence on Scrooge's Transform...</td>\n",
              "    </tr>\n",
              "  </tbody>\n",
              "</table>\n",
              "</div>"
            ],
            "text/plain": [
              "                                     id community  level  \\\n",
              "0  e7822326-4da8-4954-afa9-be7f4f5791a5        42      2   \n",
              "1  8a5afac1-99ef-4f01-a1b1-f044ce392ff9        43      2   \n",
              "\n",
              "                                               title  \\\n",
              "0  Scrooge's Supernatural Encounters: Marley's Gh...   \n",
              "1  The Ghost's Influence on Scrooge's Transformation   \n",
              "\n",
              "                                             summary  \\\n",
              "0  This report delves into the pivotal supernatur...   \n",
              "1  This report delves into the pivotal role of 'T...   \n",
              "\n",
              "                                            findings  rank  \\\n",
              "0  [{'explanation': 'Marley's Ghost plays a cruci...   8.0   \n",
              "1  [{'explanation': 'The Ghost, identified at tim...   8.5   \n",
              "\n",
              "                                    rank_explanation  \\\n",
              "0  The impact severity rating is high due to the ...   \n",
              "1  The impact severity rating is high due to the ...   \n",
              "\n",
              "                                        full_content  \n",
              "0  # Scrooge's Supernatural Encounters: Marley's ...  \n",
              "1  # The Ghost's Influence on Scrooge's Transform...  "
            ]
          },
          "execution_count": 16,
          "metadata": {},
          "output_type": "execute_result"
        }
      ],
      "source": [
        "community_report_df = pd.read_parquet(f'{GRAPHRAG_FOLDER}/create_final_community_reports.parquet',\n",
        "                               columns=[\"id\",\"community\",\"level\",\"title\",\"summary\", \"findings\",\"rank\",\"rank_explanation\",\"full_content\"])\n",
        "community_report_df.head(2)"
      ]
    },
    {
      "cell_type": "code",
      "execution_count": null,
      "id": "47bb6f5c-4c1c-4849-8f1a-cb76fa98b925",
      "metadata": {
        "id": "47bb6f5c-4c1c-4849-8f1a-cb76fa98b925",
        "outputId": "b9ec45d1-8444-4f35-f76d-f330f847e5b6"
      },
      "outputs": [
        {
          "name": "stdout",
          "output_type": "stream",
          "text": [
            "{'_contains_updates': True, 'properties_set': 682}\n",
            "47 rows in 0.013952016830444336 s.\n"
          ]
        },
        {
          "data": {
            "text/plain": [
              "47"
            ]
          },
          "execution_count": 17,
          "metadata": {},
          "output_type": "execute_result"
        }
      ],
      "source": [
        "# import communities\n",
        "community_statement = \"\"\"\n",
        "MERGE (c:__Community__ {community:value.community})\n",
        "SET c += value {.level, .title, .rank, .rank_explanation, .full_content, .summary}\n",
        "WITH c, value\n",
        "UNWIND range(0, size(value.findings)-1) AS finding_idx\n",
        "WITH c, value, finding_idx, value.findings[finding_idx] as finding\n",
        "MERGE (c)-[:HAS_FINDING]->(f:Finding {id:finding_idx})\n",
        "SET f += finding\n",
        "\"\"\"\n",
        "batched_import(community_statement, community_report_df)"
      ]
    },
    {
      "cell_type": "markdown",
      "id": "44990c84-a2a8-4f1a-b758-fe1c1a02766f",
      "metadata": {
        "id": "44990c84-a2a8-4f1a-b758-fe1c1a02766f"
      },
      "source": [
        "### Importing Covariates\n",
        "Covariates are for instance claims on entities, we connect them to the chunks where they originate from.\n",
        "\n",
        "**By default, covariates are not included in the output, so the file might not exists in your output if you didn't set the configuration to extract claims**"
      ]
    },
    {
      "cell_type": "code",
      "execution_count": null,
      "id": "7131f3a0-2b71-4017-9dcd-24913d964dc0",
      "metadata": {
        "id": "7131f3a0-2b71-4017-9dcd-24913d964dc0",
        "outputId": "9907692e-34d9-40de-8669-ee660e6bf5fe"
      },
      "outputs": [
        {
          "data": {
            "text/plain": [
              "\"\\n# cov_df = pd.read_parquet(f'{GRAPHRAG_FOLDER}/create_final_covariates.parquet')\\n# cov_df.head(2)\\n\""
            ]
          },
          "execution_count": 18,
          "metadata": {},
          "output_type": "execute_result"
        }
      ],
      "source": [
        "\"\"\"\n",
        "# cov_df = pd.read_parquet(f'{GRAPHRAG_FOLDER}/create_final_covariates.parquet')\n",
        "# cov_df.head(2)\n",
        "\"\"\""
      ]
    },
    {
      "cell_type": "code",
      "execution_count": null,
      "id": "f0d2a7dc-8885-41f0-b971-39628d08b09a",
      "metadata": {
        "id": "f0d2a7dc-8885-41f0-b971-39628d08b09a"
      },
      "outputs": [],
      "source": [
        "cov_statement = \"\"\"\n",
        "MERGE (c:__Covariate__ {id:value.id})\n",
        "SET c += apoc.map.clean(value, [\"text_unit_id\", \"document_ids\", \"n_tokens\"], [NULL, \"\"])\n",
        "WITH c, value\n",
        "MATCH (ch:__Chunk__ {id: value.text_unit_id})\n",
        "MERGE (ch)-[:HAS_COVARIATE]->(c)\n",
        "\"\"\"\n",
        "# batched_import(cov_statement, cov_df)"
      ]
    },
    {
      "cell_type": "code",
      "execution_count": null,
      "id": "53bee996-44dd-41c4-a594-5cdec45e80fa",
      "metadata": {
        "id": "53bee996-44dd-41c4-a594-5cdec45e80fa"
      },
      "outputs": [],
      "source": []
    }
  ],
  "metadata": {
    "colab": {
      "provenance": []
    },
    "kernelspec": {
      "display_name": "Python 3 (ipykernel)",
      "language": "python",
      "name": "python3"
    },
    "language_info": {
      "codemirror_mode": {
        "name": "ipython",
        "version": 3
      },
      "file_extension": ".py",
      "mimetype": "text/x-python",
      "name": "python",
      "nbconvert_exporter": "python",
      "pygments_lexer": "ipython3",
      "version": "3.12.3"
    }
  },
  "nbformat": 4,
  "nbformat_minor": 5
}
