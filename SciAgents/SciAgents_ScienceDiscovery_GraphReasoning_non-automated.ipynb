{
 "cells": [
  {
   "cell_type": "markdown",
   "id": "1be16592-06df-42d3-834e-92001c455abb",
   "metadata": {},
   "source": [
    "# SciAgents\n",
    "## Automating scientific discovery through multi-agent intelligent graph reasoning\n",
    "\n",
    "#### Alireza Ghafarollahi, Markus J. Buehler, MIT, 2024 mbuehler@MIT.EDU"
   ]
  },
  {
   "cell_type": "code",
   "execution_count": null,
   "id": "e88a310b-5971-4111-9f0e-ac6eef990594",
   "metadata": {},
   "outputs": [],
   "source": [
    "!git clone https://github.com/lamm-mit/SciAgentsDiscovery.git\n",
    "%cd SciAgentsDiscovery\n",
    "!pip install -e ."
   ]
  },
  {
   "cell_type": "code",
   "execution_count": 1,
   "id": "24cbd5ab-8985-443a-abd4-bde904dcd389",
   "metadata": {},
   "outputs": [],
   "source": [
    "import os\n",
    "\n",
    "OpenAI_key='sk-'\n",
    "os.environ['OPENAI_API_KEY']=OpenAI_key\n",
    "\n",
    "SemanticScholar_api_key = ''\n",
    "os.environ['SEMANTIC_SCHOLAR_API_KEY']=SemanticScholar_api_key\n",
    "\n",
    "data_dir_output='./graph_giant_component_LLMdiscovery_example/'"
   ]
  },
  {
   "cell_type": "code",
   "execution_count": null,
   "id": "0b37b47a-bbf2-4bcc-802f-4203146a2946",
   "metadata": {},
   "outputs": [],
   "source": [
    "from ScienceDiscovery import *\n",
    "make_dir_if_needed(data_dir_output)"
   ]
  },
  {
   "cell_type": "markdown",
   "id": "dc4c7e01-48aa-426a-b1ff-cea65d5d6427",
   "metadata": {},
   "source": [
    "### Setting up OpenAI GPT model for the LLM"
   ]
  },
  {
   "cell_type": "code",
   "execution_count": 4,
   "id": "c9e805ab-7609-4b2c-babc-bf51279574b3",
   "metadata": {},
   "outputs": [],
   "source": [
    "default_generate_OpenAIGPT = partial(\n",
    "    generate_OpenAIGPT,\n",
    "    openai_api_key=OpenAI_key,\n",
    "    #gpt_model='gpt-4-turbo',\n",
    "    gpt_model='gpt-4o',\n",
    "    temperature=0.2,\n",
    "    max_tokens=2048,\n",
    ")"
   ]
  },
  {
   "cell_type": "markdown",
   "id": "3b261e57-2f27-4588-8e5e-6774d654b85e",
   "metadata": {},
   "source": [
    "## Research idea generation using the non-automated multi-agent model"
   ]
  },
  {
   "cell_type": "code",
   "execution_count": null,
   "id": "d8276cc2-4ff3-4112-ac80-4ce744e80a23",
   "metadata": {},
   "outputs": [],
   "source": [
    "research_generation(G=G, \n",
    "                    embedding_tokenizer=embedding_tokenizer,\n",
    "                    embedding_model=embedding_model,\n",
    "                    node_embeddings=node_embeddings,\n",
    "                    generate=default_generate_OpenAIGPT,\n",
    "                    generate_graph_expansion=default_generate_OpenAIGPT,\n",
    "                    randomness_factor=0.2, num_random_waypoints=4,shortest_path=False,\n",
    "                    second_hop=False, data_dir=data_dir_output, save_files=False, verbatim=True,\n",
    "                    keyword_1='energy-intensive', keyword_2='protein')"
   ]
  }
 ],
 "metadata": {
  "kernelspec": {
   "display_name": "Python 3 (ipykernel)",
   "language": "python",
   "name": "python3"
  },
  "language_info": {
   "codemirror_mode": {
    "name": "ipython",
    "version": 3
   },
   "file_extension": ".py",
   "mimetype": "text/x-python",
   "name": "python",
   "nbconvert_exporter": "python",
   "pygments_lexer": "ipython3",
   "version": "3.10.12"
  }
 },
 "nbformat": 4,
 "nbformat_minor": 5
}
