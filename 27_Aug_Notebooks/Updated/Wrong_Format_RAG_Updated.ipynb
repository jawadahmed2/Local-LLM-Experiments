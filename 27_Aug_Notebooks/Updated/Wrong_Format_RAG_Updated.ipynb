{
  "cells": [
    {
      "cell_type": "markdown",
      "metadata": {
        "id": "b8kkhS-UgJAR"
      },
      "source": [
        "# Solutions for Wrong Format\n",
        "\n",
        "Here we will explore the following strategies\n",
        "\n",
        "- Native LLM Support\n",
        "- Output Parsers\n"
      ]
    },
    {
      "cell_type": "markdown",
      "metadata": {
        "id": "L1KvMtf54l0d"
      },
      "source": [
        "#### Install OpenAI, HuggingFace and LangChain dependencies"
      ]
    },
    {
      "cell_type": "code",
      "execution_count": null,
      "metadata": {
        "id": "2evPp14fy258"
      },
      "outputs": [],
      "source": [
        "!pip install langchain\n",
        "!pip install langchain-openai\n",
        "!pip install langchain-community"
      ]
    },
    {
      "cell_type": "markdown",
      "metadata": {
        "id": "yHhc7UKVX7nC"
      },
      "source": [
        "# Native LLM Output Response Support"
      ]
    },
    {
      "cell_type": "code",
      "execution_count": 18,
      "metadata": {},
      "outputs": [],
      "source": [
        "from langchain_ollama import ChatOllama\n",
        "import json"
      ]
    },
    {
      "cell_type": "code",
      "execution_count": 28,
      "metadata": {},
      "outputs": [],
      "source": [
        "llm = ChatOllama(\n",
        "    model=\"llama3:8b-instruct-fp16\",\n",
        "    temperature=0.01,\n",
        "    top_p=0.9,\n",
        "    top_k=40,\n",
        "    repeat_penalty=1.1,\n",
        "    base_url=\"http://172.31.0.1:11434/v1\",\n",
        "    format=\"json\",\n",
        "    stop=[\"</s>\", \"Human:\", \"AI:\"],\n",
        "    model_kwargs={\n",
        "        \"num_ctx\": 2048,\n",
        "        \"num_predict\": 256,\n",
        "        \"mirostat_mode\": 2,\n",
        "        \"mirostat_tau\": 5,\n",
        "        \"mirostat_eta\": 0.1\n",
        "    }\n",
        ")"
      ]
    },
    {
      "cell_type": "code",
      "execution_count": 29,
      "metadata": {
        "id": "WTHZDxdPCfcP"
      },
      "outputs": [],
      "source": [
        "prompt = \"\"\"Provide information about the most recent Champions League final.\n",
        "Return the answer in valid JSON format with the following fields:\n",
        "win_team, lose_team, venue, date, score\n",
        "\"\"\"\n",
        "response = llm.invoke(prompt)"
      ]
    },
    {
      "cell_type": "code",
      "execution_count": 30,
      "metadata": {
        "colab": {
          "base_uri": "https://localhost:8080/"
        },
        "id": "-5nr2eBgCfZr",
        "outputId": "d3fe2337-cf54-400f-e8d3-9bb023b0ca14"
      },
      "outputs": [
        {
          "name": "stdout",
          "output_type": "stream",
          "text": [
            "{'win_team': 'Real Madrid', 'lose_team': 'Liverpool', 'venue': 'Wanda Metropolitano', 'date': 'May 26, 2018', 'score': '3-1'}\n"
          ]
        }
      ],
      "source": [
        "print(json.loads(response.content))\n"
      ]
    },
    {
      "cell_type": "code",
      "execution_count": 31,
      "metadata": {
        "colab": {
          "base_uri": "https://localhost:8080/"
        },
        "id": "xPEFVAUCDqGV",
        "outputId": "1308059a-cbde-4d34-ed9a-96b75fbc46a6"
      },
      "outputs": [
        {
          "data": {
            "text/plain": [
              "str"
            ]
          },
          "execution_count": 31,
          "metadata": {},
          "output_type": "execute_result"
        }
      ],
      "source": [
        "type(response.content)"
      ]
    },
    {
      "cell_type": "markdown",
      "metadata": {
        "id": "zBGV2SazYBIL"
      },
      "source": [
        "# Output Parsers"
      ]
    },
    {
      "cell_type": "code",
      "execution_count": 32,
      "metadata": {
        "id": "Td0hVmQd3OVw"
      },
      "outputs": [],
      "source": [
        "from langchain_core.prompts import PromptTemplate\n",
        "from langchain_core.output_parsers import JsonOutputParser\n",
        "from langchain_core.pydantic_v1 import BaseModel, Field\n",
        "\n",
        "\n",
        "# Define your desired data structure - like a python data class.\n",
        "class GameDetails(BaseModel):\n",
        "    win_team: str = Field(description=\"The winning team in the football game\")\n",
        "    lose_team: str = Field(description=\"The losing team in the football game\")\n",
        "    venue: str = Field(description=\"The venue of the football game\")\n",
        "    date: str = Field(description=\"The date of the football game\")\n",
        "    score: str = Field(description=\"The score of the football game\")\n",
        "\n",
        "parser = JsonOutputParser(pydantic_object=GameDetails)"
      ]
    },
    {
      "cell_type": "code",
      "execution_count": 33,
      "metadata": {
        "colab": {
          "base_uri": "https://localhost:8080/"
        },
        "id": "xFIk3rqn4RLS",
        "outputId": "415ea1f0-aed9-4e60-c074-f66a48ad5e4a"
      },
      "outputs": [
        {
          "name": "stdout",
          "output_type": "stream",
          "text": [
            "The output should be formatted as a JSON instance that conforms to the JSON schema below.\n",
            "\n",
            "As an example, for the schema {\"properties\": {\"foo\": {\"title\": \"Foo\", \"description\": \"a list of strings\", \"type\": \"array\", \"items\": {\"type\": \"string\"}}}, \"required\": [\"foo\"]}\n",
            "the object {\"foo\": [\"bar\", \"baz\"]} is a well-formatted instance of the schema. The object {\"properties\": {\"foo\": [\"bar\", \"baz\"]}} is not well-formatted.\n",
            "\n",
            "Here is the output schema:\n",
            "```\n",
            "{\"properties\": {\"win_team\": {\"title\": \"Win Team\", \"description\": \"The winning team in the football game\", \"type\": \"string\"}, \"lose_team\": {\"title\": \"Lose Team\", \"description\": \"The losing team in the football game\", \"type\": \"string\"}, \"venue\": {\"title\": \"Venue\", \"description\": \"The venue of the football game\", \"type\": \"string\"}, \"date\": {\"title\": \"Date\", \"description\": \"The date of the football game\", \"type\": \"string\"}, \"score\": {\"title\": \"Score\", \"description\": \"The score of the football game\", \"type\": \"string\"}}, \"required\": [\"win_team\", \"lose_team\", \"venue\", \"date\", \"score\"]}\n",
            "```\n"
          ]
        }
      ],
      "source": [
        "print(parser.get_format_instructions())"
      ]
    },
    {
      "cell_type": "code",
      "execution_count": 34,
      "metadata": {
        "id": "1HJvSevb4XES"
      },
      "outputs": [],
      "source": [
        "from langchain_core.prompts import PromptTemplate\n",
        "\n",
        "prompt_txt = \"\"\"\n",
        "             Who won the Champions league in 2023\n",
        "             Use the following format when generating the output response\n",
        "\n",
        "             Output format instructions:\n",
        "             {format_instructions}\n",
        "             \"\"\"\n",
        "\n",
        "prompt = PromptTemplate.from_template(template=prompt_txt)"
      ]
    },
    {
      "cell_type": "code",
      "execution_count": 35,
      "metadata": {
        "id": "ObjYJrXh8Hj3"
      },
      "outputs": [],
      "source": [
        "llm_chain = (prompt\n",
        "              |\n",
        "            llm\n",
        "              |\n",
        "            parser)\n",
        "\n",
        "response = llm_chain.invoke({\"format_instructions\": parser.get_format_instructions()})"
      ]
    },
    {
      "cell_type": "code",
      "execution_count": 36,
      "metadata": {
        "colab": {
          "base_uri": "https://localhost:8080/"
        },
        "id": "rWdKHqCIF5qO",
        "outputId": "12b4ea4c-01d4-4cc5-c2ec-fa2bb1a1df90"
      },
      "outputs": [
        {
          "data": {
            "text/plain": [
              "{'win_team': 'Real Madrid',\n",
              " 'lose_team': 'Liverpool',\n",
              " 'venue': 'Stade de France',\n",
              " 'date': 'June 10, 2023',\n",
              " 'score': '1-0'}"
            ]
          },
          "execution_count": 36,
          "metadata": {},
          "output_type": "execute_result"
        }
      ],
      "source": [
        "response"
      ]
    },
    {
      "cell_type": "code",
      "execution_count": 37,
      "metadata": {
        "colab": {
          "base_uri": "https://localhost:8080/"
        },
        "id": "P2x98vgfF62K",
        "outputId": "5681c383-5c6d-4d0e-887e-3de644bf8a77"
      },
      "outputs": [
        {
          "data": {
            "text/plain": [
              "dict"
            ]
          },
          "execution_count": 37,
          "metadata": {},
          "output_type": "execute_result"
        }
      ],
      "source": [
        "type(response)"
      ]
    },
    {
      "cell_type": "code",
      "execution_count": null,
      "metadata": {},
      "outputs": [],
      "source": []
    }
  ],
  "metadata": {
    "accelerator": "GPU",
    "colab": {
      "gpuType": "T4",
      "provenance": []
    },
    "kernelspec": {
      "display_name": "Python 3",
      "name": "python3"
    },
    "language_info": {
      "codemirror_mode": {
        "name": "ipython",
        "version": 3
      },
      "file_extension": ".py",
      "mimetype": "text/x-python",
      "name": "python",
      "nbconvert_exporter": "python",
      "pygments_lexer": "ipython3",
      "version": "3.12.3"
    }
  },
  "nbformat": 4,
  "nbformat_minor": 0
}
