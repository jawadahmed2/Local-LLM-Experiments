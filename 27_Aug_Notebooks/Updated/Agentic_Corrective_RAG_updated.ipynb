{
  "cells": [
    {
      "cell_type": "markdown",
      "metadata": {
        "id": "A_fZFcme18vK"
      },
      "source": [
        "# Project 1 - Building an Agentic Corrective RAG System with LangGraph"
      ]
    },
    {
      "cell_type": "markdown",
      "metadata": {
        "id": "NYBpZTjLnEXb"
      },
      "source": [
        "This project will cover a full hands-on workflow and demonstration of how to build an Agentic Corrective RAG (CRAG) System with LangGraph\n",
        "\n",
        "The idea would be to implement the workflow taking inspiration from the [Corrective Retrieval Augmented Generation](https://arxiv.org/pdf/2401.15884) research paper.\n",
        "\n",
        "The main challenge of RAG systems include:\n",
        "\n",
        "- Poor Retrieval can lead to issues in LLM response generation\n",
        "- Bad retrieval or lack of information in the vector database can also lead to out of context or hallucinated answers\n",
        "\n",
        "The idea is to couple a RAG system with a few checks in place and perform web searches if there is a lack of relevant context documents to the given user query as follows:\n",
        "\n",
        "![](https://i.imgur.com/uhybMhT.png)\n"
      ]
    },
    {
      "cell_type": "markdown",
      "metadata": {
        "id": "aMX5MULw4JXP"
      },
      "source": [
        "We can build this as an agentic RAG system by having a specific functionality step as a node in the graph and use LangGraph to implement it. Key steps in the node will include prompts being sent to LLMs to perform specific tasks as seen in the detailed workflow below:\n",
        "\n",
        "![](https://i.imgur.com/eV87ZwX.gif)"
      ]
    },
    {
      "cell_type": "markdown",
      "metadata": {
        "id": "L1KvMtf54l0d"
      },
      "source": [
        "## Install OpenAI, and LangChain dependencies"
      ]
    },
    {
      "cell_type": "code",
      "execution_count": null,
      "metadata": {
        "colab": {
          "base_uri": "https://localhost:8080/"
        },
        "id": "2evPp14fy258",
        "outputId": "d9754d0a-1537-4686-fd22-41d40958029b"
      },
      "outputs": [],
      "source": [
        "!pip install langchain==0.2.0\n",
        "!pip install langchain-openai==0.1.7\n",
        "!pip install langchain-community==0.2.0\n",
        "!pip install langgraph==0.1.1\n",
        "!pip install langchain-chroma==0.1.1"
      ]
    },
    {
      "cell_type": "markdown",
      "metadata": {
        "id": "H9c37cLnSrbg"
      },
      "source": [
        "## Enter Open AI API Key"
      ]
    },
    {
      "cell_type": "code",
      "execution_count": 1,
      "metadata": {
        "colab": {
          "base_uri": "https://localhost:8080/"
        },
        "id": "cv3JzCEx_PAd",
        "outputId": "84d6a714-cbe8-46b3-9485-5d93deed16fe"
      },
      "outputs": [],
      "source": [
        "from getpass import getpass"
      ]
    },
    {
      "cell_type": "markdown",
      "metadata": {
        "id": "ucWRRI3QztL2"
      },
      "source": [
        "## Enter Tavily Search API Key\n",
        "\n",
        "Get a free API key from [here](https://tavily.com/#api)"
      ]
    },
    {
      "cell_type": "code",
      "execution_count": 2,
      "metadata": {
        "colab": {
          "base_uri": "https://localhost:8080/"
        },
        "id": "mK-1WLzOrJdb",
        "outputId": "a5f42501-4176-47c0-9d0e-fdc658c93ded"
      },
      "outputs": [],
      "source": [
        "TAVILY_API_KEY = getpass('Enter Tavily Search API Key: ')"
      ]
    },
    {
      "cell_type": "markdown",
      "metadata": {
        "id": "1T0s0um5Svfa"
      },
      "source": [
        "## Setup Environment Variables"
      ]
    },
    {
      "cell_type": "code",
      "execution_count": 3,
      "metadata": {
        "id": "x1YSuHNF_lbh"
      },
      "outputs": [],
      "source": [
        "import os\n",
        "\n",
        "os.environ['TAVILY_API_KEY'] = TAVILY_API_KEY"
      ]
    },
    {
      "cell_type": "markdown",
      "metadata": {
        "id": "eXI8uXDtcsCD"
      },
      "source": [
        "## Build a Search Index for Wikipedia Data\n",
        "\n",
        "We will build a vector database for retrieval and search by taking a subset of documents from wikipedia, similar to our project from previous modules"
      ]
    },
    {
      "cell_type": "markdown",
      "metadata": {
        "id": "M8nHAP7XOGOj"
      },
      "source": [
        "### Ollama Embedding Models\n"
      ]
    },
    {
      "cell_type": "code",
      "execution_count": 28,
      "metadata": {
        "id": "jzrIVI2NAHC1"
      },
      "outputs": [],
      "source": [
        "from langchain_huggingface import HuggingFaceEmbeddings\n",
        "\n",
        "embed_model =  HuggingFaceEmbeddings(model_name=\"BAAI/bge-small-en\")"
      ]
    },
    {
      "cell_type": "markdown",
      "metadata": {
        "id": "RA_-hzHbFeSP"
      },
      "source": [
        "### Get the wikipedia data"
      ]
    },
    {
      "cell_type": "code",
      "execution_count": null,
      "metadata": {
        "colab": {
          "base_uri": "https://localhost:8080/"
        },
        "id": "RZFMYH-yFhWn",
        "outputId": "6ce4a9f0-16f8-4526-b670-25f39172c830"
      },
      "outputs": [
        {
          "name": "stdout",
          "output_type": "stream",
          "text": [
            "Downloading...\n",
            "From (original): https://drive.google.com/uc?id=1oWBnoxBZ1Mpeond8XDUSO6J9oAjcRDyW\n",
            "From (redirected): https://drive.google.com/uc?id=1oWBnoxBZ1Mpeond8XDUSO6J9oAjcRDyW&confirm=t&uuid=28e8b825-7880-4aea-98c9-ee3998c03545\n",
            "To: /content/simplewiki-2020-11-01.jsonl.gz\n",
            "100% 50.2M/50.2M [00:02<00:00, 18.6MB/s]\n"
          ]
        }
      ],
      "source": [
        "# if you can't download using the following code\n",
        "# go to https://drive.google.com/file/d/1oWBnoxBZ1Mpeond8XDUSO6J9oAjcRDyW download it\n",
        "# manually upload it on colab\n",
        "!gdown 1oWBnoxBZ1Mpeond8XDUSO6J9oAjcRDyW"
      ]
    },
    {
      "cell_type": "markdown",
      "metadata": {
        "id": "4_ReSz-3PVwW"
      },
      "source": [
        "### Load and Chunk Documents"
      ]
    },
    {
      "cell_type": "code",
      "execution_count": 5,
      "metadata": {
        "id": "WwLEBC4nF9ly"
      },
      "outputs": [],
      "source": [
        "import gzip\n",
        "import json\n",
        "from langchain.docstore.document import Document\n",
        "from langchain.text_splitter import RecursiveCharacterTextSplitter\n",
        "\n",
        "wikipedia_filepath = 'data/simplewiki-2020-11-01.jsonl.gz'\n",
        "\n",
        "docs = []\n",
        "with gzip.open(wikipedia_filepath, 'rt', encoding='utf8') as fIn:\n",
        "    for line in fIn:\n",
        "        data = json.loads(line.strip())\n",
        "        #Add all paragraphs\n",
        "        #passages.extend(data['paragraphs'])\n",
        "        #Only add the first paragraph\n",
        "        docs.append({\n",
        "                        'metadata': {\n",
        "                                        'title': data.get('title'),\n",
        "                                        'article_id': data.get('id')\n",
        "                        },\n",
        "                        'data': ' '.join(data.get('paragraphs')[0:3]) # restrict data to first 3 paragraphs to run later modules faster\n",
        "        })\n",
        "\n",
        "# We subset our data so we only use a subset of wikipedia documents to run things faster\n",
        "docs = [doc for doc in docs for x in ['india']\n",
        "              if x in doc['data'].lower().split()]\n",
        "# Create docs\n",
        "docs = [Document(page_content=doc['data'],\n",
        "                 metadata=doc['metadata']) for doc in docs]\n",
        "# Chunk docs\n",
        "splitter = RecursiveCharacterTextSplitter(chunk_size=2000, chunk_overlap=300)\n",
        "chunked_docs = splitter.split_documents(docs)"
      ]
    },
    {
      "cell_type": "code",
      "execution_count": 6,
      "metadata": {
        "colab": {
          "base_uri": "https://localhost:8080/"
        },
        "id": "G4E1zYFSG7J-",
        "outputId": "fb061f6b-00f4-447d-a52d-3f09ce0850c0"
      },
      "outputs": [
        {
          "data": {
            "text/plain": [
              "1322"
            ]
          },
          "execution_count": 6,
          "metadata": {},
          "output_type": "execute_result"
        }
      ],
      "source": [
        "len(chunked_docs)"
      ]
    },
    {
      "cell_type": "code",
      "execution_count": 7,
      "metadata": {
        "colab": {
          "base_uri": "https://localhost:8080/"
        },
        "id": "aSbhERAyGw0v",
        "outputId": "3a3984e7-0477-41d2-d858-f0977f87eac9"
      },
      "outputs": [
        {
          "data": {
            "text/plain": [
              "[Document(metadata={'title': 'Basil', 'article_id': '73985'}, page_content='Basil (\"Ocimum basilicum\") ( or ) is a plant of the Family Lamiaceae. It is also known as Sweet Basil or Tulsi. It is a tender low-growing herb that is grown as a perennial in warm, tropical climates. Basil is originally native to India and other tropical regions of Asia. It has been cultivated there for more than 5,000 years. It is prominently featured in many cuisines throughout the world. Some of them are Italian, Thai, Vietnamese and Laotian cuisines. It grows to between 30–60\\xa0cm tall. It has light green, silky leaves 3–5\\xa0cm long and 1–3\\xa0cm broad. The leaves are opposite each other. The flowers are quite big. They are white in color and arranged as a spike. The plant tastes somewhat like anise, with a strong, pungent, sweet smell. Basil is very sensitive to cold. It is best grown in hot, dry conditions. While most common varieties are treated as annuals, some are perennial, including African Blue and Holy Thai basil. The word \"basil\" comes from the Greek βασιλεύς (\"basileus\"), meaning \"royal\". This is because it is believed to have grown above the spot where St. Constantine and Helen discovered the Holy Cross. The \"Oxford English Dictionary\" quotes speculations that basil may have been used in \"some royal unguent, bath, or medicine\". Basil is still considered the \"king of herbs\" by many cookery authors. An alternative etymology has \"basil\" coming from the Latin word \"basilicus\", meaning dragon and being the root for basilisk, but this likely was a linguistic reworking of the word as brought from Greece.'),\n",
              " Document(metadata={'title': 'Roerich’s Pact', 'article_id': '259745'}, page_content='The Roerich Pact is a treaty on Protection of Artistic and Scientific Institutions and Historic Monuments, signed by the representatives of 21 states in the Oval Office of the White House on 15 April 1935. As of January 1, 1990, the Roerich Pact had been ratified by ten nations: Brazil, Chile, Colombia, Cuba, the Dominican Republic, El Salvador, Guatemala, Mexico, the United States, and Venezuela. It went into effect on 26 August 1935. The Government of India approved the Treaty in 1948, but did not take any further formal action. The Roerich Pact is also known as \"Pax Cultura\" (\"Cultural Peace\" or \"Peace through Culture\"). The most important part of the Roerich Pact is the legal recognition that the protection of culture is always more important than any military necessity. Russian painter and philosopher Nicholas Roerich (1874-1947) started the modern movement for the defense of cultural objects, in order for a “Peace of Civilizations”. Nicholas Roerich was born on October 9, 1874, in St. Petersburg. He became a successful painter. One of his paintings was purchased by Nicholas II of Russia.'),\n",
              " Document(metadata={'title': 'Nico Hülkenberg', 'article_id': '260252'}, page_content='Nicolas \"Nico\" Hülkenberg (born 19 August 1987 in Emmerich am Rhein, North Rhine-Westphalia) is a German racing driver. He races in Formula One for Williams. He won the 2009 GP2 Series championship. He is a past champion in Formula Three Euroseries and the A1 Grand Prix, as part of A1 Team Germany. He is one of three drivers to win the GP2 series championship in his first season. The other two are Lewis Hamilton and Nico Rosberg. Hülkenberg earned his first pole position at the Brazilian Grand Prix. His lap time was over one second faster than second place Sebastian Vettel on a drying circuit. It was the first pole for Williams in 100 races, since the European Grand Prix. After the Abu Dhabi GP, it was announced that Hülkenberg would not race for Williams in 2011. For the season, he is the third driver for the Force India team.')]"
            ]
          },
          "execution_count": 7,
          "metadata": {},
          "output_type": "execute_result"
        }
      ],
      "source": [
        "chunked_docs[:3]"
      ]
    },
    {
      "cell_type": "markdown",
      "metadata": {
        "id": "-PnV9lAXZw9a"
      },
      "source": [
        "### Create a Vector DB and persist on disk\n",
        "\n",
        "Here we initialize a connection to a Chroma vector DB client, and also we want to save to disk, so we simply initialize the Chroma client and pass the directory where we want the data to be saved to."
      ]
    },
    {
      "cell_type": "code",
      "execution_count": 29,
      "metadata": {},
      "outputs": [],
      "source": [
        "from langchain.vectorstores import Qdrant\n",
        "from qdrant_client import QdrantClient\n",
        "from qdrant_client.http.models import Distance, VectorParams"
      ]
    },
    {
      "cell_type": "code",
      "execution_count": null,
      "metadata": {
        "id": "kRYfcrsHUxyZ"
      },
      "outputs": [],
      "source": [
        "# from langchain_community.vectorstores import Chroma\n",
        "\n",
        "# # create vector DB of docs and embeddings - takes < 30s on Colab\n",
        "# chroma_db = Chroma.from_documents(documents=chunked_docs,\n",
        "#                                   collection_name='rag_wikipedia_db',\n",
        "#                                   embedding=embed_model,\n",
        "#                                   # need to set the distance function to cosine else it uses euclidean by default\n",
        "#                                   # check https://docs.trychroma.com/guides#changing-the-distance-function\n",
        "#                                   collection_metadata={\"hnsw:space\": \"cosine\"},\n",
        "#                                   persist_directory=\"./wikipedia_db\")"
      ]
    },
    {
      "cell_type": "code",
      "execution_count": 30,
      "metadata": {},
      "outputs": [],
      "source": [
        "embed_dimension = len(embed_model.embed_query(\"test\"))"
      ]
    },
    {
      "cell_type": "code",
      "execution_count": 31,
      "metadata": {},
      "outputs": [
        {
          "data": {
            "text/plain": [
              "384"
            ]
          },
          "execution_count": 31,
          "metadata": {},
          "output_type": "execute_result"
        }
      ],
      "source": [
        "embed_dimension"
      ]
    },
    {
      "cell_type": "code",
      "execution_count": 38,
      "metadata": {},
      "outputs": [
        {
          "name": "stderr",
          "output_type": "stream",
          "text": [
            "/tmp/ipykernel_6218/2303191431.py:3: DeprecationWarning: `recreate_collection` method is deprecated and will be removed in the future. Use `collection_exists` to check collection existence and `create_collection` instead.\n",
            "  qdrant_client.recreate_collection(\n"
          ]
        }
      ],
      "source": [
        "qdrant_client = QdrantClient(url=\"http://localhost:6333\")\n",
        "\n",
        "qdrant_client.recreate_collection(\n",
        "    collection_name=\"rag_wikipedia_db\",\n",
        "    vectors_config=VectorParams(size=embed_dimension, distance=Distance.COSINE)\n",
        ")\n",
        "\n",
        "qdrant_db = Qdrant.from_documents(\n",
        "    documents=chunked_docs,\n",
        "    embedding=embed_model,\n",
        "    url=\"http://localhost:6333\",\n",
        "    collection_name=\"rag_wikipedia_db\",\n",
        "    force_recreate=True\n",
        ")"
      ]
    },
    {
      "cell_type": "code",
      "execution_count": 28,
      "metadata": {},
      "outputs": [],
      "source": []
    },
    {
      "cell_type": "markdown",
      "metadata": {
        "id": "bprZC4S6TLfj"
      },
      "source": [
        "### Setup a Vector Database Retriever\n",
        "\n",
        "Here we use the following retrieval strategy:\n",
        "\n",
        "- Similarity with Threshold Retrieval\n"
      ]
    },
    {
      "cell_type": "markdown",
      "metadata": {
        "id": "8foBD2xmCDYc"
      },
      "source": [
        "### Similarity with Threshold Retrieval\n",
        "\n",
        "We use cosine similarity here and retrieve the top 3 similar documents based on the user input query and also introduce a cutoff to not return any documents which are below a certain similarity threshold"
      ]
    },
    {
      "cell_type": "code",
      "execution_count": 41,
      "metadata": {
        "id": "6ROSNwqeCMRS"
      },
      "outputs": [],
      "source": [
        "similarity_threshold_retriever = qdrant_db.as_retriever(search_type=\"similarity\", search_kwargs={\"k\": 3})"
      ]
    },
    {
      "cell_type": "code",
      "execution_count": 42,
      "metadata": {
        "colab": {
          "base_uri": "https://localhost:8080/"
        },
        "id": "Nv93k_QpCZv7",
        "outputId": "4c9f5f42-639f-4e7f-8c1a-c8f8dd63087b"
      },
      "outputs": [
        {
          "data": {
            "text/plain": [
              "[Document(metadata={'article_id': '731169', 'title': 'Central India', '_id': '336ded34-0d89-4bca-9006-5c1e43f32be1', '_collection_name': 'rag_wikipedia_db'}, page_content='Central India is an Indian region. Central India consists of two Indian states: Madhya Pradesh and Chhattisgarh. It shares a border with Rajasthan, Gujarat, Odisha, Jharkhand, Uttar Pradesh, Maharashtra and Telangana. Both the states are ruled by the Congress with Chief Ministers and This map of India (press to open) shows all central Indian states in the colour pink. The larger one is Madhya Pradesh while the smaller one is Chhattisgarh.'),\n",
              " Document(metadata={'article_id': '22215', 'title': 'States and union territories of India', '_id': '88ae912b-21f9-44ae-8f2a-034b1104cb07', '_collection_name': 'rag_wikipedia_db'}, page_content='The Republic of India is divided into twenty-eight States,and eight union territories including the National Capital Territory.'),\n",
              " Document(metadata={'article_id': '5117', 'title': 'New Delhi', '_id': 'f227e40e-0ed6-4758-84fd-a31203504238', '_collection_name': 'rag_wikipedia_db'}, page_content='New Delhi () is the capital of India and a union territory of the megacity of Delhi. It has a very old history and is home to several monuments where the city is expensive to live in. In traditional Indian geography it falls under the North Indian zone. The city has an area of about 42.7\\xa0km. New Delhi has a population of about 9.4 Million people.')]"
            ]
          },
          "execution_count": 42,
          "metadata": {},
          "output_type": "execute_result"
        }
      ],
      "source": [
        "query = \"what is the capital of India?\"\n",
        "top3_docs = similarity_threshold_retriever.invoke(query)\n",
        "top3_docs"
      ]
    },
    {
      "cell_type": "code",
      "execution_count": 43,
      "metadata": {
        "colab": {
          "base_uri": "https://localhost:8080/"
        },
        "id": "obsI3yKOO0KL",
        "outputId": "8e0637f1-a7c0-4ee4-8e4b-6abbd32b892f"
      },
      "outputs": [
        {
          "data": {
            "text/plain": [
              "[Document(metadata={'article_id': '774543', 'title': 'Indology', '_id': '99dcc7cd-c80c-45da-9d52-1b5773c5ef9a', '_collection_name': 'rag_wikipedia_db'}, page_content='Indology or Indian studies is the academic study of the history and cultures, languages, and literature of India and other Asian studies. There are two types of Indology, \"Classical Indology\" from \"Modern Indology\". Classical is about ancient India and Modern is about current-day India and its politics.'),\n",
              " Document(metadata={'article_id': '21589', 'title': 'Gujarati language', '_id': '687d0cbe-ea81-44ae-a64b-d35e81b2ef50', '_collection_name': 'rag_wikipedia_db'}, page_content='Gujarati is an Indo-Aryan language. It is spoken in Gujarat, India and also in neighbouring Pakistan. It was the \"mother tongue\" of Gandhi and Muhammad Ali Jinnah. There are millions of Gujaratis who speak it as their first language. Gujarati is the 20th most common language in the United States of America. Mahatma Gandhi, the India\\'s leader, once said about the Gujarati language: \"Bad handwriting is a sign of an uncomplete education\".'),\n",
              " Document(metadata={'article_id': '685290', 'title': 'Colors Tamil', '_id': '7db2b43a-4aaa-4dec-b04f-eed930d46aa1', '_collection_name': 'rag_wikipedia_db'}, page_content='Colors Tamil is an Tamil language pay television channel and satellite television channel. Owned and operated by Viacom 18, a media entertainment company based in Chennai, Tamil Nadu it broadcasts programming in Tamil language. The channel was launched on 19 February 2018, typically broadcasting family drama, comedy shows, reality show and movies. The channel available across India and other countries through satellite and cable. It also available through digital and mobile entertainment platform, Voot.')]"
            ]
          },
          "execution_count": 43,
          "metadata": {},
          "output_type": "execute_result"
        }
      ],
      "source": [
        "query = \"what is langgraph?\"\n",
        "top3_docs = similarity_threshold_retriever.invoke(query)\n",
        "top3_docs"
      ]
    },
    {
      "cell_type": "markdown",
      "metadata": {
        "id": "RXeilff0c9X5"
      },
      "source": [
        "## Create a Query Retrieval Grader\n",
        "\n",
        "Here we will use an LLM itself to grade if any retrieved document is relevant to the given question - Answer will be either `yes` or `no`"
      ]
    },
    {
      "cell_type": "markdown",
      "metadata": {},
      "source": [
        "#### Try to use the VLLM to setup the Llama3 model \n",
        "- https://docs.vllm.ai/en/latest/getting_started/installation.html"
      ]
    },
    {
      "cell_type": "code",
      "execution_count": 56,
      "metadata": {},
      "outputs": [],
      "source": [
        "from langchain_openai import ChatOpenAI"
      ]
    },
    {
      "cell_type": "code",
      "execution_count": 57,
      "metadata": {},
      "outputs": [],
      "source": [
        "## Used VLLM to up the llama3 model along with api key and base url\n",
        "llm = ChatOpenAI(model=\"llama3:8b-instruct-fp16\", temperature=0, base_url=\"http://172.31.0.1:11434/v1\", api_key=\"..\")"
      ]
    },
    {
      "cell_type": "code",
      "execution_count": 50,
      "metadata": {
        "id": "ubFlSqlMSU99"
      },
      "outputs": [],
      "source": [
        "from langchain_core.prompts import ChatPromptTemplate\n",
        "from langchain_core.pydantic_v1 import BaseModel, Field\n",
        "\n",
        "\n",
        "\n",
        "# Data model for LLM output format\n",
        "class GradeDocuments(BaseModel):\n",
        "    \"\"\"Binary score for relevance check on retrieved documents.\"\"\"\n",
        "    binary_score: str = Field(\n",
        "        description=\"Documents are relevant to the question, 'yes' or 'no'\"\n",
        "    )\n",
        "\n",
        "\n",
        "# LLM for grading\n",
        "\n",
        "\n",
        "# Prompt template for grading\n",
        "SYS_PROMPT = \"\"\"You are an expert grader assessing relevance of a retrieved document to a user question.\n",
        "                Follow these instructions for grading:\n",
        "                  - If the document contains keyword(s) or semantic meaning related to the question, grade it as relevant.\n",
        "                  - Your grade should be either 'yes' or 'no' to indicate whether the document is relevant to the question or not.\n",
        "                  - Respond ONLY with 'yes' or 'no'.\n",
        "             \"\"\"\n",
        "grade_prompt = ChatPromptTemplate.from_messages(\n",
        "    [\n",
        "        (\"system\", SYS_PROMPT),\n",
        "        (\"human\", \"\"\"Retrieved document:\n",
        "                     {document}\n",
        "\n",
        "                     User question:\n",
        "                     {question}\n",
        "\n",
        "                     Is this document relevant? Respond with only 'yes' or 'no'.\n",
        "                  \"\"\"),\n",
        "    ]\n",
        ")\n",
        "\n",
        "# Build grader chain\n",
        "doc_grader = grade_prompt | llm"
      ]
    },
    {
      "cell_type": "code",
      "execution_count": 51,
      "metadata": {},
      "outputs": [],
      "source": [
        "def grade_document(query, document):\n",
        "    response = doc_grader.invoke({\"question\": query, \"document\": document})\n",
        "    grade = response.content.strip().lower()\n",
        "    if grade not in ['yes', 'no']:\n",
        "        raise ValueError(f\"Unexpected response from LLM: {grade}\")\n",
        "    return grade\n"
      ]
    },
    {
      "cell_type": "code",
      "execution_count": 52,
      "metadata": {
        "colab": {
          "base_uri": "https://localhost:8080/"
        },
        "id": "UuiAlPIbaC0W",
        "outputId": "2e91a691-3e9e-44cd-d47d-d7160803ffcb"
      },
      "outputs": [
        {
          "name": "stdout",
          "output_type": "stream",
          "text": [
            "Central India is an Indian region. Central India consists of two Indian states: Madhya Pradesh and Chhattisgarh. It shares a border with Rajasthan, Gujarat, Odisha, Jharkhand, Uttar Pradesh, Maharashtra and Telangana. Both the states are ruled by the Congress with Chief Ministers and This map of India (press to open) shows all central Indian states in the colour pink. The larger one is Madhya Pradesh while the smaller one is Chhattisgarh.\n",
            "GRADE: no\n",
            "\n",
            "The Republic of India is divided into twenty-eight States,and eight union territories including the National Capital Territory.\n",
            "GRADE: no\n",
            "\n",
            "New Delhi () is the capital of India and a union territory of the megacity of Delhi. It has a very old history and is home to several monuments where the city is expensive to live in. In traditional Indian geography it falls under the North Indian zone. The city has an area of about 42.7 km. New Delhi has a population of about 9.4 Million people.\n",
            "GRADE: yes\n",
            "\n"
          ]
        }
      ],
      "source": [
        "# Example usage\n",
        "query = \"what is the capital of India?\"\n",
        "top3_docs = similarity_threshold_retriever.invoke(query)\n",
        "for doc in top3_docs:\n",
        "    print(doc.page_content)\n",
        "    print('GRADE:', grade_document(query, doc.page_content))\n",
        "    print()"
      ]
    },
    {
      "cell_type": "code",
      "execution_count": 54,
      "metadata": {
        "colab": {
          "base_uri": "https://localhost:8080/"
        },
        "id": "9YNBjaO4ahnF",
        "outputId": "c81679e7-10e9-491a-eba6-7ebf93a5d321"
      },
      "outputs": [
        {
          "name": "stdout",
          "output_type": "stream",
          "text": [
            "Indology or Indian studies is the academic study of the history and cultures, languages, and literature of India and other Asian studies. There are two types of Indology, \"Classical Indology\" from \"Modern Indology\". Classical is about ancient India and Modern is about current-day India and its politics.\n",
            "GRADE: no\n",
            "\n",
            "Gujarati is an Indo-Aryan language. It is spoken in Gujarat, India and also in neighbouring Pakistan. It was the \"mother tongue\" of Gandhi and Muhammad Ali Jinnah. There are millions of Gujaratis who speak it as their first language. Gujarati is the 20th most common language in the United States of America. Mahatma Gandhi, the India's leader, once said about the Gujarati language: \"Bad handwriting is a sign of an uncomplete education\".\n",
            "GRADE: no\n",
            "\n",
            "Colors Tamil is an Tamil language pay television channel and satellite television channel. Owned and operated by Viacom 18, a media entertainment company based in Chennai, Tamil Nadu it broadcasts programming in Tamil language. The channel was launched on 19 February 2018, typically broadcasting family drama, comedy shows, reality show and movies. The channel available across India and other countries through satellite and cable. It also available through digital and mobile entertainment platform, Voot.\n",
            "GRADE: no\n",
            "\n"
          ]
        }
      ],
      "source": [
        "query = \"what is langgraph?\"\n",
        "top3_docs = similarity_threshold_retriever.invoke(query)\n",
        "for doc in top3_docs:\n",
        "    print(doc.page_content)\n",
        "    print('GRADE:', grade_document(query, doc.page_content))\n",
        "    print()"
      ]
    },
    {
      "cell_type": "code",
      "execution_count": 55,
      "metadata": {
        "colab": {
          "base_uri": "https://localhost:8080/"
        },
        "id": "8lw0moL0dWjf",
        "outputId": "bef8d170-d9c8-4094-d966-5d06427efa20"
      },
      "outputs": [
        {
          "name": "stdout",
          "output_type": "stream",
          "text": [
            "The 2023 ICC Cricket World Cup is scheduled to be hosted by India and India was selected as the host at an International Cricket Council (ICC) meeting in London in June 2013. This will be the 13th Cricket World Cup competition. It will be the fourth time that India will be the host. This will be the first time that India has hosted the tournament on its own. India hosted previous World Cup tournaments in 1987 (with Pakistan), 1996 (with Pakistan and Sri Lanka) and 2011 (with Sri Lanka and Bangladesh). The semi final will be played at Wankhede Stadium. And final will be played at Eden Gardens, Kolkata. 5. ICC Cricket Worldcup 2023 Venue\n",
            "GRADE: no\n",
            "\n",
            "India national football team is the national football team of India. It has won the AFC challenge Cup in 2008 and ranks 150 in FIFA ranking (2014). The team is managed by Wim Koevermans. They have been runners up of Asian Nations Cup (1964). Their best result is to feature in the fourth olympic football tournament's finals in 1956.\n",
            "GRADE: no\n",
            "\n",
            "The history of chess goes back 2200 years. It was played in Chinese Warring Sates Period about 200BC, called XiangQi. Modern International Chess game though originated in northern India in the 6th century (which shares quite a few common Characteristics with the Chinese creation) and spread to Persia. When the Arabs conquered Persia, chess was taken up by the Muslim world and subsequently, through the Moorish conquest of Spain, spread to Southern Europe. But in early Russia, the game came directly from the Khanates (muslim territories) to the south. In Europe, the moves of the pieces changed in the 15th century. The modern game starts with these changes. In the second half of the 19th century, modern tournament play began. Chess clocks were first used in 1883, and the first world chess championship was held in 1886. The 20th century saw advances in chess theory, and the establishment of the World Chess Federation (FIDE). Chess engines (programs that play chess), and chess data bases became important. The precursors of chess originated in northern India during the Gupta empire, where its early form in the 6th century was known as Chaturanga. This translates as 'the four divisions', meaning infantry, cavalry, elephantry, and chariotry, represented by the pieces that would evolve into the modern pawn, knight, bishop, and rook, respectively.<ref name=\"H/W\">Hooper, David and Whyld, Kenneth 1992. \"The Oxford Companion to Chess\" 2nd ed, Oxford University Press. </ref>\n",
            "GRADE: no\n",
            "\n"
          ]
        }
      ],
      "source": [
        "query = \"who won the champions league in 2024?\"\n",
        "top3_docs = similarity_threshold_retriever.invoke(query)\n",
        "for doc in top3_docs:\n",
        "    print(doc.page_content)\n",
        "    print('GRADE:', grade_document(query, doc.page_content))\n",
        "    print()"
      ]
    },
    {
      "cell_type": "markdown",
      "metadata": {
        "id": "Bfn4Z4Em55bb"
      },
      "source": [
        "## Build a QA RAG Chain\n",
        "\n",
        "We will now connect our retriever to an LLM and build our QA RAG Chain"
      ]
    },
    {
      "cell_type": "code",
      "execution_count": 58,
      "metadata": {
        "id": "8Pu5U9HNkl-q"
      },
      "outputs": [],
      "source": [
        "from langchain_core.prompts import ChatPromptTemplate\n",
        "from langchain_openai import ChatOpenAI\n",
        "from langchain_core.runnables import RunnablePassthrough, RunnableLambda\n",
        "from langchain_core.output_parsers import StrOutputParser\n",
        "from operator import itemgetter\n",
        "\n",
        "# Create RAG prompt for response generation\n",
        "prompt = \"\"\"You are an assistant for question-answering tasks.\n",
        "            Use the following pieces of retrieved context to answer the question.\n",
        "            If no context is present or if you don't know the answer, just say that you don't know the answer.\n",
        "            Do not make up the answer unless it is there in the provided context.\n",
        "            Give a detailed answer and to the point answer with regard to the question.\n",
        "\n",
        "            Question:\n",
        "            {question}\n",
        "\n",
        "            Context:\n",
        "            {context}\n",
        "\n",
        "            Answer:\n",
        "         \"\"\"\n",
        "prompt_template = ChatPromptTemplate.from_template(prompt)\n",
        "\n",
        "\n",
        "# Used for separating context docs with new lines\n",
        "def format_docs(docs):\n",
        "    return \"\\n\\n\".join(doc.page_content for doc in docs)\n",
        "\n",
        "# create QA RAG chain\n",
        "qa_rag_chain = (\n",
        "    {\n",
        "        \"context\": (itemgetter('context')\n",
        "                        |\n",
        "                    RunnableLambda(format_docs)),\n",
        "        \"question\": itemgetter('question')\n",
        "    }\n",
        "      |\n",
        "    prompt_template\n",
        "      |\n",
        "    llm\n",
        "      |\n",
        "    StrOutputParser()\n",
        ")"
      ]
    },
    {
      "cell_type": "code",
      "execution_count": 59,
      "metadata": {
        "colab": {
          "base_uri": "https://localhost:8080/"
        },
        "id": "9Wj-MZr2eEq8",
        "outputId": "aa55c8bd-eeda-4721-d915-f29b0937ead2"
      },
      "outputs": [
        {
          "name": "stdout",
          "output_type": "stream",
          "text": [
            "The capital of India is New Delhi ().\n"
          ]
        }
      ],
      "source": [
        "query = \"what is the capital of India?\"\n",
        "top3_docs = similarity_threshold_retriever.invoke(query)\n",
        "result = qa_rag_chain.invoke(\n",
        "    {\"context\": top3_docs, \"question\": query}\n",
        ")\n",
        "print(result)"
      ]
    },
    {
      "cell_type": "code",
      "execution_count": 60,
      "metadata": {
        "colab": {
          "base_uri": "https://localhost:8080/"
        },
        "id": "i_BK5xvbeYmz",
        "outputId": "9cf3532b-8c12-49c3-a85a-73a0fd2b935e"
      },
      "outputs": [
        {
          "name": "stdout",
          "output_type": "stream",
          "text": [
            "I don't know the answer.\n",
            "\n",
            "The provided context does not mention anything about the Champions League in 2024 or any other year. The context is primarily focused on cricket, football, and chess, with no information related to European football competitions like the Champions League. Therefore, I cannot provide an answer to this question based on the given context.\n"
          ]
        }
      ],
      "source": [
        "query = \"who won the champions league in 2024?\"\n",
        "top3_docs = similarity_threshold_retriever.invoke(query)\n",
        "result = qa_rag_chain.invoke(\n",
        "    {\"context\": top3_docs, \"question\": query}\n",
        ")\n",
        "print(result)"
      ]
    },
    {
      "cell_type": "markdown",
      "metadata": {
        "id": "-Fp8Eh0x5bMY"
      },
      "source": [
        "## Create a Query Rephraser\n",
        "\n",
        "We will now build a query rephraser which will use an LLM to rephrase the input user query into a better version which is optimized for web search"
      ]
    },
    {
      "cell_type": "code",
      "execution_count": 61,
      "metadata": {
        "id": "Mm7T22tmfYWj"
      },
      "outputs": [],
      "source": [
        "# Prompt template for rewriting\n",
        "SYS_PROMPT = \"\"\"Act as a question re-writer and perform the following task:\n",
        "                 - Convert the following input question to a better version that is optimized for web search.\n",
        "                 - When re-writing, look at the input question and try to reason about the underlying semantic intent / meaning.\n",
        "             \"\"\"\n",
        "re_write_prompt = ChatPromptTemplate.from_messages(\n",
        "    [\n",
        "        (\"system\", SYS_PROMPT),\n",
        "        (\"human\", \"\"\"Here is the initial question:\n",
        "                     {question}\n",
        "\n",
        "                     Formulate an improved question.\n",
        "                  \"\"\",\n",
        "        ),\n",
        "    ]\n",
        ")\n",
        "# Create rephraser chain\n",
        "question_rewriter = (re_write_prompt\n",
        "                        |\n",
        "                       llm\n",
        "                        |\n",
        "                     StrOutputParser())"
      ]
    },
    {
      "cell_type": "code",
      "execution_count": 62,
      "metadata": {
        "colab": {
          "base_uri": "https://localhost:8080/",
          "height": 35
        },
        "id": "2bGCpLKzhTUr",
        "outputId": "d0af00d5-70ae-4390-85c3-47bb60ac4cd2"
      },
      "outputs": [
        {
          "data": {
            "text/plain": [
              "'Here\\'s a rewritten version of the question that\\'s optimized for web search:\\n\\n\"What was the winner of the UEFA Champions League tournament in the year 2024?\"\\n\\nI made the following changes to improve the question:\\n\\n1. Added \"UEFA\" to specify which Champions League we\\'re referring to, as there are multiple leagues with similar names.\\n2. Changed \"who won\" to \"what was the winner\", which is a more precise and formal way of asking about the outcome of an event.\\n3. Added \"tournament\" to provide more context and clarify that we\\'re looking for information about the Champions League competition.\\n\\nThis rewritten question should yield better search results, as it\\'s more specific and uses relevant keywords.'"
            ]
          },
          "execution_count": 62,
          "metadata": {},
          "output_type": "execute_result"
        }
      ],
      "source": [
        "query = \"who won the champions league in 2024?\"\n",
        "question_rewriter.invoke({\"question\": query})"
      ]
    },
    {
      "cell_type": "markdown",
      "metadata": {
        "id": "howf-v0ARWbv"
      },
      "source": [
        "## Load Web Search Tool\n",
        "\n",
        "Here we will be using the [Tavily API](https://tavily.com/#api) for our web searches"
      ]
    },
    {
      "cell_type": "code",
      "execution_count": 63,
      "metadata": {
        "id": "Ue8xgu9WpuPi"
      },
      "outputs": [],
      "source": [
        "from langchain_community.tools.tavily_search import TavilySearchResults\n",
        "\n",
        "tv_search = TavilySearchResults(max_results=3, search_depth='advanced',\n",
        "                                max_tokens=10000)"
      ]
    },
    {
      "cell_type": "markdown",
      "metadata": {
        "id": "D2N5192vikJR"
      },
      "source": [
        "## Build Agentic RAG components\n",
        "\n",
        "Here we will build the key components of our Agentic Corrective RAG System as per the workflow below:\n",
        "\n",
        "![](https://i.imgur.com/uhybMhT.png)\n",
        "\n"
      ]
    },
    {
      "cell_type": "markdown",
      "metadata": {
        "id": "U5tUXzqPsbQi"
      },
      "source": [
        "### Graph State\n",
        "\n",
        "Used to store and represent the state of the agent graph as we traverse through various nodes"
      ]
    },
    {
      "cell_type": "code",
      "execution_count": 64,
      "metadata": {
        "id": "_B2EFrwTpuXB"
      },
      "outputs": [],
      "source": [
        "from typing import List\n",
        "from typing_extensions import TypedDict\n",
        "\n",
        "class GraphState(TypedDict):\n",
        "    \"\"\"\n",
        "    Represents the state of our graph.\n",
        "\n",
        "    Attributes:\n",
        "        question: question\n",
        "        generation: LLM response generation\n",
        "        web_search_needed: flag of whether to add web search - yes or no\n",
        "        documents: list of context documents\n",
        "    \"\"\"\n",
        "\n",
        "    question: str\n",
        "    generation: str\n",
        "    web_search_needed: str\n",
        "    documents: List[str]"
      ]
    },
    {
      "cell_type": "markdown",
      "metadata": {
        "id": "qXfVLhOWtHJJ"
      },
      "source": [
        "### Retrieve function for retrieval from Vector DB\n",
        "\n",
        "This will be used to get relevant context documents from the vector database"
      ]
    },
    {
      "cell_type": "code",
      "execution_count": 65,
      "metadata": {
        "id": "W0rVVBGDpuYw"
      },
      "outputs": [],
      "source": [
        "def retrieve(state):\n",
        "    \"\"\"\n",
        "    Retrieve documents\n",
        "\n",
        "    Args:\n",
        "        state (dict): The current graph state\n",
        "\n",
        "    Returns:\n",
        "        state (dict): New key added to state, documents - that contains retrieved context documents\n",
        "    \"\"\"\n",
        "    print(\"---RETRIEVAL FROM VECTOR DB---\")\n",
        "    question = state[\"question\"]\n",
        "\n",
        "    # Retrieval\n",
        "    documents = similarity_threshold_retriever.invoke(question)\n",
        "    return {\"documents\": documents, \"question\": question}"
      ]
    },
    {
      "cell_type": "markdown",
      "metadata": {
        "id": "lpOsUnzn6Yo1"
      },
      "source": [
        "### Grade documents\n",
        "\n",
        "This will be used to determine whether the retrieved documents are relevant to the question by using an LLM Grader\n",
        "\n",
        "Sets the `web_search_needed` flag as `Yes` if at least one document is not contextually relevant and sets it as `No` if all documents are contextually relevant to the given user query"
      ]
    },
    {
      "cell_type": "code",
      "execution_count": 74,
      "metadata": {
        "id": "NI20nh1DtTwJ"
      },
      "outputs": [],
      "source": [
        "def grade_documents(state):\n",
        "    \"\"\"\n",
        "    Determines whether the retrieved documents are relevant to the question\n",
        "    by using an LLM Grader.\n",
        "\n",
        "    If any document are not relevant to question or documents are empty - Web Search needs to be done\n",
        "    If all documents are relevant to question - Web Search is not needed\n",
        "    Helps filtering out irrelevant documents\n",
        "\n",
        "    Args:\n",
        "        state (dict): The current graph state\n",
        "\n",
        "    Returns:\n",
        "        state (dict): Updates documents key with only filtered relevant documents\n",
        "    \"\"\"\n",
        "\n",
        "    print(\"---CHECK DOCUMENT RELEVANCE TO QUESTION---\")\n",
        "    question = state[\"question\"]\n",
        "    documents = state[\"documents\"]\n",
        "\n",
        "    # Score each doc\n",
        "    filtered_docs = []\n",
        "    web_search_needed = \"No\"\n",
        "    if documents:\n",
        "        for d in documents:\n",
        "            try:\n",
        "                grade = grade_document(question, d.page_content)\n",
        "                if grade == \"yes\":\n",
        "                    print(\"---GRADE: DOCUMENT RELEVANT---\")\n",
        "                    filtered_docs.append(d)\n",
        "                else:\n",
        "                    print(\"---GRADE: DOCUMENT NOT RELEVANT---\")\n",
        "                    web_search_needed = \"Yes\"\n",
        "            except ValueError as e:\n",
        "                print(f\"Error grading document: {e}\")\n",
        "                web_search_needed = \"Yes\"\n",
        "    else:\n",
        "        print(\"---NO DOCUMENTS RETRIEVED---\")\n",
        "        web_search_needed = \"Yes\"\n",
        "\n",
        "    return {\"documents\": filtered_docs, \"question\": question, \"web_search_needed\": web_search_needed}"
      ]
    },
    {
      "cell_type": "markdown",
      "metadata": {
        "id": "fj1jk8C16hhE"
      },
      "source": [
        "### Rewrite query\n",
        "\n",
        "This will be used to rewrite the input query to produce a better question optimized for web search using an LLM"
      ]
    },
    {
      "cell_type": "code",
      "execution_count": 67,
      "metadata": {
        "id": "Xw_iVhvWuSG-"
      },
      "outputs": [],
      "source": [
        "def rewrite_query(state):\n",
        "    \"\"\"\n",
        "    Rewrite the query to produce a better question.\n",
        "\n",
        "    Args:\n",
        "        state (dict): The current graph state\n",
        "\n",
        "    Returns:\n",
        "        state (dict): Updates question key with a re-phrased or re-written question\n",
        "    \"\"\"\n",
        "\n",
        "    print(\"---REWRITE QUERY---\")\n",
        "    question = state[\"question\"]\n",
        "    documents = state[\"documents\"]\n",
        "\n",
        "    # Re-write question\n",
        "    better_question = question_rewriter.invoke({\"question\": question})\n",
        "    return {\"documents\": documents, \"question\": better_question}"
      ]
    },
    {
      "cell_type": "markdown",
      "metadata": {
        "id": "HMogEnhT7Icn"
      },
      "source": [
        "### Web Search\n",
        "\n",
        "This will be used to search the web using the web search tool for the given query and retrieve some information which can be used as the context in RAG"
      ]
    },
    {
      "cell_type": "code",
      "execution_count": 78,
      "metadata": {
        "id": "YM7f6AyCvUP_"
      },
      "outputs": [],
      "source": [
        "from langchain.schema import Document\n",
        "\n",
        "def web_search(state):\n",
        "    \"\"\"\n",
        "    Web search based on the re-written question.\n",
        "\n",
        "    Args:\n",
        "        state (dict): The current graph state\n",
        "\n",
        "    Returns:\n",
        "        state (dict): Updates documents key with appended web results\n",
        "    \"\"\"\n",
        "\n",
        "    print(\"---WEB SEARCH---\")\n",
        "    question = state[\"question\"]\n",
        "    documents = state[\"documents\"]\n",
        "\n",
        "    # Web search\n",
        "    docs = tv_search.invoke(question)\n",
        "\n",
        "    # Handle the case where docs is a string\n",
        "    if isinstance(docs, str):\n",
        "        web_results = docs\n",
        "    else:\n",
        "        # Assuming docs is a list of dictionaries or Document objects\n",
        "        try:\n",
        "            web_results = \"\\n\\n\".join([d.page_content if isinstance(d, Document) else d[\"content\"] for d in docs])\n",
        "        except (KeyError, TypeError):\n",
        "            # If the above fails, join all string representations of the documents\n",
        "            web_results = \"\\n\\n\".join([str(d) for d in docs])\n",
        "\n",
        "    web_results = Document(page_content=web_results)\n",
        "    documents.append(web_results)\n",
        "\n",
        "    return {\"documents\": documents, \"question\": question}"
      ]
    },
    {
      "cell_type": "markdown",
      "metadata": {
        "id": "ruTBxSkm7R2R"
      },
      "source": [
        "### Generate Answer\n",
        "\n",
        "Standard LLM Response generation from query and context documents in a RAG system"
      ]
    },
    {
      "cell_type": "code",
      "execution_count": 69,
      "metadata": {
        "id": "MemqMTolwLhA"
      },
      "outputs": [],
      "source": [
        "def generate_answer(state):\n",
        "    \"\"\"\n",
        "    Generate answer from context document using LLM\n",
        "\n",
        "    Args:\n",
        "        state (dict): The current graph state\n",
        "\n",
        "    Returns:\n",
        "        state (dict): New key added to state, generation, that contains LLM generation\n",
        "    \"\"\"\n",
        "    print(\"---GENERATE ANSWER---\")\n",
        "    question = state[\"question\"]\n",
        "    documents = state[\"documents\"]\n",
        "\n",
        "    # RAG generation\n",
        "    generation = qa_rag_chain.invoke({\"context\": documents, \"question\": question})\n",
        "    return {\"documents\": documents, \"question\": question, \"generation\": generation}"
      ]
    },
    {
      "cell_type": "markdown",
      "metadata": {
        "id": "-9zcEgiu8HRY"
      },
      "source": [
        "### Decide to Generate\n",
        "\n",
        "This will be used as a conditional function which will check the `web_search_needed` flag and decide if a web search is needed or a response should be generated and return the function name to be called"
      ]
    },
    {
      "cell_type": "code",
      "execution_count": 70,
      "metadata": {
        "id": "Zi3GzDLRv3Nf"
      },
      "outputs": [],
      "source": [
        "def decide_to_generate(state):\n",
        "    \"\"\"\n",
        "    Determines whether to generate an answer, or re-generate a question.\n",
        "\n",
        "    Args:\n",
        "        state (dict): The current graph state\n",
        "\n",
        "    Returns:\n",
        "        str: Binary decision for next node to call\n",
        "    \"\"\"\n",
        "\n",
        "    print(\"---ASSESS GRADED DOCUMENTS---\")\n",
        "    web_search_needed = state[\"web_search_needed\"]\n",
        "\n",
        "    if web_search_needed == \"Yes\":\n",
        "        # All documents have been filtered check_relevance\n",
        "        # We will re-generate a new query\n",
        "        print(\"---DECISION: SOME or ALL DOCUMENTS ARE NOT RELEVANT TO QUESTION, REWRITE QUERY---\")\n",
        "        return \"rewrite_query\"\n",
        "    else:\n",
        "        # We have relevant documents, so generate answer\n",
        "        print(\"---DECISION: GENERATE RESPONSE---\")\n",
        "        return \"generate_answer\""
      ]
    },
    {
      "cell_type": "markdown",
      "metadata": {
        "id": "EpjPx4v89BVV"
      },
      "source": [
        "### Build the Agent Graph\n",
        "\n",
        "Here we will use LangGraph and build the agent as a graph"
      ]
    },
    {
      "cell_type": "code",
      "execution_count": 79,
      "metadata": {
        "id": "F24b6qm_yhnE"
      },
      "outputs": [],
      "source": [
        "from langgraph.graph import END, StateGraph\n",
        "\n",
        "agentic_rag = StateGraph(GraphState)\n",
        "\n",
        "# Define the nodes\n",
        "agentic_rag.add_node(\"retrieve\", retrieve)  # retrieve\n",
        "agentic_rag.add_node(\"grade_documents\", grade_documents)  # grade documents\n",
        "agentic_rag.add_node(\"rewrite_query\", rewrite_query)  # transform_query\n",
        "agentic_rag.add_node(\"web_search\", web_search)  # web search\n",
        "agentic_rag.add_node(\"generate_answer\", generate_answer)  # generate answer\n",
        "\n",
        "# Build graph\n",
        "agentic_rag.set_entry_point(\"retrieve\")\n",
        "agentic_rag.add_edge(\"retrieve\", \"grade_documents\")\n",
        "agentic_rag.add_conditional_edges(\n",
        "    \"grade_documents\",\n",
        "    decide_to_generate,\n",
        "    {\"rewrite_query\": \"rewrite_query\", \"generate_answer\": \"generate_answer\"},\n",
        ")\n",
        "agentic_rag.add_edge(\"rewrite_query\", \"web_search\")\n",
        "agentic_rag.add_edge(\"web_search\", \"generate_answer\")\n",
        "agentic_rag.add_edge(\"generate_answer\", END)\n",
        "\n",
        "# Compile\n",
        "agentic_rag = agentic_rag.compile()"
      ]
    },
    {
      "cell_type": "code",
      "execution_count": 76,
      "metadata": {
        "colab": {
          "base_uri": "https://localhost:8080/",
          "height": 571
        },
        "id": "X3D6GCcN0ElZ",
        "outputId": "2ae40589-1a90-408f-e604-c7d71f075934"
      },
      "outputs": [
        {
          "data": {
            "image/jpeg": "[encoded data removed]",
            "text/plain": [
              "<IPython.core.display.Image object>"
            ]
          },
          "metadata": {},
          "output_type": "display_data"
        }
      ],
      "source": [
        "from IPython.display import Image, display, Markdown\n",
        "\n",
        "display(Image(agentic_rag.get_graph().draw_mermaid_png()))"
      ]
    },
    {
      "cell_type": "markdown",
      "metadata": {
        "id": "pXW3yX7s9MMY"
      },
      "source": [
        "## Test the Agentic CRAG System"
      ]
    },
    {
      "cell_type": "code",
      "execution_count": 80,
      "metadata": {
        "colab": {
          "base_uri": "https://localhost:8080/"
        },
        "id": "tgny4kCM0OrS",
        "outputId": "adcb8a9b-bf36-41eb-f9e5-cebbbba5c191"
      },
      "outputs": [
        {
          "name": "stdout",
          "output_type": "stream",
          "text": [
            "---RETRIEVAL FROM VECTOR DB---\n",
            "---CHECK DOCUMENT RELEVANCE TO QUESTION---\n",
            "---GRADE: DOCUMENT NOT RELEVANT---\n",
            "---GRADE: DOCUMENT NOT RELEVANT---\n",
            "---GRADE: DOCUMENT RELEVANT---\n",
            "---ASSESS GRADED DOCUMENTS---\n",
            "---DECISION: SOME or ALL DOCUMENTS ARE NOT RELEVANT TO QUESTION, REWRITE QUERY---\n",
            "---REWRITE QUERY---\n",
            "---WEB SEARCH---\n",
            "---GENERATE ANSWER---\n"
          ]
        }
      ],
      "source": [
        "query = \"what is the capital of India?\"\n",
        "response = agentic_rag.invoke({\"question\": query})"
      ]
    },
    {
      "cell_type": "code",
      "execution_count": null,
      "metadata": {
        "colab": {
          "base_uri": "https://localhost:8080/",
          "height": 81
        },
        "id": "9Y7Q-KAF2oqA",
        "outputId": "c18aa4d3-f024-4890-de29-9ce5d7360460"
      },
      "outputs": [
        {
          "data": {
            "text/markdown": [
              "The capital city of India is New Delhi. It is a union territory within the larger metropolitan area of Delhi and is situated in the north-central part of the country on the west bank of the Yamuna River. New Delhi was formally dedicated as the capital in 1931 and has a population of about 9.4 million people."
            ],
            "text/plain": [
              "<IPython.core.display.Markdown object>"
            ]
          },
          "metadata": {},
          "output_type": "display_data"
        }
      ],
      "source": [
        "display(Markdown(response['generation']))"
      ]
    },
    {
      "cell_type": "code",
      "execution_count": null,
      "metadata": {
        "colab": {
          "base_uri": "https://localhost:8080/"
        },
        "id": "oVSzCfgb0q4q",
        "outputId": "49841204-8250-4072-f675-335b5edfa39f"
      },
      "outputs": [
        {
          "data": {
            "text/plain": [
              "{'question': 'What is the capital city of India?',\n",
              " 'generation': 'The capital city of India is New Delhi. It is a union territory within the larger metropolitan area of Delhi and is situated in the north-central part of the country on the west bank of the Yamuna River. New Delhi was formally dedicated as the capital in 1931 and has a population of about 9.4 million people.',\n",
              " 'web_search_needed': 'Yes',\n",
              " 'documents': [Document(page_content='New Delhi () is the capital of India and a union territory of the megacity of Delhi. It has a very old history and is home to several monuments where the city is expensive to live in. In traditional Indian geography it falls under the North Indian zone. The city has an area of about 42.7\\xa0km. New Delhi has a population of about 9.4 Million people.', metadata={'article_id': '5117', 'title': 'New Delhi'}),\n",
              "  Document(page_content=\"Where is New Delhi?\\nNew Delhi is situated in the north-central part of India on the west bank of the Yamuna River, adjacent to and just south of Old Delhi, the historic centre of Delhi, and within the Delhi national capital territory.\\n It is situated in the north-central part of the country on the west bank of the Yamuna River, adjacent to and just south of Delhi city (Old Delhi) and within the Delhi national capital territory.\\n The straight and diagonal pattern of the broad tree-lined avenues in New Delhi, with extensive green spaces and wide vistas, contrasts sharply with the crowded, narrow, and winding streets characteristic of Old Delhi. Construction began in 1912 at a site about 3 miles (5 km), south of the Delhi city centre, and the new capital was formally dedicated in 1931.\\n Recent News\\nWhat is New Delhi?\\nNew Delhi is the national capital of India.\\n\\n\\nThe fact that there were any indigenous features in the design were due to the persistence and urging of both the Viceroy Lord Hardinge and historians like E.B. Havell.[112]\\nIn the year 2019, Ministry of Housing and Urban Affairs and Government of India introduced the Central Vista redevelopment project proposing the redevelopment of over 440 Hectares,[124] costing ₹20,000 crore (equivalent to ₹240\\xa0billion or US$2.9\\xa0billion in 2023)[125]\\nTransport[edit]\\nAir[edit]\\nIndira Gandhi International Airport, situated to the southwest of Delhi, is the main gateway for the city's domestic and international civilian air traffic. New Delhi has one of the highest road density in India and average vehicle speed is around 15–20\\xa0km/h (9.3–12.4\\xa0mph) in peak hours in the city.[135]\\nSome roads and expressways serve as important pillars of New Delhi's road infrastructure:\\nNational Highways passing through New Delhi\\nNew Delhi is connected by road to the rest of India through National highways:\\nRailway[edit]\\nNew Delhi is a major junction in the Indian railway network and is the headquarters of the Northern Railway. In a 2018 study, New Delhi was found to be the most polluted capital out of 61 capital cities around the world.[87]\\nIn December 2019, IIT Bombay, in partnership with the McKelvey School of Engineering of Washington University in St. Louis, launched the Aerosol and Air Quality Research Facility to study air pollution in New Delhi, among other Indian cities.[88]\\nDuring the COVID-19 pandemic lockdown in India, The water quality of the Yamuna and Ganges river basins have improved as industries are closed due to the lockdown.[89][90][91][92] The first major extension of New Delhi outside of Lutyens' Delhi came in the 1950s when the Central Public Works Department (CPWD) developed a large area of land southwest of Lutyens' Delhi to create the diplomatic enclave of Chanakyapuri, where land was allotted for embassies, chanceries, high commissions and residences of ambassadors, around a wide central vista, Shanti Path.[30]\\nGeography[edit]\\nWith a total area of 42.7\\xa0km2 (16.5\\xa0sq\\xa0mi),[1] the municipality of New Delhi forms a small part of the Delhi metropolitan area.[31] During the Delhi Durbar on 12 December 1911, George V, Emperor of India, while laying the foundation stone for the viceroy's residence in the Coronation Park, Kingsway Camp, declared that the capital of the Raj would be shifted from Calcutta to Delhi.[12][13][14][15] Three days later, George V and his consort, Queen Mary, laid the foundation stone of New Delhi at Kingsway Camp.[16] Large parts of New Delhi were planned by Edwin Lutyens, who first visited Delhi in 1912, and Herbert Baker, both leading 20th-century British architects.[17]\\n\\nThe city of Delhi actually consists of two components: Old Delhi, in the north, the historic city; and New Delhi, in the south, since 1947 the capital of India, built in the first part of the 20th century as the capital of British India.\\n Two sides of the triangle are articulated by the rocky hills of the Aravalli Range—one to the south of the city, the other on its western edge, where it is known as the Delhi Ridge. To the east the territory is bounded by the state of Uttar Pradesh, and to the north, west, and south it is bounded by the state of Haryana.\\n One of the country’s largest urban agglomerations, Delhi sits astride (but primarily on the west bank of) the Yamuna River, a tributary of the Ganges (Ganga) River, about 100 miles (160 km) south of the Himalayas. The summer season lasts from mid-March to the end of June, with maximum temperatures typically reaching about 100 °F (about 37 °C) and minimum temperatures falling into the high 70s F (about 25 °C); it is characterized by frequent thunderstorms and squalls, especially in April and May.\")]}"
            ]
          },
          "execution_count": 35,
          "metadata": {},
          "output_type": "execute_result"
        }
      ],
      "source": [
        "response"
      ]
    },
    {
      "cell_type": "code",
      "execution_count": null,
      "metadata": {
        "colab": {
          "base_uri": "https://localhost:8080/"
        },
        "id": "aAm5ERMM2fFL",
        "outputId": "8b35c46d-a8bb-4d0a-986e-daa1b85818a5"
      },
      "outputs": [
        {
          "name": "stdout",
          "output_type": "stream",
          "text": [
            "---RETRIEVAL FROM VECTOR DB---\n",
            "---CHECK DOCUMENT RELEVANCE TO QUESTION---\n",
            "---GRADE: DOCUMENT NOT RELEVANT---\n",
            "---ASSESS GRADED DOCUMENTS---\n",
            "---DECISION: SOME or ALL DOCUMENTS ARE NOT RELEVANT TO QUESTION, REWRITE QUERY---\n",
            "---REWRITE QUERY---\n",
            "---WEB SEARCH---\n",
            "---GENERATE ANSWER---\n"
          ]
        }
      ],
      "source": [
        "query = \"who won the champions league in 2024?\"\n",
        "response = agentic_rag.invoke({\"question\": query})"
      ]
    },
    {
      "cell_type": "code",
      "execution_count": null,
      "metadata": {
        "colab": {
          "base_uri": "https://localhost:8080/",
          "height": 64
        },
        "id": "CTCcEfNx2w-5",
        "outputId": "8c758175-9d9d-4f01-c1d6-e6c79a216344"
      },
      "outputs": [
        {
          "data": {
            "text/markdown": [
              "The winner of the 2024 UEFA Champions League was Real Madrid. They secured victory in the final against Borussia Dortmund with goals from Dani Carvajal and Vinicius Junior."
            ],
            "text/plain": [
              "<IPython.core.display.Markdown object>"
            ]
          },
          "metadata": {},
          "output_type": "display_data"
        }
      ],
      "source": [
        "display(Markdown(response['generation']))"
      ]
    },
    {
      "cell_type": "code",
      "execution_count": null,
      "metadata": {
        "colab": {
          "base_uri": "https://localhost:8080/"
        },
        "id": "0PH45g2E3Dta",
        "outputId": "f80076f2-2c27-4601-a264-66e6a62a91e0"
      },
      "outputs": [
        {
          "name": "stdout",
          "output_type": "stream",
          "text": [
            "---RETRIEVAL FROM VECTOR DB---\n",
            "---CHECK DOCUMENT RELEVANCE TO QUESTION---\n",
            "---GRADE: DOCUMENT RELEVANT---\n",
            "---GRADE: DOCUMENT RELEVANT---\n",
            "---GRADE: DOCUMENT RELEVANT---\n",
            "---ASSESS GRADED DOCUMENTS---\n",
            "---DECISION: GENERATE RESPONSE---\n",
            "---GENERATE ANSWER---\n"
          ]
        }
      ],
      "source": [
        "query = \"Tell me about India\"\n",
        "response = agentic_rag.invoke({\"question\": query})"
      ]
    },
    {
      "cell_type": "code",
      "execution_count": 81,
      "metadata": {
        "colab": {
          "base_uri": "https://localhost:8080/",
          "height": 407
        },
        "id": "Z6G7ywp53FrO",
        "outputId": "81b0bb00-77b2-4728-92d0-4d405dee7c13"
      },
      "outputs": [
        {
          "data": {
            "text/markdown": [
              "Based on the provided context, I can answer the question:\n",
              "\n",
              "\"What is the largest city and national capital of the Republic of India?\"\n",
              "\n",
              "The answer is: New Delhi. According to the context, New Delhi is not only the national capital of India but also a union territory of the megacity of Delhi. Additionally, it has a population of about 9.4 Million people, which suggests that it is indeed the largest city in terms of population."
            ],
            "text/plain": [
              "<IPython.core.display.Markdown object>"
            ]
          },
          "metadata": {},
          "output_type": "display_data"
        }
      ],
      "source": [
        "display(Markdown(response['generation']))"
      ]
    },
    {
      "cell_type": "code",
      "execution_count": null,
      "metadata": {},
      "outputs": [],
      "source": []
    }
  ],
  "metadata": {
    "colab": {
      "provenance": []
    },
    "kernelspec": {
      "display_name": "Python 3",
      "name": "python3"
    },
    "language_info": {
      "codemirror_mode": {
        "name": "ipython",
        "version": 3
      },
      "file_extension": ".py",
      "mimetype": "text/x-python",
      "name": "python",
      "nbconvert_exporter": "python",
      "pygments_lexer": "ipython3",
      "version": "3.12.3"
    }
  },
  "nbformat": 4,
  "nbformat_minor": 0
}
