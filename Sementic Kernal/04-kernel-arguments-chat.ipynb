{
 "cells": [
  {
   "attachments": {},
   "cell_type": "markdown",
   "id": "fde98ddf",
   "metadata": {},
   "source": [
    "# Creating a basic chat experience with kernel arguments\n",
    "\n",
    "In this example, we show how you can build a simple chat bot by sending and updating the kernel arguments with your requests.\n",
    "\n",
    "We introduce the Kernel Arguments object which in this demo functions similarly as a key-value store that you can use when running the kernel.\n",
    "\n",
    "The chat history is local (i.e. in your computer's RAM) and not persisted anywhere beyond the life of this Jupyter session.\n",
    "\n",
    "In future examples, we will show how to persist the chat history on disk so that you can bring it into your applications.\n",
    "\n",
    "In this chat scenario, as the user talks back and forth with the bot, the chat context gets populated with the history of the conversation. During each new run of the kernel, the kernel arguments and chat history can provide the AI with its variables' content.\n"
   ]
  },
  {
   "cell_type": "code",
   "execution_count": 1,
   "id": "3b16c201",
   "metadata": {},
   "outputs": [
    {
     "name": "stdout",
     "output_type": "stream",
     "text": [
      "Requirement already satisfied: semantic-kernel in /home/jawad/anaconda3/envs/gpu/lib/python3.12/site-packages (1.9.0)\n",
      "Requirement already satisfied: aiohttp~=3.8 in /home/jawad/anaconda3/envs/gpu/lib/python3.12/site-packages (from semantic-kernel) (3.9.5)\n",
      "Requirement already satisfied: pydantic~=2.0 in /home/jawad/anaconda3/envs/gpu/lib/python3.12/site-packages (from semantic-kernel) (2.8.2)\n",
      "Requirement already satisfied: pydantic-settings~=2.0 in /home/jawad/anaconda3/envs/gpu/lib/python3.12/site-packages (from semantic-kernel) (2.5.2)\n",
      "Requirement already satisfied: defusedxml~=0.7 in /home/jawad/anaconda3/envs/gpu/lib/python3.12/site-packages (from semantic-kernel) (0.7.1)\n",
      "Requirement already satisfied: numpy>=1.26.0 in /home/jawad/anaconda3/envs/gpu/lib/python3.12/site-packages (from semantic-kernel) (1.26.0)\n",
      "Requirement already satisfied: openai~=1.0 in /home/jawad/anaconda3/envs/gpu/lib/python3.12/site-packages (from semantic-kernel) (1.35.3)\n",
      "Requirement already satisfied: openapi_core<0.20,>=0.18 in /home/jawad/anaconda3/envs/gpu/lib/python3.12/site-packages (from semantic-kernel) (0.19.4)\n",
      "Requirement already satisfied: opentelemetry-api~=1.24 in /home/jawad/anaconda3/envs/gpu/lib/python3.12/site-packages (from semantic-kernel) (1.26.0)\n",
      "Requirement already satisfied: opentelemetry-sdk~=1.24 in /home/jawad/anaconda3/envs/gpu/lib/python3.12/site-packages (from semantic-kernel) (1.26.0)\n",
      "Requirement already satisfied: prance~=23.6.21.0 in /home/jawad/anaconda3/envs/gpu/lib/python3.12/site-packages (from semantic-kernel) (23.6.21.0)\n",
      "Requirement already satisfied: pybars4~=0.9 in /home/jawad/anaconda3/envs/gpu/lib/python3.12/site-packages (from semantic-kernel) (0.9.13)\n",
      "Requirement already satisfied: jinja2~=3.1 in /home/jawad/anaconda3/envs/gpu/lib/python3.12/site-packages (from semantic-kernel) (3.1.3)\n",
      "Requirement already satisfied: nest-asyncio~=1.6 in /home/jawad/anaconda3/envs/gpu/lib/python3.12/site-packages (from semantic-kernel) (1.6.0)\n",
      "Requirement already satisfied: aiosignal>=1.1.2 in /home/jawad/anaconda3/envs/gpu/lib/python3.12/site-packages (from aiohttp~=3.8->semantic-kernel) (1.3.1)\n",
      "Requirement already satisfied: attrs>=17.3.0 in /home/jawad/anaconda3/envs/gpu/lib/python3.12/site-packages (from aiohttp~=3.8->semantic-kernel) (23.2.0)\n",
      "Requirement already satisfied: frozenlist>=1.1.1 in /home/jawad/anaconda3/envs/gpu/lib/python3.12/site-packages (from aiohttp~=3.8->semantic-kernel) (1.4.1)\n",
      "Requirement already satisfied: multidict<7.0,>=4.5 in /home/jawad/anaconda3/envs/gpu/lib/python3.12/site-packages (from aiohttp~=3.8->semantic-kernel) (6.0.5)\n",
      "Requirement already satisfied: yarl<2.0,>=1.0 in /home/jawad/anaconda3/envs/gpu/lib/python3.12/site-packages (from aiohttp~=3.8->semantic-kernel) (1.9.4)\n",
      "Requirement already satisfied: MarkupSafe>=2.0 in /home/jawad/anaconda3/envs/gpu/lib/python3.12/site-packages (from jinja2~=3.1->semantic-kernel) (2.1.5)\n",
      "Requirement already satisfied: anyio<5,>=3.5.0 in /home/jawad/anaconda3/envs/gpu/lib/python3.12/site-packages (from openai~=1.0->semantic-kernel) (3.7.1)\n",
      "Requirement already satisfied: distro<2,>=1.7.0 in /home/jawad/anaconda3/envs/gpu/lib/python3.12/site-packages (from openai~=1.0->semantic-kernel) (1.9.0)\n",
      "Requirement already satisfied: httpx<1,>=0.23.0 in /home/jawad/anaconda3/envs/gpu/lib/python3.12/site-packages (from openai~=1.0->semantic-kernel) (0.27.0)\n",
      "Requirement already satisfied: sniffio in /home/jawad/anaconda3/envs/gpu/lib/python3.12/site-packages (from openai~=1.0->semantic-kernel) (1.3.1)\n",
      "Requirement already satisfied: tqdm>4 in /home/jawad/anaconda3/envs/gpu/lib/python3.12/site-packages (from openai~=1.0->semantic-kernel) (4.66.4)\n",
      "Requirement already satisfied: typing-extensions<5,>=4.7 in /home/jawad/anaconda3/envs/gpu/lib/python3.12/site-packages (from openai~=1.0->semantic-kernel) (4.11.0)\n",
      "Requirement already satisfied: isodate in /home/jawad/anaconda3/envs/gpu/lib/python3.12/site-packages (from openapi_core<0.20,>=0.18->semantic-kernel) (0.6.1)\n",
      "Requirement already satisfied: jsonschema<5.0.0,>=4.18.0 in /home/jawad/anaconda3/envs/gpu/lib/python3.12/site-packages (from openapi_core<0.20,>=0.18->semantic-kernel) (4.23.0)\n",
      "Requirement already satisfied: jsonschema-path<0.4.0,>=0.3.1 in /home/jawad/anaconda3/envs/gpu/lib/python3.12/site-packages (from openapi_core<0.20,>=0.18->semantic-kernel) (0.3.3)\n",
      "Requirement already satisfied: more-itertools in /home/jawad/anaconda3/envs/gpu/lib/python3.12/site-packages (from openapi_core<0.20,>=0.18->semantic-kernel) (10.2.0)\n",
      "Requirement already satisfied: openapi-schema-validator<0.7.0,>=0.6.0 in /home/jawad/anaconda3/envs/gpu/lib/python3.12/site-packages (from openapi_core<0.20,>=0.18->semantic-kernel) (0.6.2)\n",
      "Requirement already satisfied: openapi-spec-validator<0.8.0,>=0.7.1 in /home/jawad/anaconda3/envs/gpu/lib/python3.12/site-packages (from openapi_core<0.20,>=0.18->semantic-kernel) (0.7.1)\n",
      "Requirement already satisfied: parse in /home/jawad/anaconda3/envs/gpu/lib/python3.12/site-packages (from openapi_core<0.20,>=0.18->semantic-kernel) (1.20.2)\n",
      "Requirement already satisfied: werkzeug in /home/jawad/anaconda3/envs/gpu/lib/python3.12/site-packages (from openapi_core<0.20,>=0.18->semantic-kernel) (3.0.3)\n",
      "Requirement already satisfied: deprecated>=1.2.6 in /home/jawad/anaconda3/envs/gpu/lib/python3.12/site-packages (from opentelemetry-api~=1.24->semantic-kernel) (1.2.14)\n",
      "Requirement already satisfied: importlib-metadata<=8.0.0,>=6.0 in /home/jawad/anaconda3/envs/gpu/lib/python3.12/site-packages (from opentelemetry-api~=1.24->semantic-kernel) (6.11.0)\n",
      "Requirement already satisfied: opentelemetry-semantic-conventions==0.47b0 in /home/jawad/anaconda3/envs/gpu/lib/python3.12/site-packages (from opentelemetry-sdk~=1.24->semantic-kernel) (0.47b0)\n",
      "Requirement already satisfied: chardet>=3.0 in /home/jawad/anaconda3/envs/gpu/lib/python3.12/site-packages (from prance~=23.6.21.0->semantic-kernel) (5.2.0)\n",
      "Requirement already satisfied: ruamel.yaml>=0.17.10 in /home/jawad/anaconda3/envs/gpu/lib/python3.12/site-packages (from prance~=23.6.21.0->semantic-kernel) (0.18.6)\n",
      "Requirement already satisfied: requests>=2.25 in /home/jawad/anaconda3/envs/gpu/lib/python3.12/site-packages (from prance~=23.6.21.0->semantic-kernel) (2.31.0)\n",
      "Requirement already satisfied: six~=1.15 in /home/jawad/anaconda3/envs/gpu/lib/python3.12/site-packages (from prance~=23.6.21.0->semantic-kernel) (1.16.0)\n",
      "Requirement already satisfied: packaging>=21.3 in /home/jawad/anaconda3/envs/gpu/lib/python3.12/site-packages (from prance~=23.6.21.0->semantic-kernel) (23.2)\n",
      "Requirement already satisfied: PyMeta3>=0.5.1 in /home/jawad/anaconda3/envs/gpu/lib/python3.12/site-packages (from pybars4~=0.9->semantic-kernel) (0.5.1)\n",
      "Requirement already satisfied: annotated-types>=0.4.0 in /home/jawad/anaconda3/envs/gpu/lib/python3.12/site-packages (from pydantic~=2.0->semantic-kernel) (0.6.0)\n",
      "Requirement already satisfied: pydantic-core==2.20.1 in /home/jawad/anaconda3/envs/gpu/lib/python3.12/site-packages (from pydantic~=2.0->semantic-kernel) (2.20.1)\n",
      "Requirement already satisfied: python-dotenv>=0.21.0 in /home/jawad/anaconda3/envs/gpu/lib/python3.12/site-packages (from pydantic-settings~=2.0->semantic-kernel) (1.0.0)\n",
      "Requirement already satisfied: idna>=2.8 in /home/jawad/anaconda3/envs/gpu/lib/python3.12/site-packages (from anyio<5,>=3.5.0->openai~=1.0->semantic-kernel) (3.7)\n",
      "Requirement already satisfied: wrapt<2,>=1.10 in /home/jawad/anaconda3/envs/gpu/lib/python3.12/site-packages (from deprecated>=1.2.6->opentelemetry-api~=1.24->semantic-kernel) (1.16.0)\n",
      "Requirement already satisfied: certifi in /home/jawad/anaconda3/envs/gpu/lib/python3.12/site-packages (from httpx<1,>=0.23.0->openai~=1.0->semantic-kernel) (2024.2.2)\n",
      "Requirement already satisfied: httpcore==1.* in /home/jawad/anaconda3/envs/gpu/lib/python3.12/site-packages (from httpx<1,>=0.23.0->openai~=1.0->semantic-kernel) (1.0.5)\n",
      "Requirement already satisfied: h11<0.15,>=0.13 in /home/jawad/anaconda3/envs/gpu/lib/python3.12/site-packages (from httpcore==1.*->httpx<1,>=0.23.0->openai~=1.0->semantic-kernel) (0.14.0)\n",
      "Requirement already satisfied: zipp>=0.5 in /home/jawad/anaconda3/envs/gpu/lib/python3.12/site-packages (from importlib-metadata<=8.0.0,>=6.0->opentelemetry-api~=1.24->semantic-kernel) (3.17.0)\n",
      "Requirement already satisfied: jsonschema-specifications>=2023.03.6 in /home/jawad/anaconda3/envs/gpu/lib/python3.12/site-packages (from jsonschema<5.0.0,>=4.18.0->openapi_core<0.20,>=0.18->semantic-kernel) (2023.12.1)\n",
      "Requirement already satisfied: referencing>=0.28.4 in /home/jawad/anaconda3/envs/gpu/lib/python3.12/site-packages (from jsonschema<5.0.0,>=4.18.0->openapi_core<0.20,>=0.18->semantic-kernel) (0.35.1)\n",
      "Requirement already satisfied: rpds-py>=0.7.1 in /home/jawad/anaconda3/envs/gpu/lib/python3.12/site-packages (from jsonschema<5.0.0,>=4.18.0->openapi_core<0.20,>=0.18->semantic-kernel) (0.18.0)\n",
      "Requirement already satisfied: PyYAML>=5.1 in /home/jawad/anaconda3/envs/gpu/lib/python3.12/site-packages (from jsonschema-path<0.4.0,>=0.3.1->openapi_core<0.20,>=0.18->semantic-kernel) (6.0.1)\n",
      "Requirement already satisfied: pathable<0.5.0,>=0.4.1 in /home/jawad/anaconda3/envs/gpu/lib/python3.12/site-packages (from jsonschema-path<0.4.0,>=0.3.1->openapi_core<0.20,>=0.18->semantic-kernel) (0.4.3)\n",
      "Requirement already satisfied: rfc3339-validator in /home/jawad/anaconda3/envs/gpu/lib/python3.12/site-packages (from openapi-schema-validator<0.7.0,>=0.6.0->openapi_core<0.20,>=0.18->semantic-kernel) (0.1.4)\n",
      "Requirement already satisfied: lazy-object-proxy<2.0.0,>=1.7.1 in /home/jawad/anaconda3/envs/gpu/lib/python3.12/site-packages (from openapi-spec-validator<0.8.0,>=0.7.1->openapi_core<0.20,>=0.18->semantic-kernel) (1.10.0)\n",
      "Requirement already satisfied: charset-normalizer<4,>=2 in /home/jawad/anaconda3/envs/gpu/lib/python3.12/site-packages (from requests>=2.25->prance~=23.6.21.0->semantic-kernel) (3.3.2)\n",
      "Requirement already satisfied: urllib3<3,>=1.21.1 in /home/jawad/anaconda3/envs/gpu/lib/python3.12/site-packages (from requests>=2.25->prance~=23.6.21.0->semantic-kernel) (2.1.0)\n",
      "Requirement already satisfied: ruamel.yaml.clib>=0.2.7 in /home/jawad/anaconda3/envs/gpu/lib/python3.12/site-packages (from ruamel.yaml>=0.17.10->prance~=23.6.21.0->semantic-kernel) (0.2.8)\n",
      "Note: you may need to restart the kernel to use updated packages.\n"
     ]
    },
    {
     "data": {
      "text/plain": [
       "'1.9.0'"
      ]
     },
     "execution_count": 1,
     "metadata": {},
     "output_type": "execute_result"
    }
   ],
   "source": [
    "# Note: if using a virtual environment, do not run this cell\n",
    "%pip install -U semantic-kernel\n",
    "from semantic_kernel import __version__\n",
    "\n",
    "__version__"
   ]
  },
  {
   "cell_type": "markdown",
   "id": "85886ed0",
   "metadata": {},
   "source": [
    "Initial configuration for the notebook to run properly."
   ]
  },
  {
   "cell_type": "code",
   "execution_count": 2,
   "id": "ec88496f",
   "metadata": {},
   "outputs": [],
   "source": [
    "# Make sure paths are correct for the imports\n",
    "\n",
    "import os\n",
    "import sys\n",
    "\n",
    "# notebook_dir = os.path.abspath(\"\")\n",
    "# parent_dir = os.path.dirname(notebook_dir)\n",
    "# grandparent_dir = os.path.dirname(parent_dir)\n",
    "\n",
    "\n",
    "# sys.path.append(grandparent_dir)"
   ]
  },
  {
   "cell_type": "markdown",
   "id": "208ed165",
   "metadata": {},
   "source": [
    "### Configuring the Kernel\n",
    "\n",
    "Let's get started with the necessary configuration to run Semantic Kernel. For Notebooks, we require a `.env` file with the proper settings for the model you use. Create a new file named `.env` and place it in this directory. Copy the contents of the `.env.example` file from this directory and paste it into the `.env` file that you just created.\n",
    "\n",
    "**NOTE: Please make sure to include `GLOBAL_LLM_SERVICE` set to either OpenAI, AzureOpenAI, or HuggingFace in your .env file. If this setting is not included, the Service will default to AzureOpenAI.**\n",
    "\n",
    "#### Using Local LLM Ollama\n",
    "\n",
    "\n",
    "```\n",
    "GLOBAL_LLM_SERVICE=\"Ollama\"\n",
    "OLLAMA_API_BASE_URL=\"http://localhost:11434\"\n",
    "OLLAMA_MODEL_NAME=\"llama3\"\n",
    "OLLAMA_EMBED_MODEL_NAME=\"llama3\"\n",
    "OLLAMA_TIMEOUT_SECONDS=120\n",
    "\n",
    "```\n",
    "\n",
    "For more advanced configuration, please follow the steps outlined in the [setup guide](./CONFIGURING_THE_KERNEL.md)."
   ]
  },
  {
   "cell_type": "markdown",
   "id": "da290af7",
   "metadata": {},
   "source": [
    "We will load our settings and get the LLM service to use for the notebook."
   ]
  },
  {
   "cell_type": "code",
   "execution_count": 22,
   "id": "ba3eb4f7",
   "metadata": {},
   "outputs": [],
   "source": [
    "from semantic_kernel.kernel_pydantic import KernelBaseSettings\n",
    "from typing import Optional\n",
    "\n",
    "class ServiceSettings(KernelBaseSettings):\n",
    "    \"\"\"The Learn Resources Service Settings.\n",
    "\n",
    "    The settings are first loaded from environment variables. If the\n",
    "    environment variables are not found, the settings can be loaded from a .env file with the\n",
    "    encoding 'utf-8' as default or the specific encoding. If the settings are not found in the\n",
    "    .env file, the settings are ignored; however, validation will fail alerting that the settings\n",
    "    are missing.\n",
    "\n",
    "    Args:\n",
    "        global_llm_service (str | None): The LLM service to use for the samples, either \"OpenAI\", \"AzureOpenAI\", or \"Ollama\"\n",
    "            If not provided, defaults to \"AzureOpenAI\".\n",
    "    \"\"\"\n",
    "\n",
    "    global_llm_service: Optional[str] = None\n",
    "    ollama_api_base_url: Optional[str] = None\n",
    "    ollama_model_name: Optional[str] = None\n",
    "    ollama_embed_model_name: Optional[str] = None\n",
    "    ollama_timeout_seconds: Optional[int] = None\n",
    "    ollama_chat_model_name: Optional[str] = None\n",
    "    ollama_text_model_name: Optional[str] = None\n",
    "    ollama_headers: Optional[str] = None"
   ]
  },
  {
   "cell_type": "code",
   "execution_count": 23,
   "id": "e0ac4d41",
   "metadata": {},
   "outputs": [],
   "source": [
    "from enum import Enum\n",
    "class Service(Enum):\n",
    "    OpenAI = \"openai\"\n",
    "    AzureOpenAI = \"azureopenai\"\n",
    "    HuggingFace = \"huggingface\"\n",
    "    Ollama = \"ollama\"\n",
    "\n",
    "service_settings = ServiceSettings.create()"
   ]
  },
  {
   "cell_type": "code",
   "execution_count": 24,
   "id": "6ed3f9ae",
   "metadata": {},
   "outputs": [
    {
     "name": "stdout",
     "output_type": "stream",
     "text": [
      "Using service type: Service.Ollama\n"
     ]
    }
   ],
   "source": [
    "from semantic_kernel.connectors.ai.ollama.services.ollama_text_completion import OllamaTextCompletion\n",
    "from semantic_kernel.connectors.ai.ollama.services.ollama_chat_completion import OllamaChatCompletion\n",
    "\n",
    "\n",
    "selectedService = Service.AzureOpenAI if service_settings.global_llm_service is None else Service(service_settings.global_llm_service.lower())\n",
    "print(f\"Using service type: {selectedService}\")\n",
    "\n",
    "if selectedService == Service.Ollama:\n",
    "    ollama_text_service = OllamaTextCompletion(\n",
    "        ai_model_id=service_settings.ollama_model_name,\n",
    "        host=service_settings.ollama_api_base_url\n",
    "    )\n",
    "\n",
    "    ollama_chat_service = OllamaChatCompletion(\n",
    "        ai_model_id=service_settings.ollama_model_name,\n",
    "        host=service_settings.ollama_api_base_url\n",
    "    )"
   ]
  },
  {
   "cell_type": "code",
   "execution_count": 27,
   "id": "68301108",
   "metadata": {},
   "outputs": [],
   "source": [
    "from semantic_kernel import Kernel\n",
    "\n",
    "kernel = Kernel()\n",
    "\n",
    "service_id = None\n",
    "if selectedService == Service.Ollama:\n",
    "    kernel.add_service(ollama_text_service)\n",
    "    # kernel.add_service(ollama_chat_service)\n",
    "\n",
    "\n",
    "\n",
    "# if selectedService == Service.OpenAI:\n",
    "#     from semantic_kernel.connectors.ai.open_ai import OpenAIChatCompletion\n",
    "\n",
    "#     service_id = \"default\"\n",
    "#     kernel.add_service(\n",
    "#         OpenAIChatCompletion(\n",
    "#             service_id=service_id,\n",
    "#         ),\n",
    "#     )\n",
    "# elif selectedService == Service.AzureOpenAI:\n",
    "#     from semantic_kernel.connectors.ai.open_ai import AzureChatCompletion\n",
    "\n",
    "#     service_id = \"default\"\n",
    "#     kernel.add_service(\n",
    "#         AzureChatCompletion(\n",
    "#             service_id=service_id,\n",
    "#         ),\n",
    "#     )"
   ]
  },
  {
   "attachments": {},
   "cell_type": "markdown",
   "id": "7971783d",
   "metadata": {},
   "source": [
    "Let's define a prompt outlining a dialogue chat bot.\n"
   ]
  },
  {
   "cell_type": "code",
   "execution_count": 28,
   "id": "e84a05fc",
   "metadata": {},
   "outputs": [],
   "source": [
    "prompt = \"\"\"\n",
    "ChatBot can have a conversation with you about any topic.\n",
    "It can give explicit instructions or say 'I don't know' if it does not have an answer.\n",
    "\n",
    "{{$history}}\n",
    "User: {{$user_input}}\n",
    "ChatBot: \"\"\""
   ]
  },
  {
   "attachments": {},
   "cell_type": "markdown",
   "id": "61716b16",
   "metadata": {},
   "source": [
    "Register your semantic function\n"
   ]
  },
  {
   "cell_type": "code",
   "execution_count": 29,
   "id": "a3e4b160",
   "metadata": {},
   "outputs": [],
   "source": [
    "from semantic_kernel.connectors.ai.ollama.ollama_prompt_execution_settings import OllamaPromptExecutionSettings\n",
    "from semantic_kernel.prompt_template import PromptTemplateConfig\n",
    "from semantic_kernel.prompt_template.input_variable import InputVariable\n",
    "\n",
    "if selectedService == Service.Ollama:\n",
    "    execution_settings = OllamaPromptExecutionSettings(\n",
    "        ai_model_id=service_settings.ollama_model_name,\n",
    "        max_tokens=2000,\n",
    "        temperature=0.7,\n",
    "    )\n",
    "\n",
    "prompt_template_config = PromptTemplateConfig(\n",
    "    template=prompt,\n",
    "    name=\"chat\",\n",
    "    template_format=\"semantic-kernel\",\n",
    "    input_variables=[\n",
    "        InputVariable(name=\"user_input\", description=\"The user input\", is_required=True),\n",
    "        InputVariable(name=\"history\", description=\"The conversation history\", is_required=True),\n",
    "    ],\n",
    "    execution_settings=execution_settings,\n",
    ")\n",
    "\n",
    "chat_function = kernel.add_function(\n",
    "    function_name=\"chat\",\n",
    "    plugin_name=\"chatPlugin\",\n",
    "    prompt_template_config=prompt_template_config,\n",
    ")"
   ]
  },
  {
   "cell_type": "code",
   "execution_count": 30,
   "id": "6a0f7c01",
   "metadata": {},
   "outputs": [],
   "source": [
    "from semantic_kernel.contents import ChatHistory\n",
    "\n",
    "chat_history = ChatHistory()\n",
    "chat_history.add_system_message(\"You are a helpful chatbot who is good about giving book recommendations.\")"
   ]
  },
  {
   "attachments": {},
   "cell_type": "markdown",
   "id": "6e8a676f",
   "metadata": {},
   "source": [
    "Initialize the Kernel Arguments\n"
   ]
  },
  {
   "cell_type": "code",
   "execution_count": 31,
   "id": "a4be7394",
   "metadata": {},
   "outputs": [],
   "source": [
    "from semantic_kernel.functions import KernelArguments\n",
    "\n",
    "arguments = KernelArguments(user_input=\"Hi, I'm looking for book suggestions\", history=chat_history)"
   ]
  },
  {
   "attachments": {},
   "cell_type": "markdown",
   "id": "4ce7c497",
   "metadata": {},
   "source": [
    "Chat with the Bot\n"
   ]
  },
  {
   "cell_type": "code",
   "execution_count": 32,
   "id": "5ec41eb8",
   "metadata": {},
   "outputs": [
    {
     "name": "stdout",
     "output_type": "stream",
     "text": [
      "Hi there! I'd be happy to help you with some book recommendations!\n",
      "\n",
      "To get started, can you please tell me a bit more about what you're in the mood for? Are you looking for something:\n",
      "\n",
      "* Specific genre (e.g. fantasy, mystery, romance)?\n",
      "* In a particular age range (e.g. children's, young adult, adult)?\n",
      "* Based on a certain theme or setting?\n",
      "* By a specific author or recommended by someone else?\n",
      "\n",
      "Let me know and I'll do my best to suggest some great books for you!\n"
     ]
    }
   ],
   "source": [
    "response = await kernel.invoke(chat_function, arguments)\n",
    "print(response)"
   ]
  },
  {
   "attachments": {},
   "cell_type": "markdown",
   "id": "a5b03748",
   "metadata": {},
   "source": [
    "Update the history with the output\n"
   ]
  },
  {
   "cell_type": "code",
   "execution_count": 33,
   "id": "f50f517d",
   "metadata": {},
   "outputs": [],
   "source": [
    "chat_history.add_assistant_message(str(response))"
   ]
  },
  {
   "attachments": {},
   "cell_type": "markdown",
   "id": "23a2eb02",
   "metadata": {},
   "source": [
    "Keep Chatting!\n"
   ]
  },
  {
   "cell_type": "code",
   "execution_count": 34,
   "id": "c59efe45",
   "metadata": {},
   "outputs": [],
   "source": [
    "async def chat(input_text: str) -> None:\n",
    "    # Save new message in the context variables\n",
    "    print(f\"User: {input_text}\")\n",
    "\n",
    "    # Process the user message and get an answer\n",
    "    answer = await kernel.invoke(chat_function, KernelArguments(user_input=input_text, history=chat_history))\n",
    "\n",
    "    # Show the response\n",
    "    print(f\"ChatBot: {answer}\")\n",
    "\n",
    "    chat_history.add_user_message(input_text)\n",
    "    chat_history.add_assistant_message(str(answer))"
   ]
  },
  {
   "cell_type": "code",
   "execution_count": 35,
   "id": "06ee244e",
   "metadata": {},
   "outputs": [
    {
     "name": "stdout",
     "output_type": "stream",
     "text": [
      "User: I love history and philosophy, I'd like to learn something new about Greece, any suggestion?\n",
      "ChatBot: What a fascinating combination of interests!\n",
      "\n",
      "For someone who loves history and philosophy, I think you might enjoy \"The Greeks\" by H.D. Kitto. This classic book is a comprehensive introduction to ancient Greek culture, covering their myths, literature, art, architecture, and politics. It's written in an engaging and accessible style, making it perfect for those new to the subject.\n",
      "\n",
      "Another great option could be \"The Odyssey\" by Homer (translated by Robert Fagles). As one of the most influential works of Western literature, this epic poem is a must-read for anyone interested in ancient Greece. It tells the story of Odysseus' journey home after the Trojan War and explores themes of identity, morality, and the human condition.\n",
      "\n",
      "If you're looking for something more philosophical, I'd recommend \"The Republic\" by Plato (translated by Benjamin Jowett). This foundational work of Western philosophy explores the nature of justice, morality, and the ideal society through a series of dialogues between Socrates, Glaucon, and Adeimantus. It's a thought-provoking read that will challenge your perspectives on politics, ethics, and human nature.\n",
      "\n",
      "Lastly, if you're interested in learning more about ancient Greece from a historical perspective, I suggest \"The Archaeology of Ancient Greece\" by William J. Ruggles. This book provides an engaging overview of the archaeology of ancient Greece, covering its cities, temples, tombs, and everyday life.\n",
      "\n",
      "Which one of these books resonates with you the most?\n"
     ]
    }
   ],
   "source": [
    "await chat(\"I love history and philosophy, I'd like to learn something new about Greece, any suggestion?\")"
   ]
  },
  {
   "cell_type": "code",
   "execution_count": 37,
   "id": "82be4e7e",
   "metadata": {},
   "outputs": [
    {
     "name": "stdout",
     "output_type": "stream",
     "text": [
      "User: that sounds interesting, what is it about?\n",
      "ChatBot: Let me give you a brief summary of each book:\n",
      "\n",
      "**\"The Greeks\" by H.D. Kitto**: This book is an introduction to ancient Greek culture, covering their mythology, literature, art, architecture, and politics. It's a comprehensive overview that will give you a sense of what Greece was like during its Golden Age. You'll learn about the gods and goddesses, famous philosophers, and cultural achievements that have had a lasting impact on Western civilization.\n",
      "\n",
      "**\"The Odyssey\" by Homer (translated by Robert Fagles)**: This epic poem tells the story of Odysseus' journey home after the Trojan War. You'll follow him as he faces various challenges and encounters with mythical creatures, gods, and goddesses. The book explores themes such as identity, morality, and the human condition, making it a great choice for those interested in philosophy.\n",
      "\n",
      "**\"The Republic\" by Plato (translated by Benjamin Jowett)**: This foundational work of Western philosophy explores the nature of justice, morality, and the ideal society through a series of dialogues between Socrates, Glaucon, and Adeimantus. You'll engage with complex ideas about politics, ethics, and human nature as the characters discuss the meaning of justice, the nature of reality, and the role of philosopher-kings in society.\n",
      "\n",
      "**\"The Archaeology of Ancient Greece\" by William J. Ruggles**: This book provides an engaging overview of the archaeology of ancient Greece, covering its cities, temples, tombs, and everyday life. You'll learn about the methods used to reconstruct ancient civilizations, including excavation techniques, artifact analysis, and historical context.\n",
      "\n",
      "Which one of these books sparks your curiosity?\n"
     ]
    }
   ],
   "source": [
    "await chat(\"that sounds interesting, what is it about?\")"
   ]
  },
  {
   "cell_type": "code",
   "execution_count": null,
   "id": "82fe0139",
   "metadata": {},
   "outputs": [],
   "source": [
    "await chat(\"if I read that book, what exactly will I learn about Greek history?\")"
   ]
  },
  {
   "cell_type": "code",
   "execution_count": null,
   "id": "55b3a9f2",
   "metadata": {},
   "outputs": [],
   "source": [
    "await chat(\"could you list some more books I could read about this topic?\")"
   ]
  },
  {
   "attachments": {},
   "cell_type": "markdown",
   "id": "c30bac97",
   "metadata": {},
   "source": [
    "After chatting for a while, we have built a growing history, which we are attaching to each prompt and which contains the full conversation. Let's take a look!\n"
   ]
  },
  {
   "cell_type": "code",
   "execution_count": 36,
   "id": "5e34ae55",
   "metadata": {},
   "outputs": [
    {
     "name": "stdout",
     "output_type": "stream",
     "text": [
      "<chat_history><message role=\"system\"><text>You are a helpful chatbot who is good about giving book recommendations.</text></message><message role=\"assistant\"><text>Hi there! I'd be happy to help you with some book recommendations!\n",
      "\n",
      "To get started, can you please tell me a bit more about what you're in the mood for? Are you looking for something:\n",
      "\n",
      "* Specific genre (e.g. fantasy, mystery, romance)?\n",
      "* In a particular age range (e.g. children's, young adult, adult)?\n",
      "* Based on a certain theme or setting?\n",
      "* By a specific author or recommended by someone else?\n",
      "\n",
      "Let me know and I'll do my best to suggest some great books for you!</text></message><message role=\"user\"><text>I love history and philosophy, I'd like to learn something new about Greece, any suggestion?</text></message><message role=\"assistant\"><text>What a fascinating combination of interests!\n",
      "\n",
      "For someone who loves history and philosophy, I think you might enjoy \"The Greeks\" by H.D. Kitto. This classic book is a comprehensive introduction to ancient Greek culture, covering their myths, literature, art, architecture, and politics. It's written in an engaging and accessible style, making it perfect for those new to the subject.\n",
      "\n",
      "Another great option could be \"The Odyssey\" by Homer (translated by Robert Fagles). As one of the most influential works of Western literature, this epic poem is a must-read for anyone interested in ancient Greece. It tells the story of Odysseus' journey home after the Trojan War and explores themes of identity, morality, and the human condition.\n",
      "\n",
      "If you're looking for something more philosophical, I'd recommend \"The Republic\" by Plato (translated by Benjamin Jowett). This foundational work of Western philosophy explores the nature of justice, morality, and the ideal society through a series of dialogues between Socrates, Glaucon, and Adeimantus. It's a thought-provoking read that will challenge your perspectives on politics, ethics, and human nature.\n",
      "\n",
      "Lastly, if you're interested in learning more about ancient Greece from a historical perspective, I suggest \"The Archaeology of Ancient Greece\" by William J. Ruggles. This book provides an engaging overview of the archaeology of ancient Greece, covering its cities, temples, tombs, and everyday life.\n",
      "\n",
      "Which one of these books resonates with you the most?</text></message></chat_history>\n"
     ]
    }
   ],
   "source": [
    "print(chat_history)"
   ]
  },
  {
   "cell_type": "code",
   "execution_count": null,
   "id": "1016720d",
   "metadata": {},
   "outputs": [],
   "source": []
  }
 ],
 "metadata": {
  "kernelspec": {
   "display_name": "Python 3 (ipykernel)",
   "language": "python",
   "name": "python3"
  },
  "language_info": {
   "codemirror_mode": {
    "name": "ipython",
    "version": 3
   },
   "file_extension": ".py",
   "mimetype": "text/x-python",
   "name": "python",
   "nbconvert_exporter": "python",
   "pygments_lexer": "ipython3",
   "version": "3.12.3"
  }
 },
 "nbformat": 4,
 "nbformat_minor": 5
}
